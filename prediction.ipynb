{
  "cells": [
    {
      "cell_type": "markdown",
      "metadata": {
        "id": "view-in-github",
        "colab_type": "text"
      },
      "source": [
        "<a href=\"https://colab.research.google.com/github/Ameer1503/Cryptocurrency-Prediction/blob/main/prediction.ipynb\" target=\"_parent\"><img src=\"https://colab.research.google.com/assets/colab-badge.svg\" alt=\"Open In Colab\"/></a>"
      ]
    },
    {
      "cell_type": "code",
      "execution_count": null,
      "metadata": {
        "colab": {
          "base_uri": "https://localhost:8080/"
        },
        "id": "-NJ3QWPJfbQ3",
        "outputId": "63fe07b2-c78e-424b-8700-a79f6bb7cd2c"
      },
      "outputs": [
        {
          "output_type": "stream",
          "name": "stdout",
          "text": [
            "Looking in indexes: https://pypi.org/simple, https://us-python.pkg.dev/colab-wheels/public/simple/\n",
            "Collecting yfinance\n",
            "  Downloading yfinance-0.1.77-py2.py3-none-any.whl (28 kB)\n",
            "Collecting requests>=2.26\n",
            "  Downloading requests-2.28.1-py3-none-any.whl (62 kB)\n",
            "\u001b[K     |████████████████████████████████| 62 kB 1.5 MB/s \n",
            "\u001b[?25hRequirement already satisfied: multitasking>=0.0.7 in /usr/local/lib/python3.7/dist-packages (from yfinance) (0.0.11)\n",
            "Requirement already satisfied: appdirs>=1.4.4 in /usr/local/lib/python3.7/dist-packages (from yfinance) (1.4.4)\n",
            "Requirement already satisfied: numpy>=1.15 in /usr/local/lib/python3.7/dist-packages (from yfinance) (1.21.6)\n",
            "Requirement already satisfied: pandas>=0.24.0 in /usr/local/lib/python3.7/dist-packages (from yfinance) (1.3.5)\n",
            "Requirement already satisfied: lxml>=4.5.1 in /usr/local/lib/python3.7/dist-packages (from yfinance) (4.9.1)\n",
            "Requirement already satisfied: pytz>=2017.3 in /usr/local/lib/python3.7/dist-packages (from pandas>=0.24.0->yfinance) (2022.4)\n",
            "Requirement already satisfied: python-dateutil>=2.7.3 in /usr/local/lib/python3.7/dist-packages (from pandas>=0.24.0->yfinance) (2.8.2)\n",
            "Requirement already satisfied: six>=1.5 in /usr/local/lib/python3.7/dist-packages (from python-dateutil>=2.7.3->pandas>=0.24.0->yfinance) (1.15.0)\n",
            "Requirement already satisfied: charset-normalizer<3,>=2 in /usr/local/lib/python3.7/dist-packages (from requests>=2.26->yfinance) (2.1.1)\n",
            "Requirement already satisfied: certifi>=2017.4.17 in /usr/local/lib/python3.7/dist-packages (from requests>=2.26->yfinance) (2022.9.24)\n",
            "Requirement already satisfied: idna<4,>=2.5 in /usr/local/lib/python3.7/dist-packages (from requests>=2.26->yfinance) (2.10)\n",
            "Requirement already satisfied: urllib3<1.27,>=1.21.1 in /usr/local/lib/python3.7/dist-packages (from requests>=2.26->yfinance) (1.24.3)\n",
            "Installing collected packages: requests, yfinance\n",
            "  Attempting uninstall: requests\n",
            "    Found existing installation: requests 2.23.0\n",
            "    Uninstalling requests-2.23.0:\n",
            "      Successfully uninstalled requests-2.23.0\n",
            "Successfully installed requests-2.28.1 yfinance-0.1.77\n",
            "Looking in indexes: https://pypi.org/simple, https://us-python.pkg.dev/colab-wheels/public/simple/\n",
            "Collecting AutoTS\n",
            "  Downloading AutoTS-0.5.0-py3-none-any.whl (529 kB)\n",
            "\u001b[K     |████████████████████████████████| 529 kB 29.0 MB/s \n",
            "\u001b[?25hRequirement already satisfied: statsmodels>=0.10.* in /usr/local/lib/python3.7/dist-packages (from AutoTS) (0.12.2)\n",
            "Requirement already satisfied: scikit-learn>=0.20.* in /usr/local/lib/python3.7/dist-packages (from AutoTS) (1.0.2)\n",
            "Requirement already satisfied: numpy>=1.14.6 in /usr/local/lib/python3.7/dist-packages (from AutoTS) (1.21.6)\n",
            "Requirement already satisfied: pandas>=0.25.* in /usr/local/lib/python3.7/dist-packages (from AutoTS) (1.3.5)\n",
            "Requirement already satisfied: pytz>=2017.3 in /usr/local/lib/python3.7/dist-packages (from pandas>=0.25.*->AutoTS) (2022.4)\n",
            "Requirement already satisfied: python-dateutil>=2.7.3 in /usr/local/lib/python3.7/dist-packages (from pandas>=0.25.*->AutoTS) (2.8.2)\n",
            "Requirement already satisfied: six>=1.5 in /usr/local/lib/python3.7/dist-packages (from python-dateutil>=2.7.3->pandas>=0.25.*->AutoTS) (1.15.0)\n",
            "Requirement already satisfied: scipy>=1.1.0 in /usr/local/lib/python3.7/dist-packages (from scikit-learn>=0.20.*->AutoTS) (1.7.3)\n",
            "Requirement already satisfied: joblib>=0.11 in /usr/local/lib/python3.7/dist-packages (from scikit-learn>=0.20.*->AutoTS) (1.2.0)\n",
            "Requirement already satisfied: threadpoolctl>=2.0.0 in /usr/local/lib/python3.7/dist-packages (from scikit-learn>=0.20.*->AutoTS) (3.1.0)\n",
            "Requirement already satisfied: patsy>=0.5 in /usr/local/lib/python3.7/dist-packages (from statsmodels>=0.10.*->AutoTS) (0.5.2)\n",
            "Installing collected packages: AutoTS\n",
            "Successfully installed AutoTS-0.5.0\n",
            "Looking in indexes: https://pypi.org/simple, https://us-python.pkg.dev/colab-wheels/public/simple/\n",
            "Collecting pystan~=2.14\n",
            "  Downloading pystan-2.19.1.1-cp37-cp37m-manylinux1_x86_64.whl (67.3 MB)\n",
            "\u001b[K     |████████████████████████████████| 67.3 MB 101 kB/s \n",
            "\u001b[?25hRequirement already satisfied: Cython!=0.25.1,>=0.22 in /usr/local/lib/python3.7/dist-packages (from pystan~=2.14) (0.29.32)\n",
            "Requirement already satisfied: numpy>=1.7 in /usr/local/lib/python3.7/dist-packages (from pystan~=2.14) (1.21.6)\n",
            "Installing collected packages: pystan\n",
            "  Attempting uninstall: pystan\n",
            "    Found existing installation: pystan 3.3.0\n",
            "    Uninstalling pystan-3.3.0:\n",
            "      Successfully uninstalled pystan-3.3.0\n",
            "Successfully installed pystan-2.19.1.1\n",
            "Looking in indexes: https://pypi.org/simple, https://us-python.pkg.dev/colab-wheels/public/simple/\n",
            "Collecting fbprophet\n",
            "  Downloading fbprophet-0.7.1.tar.gz (64 kB)\n",
            "\u001b[K     |████████████████████████████████| 64 kB 2.4 MB/s \n",
            "\u001b[?25hRequirement already satisfied: Cython>=0.22 in /usr/local/lib/python3.7/dist-packages (from fbprophet) (0.29.32)\n",
            "Collecting cmdstanpy==0.9.5\n",
            "  Downloading cmdstanpy-0.9.5-py3-none-any.whl (37 kB)\n",
            "Requirement already satisfied: pystan>=2.14 in /usr/local/lib/python3.7/dist-packages (from fbprophet) (2.19.1.1)\n",
            "Requirement already satisfied: numpy>=1.15.4 in /usr/local/lib/python3.7/dist-packages (from fbprophet) (1.21.6)\n",
            "Requirement already satisfied: pandas>=1.0.4 in /usr/local/lib/python3.7/dist-packages (from fbprophet) (1.3.5)\n",
            "Requirement already satisfied: matplotlib>=2.0.0 in /usr/local/lib/python3.7/dist-packages (from fbprophet) (3.2.2)\n",
            "Requirement already satisfied: LunarCalendar>=0.0.9 in /usr/local/lib/python3.7/dist-packages (from fbprophet) (0.0.9)\n",
            "Requirement already satisfied: convertdate>=2.1.2 in /usr/local/lib/python3.7/dist-packages (from fbprophet) (2.4.0)\n",
            "Requirement already satisfied: holidays>=0.10.2 in /usr/local/lib/python3.7/dist-packages (from fbprophet) (0.16)\n",
            "Requirement already satisfied: setuptools-git>=1.2 in /usr/local/lib/python3.7/dist-packages (from fbprophet) (1.2)\n",
            "Requirement already satisfied: python-dateutil>=2.8.0 in /usr/local/lib/python3.7/dist-packages (from fbprophet) (2.8.2)\n",
            "Requirement already satisfied: tqdm>=4.36.1 in /usr/local/lib/python3.7/dist-packages (from fbprophet) (4.64.1)\n",
            "Requirement already satisfied: pymeeus<=1,>=0.3.13 in /usr/local/lib/python3.7/dist-packages (from convertdate>=2.1.2->fbprophet) (0.5.11)\n",
            "Requirement already satisfied: korean-lunar-calendar in /usr/local/lib/python3.7/dist-packages (from holidays>=0.10.2->fbprophet) (0.3.1)\n",
            "Requirement already satisfied: hijri-converter in /usr/local/lib/python3.7/dist-packages (from holidays>=0.10.2->fbprophet) (2.2.4)\n",
            "Requirement already satisfied: ephem>=3.7.5.3 in /usr/local/lib/python3.7/dist-packages (from LunarCalendar>=0.0.9->fbprophet) (4.1.3)\n",
            "Requirement already satisfied: pytz in /usr/local/lib/python3.7/dist-packages (from LunarCalendar>=0.0.9->fbprophet) (2022.4)\n",
            "Requirement already satisfied: cycler>=0.10 in /usr/local/lib/python3.7/dist-packages (from matplotlib>=2.0.0->fbprophet) (0.11.0)\n",
            "Requirement already satisfied: kiwisolver>=1.0.1 in /usr/local/lib/python3.7/dist-packages (from matplotlib>=2.0.0->fbprophet) (1.4.4)\n",
            "Requirement already satisfied: pyparsing!=2.0.4,!=2.1.2,!=2.1.6,>=2.0.1 in /usr/local/lib/python3.7/dist-packages (from matplotlib>=2.0.0->fbprophet) (3.0.9)\n",
            "Requirement already satisfied: typing-extensions in /usr/local/lib/python3.7/dist-packages (from kiwisolver>=1.0.1->matplotlib>=2.0.0->fbprophet) (4.1.1)\n",
            "Requirement already satisfied: six>=1.5 in /usr/local/lib/python3.7/dist-packages (from python-dateutil>=2.8.0->fbprophet) (1.15.0)\n",
            "Building wheels for collected packages: fbprophet\n",
            "  Building wheel for fbprophet (setup.py) ... \u001b[?25l\u001b[?25hdone\n",
            "  Created wheel for fbprophet: filename=fbprophet-0.7.1-py3-none-any.whl size=6638660 sha256=cc0c1a7120bd11c360c4ed9c07f28e5ebb8d7e7422ac2b3b26d18667c3cb9f4c\n",
            "  Stored in directory: /root/.cache/pip/wheels/cd/a1/12/db63ff624de492fe6cccf676091a0860fdde2ffde4bc3280e2\n",
            "Successfully built fbprophet\n",
            "Installing collected packages: cmdstanpy, fbprophet\n",
            "  Attempting uninstall: cmdstanpy\n",
            "    Found existing installation: cmdstanpy 1.0.7\n",
            "    Uninstalling cmdstanpy-1.0.7:\n",
            "      Successfully uninstalled cmdstanpy-1.0.7\n",
            "\u001b[31mERROR: pip's dependency resolver does not currently take into account all the packages that are installed. This behaviour is the source of the following dependency conflicts.\n",
            "prophet 1.1.1 requires cmdstanpy>=1.0.4, but you have cmdstanpy 0.9.5 which is incompatible.\u001b[0m\n",
            "Successfully installed cmdstanpy-0.9.5 fbprophet-0.7.1\n",
            "Looking in indexes: https://pypi.org/simple, https://us-python.pkg.dev/colab-wheels/public/simple/\n",
            "Requirement already satisfied: cmdstanpy~=0.9.5 in /usr/local/lib/python3.7/dist-packages (0.9.5)\n",
            "Requirement already satisfied: numpy in /usr/local/lib/python3.7/dist-packages (from cmdstanpy~=0.9.5) (1.21.6)\n",
            "Requirement already satisfied: pandas in /usr/local/lib/python3.7/dist-packages (from cmdstanpy~=0.9.5) (1.3.5)\n",
            "Requirement already satisfied: pytz>=2017.3 in /usr/local/lib/python3.7/dist-packages (from pandas->cmdstanpy~=0.9.5) (2022.4)\n",
            "Requirement already satisfied: python-dateutil>=2.7.3 in /usr/local/lib/python3.7/dist-packages (from pandas->cmdstanpy~=0.9.5) (2.8.2)\n",
            "Requirement already satisfied: six>=1.5 in /usr/local/lib/python3.7/dist-packages (from python-dateutil>=2.7.3->pandas->cmdstanpy~=0.9.5) (1.15.0)\n"
          ]
        }
      ],
      "source": [
        "try:\n",
        "    import yfinance as yf         # import Yahoo! Finance\n",
        "except:\n",
        "    ! pip install yfinance\n",
        "    import yfinance as yf         # import Yahoo! Finance\n",
        "\n",
        "!pip install AutoTS\n",
        "!pip install pystan~=2.14\n",
        "!pip install fbprophet\n",
        "!pip install cmdstanpy~=0.9.5"
      ]
    },
    {
      "cell_type": "code",
      "source": [
        "Model Generation and Prediction of BTC prices daily"
      ],
      "metadata": {
        "id": "fMNWyewPEh0G"
      },
      "execution_count": null,
      "outputs": []
    },
    {
      "cell_type": "code",
      "execution_count": null,
      "metadata": {
        "colab": {
          "base_uri": "https://localhost:8080/"
        },
        "id": "B_GQvPS8_T6Y",
        "outputId": "7f3a5807-a9df-4f8f-e1d9-d62a33418089"
      },
      "outputs": [
        {
          "output_type": "stream",
          "name": "stdout",
          "text": [
            "                          Date          Open          High           Low  \\\n",
            "0    2014-09-17 00:00:00+00:00    465.864014    468.174011    452.421997   \n",
            "1    2014-09-18 00:00:00+00:00    456.859985    456.859985    413.104004   \n",
            "2    2014-09-19 00:00:00+00:00    424.102997    427.834991    384.532013   \n",
            "3    2014-09-20 00:00:00+00:00    394.673004    423.295990    389.882996   \n",
            "4    2014-09-21 00:00:00+00:00    408.084991    412.425995    393.181000   \n",
            "...                        ...           ...           ...           ...   \n",
            "2937 2022-10-02 00:00:00+00:00  19311.849609  19370.308594  18970.621094   \n",
            "2938 2022-10-03 00:00:00+00:00  19044.068359  19653.542969  19025.226562   \n",
            "2939 2022-10-04 00:00:00+00:00  19623.583984  20380.343750  19523.839844   \n",
            "2940 2022-10-05 00:00:00+00:00  20335.900391  20343.748047  19801.800781   \n",
            "2941 2022-10-06 00:00:00+00:00  20161.039062  20408.392578  19900.087891   \n",
            "\n",
            "             Close  \n",
            "0       457.334015  \n",
            "1       424.440002  \n",
            "2       394.795990  \n",
            "3       408.903992  \n",
            "4       398.821014  \n",
            "...            ...  \n",
            "2937  19044.107422  \n",
            "2938  19623.580078  \n",
            "2939  20336.843750  \n",
            "2940  20160.716797  \n",
            "2941  19955.443359  \n",
            "\n",
            "[2942 rows x 5 columns]\n",
            "Inferred frequency is: D\n",
            "Model Number: 1 with model GluonTS in generation 0 of 5\n",
            "Template Eval Error: ImportError('GluonTS installation not found or installed version is incompatible with AutoTS.') in model 1: GluonTS\n",
            "Model Number: 2 with model GluonTS in generation 0 of 5\n",
            "Template Eval Error: ImportError('GluonTS installation not found or installed version is incompatible with AutoTS.') in model 2: GluonTS\n",
            "Model Number: 3 with model GluonTS in generation 0 of 5\n",
            "Template Eval Error: ImportError('GluonTS installation not found or installed version is incompatible with AutoTS.') in model 3: GluonTS\n",
            "Model Number: 4 with model GluonTS in generation 0 of 5\n",
            "Template Eval Error: ImportError('GluonTS installation not found or installed version is incompatible with AutoTS.') in model 4: GluonTS\n",
            "Model Number: 5 with model GluonTS in generation 0 of 5\n",
            "Template Eval Error: ImportError('GluonTS installation not found or installed version is incompatible with AutoTS.') in model 5: GluonTS\n",
            "Model Number: 6 with model VAR in generation 0 of 5\n",
            "Template Eval Error: ValueError('Only gave one variable to VAR') in model 6: VAR\n",
            "Model Number: 7 with model VAR in generation 0 of 5\n",
            "Template Eval Error: ValueError('Only gave one variable to VAR') in model 7: VAR\n",
            "Model Number: 8 with model VECM in generation 0 of 5\n",
            "Template Eval Error: ValueError('Only gave one variable to VECM') in model 8: VECM\n",
            "Model Number: 9 with model VECM in generation 0 of 5\n",
            "Template Eval Error: ValueError('Only gave one variable to VECM') in model 9: VECM\n",
            "Model Number: 10 with model WindowRegression in generation 0 of 5\n",
            "Model Number: 11 with model GluonTS in generation 0 of 5\n",
            "Template Eval Error: ImportError('GluonTS installation not found or installed version is incompatible with AutoTS.') in model 11: GluonTS\n",
            "Model Number: 12 with model MultivariateRegression in generation 0 of 5\n"
          ]
        },
        {
          "output_type": "stream",
          "name": "stderr",
          "text": [
            "[Parallel(n_jobs=100)]: Using backend ThreadingBackend with 100 concurrent workers.\n",
            "[Parallel(n_jobs=100)]: Done 200 out of 200 | elapsed:    2.4s finished\n",
            "[Parallel(n_jobs=100)]: Using backend ThreadingBackend with 100 concurrent workers.\n",
            "[Parallel(n_jobs=100)]: Done 200 out of 200 | elapsed:    0.0s finished\n"
          ]
        },
        {
          "output_type": "stream",
          "name": "stdout",
          "text": [
            "Model Number: 13 with model MultivariateRegression in generation 0 of 5\n",
            "Template Eval Error: ValueError(\"regression_type='User' but not future_regressor supplied.\") in model 13: MultivariateRegression\n",
            "Model Number: 14 with model VECM in generation 0 of 5\n",
            "Template Eval Error: ValueError('Only gave one variable to VECM') in model 14: VECM\n",
            "Model Number: 15 with model MultivariateMotif in generation 0 of 5\n",
            "Model Number: 16 with model MultivariateMotif in generation 0 of 5\n",
            "Model Number: 17 with model SectionalMotif in generation 0 of 5\n",
            "Model Number: 18 with model SectionalMotif in generation 0 of 5\n",
            "Model Number: 19 with model MultivariateRegression in generation 0 of 5\n",
            "Model Number: 20 with model NVAR in generation 0 of 5\n",
            "Model Number: 21 with model RollingRegression in generation 0 of 5\n",
            "Template Eval Error: ValueError('future_regressor not supplied, necessary for regression_type') in model 21: RollingRegression\n",
            "Model Number: 22 with model DynamicFactor in generation 0 of 5\n",
            "Template Eval Error: ValueError(\"regression_type='User' but future_regressor not passed\") in model 22: DynamicFactor\n",
            "Model Number: 23 with model RollingRegression in generation 0 of 5\n"
          ]
        },
        {
          "output_type": "stream",
          "name": "stderr",
          "text": [
            "/usr/local/lib/python3.7/dist-packages/autots/models/sklearn.py:1084: DataConversionWarning: A column-vector y was passed when a 1d array was expected. Please change the shape of y to (n_samples,), for example using ravel().\n",
            "  self.regr = self.regr.fit(X, Y)\n",
            "/usr/local/lib/python3.7/dist-packages/sklearn/base.py:451: UserWarning: X does not have valid feature names, but ExtraTreesRegressor was fitted with feature names\n",
            "  \"X does not have valid feature names, but\"\n"
          ]
        },
        {
          "output_type": "stream",
          "name": "stdout",
          "text": [
            "Model Number: 24 with model VECM in generation 0 of 5\n",
            "Template Eval Error: ValueError('Only gave one variable to VECM') in model 24: VECM\n",
            "Model Number: 25 with model DynamicFactor in generation 0 of 5\n",
            "Template Eval Error: ValueError('The dynamic factors model is only valid for multivariate time series.') in model 25: DynamicFactor\n",
            "Model Number: 26 with model GluonTS in generation 0 of 5\n",
            "Template Eval Error: ImportError('GluonTS installation not found or installed version is incompatible with AutoTS.') in model 26: GluonTS\n",
            "Model Number: 27 with model VARMAX in generation 0 of 5\n",
            "Template Eval Error: ValueError('Only gave one variable to VAR') in model 27: VARMAX\n",
            "Model Number: 28 with model RollingRegression in generation 0 of 5\n",
            "Model Number: 29 with model WindowRegression in generation 0 of 5\n",
            "Model Number: 30 with model VAR in generation 0 of 5\n",
            "Template Eval Error: ValueError('Only gave one variable to VAR') in model 30: VAR\n",
            "Model Number: 31 with model MultivariateMotif in generation 0 of 5\n",
            "Model Number: 32 with model NVAR in generation 0 of 5\n"
          ]
        },
        {
          "output_type": "stream",
          "name": "stderr",
          "text": [
            "/usr/local/lib/python3.7/dist-packages/sklearn/base.py:451: UserWarning: X does not have valid feature names, but Ridge was fitted with feature names\n",
            "  \"X does not have valid feature names, but\"\n"
          ]
        },
        {
          "output_type": "stream",
          "name": "stdout",
          "text": [
            "Model Number: 33 with model MultivariateRegression in generation 0 of 5\n",
            "Model Number: 34 with model SectionalMotif in generation 0 of 5\n",
            "Model Number: 35 with model DynamicFactorMQ in generation 0 of 5\n",
            "Template Eval Error: ValueError('Number of factors (4) cannot be greater than the number of monthly endogenous variables (1).') in model 35: DynamicFactorMQ\n",
            "Model Number: 36 with model PytorchForecasting in generation 0 of 5\n",
            "Template Eval Error: ImportError('pytorch, pytorch lighting, or pytorch-forecasting not present') in model 36: PytorchForecasting\n",
            "Model Number: 37 with model RRVAR in generation 0 of 5\n",
            "Model Number: 38 with model MAR in generation 0 of 5\n",
            "Model Number: 39 with model TMF in generation 0 of 5\n"
          ]
        },
        {
          "output_type": "stream",
          "name": "stderr",
          "text": [
            "/usr/local/lib/python3.7/dist-packages/autots/models/matrix_var.py:378: RuntimeWarning: invalid value encountered in double_scalars\n",
            "  alpha = rold / np.inner(q, Aq)\n"
          ]
        },
        {
          "output_type": "stream",
          "name": "stdout",
          "text": [
            "Template Eval Error: LinAlgError('SVD did not converge') in model 39: TMF\n",
            "Model Number: 40 with model LATC in generation 0 of 5\n",
            "Model Number: 41 with model MultivariateRegression in generation 0 of 5\n",
            "Template Eval Error: ValueError('Some value(s) of y are out of the valid range for family PoissonDistribution') in model 41: MultivariateRegression\n",
            "Model Number: 42 with model DynamicFactorMQ in generation 0 of 5\n",
            "Template Eval Error: ValueError('Number of factors (2) cannot be greater than the number of monthly endogenous variables (1).') in model 42: DynamicFactorMQ\n",
            "Model Number: 43 with model RRVAR in generation 0 of 5\n",
            "Model Number: 44 with model DynamicFactorMQ in generation 0 of 5\n",
            "Template Eval Error: ValueError('Number of factors (6) cannot be greater than the number of monthly endogenous variables (1).') in model 44: DynamicFactorMQ\n",
            "Model Number: 45 with model NVAR in generation 0 of 5\n",
            "Model Number: 46 with model VAR in generation 0 of 5\n",
            "Template Eval Error: ValueError('Only gave one variable to VAR') in model 46: VAR\n",
            "Model Number: 47 with model TMF in generation 0 of 5\n"
          ]
        },
        {
          "output_type": "stream",
          "name": "stderr",
          "text": [
            "/usr/local/lib/python3.7/dist-packages/autots/models/matrix_var.py:378: RuntimeWarning: invalid value encountered in double_scalars\n",
            "  alpha = rold / np.inner(q, Aq)\n"
          ]
        },
        {
          "output_type": "stream",
          "name": "stdout",
          "text": [
            "Template Eval Error: LinAlgError('SVD did not converge') in model 47: TMF\n",
            "Model Number: 48 with model DynamicFactor in generation 0 of 5\n",
            "Template Eval Error: ValueError('The dynamic factors model is only valid for multivariate time series.') in model 48: DynamicFactor\n",
            "Model Number: 49 with model NVAR in generation 0 of 5\n",
            "Model Number: 50 with model RRVAR in generation 0 of 5\n",
            "Model Number: 51 with model VARMAX in generation 0 of 5\n",
            "Template Eval Error: ValueError('Only gave one variable to VAR') in model 51: VARMAX\n",
            "Model Number: 52 with model VAR in generation 0 of 5\n",
            "Template Eval Error: ValueError('Only gave one variable to VAR') in model 52: VAR\n",
            "Model Number: 53 with model DynamicFactor in generation 0 of 5\n",
            "Template Eval Error: ValueError('The dynamic factors model is only valid for multivariate time series.') in model 53: DynamicFactor\n",
            "Model Number: 54 with model SectionalMotif in generation 0 of 5\n",
            "Model Number: 55 with model PytorchForecasting in generation 0 of 5\n",
            "Template Eval Error: ImportError('pytorch, pytorch lighting, or pytorch-forecasting not present') in model 55: PytorchForecasting\n",
            "Model Number: 56 with model PytorchForecasting in generation 0 of 5\n",
            "Template Eval Error: ImportError('pytorch, pytorch lighting, or pytorch-forecasting not present') in model 56: PytorchForecasting\n",
            "Model Number: 57 with model RRVAR in generation 0 of 5\n",
            "Model Number: 58 with model MultivariateMotif in generation 0 of 5\n",
            "Model Number: 59 with model RollingRegression in generation 0 of 5\n",
            "Model Number: 60 with model RollingRegression in generation 0 of 5\n"
          ]
        },
        {
          "output_type": "stream",
          "name": "stderr",
          "text": [
            "/usr/local/lib/python3.7/dist-packages/sklearn/base.py:451: UserWarning: X does not have valid feature names, but DecisionTreeRegressor was fitted with feature names\n",
            "  \"X does not have valid feature names, but\"\n",
            "/usr/local/lib/python3.7/dist-packages/numpy/lib/function_base.py:2683: RuntimeWarning: Degrees of freedom <= 0 for slice\n",
            "  c = cov(x, y, rowvar, dtype=dtype)\n"
          ]
        },
        {
          "output_type": "stream",
          "name": "stdout",
          "text": [
            "Template Eval Error: ValueError(\"Input contains NaN, infinity or a value too large for dtype('float64').\") in model 60: RollingRegression\n",
            "Model Number: 61 with model RRVAR in generation 0 of 5\n",
            "Model Number: 62 with model MultivariateRegression in generation 0 of 5\n",
            "Model Number: 63 with model DynamicFactor in generation 0 of 5\n",
            "Template Eval Error: ValueError(\"regression_type='User' but future_regressor not passed\") in model 63: DynamicFactor\n",
            "Model Number: 64 with model TMF in generation 0 of 5\n"
          ]
        },
        {
          "output_type": "stream",
          "name": "stderr",
          "text": [
            "/usr/local/lib/python3.7/dist-packages/autots/models/matrix_var.py:378: RuntimeWarning: invalid value encountered in double_scalars\n",
            "  alpha = rold / np.inner(q, Aq)\n"
          ]
        },
        {
          "output_type": "stream",
          "name": "stdout",
          "text": [
            "Template Eval Error: LinAlgError('SVD did not converge') in model 64: TMF\n",
            "Model Number: 65 with model DynamicFactorMQ in generation 0 of 5\n",
            "Template Eval Error: ValueError('Number of factors (4) cannot be greater than the number of monthly endogenous variables (1).') in model 65: DynamicFactorMQ\n",
            "Model Number: 66 with model MultivariateRegression in generation 0 of 5\n",
            "Model Number: 67 with model NVAR in generation 0 of 5\n",
            "Model Number: 68 with model RRVAR in generation 0 of 5\n",
            "Model Number: 69 with model NVAR in generation 0 of 5\n",
            "Model Number: 70 with model RRVAR in generation 0 of 5\n",
            "Model Number: 71 with model VECM in generation 0 of 5\n",
            "Template Eval Error: ValueError('Only gave one variable to VECM') in model 71: VECM\n",
            "Model Number: 72 with model RRVAR in generation 0 of 5\n",
            "Model Number: 73 with model DynamicFactorMQ in generation 0 of 5\n",
            "Template Eval Error: ValueError('Number of factors (3) cannot be greater than the number of monthly endogenous variables (1).') in model 73: DynamicFactorMQ\n",
            "Model Number: 74 with model MAR in generation 0 of 5\n",
            "Model Number: 75 with model VECM in generation 0 of 5\n",
            "Template Eval Error: ValueError(\"regression_type='User' but no future_regressor supplied\") in model 75: VECM\n",
            "Model Number: 76 with model GluonTS in generation 0 of 5\n",
            "Template Eval Error: ImportError('GluonTS installation not found or installed version is incompatible with AutoTS.') in model 76: GluonTS\n",
            "Model Number: 77 with model LATC in generation 0 of 5\n",
            "Model Number: 78 with model RRVAR in generation 0 of 5\n",
            "Model Number: 79 with model SectionalMotif in generation 0 of 5\n",
            "Model Number: 80 with model WindowRegression in generation 0 of 5\n",
            "Model Number: 81 with model NVAR in generation 0 of 5\n",
            "Model Number: 82 with model LATC in generation 0 of 5\n",
            "Template Eval Error: ValueError('LATC cannot accept any arrays that are all 0') in model 82: LATC\n",
            "Model Number: 83 with model MAR in generation 0 of 5\n",
            "Model Number: 84 with model DynamicFactorMQ in generation 0 of 5\n",
            "Template Eval Error: ValueError('Number of factors (4) cannot be greater than the number of monthly endogenous variables (1).') in model 84: DynamicFactorMQ\n",
            "Model Number: 85 with model LATC in generation 0 of 5\n",
            "Model Number: 86 with model MultivariateMotif in generation 0 of 5\n",
            "Model Number: 87 with model RollingRegression in generation 0 of 5\n"
          ]
        },
        {
          "output_type": "stream",
          "name": "stderr",
          "text": [
            "/usr/local/lib/python3.7/dist-packages/sklearn/experimental/enable_hist_gradient_boosting.py:17: UserWarning: Since version 1.0, it is not needed to import enable_hist_gradient_boosting anymore. HistGradientBoostingClassifier and HistGradientBoostingRegressor are now stable and can be normally imported from sklearn.ensemble.\n",
            "  \"Since version 1.0, \"\n",
            "/usr/local/lib/python3.7/dist-packages/sklearn/utils/validation.py:993: DataConversionWarning: A column-vector y was passed when a 1d array was expected. Please change the shape of y to (n_samples, ), for example using ravel().\n",
            "  y = column_or_1d(y, warn=True)\n"
          ]
        },
        {
          "output_type": "stream",
          "name": "stdout",
          "text": [
            "Model Number: 88 with model DynamicFactorMQ in generation 0 of 5\n",
            "Template Eval Error: ValueError('Number of factors (2) cannot be greater than the number of monthly endogenous variables (1).') in model 88: DynamicFactorMQ\n",
            "Model Number: 89 with model NVAR in generation 0 of 5\n"
          ]
        },
        {
          "output_type": "stream",
          "name": "stderr",
          "text": [
            "/usr/local/lib/python3.7/dist-packages/sklearn/base.py:451: UserWarning: X does not have valid feature names, but HistGradientBoostingRegressor was fitted with feature names\n",
            "  \"X does not have valid feature names, but\"\n"
          ]
        },
        {
          "output_type": "stream",
          "name": "stdout",
          "text": [
            "Model Number: 90 with model VARMAX in generation 0 of 5\n",
            "Template Eval Error: ValueError('Only gave one variable to VAR') in model 90: VARMAX\n",
            "Model Number: 91 with model TMF in generation 0 of 5\n",
            "Model Number: 92 with model MultivariateMotif in generation 0 of 5\n",
            "Model Number: 93 with model WindowRegression in generation 0 of 5\n",
            "Model Number: 94 with model VECM in generation 0 of 5\n",
            "Template Eval Error: ValueError('Only gave one variable to VECM') in model 94: VECM\n",
            "Model Number: 95 with model RollingRegression in generation 0 of 5\n",
            "Template Eval Error: ValueError('future_regressor not supplied, necessary for regression_type') in model 95: RollingRegression\n",
            "Model Number: 96 with model MultivariateRegression in generation 0 of 5\n",
            "Model Number: 97 with model RRVAR in generation 0 of 5\n"
          ]
        },
        {
          "output_type": "stream",
          "name": "stderr",
          "text": [
            "/usr/local/lib/python3.7/dist-packages/sklearn/linear_model/_coordinate_descent.py:648: ConvergenceWarning: Objective did not converge. You might want to increase the number of iterations, check the scale of the features or consider increasing regularisation. Duality gap: 9.393e+08, tolerance: 7.849e+07\n",
            "  coef_, l1_reg, l2_reg, X, y, max_iter, tol, rng, random, positive\n"
          ]
        },
        {
          "output_type": "stream",
          "name": "stdout",
          "text": [
            "Model Number: 98 with model MultivariateRegression in generation 0 of 5\n",
            "Template Eval Error: ValueError('Some value(s) of y are out of the valid range for family PoissonDistribution') in model 98: MultivariateRegression\n",
            "Model Number: 99 with model PytorchForecasting in generation 0 of 5\n",
            "Template Eval Error: ImportError('pytorch, pytorch lighting, or pytorch-forecasting not present') in model 99: PytorchForecasting\n",
            "Model Number: 100 with model TMF in generation 0 of 5\n"
          ]
        },
        {
          "output_type": "stream",
          "name": "stderr",
          "text": [
            "/usr/local/lib/python3.7/dist-packages/autots/models/matrix_var.py:378: RuntimeWarning: invalid value encountered in double_scalars\n",
            "  alpha = rold / np.inner(q, Aq)\n"
          ]
        },
        {
          "output_type": "stream",
          "name": "stdout",
          "text": [
            "Template Eval Error: LinAlgError('SVD did not converge') in model 100: TMF\n",
            "Model Number: 101 with model LATC in generation 0 of 5\n",
            "Model Number: 102 with model LATC in generation 0 of 5\n",
            "Model Number: 103 with model DynamicFactor in generation 0 of 5\n",
            "Template Eval Error: ValueError('The dynamic factors model is only valid for multivariate time series.') in model 103: DynamicFactor\n",
            "Model Number: 104 with model VECM in generation 0 of 5\n",
            "Template Eval Error: ValueError('Only gave one variable to VECM') in model 104: VECM\n",
            "Model Number: 105 with model LATC in generation 0 of 5\n",
            "Model Number: 106 with model MAR in generation 0 of 5\n",
            "Model Number: 107 with model MAR in generation 0 of 5\n",
            "Model Number: 108 with model VAR in generation 0 of 5\n",
            "Template Eval Error: ValueError('Only gave one variable to VAR') in model 108: VAR\n",
            "New Generation: 1 of 5\n",
            "Model Number: 109 with model NVAR in generation 1 of 5\n",
            "Model Number: 110 with model NVAR in generation 1 of 5\n",
            "Model Number: 111 with model RRVAR in generation 1 of 5\n",
            "Model Number: 112 with model RRVAR in generation 1 of 5\n",
            "Model Number: 113 with model MultivariateRegression in generation 1 of 5\n",
            "Model Number: 114 with model RollingRegression in generation 1 of 5\n",
            "Model Number: 115 with model LATC in generation 1 of 5\n",
            "Template Eval Error: ValueError('LATC cannot accept any arrays that are all 0') in model 115: LATC\n",
            "Model Number: 116 with model RRVAR in generation 1 of 5\n",
            "Model Number: 117 with model MultivariateRegression in generation 1 of 5\n"
          ]
        },
        {
          "output_type": "stream",
          "name": "stderr",
          "text": [
            "/usr/local/lib/python3.7/dist-packages/sklearn/base.py:451: UserWarning: X does not have valid feature names, but DecisionTreeRegressor was fitted with feature names\n",
            "  \"X does not have valid feature names, but\"\n",
            "[Parallel(n_jobs=100)]: Using backend ThreadingBackend with 100 concurrent workers.\n",
            "[Parallel(n_jobs=100)]: Done 200 out of 200 | elapsed:    6.8s finished\n",
            "[Parallel(n_jobs=100)]: Using backend ThreadingBackend with 100 concurrent workers.\n",
            "[Parallel(n_jobs=100)]: Done 200 out of 200 | elapsed:    0.1s finished\n"
          ]
        },
        {
          "output_type": "stream",
          "name": "stdout",
          "text": [
            "Model Number: 118 with model SectionalMotif in generation 1 of 5\n",
            "Model Number: 119 with model MultivariateMotif in generation 1 of 5\n",
            "Model Number: 120 with model SectionalMotif in generation 1 of 5\n",
            "Model Number: 121 with model MAR in generation 1 of 5\n",
            "Model Number: 122 with model RollingRegression in generation 1 of 5\n",
            "Model Number: 123 with model SectionalMotif in generation 1 of 5\n"
          ]
        },
        {
          "output_type": "stream",
          "name": "stderr",
          "text": [
            "/usr/local/lib/python3.7/dist-packages/sklearn/base.py:451: UserWarning: X does not have valid feature names, but RadiusNeighborsRegressor was fitted with feature names\n",
            "  \"X does not have valid feature names, but\"\n"
          ]
        },
        {
          "output_type": "stream",
          "name": "stdout",
          "text": [
            "Model Number: 124 with model LATC in generation 1 of 5\n",
            "Template Eval Error: ValueError('negative dimensions are not allowed') in model 124: LATC\n",
            "Model Number: 125 with model RRVAR in generation 1 of 5\n",
            "Model Number: 126 with model MAR in generation 1 of 5\n",
            "Model Number: 127 with model SectionalMotif in generation 1 of 5\n",
            "Model Number: 128 with model MAR in generation 1 of 5\n",
            "Model Number: 129 with model LATC in generation 1 of 5\n",
            "Template Eval Error: ValueError('LATC cannot accept any arrays that are all 0') in model 129: LATC\n",
            "Model Number: 130 with model RRVAR in generation 1 of 5\n",
            "Model Number: 131 with model RollingRegression in generation 1 of 5\n"
          ]
        },
        {
          "output_type": "stream",
          "name": "stderr",
          "text": [
            "/usr/local/lib/python3.7/dist-packages/autots/models/sklearn.py:1084: DataConversionWarning: A column-vector y was passed when a 1d array was expected. Please change the shape of y to (n_samples,), for example using ravel().\n",
            "  self.regr = self.regr.fit(X, Y)\n",
            "/usr/local/lib/python3.7/dist-packages/sklearn/base.py:451: UserWarning: X does not have valid feature names, but ExtraTreesRegressor was fitted with feature names\n",
            "  \"X does not have valid feature names, but\"\n"
          ]
        },
        {
          "output_type": "stream",
          "name": "stdout",
          "text": [
            "Model Number: 132 with model MultivariateRegression in generation 1 of 5\n",
            "Model Number: 133 with model MultivariateRegression in generation 1 of 5\n",
            "Template Eval Error: ValueError(\"regression_type='User' but not future_regressor supplied.\") in model 133: MultivariateRegression\n",
            "Model Number: 134 with model NVAR in generation 1 of 5\n",
            "Model Number: 135 with model MultivariateRegression in generation 1 of 5\n"
          ]
        },
        {
          "output_type": "stream",
          "name": "stderr",
          "text": [
            "/usr/local/lib/python3.7/dist-packages/sklearn/svm/_base.py:1208: ConvergenceWarning: Liblinear failed to converge, increase the number of iterations.\n",
            "  ConvergenceWarning,\n"
          ]
        },
        {
          "output_type": "stream",
          "name": "stdout",
          "text": [
            "Model Number: 136 with model WindowRegression in generation 1 of 5\n",
            "Model Number: 137 with model WindowRegression in generation 1 of 5\n",
            "Model Number: 138 with model MultivariateRegression in generation 1 of 5\n"
          ]
        },
        {
          "output_type": "stream",
          "name": "stderr",
          "text": [
            "[Parallel(n_jobs=100)]: Using backend ThreadingBackend with 100 concurrent workers.\n",
            "[Parallel(n_jobs=100)]: Done 200 out of 200 | elapsed:    2.5s finished\n",
            "[Parallel(n_jobs=100)]: Using backend ThreadingBackend with 100 concurrent workers.\n",
            "[Parallel(n_jobs=100)]: Done 200 out of 200 | elapsed:    0.0s finished\n"
          ]
        },
        {
          "output_type": "stream",
          "name": "stdout",
          "text": [
            "Model Number: 139 with model MultivariateMotif in generation 1 of 5\n",
            "Model Number: 140 with model MAR in generation 1 of 5\n",
            "Model Number: 141 with model RollingRegression in generation 1 of 5\n",
            "Epoch 1/50\n",
            "74/74 [==============================] - 3s 16ms/step - loss: 7.0545e-04 - val_loss: 0.0021\n",
            "Epoch 2/50\n",
            "74/74 [==============================] - 1s 14ms/step - loss: 2.9339e-04 - val_loss: 0.0021\n",
            "Epoch 3/50\n",
            "74/74 [==============================] - 1s 14ms/step - loss: 2.8510e-04 - val_loss: 0.0021\n",
            "Epoch 4/50\n",
            "74/74 [==============================] - 1s 13ms/step - loss: 2.7714e-04 - val_loss: 0.0021\n",
            "Epoch 5/50\n",
            "74/74 [==============================] - 1s 12ms/step - loss: 2.8191e-04 - val_loss: 0.0021\n",
            "Epoch 6/50\n",
            "74/74 [==============================] - 1s 12ms/step - loss: 2.7339e-04 - val_loss: 0.0021\n",
            "Epoch 7/50\n",
            "74/74 [==============================] - 1s 12ms/step - loss: 2.5230e-04 - val_loss: 0.0020\n",
            "Epoch 8/50\n",
            "74/74 [==============================] - 1s 14ms/step - loss: 2.5864e-04 - val_loss: 0.0020\n",
            "Epoch 9/50\n",
            "74/74 [==============================] - 1s 13ms/step - loss: 2.7805e-04 - val_loss: 0.0020\n",
            "Epoch 10/50\n",
            "74/74 [==============================] - 1s 14ms/step - loss: 2.6041e-04 - val_loss: 0.0020\n",
            "Epoch 11/50\n",
            "74/74 [==============================] - 1s 12ms/step - loss: 2.3659e-04 - val_loss: 0.0020\n",
            "Epoch 12/50\n",
            "74/74 [==============================] - 1s 13ms/step - loss: 2.5164e-04 - val_loss: 0.0020\n",
            "Epoch 13/50\n",
            "74/74 [==============================] - 1s 14ms/step - loss: 2.3587e-04 - val_loss: 0.0020\n",
            "Epoch 14/50\n",
            "74/74 [==============================] - 1s 13ms/step - loss: 2.3377e-04 - val_loss: 0.0020\n",
            "Epoch 15/50\n",
            "74/74 [==============================] - 1s 12ms/step - loss: 2.1658e-04 - val_loss: 0.0020\n",
            "Epoch 16/50\n",
            "74/74 [==============================] - 1s 12ms/step - loss: 2.1836e-04 - val_loss: 0.0020\n",
            "Epoch 17/50\n",
            "74/74 [==============================] - 1s 12ms/step - loss: 2.1448e-04 - val_loss: 0.0020\n",
            "Epoch 18/50\n",
            "74/74 [==============================] - 1s 13ms/step - loss: 2.0830e-04 - val_loss: 0.0020\n",
            "Epoch 19/50\n",
            "74/74 [==============================] - 1s 13ms/step - loss: 2.0055e-04 - val_loss: 0.0020\n",
            "Epoch 20/50\n",
            "74/74 [==============================] - 1s 13ms/step - loss: 1.9635e-04 - val_loss: 0.0020\n",
            "Epoch 21/50\n",
            "74/74 [==============================] - 1s 13ms/step - loss: 1.8414e-04 - val_loss: 0.0020\n",
            "Epoch 22/50\n",
            "74/74 [==============================] - 1s 13ms/step - loss: 1.8529e-04 - val_loss: 0.0020\n",
            "Epoch 23/50\n",
            "74/74 [==============================] - 1s 12ms/step - loss: 1.8955e-04 - val_loss: 0.0020\n",
            "Epoch 24/50\n",
            "74/74 [==============================] - 1s 15ms/step - loss: 1.8947e-04 - val_loss: 0.0020\n",
            "Epoch 25/50\n",
            "74/74 [==============================] - 1s 12ms/step - loss: 1.7459e-04 - val_loss: 0.0020\n",
            "Epoch 26/50\n",
            "74/74 [==============================] - 1s 12ms/step - loss: 1.8408e-04 - val_loss: 0.0020\n",
            "Epoch 27/50\n",
            "74/74 [==============================] - 1s 12ms/step - loss: 1.6644e-04 - val_loss: 0.0020\n",
            "Epoch 28/50\n",
            "74/74 [==============================] - 1s 13ms/step - loss: 1.6682e-04 - val_loss: 0.0020\n",
            "Epoch 29/50\n",
            "74/74 [==============================] - 1s 12ms/step - loss: 1.6806e-04 - val_loss: 0.0020\n",
            "Epoch 30/50\n",
            "74/74 [==============================] - 1s 13ms/step - loss: 1.7393e-04 - val_loss: 0.0020\n",
            "Epoch 31/50\n",
            "74/74 [==============================] - 1s 12ms/step - loss: 1.7161e-04 - val_loss: 0.0020\n",
            "Epoch 32/50\n",
            "74/74 [==============================] - 1s 13ms/step - loss: 1.5800e-04 - val_loss: 0.0020\n",
            "Epoch 33/50\n",
            "74/74 [==============================] - 1s 12ms/step - loss: 1.5536e-04 - val_loss: 0.0020\n",
            "Epoch 34/50\n",
            "74/74 [==============================] - 1s 12ms/step - loss: 1.5916e-04 - val_loss: 0.0020\n",
            "Epoch 35/50\n",
            "74/74 [==============================] - 1s 11ms/step - loss: 1.5271e-04 - val_loss: 0.0020\n",
            "Epoch 36/50\n",
            "74/74 [==============================] - 1s 12ms/step - loss: 1.4934e-04 - val_loss: 0.0020\n",
            "Epoch 37/50\n",
            "74/74 [==============================] - 1s 11ms/step - loss: 1.5438e-04 - val_loss: 0.0020\n",
            "Epoch 38/50\n",
            "74/74 [==============================] - 1s 13ms/step - loss: 1.4515e-04 - val_loss: 0.0020\n",
            "Epoch 39/50\n",
            "74/74 [==============================] - 1s 13ms/step - loss: 1.4738e-04 - val_loss: 0.0020\n",
            "Epoch 40/50\n",
            "74/74 [==============================] - 1s 13ms/step - loss: 1.4788e-04 - val_loss: 0.0020\n",
            "Epoch 41/50\n",
            "74/74 [==============================] - 1s 19ms/step - loss: 1.4378e-04 - val_loss: 0.0020\n",
            "Epoch 42/50\n",
            "74/74 [==============================] - 1s 19ms/step - loss: 1.3860e-04 - val_loss: 0.0020\n",
            "Epoch 43/50\n",
            "74/74 [==============================] - 2s 20ms/step - loss: 1.3504e-04 - val_loss: 0.0020\n",
            "Epoch 44/50\n",
            "74/74 [==============================] - 1s 15ms/step - loss: 1.4602e-04 - val_loss: 0.0020\n",
            "Epoch 45/50\n",
            "74/74 [==============================] - 1s 12ms/step - loss: 1.4288e-04 - val_loss: 0.0020\n",
            "Epoch 46/50\n",
            "74/74 [==============================] - 1s 13ms/step - loss: 1.3992e-04 - val_loss: 0.0020\n",
            "Epoch 47/50\n",
            "74/74 [==============================] - 1s 13ms/step - loss: 1.3401e-04 - val_loss: 0.0020\n",
            "Epoch 48/50\n",
            "74/74 [==============================] - 1s 13ms/step - loss: 1.3719e-04 - val_loss: 0.0020\n",
            "Epoch 49/50\n",
            "74/74 [==============================] - 1s 13ms/step - loss: 1.3145e-04 - val_loss: 0.0020\n",
            "Epoch 50/50\n",
            "74/74 [==============================] - 1s 12ms/step - loss: 1.3714e-04 - val_loss: 0.0020\n",
            "Model Number: 142 with model WindowRegression in generation 1 of 5\n",
            "Epoch 1/100\n",
            "183/183 [==============================] - 6s 4ms/step - loss: 53.8500\n",
            "Epoch 2/100\n",
            "183/183 [==============================] - 1s 4ms/step - loss: 52.3579\n",
            "Epoch 3/100\n",
            "183/183 [==============================] - 1s 5ms/step - loss: 49.0026\n",
            "Epoch 4/100\n",
            "183/183 [==============================] - 1s 5ms/step - loss: 46.2074\n",
            "Epoch 5/100\n",
            "183/183 [==============================] - 1s 5ms/step - loss: 43.7022\n",
            "Epoch 6/100\n",
            "183/183 [==============================] - 1s 5ms/step - loss: 41.5433\n",
            "Epoch 7/100\n",
            "183/183 [==============================] - 1s 5ms/step - loss: 39.4025\n",
            "Epoch 8/100\n",
            "183/183 [==============================] - 1s 4ms/step - loss: 37.9542\n",
            "Epoch 9/100\n",
            "183/183 [==============================] - 1s 4ms/step - loss: 36.4407\n",
            "Epoch 10/100\n",
            "183/183 [==============================] - 1s 4ms/step - loss: 35.0990\n",
            "Epoch 11/100\n",
            "183/183 [==============================] - 1s 5ms/step - loss: 34.4447\n",
            "Epoch 12/100\n",
            "183/183 [==============================] - 1s 5ms/step - loss: 33.6377\n",
            "Epoch 13/100\n",
            "183/183 [==============================] - 1s 5ms/step - loss: 32.7002\n",
            "Epoch 14/100\n",
            "183/183 [==============================] - 1s 4ms/step - loss: 32.0960\n",
            "Epoch 15/100\n",
            "183/183 [==============================] - 1s 5ms/step - loss: 31.7717\n",
            "Epoch 16/100\n",
            "183/183 [==============================] - 1s 4ms/step - loss: 31.4897\n",
            "Epoch 17/100\n",
            "183/183 [==============================] - 1s 5ms/step - loss: 30.6165\n",
            "Epoch 18/100\n",
            "183/183 [==============================] - 1s 4ms/step - loss: 30.2105\n",
            "Epoch 19/100\n",
            "183/183 [==============================] - 1s 4ms/step - loss: 29.9943\n",
            "Epoch 20/100\n",
            "183/183 [==============================] - 1s 4ms/step - loss: 29.5761\n",
            "Epoch 21/100\n",
            "183/183 [==============================] - 1s 4ms/step - loss: 29.5003\n",
            "Epoch 22/100\n",
            "183/183 [==============================] - 1s 4ms/step - loss: 29.2530\n",
            "Epoch 23/100\n",
            "183/183 [==============================] - 1s 4ms/step - loss: 29.0734\n",
            "Epoch 24/100\n",
            "183/183 [==============================] - 1s 5ms/step - loss: 28.9605\n",
            "Epoch 25/100\n",
            "183/183 [==============================] - 1s 4ms/step - loss: 28.6871\n",
            "Epoch 26/100\n",
            "183/183 [==============================] - 1s 4ms/step - loss: 28.4892\n",
            "Epoch 27/100\n",
            "183/183 [==============================] - 1s 5ms/step - loss: 28.1713\n",
            "Epoch 28/100\n",
            "183/183 [==============================] - 1s 4ms/step - loss: 27.7138\n",
            "Epoch 29/100\n",
            "183/183 [==============================] - 1s 4ms/step - loss: 27.7499\n",
            "Epoch 30/100\n",
            "183/183 [==============================] - 1s 5ms/step - loss: 27.3717\n",
            "Epoch 31/100\n",
            "183/183 [==============================] - 1s 4ms/step - loss: 27.3631\n",
            "Epoch 32/100\n",
            "183/183 [==============================] - 1s 5ms/step - loss: 27.0137\n",
            "Epoch 33/100\n",
            "183/183 [==============================] - 1s 4ms/step - loss: 26.9387\n",
            "Epoch 34/100\n",
            "183/183 [==============================] - 1s 5ms/step - loss: 26.7065\n",
            "Epoch 35/100\n",
            "183/183 [==============================] - 1s 4ms/step - loss: 26.4379\n",
            "Epoch 36/100\n",
            "183/183 [==============================] - 1s 4ms/step - loss: 26.2759\n",
            "Epoch 37/100\n",
            "183/183 [==============================] - 1s 4ms/step - loss: 26.3242\n",
            "Epoch 38/100\n",
            "183/183 [==============================] - 1s 4ms/step - loss: 26.2931\n",
            "Epoch 39/100\n",
            "183/183 [==============================] - 1s 5ms/step - loss: 26.0415\n",
            "Epoch 40/100\n",
            "183/183 [==============================] - 1s 4ms/step - loss: 25.9546\n",
            "Epoch 41/100\n",
            "183/183 [==============================] - 1s 4ms/step - loss: 25.7541\n",
            "Epoch 42/100\n",
            "183/183 [==============================] - 1s 4ms/step - loss: 25.5033\n",
            "Epoch 43/100\n",
            "183/183 [==============================] - 1s 4ms/step - loss: 25.2858\n",
            "Epoch 44/100\n",
            "183/183 [==============================] - 1s 4ms/step - loss: 25.1511\n",
            "Epoch 45/100\n",
            "183/183 [==============================] - 1s 4ms/step - loss: 25.1314\n",
            "Epoch 46/100\n",
            "183/183 [==============================] - 1s 4ms/step - loss: 25.0880\n",
            "Epoch 47/100\n",
            "183/183 [==============================] - 1s 4ms/step - loss: 24.9564\n",
            "Epoch 48/100\n",
            "183/183 [==============================] - 1s 4ms/step - loss: 25.1769\n",
            "Epoch 49/100\n",
            "183/183 [==============================] - 1s 4ms/step - loss: 24.8325\n",
            "Epoch 50/100\n",
            "183/183 [==============================] - 1s 4ms/step - loss: 24.6882\n",
            "Epoch 51/100\n",
            "183/183 [==============================] - 1s 4ms/step - loss: 24.4714\n",
            "Epoch 52/100\n",
            "183/183 [==============================] - 1s 4ms/step - loss: 24.4561\n",
            "Epoch 53/100\n",
            "183/183 [==============================] - 1s 4ms/step - loss: 24.1057\n",
            "Epoch 54/100\n",
            "183/183 [==============================] - 1s 5ms/step - loss: 24.4507\n",
            "Epoch 55/100\n",
            "183/183 [==============================] - 1s 5ms/step - loss: 24.0489\n",
            "Epoch 56/100\n",
            "183/183 [==============================] - 1s 5ms/step - loss: 23.8711\n",
            "Epoch 57/100\n",
            "183/183 [==============================] - 1s 4ms/step - loss: 23.5733\n",
            "Epoch 58/100\n",
            "183/183 [==============================] - 1s 4ms/step - loss: 23.8018\n",
            "Epoch 59/100\n",
            "183/183 [==============================] - 1s 4ms/step - loss: 24.2587\n",
            "Epoch 60/100\n",
            "183/183 [==============================] - 1s 4ms/step - loss: 23.5655\n",
            "Epoch 61/100\n",
            "183/183 [==============================] - 1s 4ms/step - loss: 23.3359\n",
            "Epoch 62/100\n",
            "183/183 [==============================] - 1s 4ms/step - loss: 23.3786\n",
            "Epoch 63/100\n",
            "183/183 [==============================] - 1s 4ms/step - loss: 23.0704\n",
            "Epoch 64/100\n",
            "183/183 [==============================] - 1s 4ms/step - loss: 23.0627\n",
            "Epoch 65/100\n",
            "183/183 [==============================] - 1s 4ms/step - loss: 23.0760\n",
            "Epoch 66/100\n",
            "183/183 [==============================] - 1s 4ms/step - loss: 22.9831\n",
            "Epoch 67/100\n",
            "183/183 [==============================] - 1s 4ms/step - loss: 22.9985\n",
            "Epoch 68/100\n",
            "183/183 [==============================] - 1s 5ms/step - loss: 22.8463\n",
            "Epoch 69/100\n",
            "183/183 [==============================] - 1s 4ms/step - loss: 22.5925\n",
            "Epoch 70/100\n",
            "183/183 [==============================] - 1s 4ms/step - loss: 22.6641\n",
            "Epoch 71/100\n",
            "183/183 [==============================] - 1s 4ms/step - loss: 22.3944\n",
            "Epoch 72/100\n",
            "183/183 [==============================] - 1s 4ms/step - loss: 22.3338\n",
            "Epoch 73/100\n",
            "183/183 [==============================] - 1s 4ms/step - loss: 22.1325\n",
            "Epoch 74/100\n",
            "183/183 [==============================] - 1s 5ms/step - loss: 22.1142\n",
            "Epoch 75/100\n",
            "183/183 [==============================] - 1s 5ms/step - loss: 22.1198\n",
            "Epoch 76/100\n",
            "183/183 [==============================] - 1s 4ms/step - loss: 22.4425\n",
            "Epoch 77/100\n",
            "183/183 [==============================] - 1s 5ms/step - loss: 21.9193\n",
            "Epoch 78/100\n",
            "183/183 [==============================] - 1s 4ms/step - loss: 21.8454\n",
            "Epoch 79/100\n",
            "183/183 [==============================] - 1s 4ms/step - loss: 21.6602\n",
            "Epoch 80/100\n",
            "183/183 [==============================] - 1s 4ms/step - loss: 21.6129\n",
            "Epoch 81/100\n",
            "183/183 [==============================] - 1s 4ms/step - loss: 21.7023\n",
            "Epoch 82/100\n",
            "183/183 [==============================] - 1s 4ms/step - loss: 21.5362\n",
            "Epoch 83/100\n",
            "183/183 [==============================] - 1s 4ms/step - loss: 21.4569\n",
            "Epoch 84/100\n",
            "183/183 [==============================] - 1s 5ms/step - loss: 21.2361\n",
            "Epoch 85/100\n",
            "183/183 [==============================] - 1s 5ms/step - loss: 21.2533\n",
            "Epoch 86/100\n",
            "183/183 [==============================] - 1s 4ms/step - loss: 21.3128\n",
            "Epoch 87/100\n",
            "183/183 [==============================] - 1s 4ms/step - loss: 21.0587\n",
            "Epoch 88/100\n",
            "183/183 [==============================] - 1s 4ms/step - loss: 20.9794\n",
            "Epoch 89/100\n",
            "183/183 [==============================] - 1s 5ms/step - loss: 20.7450\n",
            "Epoch 90/100\n",
            "183/183 [==============================] - 1s 4ms/step - loss: 20.7147\n",
            "Epoch 91/100\n",
            "183/183 [==============================] - 1s 5ms/step - loss: 20.7056\n",
            "Epoch 92/100\n",
            "183/183 [==============================] - 1s 5ms/step - loss: 20.7815\n",
            "Epoch 93/100\n",
            "183/183 [==============================] - 1s 4ms/step - loss: 20.5284\n",
            "Epoch 94/100\n",
            "183/183 [==============================] - 1s 4ms/step - loss: 20.4064\n",
            "Epoch 95/100\n",
            "183/183 [==============================] - 1s 4ms/step - loss: 20.4209\n",
            "Epoch 96/100\n",
            "183/183 [==============================] - 1s 4ms/step - loss: 20.0618\n",
            "Epoch 97/100\n",
            "183/183 [==============================] - 1s 4ms/step - loss: 20.0159\n",
            "Epoch 98/100\n",
            "183/183 [==============================] - 1s 4ms/step - loss: 20.0183\n",
            "Epoch 99/100\n",
            "183/183 [==============================] - 1s 5ms/step - loss: 20.0059\n",
            "Epoch 100/100\n",
            "183/183 [==============================] - 1s 4ms/step - loss: 19.8116\n",
            "Model Number: 143 with model RRVAR in generation 1 of 5\n",
            "Model Number: 144 with model LATC in generation 1 of 5\n",
            "Model Number: 145 with model WindowRegression in generation 1 of 5\n",
            "Model Number: 146 with model MultivariateRegression in generation 1 of 5\n",
            "Model Number: 147 with model SectionalMotif in generation 1 of 5\n",
            "Model Number: 148 with model WindowRegression in generation 1 of 5\n",
            "Model Number: 149 with model WindowRegression in generation 1 of 5\n",
            "Model Number: 150 with model RRVAR in generation 1 of 5\n",
            "Model Number: 151 with model NVAR in generation 1 of 5\n",
            "Model Number: 152 with model NVAR in generation 1 of 5\n",
            "Model Number: 153 with model MultivariateMotif in generation 1 of 5\n",
            "Model Number: 154 with model RRVAR in generation 1 of 5\n",
            "Model Number: 155 with model MultivariateRegression in generation 1 of 5\n",
            "Model Number: 156 with model SectionalMotif in generation 1 of 5\n",
            "Model Number: 157 with model RRVAR in generation 1 of 5\n",
            "Model Number: 158 with model LATC in generation 1 of 5\n",
            "Template Eval Error: Exception('Transformer Detrend failed on fit') in model 158: LATC\n",
            "Model Number: 159 with model MultivariateRegression in generation 1 of 5\n",
            "Model Number: 160 with model SectionalMotif in generation 1 of 5\n",
            "Model Number: 161 with model RRVAR in generation 1 of 5\n",
            "Model Number: 162 with model MultivariateMotif in generation 1 of 5\n",
            "Model Number: 163 with model NVAR in generation 1 of 5\n",
            "Model Number: 164 with model WindowRegression in generation 1 of 5\n",
            "Model Number: 165 with model MultivariateRegression in generation 1 of 5\n",
            "Model Number: 166 with model NVAR in generation 1 of 5\n",
            "Model Number: 167 with model MAR in generation 1 of 5\n",
            "Model Number: 168 with model RRVAR in generation 1 of 5\n",
            "Model Number: 169 with model NVAR in generation 1 of 5\n",
            "Model Number: 170 with model SectionalMotif in generation 1 of 5\n",
            "Model Number: 171 with model MAR in generation 1 of 5\n",
            "Model Number: 172 with model NVAR in generation 1 of 5\n",
            "Model Number: 173 with model MAR in generation 1 of 5\n",
            "Model Number: 174 with model MultivariateRegression in generation 1 of 5\n",
            "Model Number: 175 with model MultivariateRegression in generation 1 of 5\n",
            "Model Number: 176 with model MultivariateMotif in generation 1 of 5\n"
          ]
        },
        {
          "output_type": "stream",
          "name": "stderr",
          "text": [
            "/usr/local/lib/python3.7/dist-packages/sklearn/svm/_base.py:1208: ConvergenceWarning: Liblinear failed to converge, increase the number of iterations.\n",
            "  ConvergenceWarning,\n"
          ]
        },
        {
          "output_type": "stream",
          "name": "stdout",
          "text": [
            "Model Number: 177 with model RollingRegression in generation 1 of 5\n",
            "Epoch 1/50\n",
            "74/74 [==============================] - 2s 10ms/step - loss: 5.6804e-04 - val_loss: 0.0071\n",
            "Epoch 2/50\n",
            "74/74 [==============================] - 1s 7ms/step - loss: 5.6472e-04 - val_loss: 0.0071\n",
            "Epoch 3/50\n",
            "74/74 [==============================] - 1s 7ms/step - loss: 5.6826e-04 - val_loss: 0.0070\n",
            "Epoch 4/50\n",
            "74/74 [==============================] - 1s 7ms/step - loss: 5.5760e-04 - val_loss: 0.0071\n",
            "Epoch 5/50\n",
            "74/74 [==============================] - 1s 7ms/step - loss: 5.6384e-04 - val_loss: 0.0070\n",
            "Epoch 6/50\n",
            "74/74 [==============================] - 1s 7ms/step - loss: 5.6877e-04 - val_loss: 0.0070\n",
            "Epoch 7/50\n",
            "74/74 [==============================] - 1s 7ms/step - loss: 5.5957e-04 - val_loss: 0.0070\n",
            "Epoch 8/50\n",
            "74/74 [==============================] - 1s 8ms/step - loss: 5.6589e-04 - val_loss: 0.0070\n",
            "Epoch 9/50\n",
            "74/74 [==============================] - 1s 7ms/step - loss: 5.5911e-04 - val_loss: 0.0070\n",
            "Epoch 10/50\n",
            "74/74 [==============================] - 1s 7ms/step - loss: 5.6158e-04 - val_loss: 0.0070\n",
            "Epoch 11/50\n",
            "74/74 [==============================] - 1s 7ms/step - loss: 5.6182e-04 - val_loss: 0.0070\n",
            "Epoch 12/50\n",
            "74/74 [==============================] - 1s 7ms/step - loss: 5.6051e-04 - val_loss: 0.0070\n",
            "Epoch 13/50\n",
            "74/74 [==============================] - 1s 7ms/step - loss: 5.6160e-04 - val_loss: 0.0070\n",
            "Epoch 14/50\n",
            "74/74 [==============================] - 1s 7ms/step - loss: 5.6112e-04 - val_loss: 0.0070\n",
            "Epoch 15/50\n",
            "74/74 [==============================] - 1s 7ms/step - loss: 5.6008e-04 - val_loss: 0.0070\n",
            "Epoch 16/50\n",
            "74/74 [==============================] - 1s 7ms/step - loss: 5.6185e-04 - val_loss: 0.0070\n",
            "Epoch 17/50\n",
            "74/74 [==============================] - 1s 7ms/step - loss: 5.6232e-04 - val_loss: 0.0069\n",
            "Epoch 18/50\n",
            "74/74 [==============================] - 1s 7ms/step - loss: 5.5782e-04 - val_loss: 0.0069\n",
            "Epoch 19/50\n",
            "74/74 [==============================] - 1s 7ms/step - loss: 5.6134e-04 - val_loss: 0.0069\n",
            "Epoch 20/50\n",
            "74/74 [==============================] - 1s 7ms/step - loss: 5.6101e-04 - val_loss: 0.0069\n",
            "Epoch 21/50\n",
            "74/74 [==============================] - 0s 7ms/step - loss: 5.6071e-04 - val_loss: 0.0069\n",
            "Epoch 22/50\n",
            "74/74 [==============================] - 1s 7ms/step - loss: 5.5412e-04 - val_loss: 0.0069\n",
            "Epoch 23/50\n",
            "74/74 [==============================] - 1s 8ms/step - loss: 5.6049e-04 - val_loss: 0.0069\n",
            "Epoch 24/50\n",
            "74/74 [==============================] - 1s 12ms/step - loss: 5.5995e-04 - val_loss: 0.0069\n",
            "Epoch 25/50\n",
            "74/74 [==============================] - 1s 11ms/step - loss: 5.5835e-04 - val_loss: 0.0069\n",
            "Epoch 26/50\n",
            "74/74 [==============================] - 1s 14ms/step - loss: 5.5860e-04 - val_loss: 0.0069\n",
            "Epoch 27/50\n",
            "74/74 [==============================] - 1s 13ms/step - loss: 5.5513e-04 - val_loss: 0.0069\n",
            "Epoch 28/50\n",
            "74/74 [==============================] - 1s 15ms/step - loss: 5.6184e-04 - val_loss: 0.0069\n",
            "Epoch 29/50\n",
            "74/74 [==============================] - 1s 11ms/step - loss: 5.5846e-04 - val_loss: 0.0069\n",
            "Epoch 30/50\n",
            "74/74 [==============================] - 1s 14ms/step - loss: 5.6234e-04 - val_loss: 0.0069\n",
            "Epoch 31/50\n",
            "74/74 [==============================] - 1s 15ms/step - loss: 5.5976e-04 - val_loss: 0.0069\n",
            "Epoch 32/50\n",
            "74/74 [==============================] - 1s 14ms/step - loss: 5.5255e-04 - val_loss: 0.0069\n",
            "Epoch 33/50\n",
            "74/74 [==============================] - 1s 12ms/step - loss: 5.5836e-04 - val_loss: 0.0069\n",
            "Epoch 34/50\n",
            "74/74 [==============================] - 1s 14ms/step - loss: 5.5956e-04 - val_loss: 0.0069\n",
            "Epoch 35/50\n",
            "74/74 [==============================] - 1s 13ms/step - loss: 5.5918e-04 - val_loss: 0.0069\n",
            "Epoch 36/50\n",
            "74/74 [==============================] - 1s 11ms/step - loss: 5.5617e-04 - val_loss: 0.0069\n",
            "Epoch 37/50\n",
            "74/74 [==============================] - 1s 12ms/step - loss: 5.5545e-04 - val_loss: 0.0069\n",
            "Epoch 38/50\n",
            "74/74 [==============================] - 1s 12ms/step - loss: 5.5638e-04 - val_loss: 0.0069\n",
            "Epoch 39/50\n",
            "74/74 [==============================] - 1s 13ms/step - loss: 5.5412e-04 - val_loss: 0.0069\n",
            "Epoch 40/50\n",
            "74/74 [==============================] - 1s 15ms/step - loss: 5.5248e-04 - val_loss: 0.0069\n",
            "Epoch 41/50\n",
            "74/74 [==============================] - 1s 11ms/step - loss: 5.5598e-04 - val_loss: 0.0069\n",
            "Epoch 42/50\n",
            "74/74 [==============================] - 1s 12ms/step - loss: 5.5486e-04 - val_loss: 0.0069\n",
            "Epoch 43/50\n",
            "74/74 [==============================] - 1s 13ms/step - loss: 5.5248e-04 - val_loss: 0.0069\n",
            "Epoch 44/50\n",
            "74/74 [==============================] - 1s 13ms/step - loss: 5.5391e-04 - val_loss: 0.0069\n",
            "Epoch 45/50\n",
            "74/74 [==============================] - 1s 12ms/step - loss: 5.5315e-04 - val_loss: 0.0069\n",
            "Epoch 46/50\n",
            "74/74 [==============================] - 1s 13ms/step - loss: 5.5516e-04 - val_loss: 0.0069\n",
            "Epoch 47/50\n",
            "74/74 [==============================] - 1s 14ms/step - loss: 5.5412e-04 - val_loss: 0.0069\n",
            "Epoch 48/50\n",
            "74/74 [==============================] - 1s 14ms/step - loss: 5.5296e-04 - val_loss: 0.0069\n",
            "Epoch 49/50\n",
            "74/74 [==============================] - 1s 13ms/step - loss: 5.5248e-04 - val_loss: 0.0069\n",
            "Epoch 50/50\n",
            "74/74 [==============================] - 1s 13ms/step - loss: 5.5018e-04 - val_loss: 0.0069\n",
            "Model Number: 178 with model MultivariateMotif in generation 1 of 5\n",
            "Model Number: 179 with model LATC in generation 1 of 5\n",
            "Template Eval Error: ValueError('LATC cannot accept any arrays that are all 0') in model 179: LATC\n",
            "Model Number: 180 with model RRVAR in generation 1 of 5\n",
            "Model Number: 181 with model MAR in generation 1 of 5\n",
            "Model Number: 182 with model WindowRegression in generation 1 of 5\n",
            "Template Eval Error: ValueError(\"regression_type='User' but no future_regressor passed\") in model 182: WindowRegression\n",
            "Model Number: 183 with model RRVAR in generation 1 of 5\n",
            "Model Number: 184 with model RollingRegression in generation 1 of 5\n",
            "Model Number: 185 with model NVAR in generation 1 of 5\n",
            "Model Number: 186 with model WindowRegression in generation 1 of 5\n"
          ]
        },
        {
          "output_type": "stream",
          "name": "stderr",
          "text": [
            "/usr/local/lib/python3.7/dist-packages/sklearn/base.py:451: UserWarning: X does not have valid feature names, but DecisionTreeRegressor was fitted with feature names\n",
            "  \"X does not have valid feature names, but\"\n"
          ]
        },
        {
          "output_type": "stream",
          "name": "stdout",
          "text": [
            "Model Number: 187 with model LATC in generation 1 of 5\n",
            "Model Number: 188 with model LATC in generation 1 of 5\n",
            "Model Number: 189 with model RRVAR in generation 1 of 5\n",
            "Model Number: 190 with model NVAR in generation 1 of 5\n",
            "Model Number: 191 with model WindowRegression in generation 1 of 5\n",
            "Model Number: 192 with model MultivariateMotif in generation 1 of 5\n",
            "Model Number: 193 with model MultivariateRegression in generation 1 of 5\n"
          ]
        },
        {
          "output_type": "stream",
          "name": "stderr",
          "text": [
            "[Parallel(n_jobs=100)]: Using backend ThreadingBackend with 100 concurrent workers.\n",
            "[Parallel(n_jobs=100)]: Done 200 out of 200 | elapsed:    2.8s finished\n",
            "[Parallel(n_jobs=100)]: Using backend ThreadingBackend with 100 concurrent workers.\n",
            "[Parallel(n_jobs=100)]: Done 200 out of 200 | elapsed:    0.0s finished\n"
          ]
        },
        {
          "output_type": "stream",
          "name": "stdout",
          "text": [
            "New Generation: 2 of 5\n",
            "Model Number: 194 with model RollingRegression in generation 2 of 5\n",
            "Template Eval Error: ValueError(\"loss='poisson' requires non-negative y and sum(y) > 0.\") in model 194: RollingRegression\n",
            "Model Number: 195 with model NVAR in generation 2 of 5\n",
            "Model Number: 196 with model RollingRegression in generation 2 of 5\n"
          ]
        },
        {
          "output_type": "stream",
          "name": "stderr",
          "text": [
            "/usr/local/lib/python3.7/dist-packages/sklearn/utils/validation.py:993: DataConversionWarning: A column-vector y was passed when a 1d array was expected. Please change the shape of y to (n_samples, ), for example using ravel().\n",
            "  y = column_or_1d(y, warn=True)\n",
            "/usr/local/lib/python3.7/dist-packages/sklearn/base.py:451: UserWarning: X does not have valid feature names, but RANSACRegressor was fitted with feature names\n",
            "  \"X does not have valid feature names, but\"\n"
          ]
        },
        {
          "output_type": "stream",
          "name": "stdout",
          "text": [
            "Model Number: 197 with model SectionalMotif in generation 2 of 5\n",
            "Model Number: 198 with model MultivariateRegression in generation 2 of 5\n",
            "Model Number: 199 with model RRVAR in generation 2 of 5\n",
            "Model Number: 200 with model MAR in generation 2 of 5\n",
            "Model Number: 201 with model SectionalMotif in generation 2 of 5\n",
            "Model Number: 202 with model WindowRegression in generation 2 of 5\n",
            "Model Number: 203 with model WindowRegression in generation 2 of 5\n",
            "Model Number: 204 with model RRVAR in generation 2 of 5\n",
            "Model Number: 205 with model RRVAR in generation 2 of 5\n",
            "Model Number: 206 with model NVAR in generation 2 of 5\n",
            "Model Number: 207 with model RollingRegression in generation 2 of 5\n"
          ]
        },
        {
          "output_type": "stream",
          "name": "stderr",
          "text": [
            "/usr/local/lib/python3.7/dist-packages/autots/models/sklearn.py:1084: DataConversionWarning: A column-vector y was passed when a 1d array was expected. Please change the shape of y to (n_samples,), for example using ravel().\n",
            "  self.regr = self.regr.fit(X, Y)\n",
            "/usr/local/lib/python3.7/dist-packages/sklearn/base.py:451: UserWarning: X does not have valid feature names, but ExtraTreesRegressor was fitted with feature names\n",
            "  \"X does not have valid feature names, but\"\n"
          ]
        },
        {
          "output_type": "stream",
          "name": "stdout",
          "text": [
            "Model Number: 208 with model SectionalMotif in generation 2 of 5\n",
            "Model Number: 209 with model MultivariateMotif in generation 2 of 5\n",
            "Model Number: 210 with model RRVAR in generation 2 of 5\n",
            "Model Number: 211 with model LATC in generation 2 of 5\n",
            "Model Number: 212 with model RRVAR in generation 2 of 5\n",
            "Model Number: 213 with model MAR in generation 2 of 5\n",
            "Model Number: 214 with model MultivariateRegression in generation 2 of 5\n",
            "Model Number: 215 with model RollingRegression in generation 2 of 5\n",
            "Model Number: 216 with model NVAR in generation 2 of 5\n"
          ]
        },
        {
          "output_type": "stream",
          "name": "stderr",
          "text": [
            "/usr/local/lib/python3.7/dist-packages/sklearn/linear_model/_coordinate_descent.py:648: ConvergenceWarning: Objective did not converge. You might want to increase the number of iterations, check the scale of the features or consider increasing regularisation. Duality gap: 8.700e+08, tolerance: 7.900e+07\n",
            "  coef_, l1_reg, l2_reg, X, y, max_iter, tol, rng, random, positive\n",
            "/usr/local/lib/python3.7/dist-packages/sklearn/base.py:451: UserWarning: X does not have valid feature names, but ElasticNet was fitted with feature names\n",
            "  \"X does not have valid feature names, but\"\n"
          ]
        },
        {
          "output_type": "stream",
          "name": "stdout",
          "text": [
            "Model Number: 217 with model MultivariateMotif in generation 2 of 5\n",
            "Model Number: 218 with model MultivariateRegression in generation 2 of 5\n"
          ]
        },
        {
          "output_type": "stream",
          "name": "stderr",
          "text": [
            "[Parallel(n_jobs=100)]: Using backend ThreadingBackend with 100 concurrent workers.\n",
            "[Parallel(n_jobs=100)]: Done 200 out of 200 | elapsed:    2.4s finished\n",
            "[Parallel(n_jobs=100)]: Using backend ThreadingBackend with 100 concurrent workers.\n",
            "[Parallel(n_jobs=100)]: Done 200 out of 200 | elapsed:    0.0s finished\n"
          ]
        },
        {
          "output_type": "stream",
          "name": "stdout",
          "text": [
            "Model Number: 219 with model MAR in generation 2 of 5\n",
            "Model Number: 220 with model RollingRegression in generation 2 of 5\n",
            "Epoch 1/50\n",
            "74/74 [==============================] - 2s 12ms/step - loss: 0.0838 - val_loss: 0.9441\n",
            "Epoch 2/50\n",
            "74/74 [==============================] - 1s 8ms/step - loss: 0.0518 - val_loss: 0.6431\n",
            "Epoch 3/50\n",
            "74/74 [==============================] - 1s 8ms/step - loss: 0.0313 - val_loss: 0.3737\n",
            "Epoch 4/50\n",
            "74/74 [==============================] - 1s 8ms/step - loss: 0.0177 - val_loss: 0.2268\n",
            "Epoch 5/50\n",
            "74/74 [==============================] - 1s 8ms/step - loss: 0.0097 - val_loss: 0.1517\n",
            "Epoch 6/50\n",
            "74/74 [==============================] - 1s 8ms/step - loss: 0.0061 - val_loss: 0.1132\n",
            "Epoch 7/50\n",
            "74/74 [==============================] - 1s 8ms/step - loss: 0.0043 - val_loss: 0.0969\n",
            "Epoch 8/50\n",
            "74/74 [==============================] - 1s 8ms/step - loss: 0.0034 - val_loss: 0.0919\n",
            "Epoch 9/50\n",
            "74/74 [==============================] - 1s 8ms/step - loss: 0.0031 - val_loss: 0.0889\n",
            "Epoch 10/50\n",
            "74/74 [==============================] - 1s 8ms/step - loss: 0.0028 - val_loss: 0.0888\n",
            "Epoch 11/50\n",
            "74/74 [==============================] - 1s 8ms/step - loss: 0.0027 - val_loss: 0.0927\n",
            "Epoch 12/50\n",
            "74/74 [==============================] - 1s 8ms/step - loss: 0.0026 - val_loss: 0.0977\n",
            "Epoch 13/50\n",
            "74/74 [==============================] - 1s 8ms/step - loss: 0.0027 - val_loss: 0.1038\n",
            "Epoch 14/50\n",
            "74/74 [==============================] - 1s 8ms/step - loss: 0.0025 - val_loss: 0.1078\n",
            "Epoch 15/50\n",
            "74/74 [==============================] - 1s 8ms/step - loss: 0.0027 - val_loss: 0.1031\n",
            "Epoch 16/50\n",
            "74/74 [==============================] - 1s 8ms/step - loss: 0.0028 - val_loss: 0.0961\n",
            "Epoch 17/50\n",
            "74/74 [==============================] - 1s 7ms/step - loss: 0.0024 - val_loss: 0.1025\n",
            "Epoch 18/50\n",
            "74/74 [==============================] - 1s 8ms/step - loss: 0.0025 - val_loss: 0.1072\n",
            "Epoch 19/50\n",
            "74/74 [==============================] - 1s 8ms/step - loss: 0.0024 - val_loss: 0.1106\n",
            "Epoch 20/50\n",
            "74/74 [==============================] - 1s 8ms/step - loss: 0.0019 - val_loss: 0.1087\n",
            "Model Number: 221 with model LATC in generation 2 of 5\n",
            "Model Number: 222 with model MultivariateRegression in generation 2 of 5\n",
            "Template Eval Error: ValueError(\"regression_type='User' but not future_regressor supplied.\") in model 222: MultivariateRegression\n",
            "Model Number: 223 with model MultivariateMotif in generation 2 of 5\n",
            "Model Number: 224 with model MAR in generation 2 of 5\n",
            "Model Number: 225 with model MultivariateMotif in generation 2 of 5\n",
            "Model Number: 226 with model SectionalMotif in generation 2 of 5\n",
            "Model Number: 227 with model MultivariateRegression in generation 2 of 5\n"
          ]
        },
        {
          "output_type": "stream",
          "name": "stderr",
          "text": [
            "[Parallel(n_jobs=100)]: Using backend ThreadingBackend with 100 concurrent workers.\n",
            "[Parallel(n_jobs=100)]: Done 200 out of 200 | elapsed:    2.3s finished\n",
            "[Parallel(n_jobs=100)]: Using backend ThreadingBackend with 100 concurrent workers.\n",
            "[Parallel(n_jobs=100)]: Done 200 out of 200 | elapsed:    0.0s finished\n"
          ]
        },
        {
          "output_type": "stream",
          "name": "stdout",
          "text": [
            "Model Number: 228 with model LATC in generation 2 of 5\n",
            "Model Number: 229 with model MultivariateRegression in generation 2 of 5\n",
            "Model Number: 230 with model WindowRegression in generation 2 of 5\n",
            "Model Number: 231 with model WindowRegression in generation 2 of 5\n",
            "Model Number: 232 with model MAR in generation 2 of 5\n",
            "Model Number: 233 with model RRVAR in generation 2 of 5\n",
            "Model Number: 234 with model LATC in generation 2 of 5\n",
            "Model Number: 235 with model NVAR in generation 2 of 5\n",
            "Model Number: 236 with model NVAR in generation 2 of 5\n",
            "Model Number: 237 with model MAR in generation 2 of 5\n",
            "Model Number: 238 with model MAR in generation 2 of 5\n",
            "Model Number: 239 with model RRVAR in generation 2 of 5\n",
            "Model Number: 240 with model SectionalMotif in generation 2 of 5\n",
            "Model Number: 241 with model MAR in generation 2 of 5\n",
            "Model Number: 242 with model SectionalMotif in generation 2 of 5\n",
            "Model Number: 243 with model NVAR in generation 2 of 5\n",
            "Model Number: 244 with model MAR in generation 2 of 5\n",
            "Model Number: 245 with model WindowRegression in generation 2 of 5\n",
            "Model Number: 246 with model WindowRegression in generation 2 of 5\n",
            "Model Number: 247 with model SectionalMotif in generation 2 of 5\n",
            "Model Number: 248 with model MultivariateMotif in generation 2 of 5\n",
            "Model Number: 249 with model RRVAR in generation 2 of 5\n",
            "Model Number: 250 with model WindowRegression in generation 2 of 5\n",
            "Model Number: 251 with model MAR in generation 2 of 5\n",
            "Model Number: 252 with model WindowRegression in generation 2 of 5\n",
            "Template Eval Error: ValueError(\"regression_type='User' but no future_regressor passed\") in model 252: WindowRegression\n",
            "Model Number: 253 with model WindowRegression in generation 2 of 5\n",
            "Model Number: 254 with model SectionalMotif in generation 2 of 5\n",
            "Model Number: 255 with model NVAR in generation 2 of 5\n",
            "Model Number: 256 with model RRVAR in generation 2 of 5\n",
            "Model Number: 257 with model RRVAR in generation 2 of 5\n",
            "Model Number: 258 with model RollingRegression in generation 2 of 5\n"
          ]
        },
        {
          "output_type": "stream",
          "name": "stderr",
          "text": [
            "/usr/local/lib/python3.7/dist-packages/autots/models/sklearn.py:1084: DataConversionWarning: A column-vector y was passed when a 1d array was expected. Please change the shape of y to (n_samples,), for example using ravel().\n",
            "  self.regr = self.regr.fit(X, Y)\n",
            "/usr/local/lib/python3.7/dist-packages/sklearn/base.py:451: UserWarning: X does not have valid feature names, but ExtraTreesRegressor was fitted with feature names\n",
            "  \"X does not have valid feature names, but\"\n"
          ]
        },
        {
          "output_type": "stream",
          "name": "stdout",
          "text": [
            "Model Number: 259 with model MAR in generation 2 of 5\n",
            "Model Number: 260 with model WindowRegression in generation 2 of 5\n",
            "Model Number: 261 with model RRVAR in generation 2 of 5\n",
            "Model Number: 262 with model NVAR in generation 2 of 5\n",
            "Model Number: 263 with model MultivariateMotif in generation 2 of 5\n",
            "Model Number: 264 with model MAR in generation 2 of 5\n",
            "Model Number: 265 with model MultivariateRegression in generation 2 of 5\n"
          ]
        },
        {
          "output_type": "stream",
          "name": "stderr",
          "text": [
            "[Parallel(n_jobs=100)]: Using backend ThreadingBackend with 100 concurrent workers.\n",
            "[Parallel(n_jobs=100)]: Done 200 out of 200 | elapsed:    5.6s finished\n",
            "[Parallel(n_jobs=100)]: Using backend ThreadingBackend with 100 concurrent workers.\n",
            "[Parallel(n_jobs=100)]: Done 200 out of 200 | elapsed:    0.0s finished\n"
          ]
        },
        {
          "output_type": "stream",
          "name": "stdout",
          "text": [
            "Model Number: 266 with model MultivariateMotif in generation 2 of 5\n",
            "Model Number: 267 with model WindowRegression in generation 2 of 5\n",
            "Model Number: 268 with model NVAR in generation 2 of 5\n",
            "Model Number: 269 with model MultivariateRegression in generation 2 of 5\n",
            "Model Number: 270 with model SectionalMotif in generation 2 of 5\n"
          ]
        },
        {
          "output_type": "stream",
          "name": "stderr",
          "text": [
            "/usr/local/lib/python3.7/dist-packages/sklearn/svm/_base.py:1208: ConvergenceWarning: Liblinear failed to converge, increase the number of iterations.\n",
            "  ConvergenceWarning,\n"
          ]
        },
        {
          "output_type": "stream",
          "name": "stdout",
          "text": [
            "Model Number: 271 with model MultivariateRegression in generation 2 of 5\n",
            "Model Number: 272 with model SectionalMotif in generation 2 of 5\n",
            "Model Number: 273 with model RRVAR in generation 2 of 5\n",
            "Model Number: 274 with model MultivariateMotif in generation 2 of 5\n",
            "Model Number: 275 with model NVAR in generation 2 of 5\n",
            "Model Number: 276 with model WindowRegression in generation 2 of 5\n",
            "Model Number: 277 with model LATC in generation 2 of 5\n",
            "Model Number: 278 with model RollingRegression in generation 2 of 5\n"
          ]
        },
        {
          "output_type": "stream",
          "name": "stderr",
          "text": [
            "/usr/local/lib/python3.7/dist-packages/autots/models/sklearn.py:1084: DataConversionWarning: A column-vector y was passed when a 1d array was expected. Please change the shape of y to (n_samples,), for example using ravel().\n",
            "  self.regr = self.regr.fit(X, Y)\n",
            "/usr/local/lib/python3.7/dist-packages/sklearn/base.py:451: UserWarning: X does not have valid feature names, but ExtraTreesRegressor was fitted with feature names\n",
            "  \"X does not have valid feature names, but\"\n"
          ]
        },
        {
          "output_type": "stream",
          "name": "stdout",
          "text": [
            "New Generation: 3 of 5\n",
            "Model Number: 279 with model LATC in generation 3 of 5\n",
            "Template Eval Error: Exception('Transformer Detrend failed on fit') in model 279: LATC\n",
            "Model Number: 280 with model NVAR in generation 3 of 5\n",
            "Model Number: 281 with model RRVAR in generation 3 of 5\n",
            "Model Number: 282 with model SectionalMotif in generation 3 of 5\n",
            "Model Number: 283 with model RRVAR in generation 3 of 5\n",
            "Model Number: 284 with model RRVAR in generation 3 of 5\n",
            "Model Number: 285 with model NVAR in generation 3 of 5\n",
            "Model Number: 286 with model MultivariateMotif in generation 3 of 5\n",
            "Model Number: 287 with model WindowRegression in generation 3 of 5\n",
            "Model Number: 288 with model RRVAR in generation 3 of 5\n",
            "Model Number: 289 with model MAR in generation 3 of 5\n",
            "Model Number: 290 with model SectionalMotif in generation 3 of 5\n",
            "Model Number: 291 with model RollingRegression in generation 3 of 5\n",
            "Model Number: 292 with model WindowRegression in generation 3 of 5\n"
          ]
        },
        {
          "output_type": "stream",
          "name": "stderr",
          "text": [
            "/usr/local/lib/python3.7/dist-packages/sklearn/base.py:451: UserWarning: X does not have valid feature names, but ElasticNet was fitted with feature names\n",
            "  \"X does not have valid feature names, but\"\n"
          ]
        },
        {
          "output_type": "stream",
          "name": "stdout",
          "text": [
            "Model Number: 293 with model RollingRegression in generation 3 of 5\n",
            "Model Number: 294 with model MultivariateMotif in generation 3 of 5\n",
            "Model Number: 295 with model WindowRegression in generation 3 of 5\n",
            "Model Number: 296 with model RollingRegression in generation 3 of 5\n"
          ]
        },
        {
          "output_type": "stream",
          "name": "stderr",
          "text": [
            "/usr/local/lib/python3.7/dist-packages/sklearn/base.py:451: UserWarning: X does not have valid feature names, but DecisionTreeRegressor was fitted with feature names\n",
            "  \"X does not have valid feature names, but\"\n"
          ]
        },
        {
          "output_type": "stream",
          "name": "stdout",
          "text": [
            "Epoch 1/50\n",
            "74/74 [==============================] - 3s 17ms/step - loss: 1934006.3750 - val_loss: 1621403.8750\n",
            "Epoch 2/50\n",
            "74/74 [==============================] - 1s 14ms/step - loss: 1083982.0000 - val_loss: 702379.1875\n",
            "Epoch 3/50\n",
            "74/74 [==============================] - 1s 13ms/step - loss: 453469.7188 - val_loss: 24471.6055\n",
            "Epoch 4/50\n",
            "74/74 [==============================] - 1s 14ms/step - loss: 306146.6562 - val_loss: 1310.8331\n",
            "Epoch 5/50\n",
            "74/74 [==============================] - 1s 14ms/step - loss: 297358.9062 - val_loss: 4039.7202\n",
            "Epoch 6/50\n",
            "74/74 [==============================] - 1s 14ms/step - loss: 293062.4688 - val_loss: 2694.1377\n",
            "Epoch 7/50\n",
            "74/74 [==============================] - 1s 15ms/step - loss: 290804.1250 - val_loss: 1889.6929\n",
            "Epoch 8/50\n",
            "74/74 [==============================] - 1s 14ms/step - loss: 285086.6250 - val_loss: 1121.8066\n",
            "Epoch 9/50\n",
            "74/74 [==============================] - 1s 14ms/step - loss: 294299.9375 - val_loss: 606.5640\n",
            "Epoch 10/50\n",
            "74/74 [==============================] - 1s 13ms/step - loss: 282601.6250 - val_loss: 2335.1868\n",
            "Epoch 11/50\n",
            "74/74 [==============================] - 1s 14ms/step - loss: 279605.0938 - val_loss: 84.9977\n",
            "Epoch 12/50\n",
            "74/74 [==============================] - 1s 13ms/step - loss: 272296.9062 - val_loss: 3208.6890\n",
            "Epoch 13/50\n",
            "74/74 [==============================] - 1s 13ms/step - loss: 274319.9688 - val_loss: 3565.9338\n",
            "Epoch 14/50\n",
            "74/74 [==============================] - 1s 14ms/step - loss: 280093.2500 - val_loss: 1160.6194\n",
            "Epoch 15/50\n",
            "74/74 [==============================] - 1s 15ms/step - loss: 280769.4375 - val_loss: 1401.4121\n",
            "Epoch 16/50\n",
            "74/74 [==============================] - 1s 14ms/step - loss: 261543.7344 - val_loss: 51.1115\n",
            "Epoch 17/50\n",
            "74/74 [==============================] - 1s 14ms/step - loss: 284365.3125 - val_loss: 6945.4673\n",
            "Epoch 18/50\n",
            "74/74 [==============================] - 1s 14ms/step - loss: 273323.5625 - val_loss: 3611.6853\n",
            "Epoch 19/50\n",
            "74/74 [==============================] - 1s 13ms/step - loss: 258655.5156 - val_loss: 933.2440\n",
            "Epoch 20/50\n",
            "74/74 [==============================] - 1s 14ms/step - loss: 260563.9062 - val_loss: 1942.8013\n",
            "Epoch 21/50\n",
            "74/74 [==============================] - 1s 13ms/step - loss: 269943.4062 - val_loss: 2369.5569\n",
            "Epoch 22/50\n",
            "74/74 [==============================] - 1s 15ms/step - loss: 259723.5156 - val_loss: 3268.5000\n",
            "Epoch 23/50\n",
            "74/74 [==============================] - 1s 14ms/step - loss: 269057.0938 - val_loss: 768.4517\n",
            "Epoch 24/50\n",
            "74/74 [==============================] - 1s 14ms/step - loss: 264995.5625 - val_loss: 610.5461\n",
            "Epoch 25/50\n",
            "74/74 [==============================] - 1s 15ms/step - loss: 245568.7656 - val_loss: 2193.5808\n",
            "Epoch 26/50\n",
            "74/74 [==============================] - 1s 15ms/step - loss: 243929.1875 - val_loss: 313.4060\n"
          ]
        },
        {
          "output_type": "stream",
          "name": "stderr",
          "text": [
            "WARNING:tensorflow:5 out of the last 5 calls to <function Model.make_predict_function.<locals>.predict_function at 0x7fc9193394d0> triggered tf.function retracing. Tracing is expensive and the excessive number of tracings could be due to (1) creating @tf.function repeatedly in a loop, (2) passing tensors with different shapes, (3) passing Python objects instead of tensors. For (1), please define your @tf.function outside of the loop. For (2), @tf.function has experimental_relax_shapes=True option that relaxes argument shapes that can avoid unnecessary retracing. For (3), please refer to https://www.tensorflow.org/guide/function#controlling_retracing and https://www.tensorflow.org/api_docs/python/tf/function for  more details.\n"
          ]
        },
        {
          "output_type": "stream",
          "name": "stdout",
          "text": [
            "Model Number: 297 with model WindowRegression in generation 3 of 5\n",
            "Model Number: 298 with model MultivariateRegression in generation 3 of 5\n",
            "Model Number: 299 with model NVAR in generation 3 of 5\n",
            "Model Number: 300 with model WindowRegression in generation 3 of 5\n",
            "Model Number: 301 with model MultivariateMotif in generation 3 of 5\n",
            "Model Number: 302 with model LATC in generation 3 of 5\n",
            "Model Number: 303 with model WindowRegression in generation 3 of 5\n",
            "Model Number: 304 with model WindowRegression in generation 3 of 5\n"
          ]
        },
        {
          "output_type": "stream",
          "name": "stderr",
          "text": [
            "/usr/local/lib/python3.7/dist-packages/sklearn/linear_model/_coordinate_descent.py:648: ConvergenceWarning: Objective did not converge. You might want to increase the number of iterations, check the scale of the features or consider increasing regularisation. Duality gap: 9.451e+08, tolerance: 3.229e+07\n",
            "  coef_, l1_reg, l2_reg, X, y, max_iter, tol, rng, random, positive\n"
          ]
        },
        {
          "output_type": "stream",
          "name": "stdout",
          "text": [
            "Model Number: 305 with model MAR in generation 3 of 5\n",
            "Model Number: 306 with model MAR in generation 3 of 5\n",
            "Model Number: 307 with model MAR in generation 3 of 5\n",
            "Model Number: 308 with model SectionalMotif in generation 3 of 5\n",
            "Model Number: 309 with model MAR in generation 3 of 5\n",
            "Model Number: 310 with model WindowRegression in generation 3 of 5\n",
            "Model Number: 311 with model MultivariateMotif in generation 3 of 5\n",
            "Model Number: 312 with model WindowRegression in generation 3 of 5\n",
            "Model Number: 313 with model LATC in generation 3 of 5\n",
            "Model Number: 314 with model RollingRegression in generation 3 of 5\n"
          ]
        },
        {
          "output_type": "stream",
          "name": "stderr",
          "text": [
            "/usr/local/lib/python3.7/dist-packages/autots/models/sklearn.py:1084: DataConversionWarning: A column-vector y was passed when a 1d array was expected. Please change the shape of y to (n_samples,), for example using ravel().\n",
            "  self.regr = self.regr.fit(X, Y)\n",
            "/usr/local/lib/python3.7/dist-packages/sklearn/base.py:451: UserWarning: X does not have valid feature names, but ExtraTreesRegressor was fitted with feature names\n",
            "  \"X does not have valid feature names, but\"\n",
            "/usr/local/lib/python3.7/dist-packages/autots/models/sklearn.py:1084: DataConversionWarning: A column-vector y was passed when a 1d array was expected. Please change the shape of y to (n_samples,), for example using ravel().\n",
            "  self.regr = self.regr.fit(X, Y)\n"
          ]
        },
        {
          "output_type": "stream",
          "name": "stdout",
          "text": [
            "Model Number: 315 with model RollingRegression in generation 3 of 5\n"
          ]
        },
        {
          "output_type": "stream",
          "name": "stderr",
          "text": [
            "/usr/local/lib/python3.7/dist-packages/sklearn/base.py:451: UserWarning: X does not have valid feature names, but ExtraTreesRegressor was fitted with feature names\n",
            "  \"X does not have valid feature names, but\"\n"
          ]
        },
        {
          "output_type": "stream",
          "name": "stdout",
          "text": [
            "Model Number: 316 with model NVAR in generation 3 of 5\n",
            "Model Number: 317 with model NVAR in generation 3 of 5\n",
            "Model Number: 318 with model MultivariateRegression in generation 3 of 5\n"
          ]
        },
        {
          "output_type": "stream",
          "name": "stderr",
          "text": [
            "[Parallel(n_jobs=100)]: Using backend ThreadingBackend with 100 concurrent workers.\n",
            "[Parallel(n_jobs=100)]: Done 200 out of 200 | elapsed:    6.8s finished\n",
            "[Parallel(n_jobs=100)]: Using backend ThreadingBackend with 100 concurrent workers.\n",
            "[Parallel(n_jobs=100)]: Done 200 out of 200 | elapsed:    0.0s finished\n"
          ]
        },
        {
          "output_type": "stream",
          "name": "stdout",
          "text": [
            "Model Number: 319 with model NVAR in generation 3 of 5\n",
            "Model Number: 320 with model SectionalMotif in generation 3 of 5\n",
            "Model Number: 321 with model MAR in generation 3 of 5\n",
            "Model Number: 322 with model MultivariateRegression in generation 3 of 5\n",
            "Model Number: 323 with model LATC in generation 3 of 5\n",
            "Model Number: 324 with model LATC in generation 3 of 5\n",
            "Model Number: 325 with model MultivariateMotif in generation 3 of 5\n",
            "Model Number: 326 with model LATC in generation 3 of 5\n",
            "Model Number: 327 with model MultivariateMotif in generation 3 of 5\n",
            "Model Number: 328 with model RRVAR in generation 3 of 5\n",
            "Model Number: 329 with model RRVAR in generation 3 of 5\n",
            "Model Number: 330 with model MAR in generation 3 of 5\n",
            "Model Number: 331 with model SectionalMotif in generation 3 of 5\n",
            "Model Number: 332 with model MultivariateRegression in generation 3 of 5\n",
            "Model Number: 333 with model MAR in generation 3 of 5\n",
            "Model Number: 334 with model LATC in generation 3 of 5\n",
            "Model Number: 335 with model MultivariateRegression in generation 3 of 5\n",
            "Model Number: 336 with model RRVAR in generation 3 of 5\n",
            "Model Number: 337 with model SectionalMotif in generation 3 of 5\n",
            "Model Number: 338 with model RRVAR in generation 3 of 5\n",
            "Model Number: 339 with model LATC in generation 3 of 5\n",
            "Template Eval Error: ValueError('LATC cannot accept any arrays that are all 0') in model 339: LATC\n",
            "Model Number: 340 with model NVAR in generation 3 of 5\n",
            "Model Number: 341 with model MAR in generation 3 of 5\n",
            "Model Number: 342 with model MultivariateRegression in generation 3 of 5\n"
          ]
        },
        {
          "output_type": "stream",
          "name": "stderr",
          "text": [
            "[Parallel(n_jobs=100)]: Using backend ThreadingBackend with 100 concurrent workers.\n",
            "[Parallel(n_jobs=100)]: Done 200 out of 200 | elapsed:    8.9s finished\n",
            "[Parallel(n_jobs=100)]: Using backend ThreadingBackend with 100 concurrent workers.\n",
            "[Parallel(n_jobs=100)]: Done 200 out of 200 | elapsed:    0.0s finished\n"
          ]
        },
        {
          "output_type": "stream",
          "name": "stdout",
          "text": [
            "Model Number: 343 with model MultivariateRegression in generation 3 of 5\n",
            "Model Number: 344 with model RRVAR in generation 3 of 5\n",
            "Model Number: 345 with model WindowRegression in generation 3 of 5\n",
            "Model Number: 346 with model NVAR in generation 3 of 5\n",
            "Model Number: 347 with model WindowRegression in generation 3 of 5\n",
            "Model Number: 348 with model MultivariateMotif in generation 3 of 5\n",
            "Model Number: 349 with model RRVAR in generation 3 of 5\n",
            "Model Number: 350 with model RRVAR in generation 3 of 5\n",
            "Model Number: 351 with model NVAR in generation 3 of 5\n",
            "Model Number: 352 with model MultivariateRegression in generation 3 of 5\n",
            "Model Number: 353 with model MultivariateRegression in generation 3 of 5\n"
          ]
        },
        {
          "output_type": "stream",
          "name": "stderr",
          "text": [
            "[Parallel(n_jobs=100)]: Using backend ThreadingBackend with 100 concurrent workers.\n",
            "[Parallel(n_jobs=100)]: Done 200 out of 200 | elapsed:    9.5s finished\n",
            "[Parallel(n_jobs=100)]: Using backend ThreadingBackend with 100 concurrent workers.\n",
            "[Parallel(n_jobs=100)]: Done 200 out of 200 | elapsed:    0.0s finished\n"
          ]
        },
        {
          "output_type": "stream",
          "name": "stdout",
          "text": [
            "Model Number: 354 with model LATC in generation 3 of 5\n",
            "Model Number: 355 with model WindowRegression in generation 3 of 5\n",
            "Model Number: 356 with model MAR in generation 3 of 5\n",
            "Model Number: 357 with model RRVAR in generation 3 of 5\n",
            "Model Number: 358 with model MultivariateRegression in generation 3 of 5\n"
          ]
        },
        {
          "output_type": "stream",
          "name": "stderr",
          "text": [
            "[Parallel(n_jobs=100)]: Using backend ThreadingBackend with 100 concurrent workers.\n",
            "[Parallel(n_jobs=100)]: Done 200 out of 200 | elapsed:    2.2s finished\n",
            "[Parallel(n_jobs=100)]: Using backend ThreadingBackend with 100 concurrent workers.\n",
            "[Parallel(n_jobs=100)]: Done 200 out of 200 | elapsed:    0.0s finished\n"
          ]
        },
        {
          "output_type": "stream",
          "name": "stdout",
          "text": [
            "Model Number: 359 with model RRVAR in generation 3 of 5\n",
            "Model Number: 360 with model LATC in generation 3 of 5\n",
            "Template Eval Error: Exception('Transformer Detrend failed on fit') in model 360: LATC\n",
            "Model Number: 361 with model SectionalMotif in generation 3 of 5\n",
            "Model Number: 362 with model RollingRegression in generation 3 of 5\n",
            "Epoch 1/50\n",
            "74/74 [==============================] - 2s 11ms/step - loss: 0.2006 - val_loss: 0.5650\n",
            "Epoch 2/50\n",
            "74/74 [==============================] - 1s 9ms/step - loss: 0.1336 - val_loss: 0.3975\n",
            "Epoch 3/50\n",
            "74/74 [==============================] - 1s 9ms/step - loss: 0.0829 - val_loss: 0.2690\n",
            "Epoch 4/50\n",
            "74/74 [==============================] - 1s 9ms/step - loss: 0.0469 - val_loss: 0.1938\n",
            "Epoch 5/50\n",
            "74/74 [==============================] - 1s 10ms/step - loss: 0.0249 - val_loss: 0.1468\n",
            "Epoch 6/50\n",
            "74/74 [==============================] - 1s 9ms/step - loss: 0.0132 - val_loss: 0.1212\n",
            "Epoch 7/50\n",
            "74/74 [==============================] - 1s 9ms/step - loss: 0.0093 - val_loss: 0.1077\n",
            "Epoch 8/50\n",
            "74/74 [==============================] - 1s 8ms/step - loss: 0.0074 - val_loss: 0.1013\n",
            "Epoch 9/50\n",
            "74/74 [==============================] - 1s 9ms/step - loss: 0.0069 - val_loss: 0.0965\n",
            "Epoch 10/50\n",
            "74/74 [==============================] - 1s 9ms/step - loss: 0.0063 - val_loss: 0.0938\n",
            "Epoch 11/50\n",
            "74/74 [==============================] - 1s 10ms/step - loss: 0.0064 - val_loss: 0.0909\n",
            "Epoch 12/50\n",
            "74/74 [==============================] - 1s 9ms/step - loss: 0.0059 - val_loss: 0.0897\n",
            "Epoch 13/50\n",
            "74/74 [==============================] - 1s 9ms/step - loss: 0.0062 - val_loss: 0.0878\n",
            "Epoch 14/50\n",
            "74/74 [==============================] - 1s 12ms/step - loss: 0.0057 - val_loss: 0.0859\n",
            "Epoch 15/50\n",
            "74/74 [==============================] - 1s 13ms/step - loss: 0.0055 - val_loss: 0.0828\n",
            "Epoch 16/50\n",
            "74/74 [==============================] - 1s 14ms/step - loss: 0.0056 - val_loss: 0.0807\n",
            "Epoch 17/50\n",
            "74/74 [==============================] - 1s 13ms/step - loss: 0.0052 - val_loss: 0.0790\n",
            "Epoch 18/50\n",
            "74/74 [==============================] - 1s 12ms/step - loss: 0.0052 - val_loss: 0.0773\n",
            "Epoch 19/50\n",
            "74/74 [==============================] - 1s 9ms/step - loss: 0.0051 - val_loss: 0.0770\n",
            "Epoch 20/50\n",
            "74/74 [==============================] - 1s 9ms/step - loss: 0.0046 - val_loss: 0.0756\n",
            "Epoch 21/50\n",
            "74/74 [==============================] - 1s 9ms/step - loss: 0.0046 - val_loss: 0.0742\n",
            "Epoch 22/50\n",
            "74/74 [==============================] - 1s 8ms/step - loss: 0.0047 - val_loss: 0.0725\n",
            "Epoch 23/50\n",
            "74/74 [==============================] - 1s 9ms/step - loss: 0.0048 - val_loss: 0.0707\n",
            "Epoch 24/50\n",
            "74/74 [==============================] - 1s 9ms/step - loss: 0.0045 - val_loss: 0.0694\n",
            "Epoch 25/50\n",
            "74/74 [==============================] - 1s 9ms/step - loss: 0.0045 - val_loss: 0.0679\n",
            "Epoch 26/50\n",
            "74/74 [==============================] - 1s 9ms/step - loss: 0.0040 - val_loss: 0.0673\n",
            "Epoch 27/50\n",
            "74/74 [==============================] - 1s 9ms/step - loss: 0.0038 - val_loss: 0.0652\n",
            "Epoch 28/50\n",
            "74/74 [==============================] - 1s 9ms/step - loss: 0.0039 - val_loss: 0.0631\n",
            "Epoch 29/50\n",
            "74/74 [==============================] - 1s 9ms/step - loss: 0.0039 - val_loss: 0.0640\n",
            "Epoch 30/50\n",
            "74/74 [==============================] - 1s 9ms/step - loss: 0.0040 - val_loss: 0.0612\n",
            "Epoch 31/50\n",
            "74/74 [==============================] - 1s 9ms/step - loss: 0.0040 - val_loss: 0.0606\n",
            "Epoch 32/50\n",
            "74/74 [==============================] - 1s 9ms/step - loss: 0.0037 - val_loss: 0.0604\n",
            "Epoch 33/50\n",
            "74/74 [==============================] - 1s 9ms/step - loss: 0.0038 - val_loss: 0.0593\n",
            "Epoch 34/50\n",
            "74/74 [==============================] - 1s 9ms/step - loss: 0.0037 - val_loss: 0.0582\n",
            "Epoch 35/50\n",
            "74/74 [==============================] - 1s 9ms/step - loss: 0.0038 - val_loss: 0.0578\n",
            "Epoch 36/50\n",
            "74/74 [==============================] - 1s 9ms/step - loss: 0.0034 - val_loss: 0.0566\n",
            "Epoch 37/50\n",
            "74/74 [==============================] - 1s 9ms/step - loss: 0.0035 - val_loss: 0.0566\n",
            "Epoch 38/50\n",
            "74/74 [==============================] - 1s 9ms/step - loss: 0.0034 - val_loss: 0.0557\n",
            "Epoch 39/50\n",
            "74/74 [==============================] - 1s 9ms/step - loss: 0.0034 - val_loss: 0.0534\n",
            "Epoch 40/50\n",
            "74/74 [==============================] - 1s 9ms/step - loss: 0.0032 - val_loss: 0.0533\n",
            "Epoch 41/50\n",
            "74/74 [==============================] - 1s 9ms/step - loss: 0.0035 - val_loss: 0.0533\n",
            "Epoch 42/50\n",
            "74/74 [==============================] - 1s 9ms/step - loss: 0.0032 - val_loss: 0.0525\n",
            "Epoch 43/50\n",
            "74/74 [==============================] - 1s 9ms/step - loss: 0.0031 - val_loss: 0.0528\n",
            "Epoch 44/50\n",
            "74/74 [==============================] - 1s 9ms/step - loss: 0.0031 - val_loss: 0.0525\n",
            "Epoch 45/50\n",
            "74/74 [==============================] - 1s 9ms/step - loss: 0.0032 - val_loss: 0.0515\n",
            "Epoch 46/50\n",
            "74/74 [==============================] - 1s 9ms/step - loss: 0.0030 - val_loss: 0.0518\n",
            "Epoch 47/50\n",
            "74/74 [==============================] - 1s 9ms/step - loss: 0.0031 - val_loss: 0.0501\n",
            "Epoch 48/50\n",
            "74/74 [==============================] - 1s 9ms/step - loss: 0.0030 - val_loss: 0.0490\n",
            "Epoch 49/50\n",
            "74/74 [==============================] - 1s 9ms/step - loss: 0.0031 - val_loss: 0.0499\n",
            "Epoch 50/50\n",
            "74/74 [==============================] - 1s 9ms/step - loss: 0.0030 - val_loss: 0.0490\n"
          ]
        },
        {
          "output_type": "stream",
          "name": "stderr",
          "text": [
            "WARNING:tensorflow:6 out of the last 6 calls to <function Model.make_predict_function.<locals>.predict_function at 0x7fc9181fb4d0> triggered tf.function retracing. Tracing is expensive and the excessive number of tracings could be due to (1) creating @tf.function repeatedly in a loop, (2) passing tensors with different shapes, (3) passing Python objects instead of tensors. For (1), please define your @tf.function outside of the loop. For (2), @tf.function has experimental_relax_shapes=True option that relaxes argument shapes that can avoid unnecessary retracing. For (3), please refer to https://www.tensorflow.org/guide/function#controlling_retracing and https://www.tensorflow.org/api_docs/python/tf/function for  more details.\n"
          ]
        },
        {
          "output_type": "stream",
          "name": "stdout",
          "text": [
            "Model Number: 363 with model NVAR in generation 3 of 5\n",
            "New Generation: 4 of 5\n",
            "Model Number: 364 with model MultivariateRegression in generation 4 of 5\n"
          ]
        },
        {
          "output_type": "stream",
          "name": "stderr",
          "text": [
            "[Parallel(n_jobs=100)]: Using backend ThreadingBackend with 100 concurrent workers.\n",
            "[Parallel(n_jobs=100)]: Done 200 out of 200 | elapsed:    1.9s finished\n",
            "[Parallel(n_jobs=100)]: Using backend ThreadingBackend with 100 concurrent workers.\n",
            "[Parallel(n_jobs=100)]: Done 200 out of 200 | elapsed:    0.0s finished\n"
          ]
        },
        {
          "output_type": "stream",
          "name": "stdout",
          "text": [
            "Model Number: 365 with model LATC in generation 4 of 5\n",
            "Model Number: 366 with model RRVAR in generation 4 of 5\n",
            "Model Number: 367 with model MAR in generation 4 of 5\n",
            "Model Number: 368 with model SectionalMotif in generation 4 of 5\n",
            "Model Number: 369 with model WindowRegression in generation 4 of 5\n",
            "Model Number: 370 with model WindowRegression in generation 4 of 5\n",
            "Model Number: 371 with model NVAR in generation 4 of 5\n",
            "Model Number: 372 with model WindowRegression in generation 4 of 5\n",
            "Model Number: 373 with model MultivariateRegression in generation 4 of 5\n",
            "Model Number: 374 with model LATC in generation 4 of 5\n",
            "Model Number: 375 with model WindowRegression in generation 4 of 5\n",
            "Model Number: 376 with model MultivariateMotif in generation 4 of 5\n",
            "Model Number: 377 with model RRVAR in generation 4 of 5\n",
            "Model Number: 378 with model MAR in generation 4 of 5\n",
            "Model Number: 379 with model RRVAR in generation 4 of 5\n",
            "Model Number: 380 with model LATC in generation 4 of 5\n",
            "Model Number: 381 with model WindowRegression in generation 4 of 5\n"
          ]
        },
        {
          "output_type": "stream",
          "name": "stderr",
          "text": [
            "/usr/local/lib/python3.7/dist-packages/sklearn/svm/_base.py:1208: ConvergenceWarning: Liblinear failed to converge, increase the number of iterations.\n",
            "  ConvergenceWarning,\n"
          ]
        },
        {
          "output_type": "stream",
          "name": "stdout",
          "text": [
            "Model Number: 382 with model MAR in generation 4 of 5\n",
            "Model Number: 383 with model NVAR in generation 4 of 5\n",
            "Model Number: 384 with model NVAR in generation 4 of 5\n",
            "Model Number: 385 with model MultivariateMotif in generation 4 of 5\n",
            "Model Number: 386 with model MAR in generation 4 of 5\n",
            "Model Number: 387 with model SectionalMotif in generation 4 of 5\n",
            "Model Number: 388 with model MAR in generation 4 of 5\n",
            "Model Number: 389 with model MultivariateRegression in generation 4 of 5\n"
          ]
        },
        {
          "output_type": "stream",
          "name": "stderr",
          "text": [
            "[Parallel(n_jobs=100)]: Using backend ThreadingBackend with 100 concurrent workers.\n",
            "[Parallel(n_jobs=100)]: Done 200 out of 200 | elapsed:    9.2s finished\n",
            "[Parallel(n_jobs=100)]: Using backend ThreadingBackend with 100 concurrent workers.\n"
          ]
        },
        {
          "output_type": "stream",
          "name": "stdout",
          "text": [
            "Model Number: 390 with model RRVAR in generation 4 of 5\n"
          ]
        },
        {
          "output_type": "stream",
          "name": "stderr",
          "text": [
            "[Parallel(n_jobs=100)]: Done 200 out of 200 | elapsed:    0.3s finished\n"
          ]
        },
        {
          "output_type": "stream",
          "name": "stdout",
          "text": [
            "Model Number: 391 with model NVAR in generation 4 of 5\n",
            "Model Number: 392 with model MultivariateRegression in generation 4 of 5\n"
          ]
        },
        {
          "output_type": "stream",
          "name": "stderr",
          "text": [
            "[Parallel(n_jobs=100)]: Using backend ThreadingBackend with 100 concurrent workers.\n",
            "[Parallel(n_jobs=100)]: Done 200 out of 200 | elapsed:    2.9s finished\n",
            "[Parallel(n_jobs=100)]: Using backend ThreadingBackend with 100 concurrent workers.\n"
          ]
        },
        {
          "output_type": "stream",
          "name": "stdout",
          "text": [
            "Model Number: 393 with model RRVAR in generation 4 of 5\n"
          ]
        },
        {
          "output_type": "stream",
          "name": "stderr",
          "text": [
            "[Parallel(n_jobs=100)]: Done 200 out of 200 | elapsed:    0.4s finished\n"
          ]
        },
        {
          "output_type": "stream",
          "name": "stdout",
          "text": [
            "Model Number: 394 with model MultivariateRegression in generation 4 of 5\n",
            "Model Number: 395 with model WindowRegression in generation 4 of 5\n",
            "Model Number: 396 with model LATC in generation 4 of 5\n",
            "Model Number: 397 with model MultivariateRegression in generation 4 of 5\n"
          ]
        },
        {
          "output_type": "stream",
          "name": "stderr",
          "text": [
            "[Parallel(n_jobs=100)]: Using backend ThreadingBackend with 100 concurrent workers.\n",
            "[Parallel(n_jobs=100)]: Done 200 out of 200 | elapsed:   12.6s finished\n",
            "[Parallel(n_jobs=100)]: Using backend ThreadingBackend with 100 concurrent workers.\n",
            "[Parallel(n_jobs=100)]: Done 200 out of 200 | elapsed:    0.1s finished\n"
          ]
        },
        {
          "output_type": "stream",
          "name": "stdout",
          "text": [
            "Model Number: 398 with model RRVAR in generation 4 of 5\n",
            "Model Number: 399 with model MAR in generation 4 of 5\n",
            "Model Number: 400 with model RollingRegression in generation 4 of 5\n",
            "Epoch 1/50\n",
            "74/74 [==============================] - 2s 10ms/step - loss: 0.0023 - val_loss: 0.0523\n",
            "Epoch 2/50\n",
            "74/74 [==============================] - 1s 7ms/step - loss: 7.5902e-04 - val_loss: 0.0327\n",
            "Epoch 3/50\n",
            "74/74 [==============================] - 1s 7ms/step - loss: 4.1768e-04 - val_loss: 0.0230\n",
            "Epoch 4/50\n",
            "74/74 [==============================] - 1s 7ms/step - loss: 2.8120e-04 - val_loss: 0.0188\n",
            "Epoch 5/50\n",
            "74/74 [==============================] - 1s 7ms/step - loss: 1.9163e-04 - val_loss: 0.0159\n",
            "Epoch 6/50\n",
            "74/74 [==============================] - 1s 7ms/step - loss: 1.5535e-04 - val_loss: 0.0136\n",
            "Epoch 7/50\n",
            "74/74 [==============================] - 1s 7ms/step - loss: 1.5001e-04 - val_loss: 0.0119\n",
            "Epoch 8/50\n",
            "74/74 [==============================] - 1s 7ms/step - loss: 1.2604e-04 - val_loss: 0.0109\n",
            "Epoch 9/50\n",
            "74/74 [==============================] - 1s 7ms/step - loss: 1.1070e-04 - val_loss: 0.0100\n",
            "Epoch 10/50\n",
            "74/74 [==============================] - 1s 7ms/step - loss: 1.0592e-04 - val_loss: 0.0094\n",
            "Epoch 11/50\n",
            "74/74 [==============================] - 1s 7ms/step - loss: 1.1572e-04 - val_loss: 0.0088\n",
            "Epoch 12/50\n",
            "74/74 [==============================] - 1s 7ms/step - loss: 9.8265e-05 - val_loss: 0.0085\n",
            "Epoch 13/50\n",
            "74/74 [==============================] - 1s 7ms/step - loss: 9.5342e-05 - val_loss: 0.0084\n",
            "Epoch 14/50\n",
            "74/74 [==============================] - 1s 7ms/step - loss: 9.8128e-05 - val_loss: 0.0081\n",
            "Epoch 15/50\n",
            "74/74 [==============================] - 1s 8ms/step - loss: 1.0863e-04 - val_loss: 0.0078\n",
            "Epoch 16/50\n",
            "74/74 [==============================] - 1s 7ms/step - loss: 1.1500e-04 - val_loss: 0.0073\n",
            "Epoch 17/50\n",
            "74/74 [==============================] - 1s 7ms/step - loss: 9.8301e-05 - val_loss: 0.0074\n",
            "Epoch 18/50\n",
            "74/74 [==============================] - 1s 7ms/step - loss: 9.9037e-05 - val_loss: 0.0073\n",
            "Epoch 19/50\n",
            "74/74 [==============================] - 1s 8ms/step - loss: 9.7610e-05 - val_loss: 0.0074\n",
            "Epoch 20/50\n",
            "74/74 [==============================] - 1s 7ms/step - loss: 8.1819e-05 - val_loss: 0.0073\n",
            "Epoch 21/50\n",
            "74/74 [==============================] - 1s 7ms/step - loss: 7.4186e-05 - val_loss: 0.0075\n",
            "Epoch 22/50\n",
            "74/74 [==============================] - 1s 7ms/step - loss: 8.7114e-05 - val_loss: 0.0071\n",
            "Epoch 23/50\n",
            "74/74 [==============================] - 1s 7ms/step - loss: 1.0040e-04 - val_loss: 0.0070\n",
            "Epoch 24/50\n",
            "74/74 [==============================] - 1s 7ms/step - loss: 8.5425e-05 - val_loss: 0.0068\n",
            "Epoch 25/50\n",
            "74/74 [==============================] - 1s 7ms/step - loss: 1.0082e-04 - val_loss: 0.0066\n",
            "Epoch 26/50\n",
            "74/74 [==============================] - 1s 7ms/step - loss: 7.4971e-05 - val_loss: 0.0067\n",
            "Epoch 27/50\n",
            "74/74 [==============================] - 1s 7ms/step - loss: 7.1899e-05 - val_loss: 0.0066\n",
            "Epoch 28/50\n",
            "74/74 [==============================] - 0s 7ms/step - loss: 8.9016e-05 - val_loss: 0.0064\n",
            "Epoch 29/50\n",
            "74/74 [==============================] - 1s 7ms/step - loss: 8.4626e-05 - val_loss: 0.0067\n",
            "Epoch 30/50\n",
            "74/74 [==============================] - 1s 7ms/step - loss: 9.3274e-05 - val_loss: 0.0064\n",
            "Epoch 31/50\n",
            "74/74 [==============================] - 1s 8ms/step - loss: 7.6622e-05 - val_loss: 0.0062\n",
            "Epoch 32/50\n",
            "74/74 [==============================] - 1s 7ms/step - loss: 8.4680e-05 - val_loss: 0.0067\n",
            "Epoch 33/50\n",
            "74/74 [==============================] - 1s 7ms/step - loss: 7.0842e-05 - val_loss: 0.0064\n",
            "Epoch 34/50\n",
            "74/74 [==============================] - 1s 7ms/step - loss: 7.6561e-05 - val_loss: 0.0063\n",
            "Epoch 35/50\n",
            "74/74 [==============================] - 1s 7ms/step - loss: 8.9648e-05 - val_loss: 0.0063\n",
            "Epoch 36/50\n",
            "74/74 [==============================] - 1s 7ms/step - loss: 7.0853e-05 - val_loss: 0.0061\n",
            "Epoch 37/50\n",
            "74/74 [==============================] - 1s 7ms/step - loss: 6.9593e-05 - val_loss: 0.0064\n",
            "Epoch 38/50\n",
            "74/74 [==============================] - 1s 7ms/step - loss: 7.2666e-05 - val_loss: 0.0061\n",
            "Epoch 39/50\n",
            "74/74 [==============================] - 0s 7ms/step - loss: 9.4832e-05 - val_loss: 0.0057\n",
            "Epoch 40/50\n",
            "74/74 [==============================] - 1s 7ms/step - loss: 7.0600e-05 - val_loss: 0.0057\n",
            "Epoch 41/50\n",
            "74/74 [==============================] - 1s 7ms/step - loss: 8.4807e-05 - val_loss: 0.0056\n",
            "Epoch 42/50\n",
            "74/74 [==============================] - 1s 7ms/step - loss: 8.4470e-05 - val_loss: 0.0055\n",
            "Epoch 43/50\n",
            "74/74 [==============================] - 1s 7ms/step - loss: 7.2416e-05 - val_loss: 0.0055\n",
            "Epoch 44/50\n",
            "74/74 [==============================] - 1s 8ms/step - loss: 7.7358e-05 - val_loss: 0.0055\n",
            "Epoch 45/50\n",
            "74/74 [==============================] - 1s 7ms/step - loss: 6.7503e-05 - val_loss: 0.0055\n",
            "Epoch 46/50\n",
            "74/74 [==============================] - 1s 7ms/step - loss: 7.8437e-05 - val_loss: 0.0053\n",
            "Epoch 47/50\n",
            "74/74 [==============================] - 0s 7ms/step - loss: 7.5603e-05 - val_loss: 0.0054\n",
            "Epoch 48/50\n",
            "74/74 [==============================] - 1s 7ms/step - loss: 6.8657e-05 - val_loss: 0.0050\n",
            "Epoch 49/50\n",
            "74/74 [==============================] - 1s 7ms/step - loss: 6.9363e-05 - val_loss: 0.0054\n",
            "Epoch 50/50\n",
            "74/74 [==============================] - 1s 7ms/step - loss: 7.5480e-05 - val_loss: 0.0054\n",
            "Model Number: 401 with model RRVAR in generation 4 of 5\n",
            "Model Number: 402 with model NVAR in generation 4 of 5\n",
            "Model Number: 403 with model SectionalMotif in generation 4 of 5\n",
            "Model Number: 404 with model WindowRegression in generation 4 of 5\n",
            "Model Number: 405 with model MultivariateRegression in generation 4 of 5\n"
          ]
        },
        {
          "output_type": "stream",
          "name": "stderr",
          "text": [
            "/usr/local/lib/python3.7/dist-packages/sklearn/linear_model/_coordinate_descent.py:648: ConvergenceWarning: Objective did not converge. You might want to increase the number of iterations, check the scale of the features or consider increasing regularisation. Duality gap: 1.007e+09, tolerance: 7.861e+07\n",
            "  coef_, l1_reg, l2_reg, X, y, max_iter, tol, rng, random, positive\n",
            "[Parallel(n_jobs=100)]: Using backend ThreadingBackend with 100 concurrent workers.\n",
            "[Parallel(n_jobs=100)]: Done 200 out of 200 | elapsed:    6.6s finished\n",
            "[Parallel(n_jobs=100)]: Using backend ThreadingBackend with 100 concurrent workers.\n",
            "[Parallel(n_jobs=100)]: Done 200 out of 200 | elapsed:    0.0s finished\n"
          ]
        },
        {
          "output_type": "stream",
          "name": "stdout",
          "text": [
            "Model Number: 406 with model RollingRegression in generation 4 of 5\n",
            "Model Number: 407 with model MultivariateRegression in generation 4 of 5\n",
            "Model Number: 408 with model MAR in generation 4 of 5\n"
          ]
        },
        {
          "output_type": "stream",
          "name": "stderr",
          "text": [
            "/usr/local/lib/python3.7/dist-packages/sklearn/base.py:451: UserWarning: X does not have valid feature names, but ElasticNet was fitted with feature names\n",
            "  \"X does not have valid feature names, but\"\n"
          ]
        },
        {
          "output_type": "stream",
          "name": "stdout",
          "text": [
            "Model Number: 409 with model MAR in generation 4 of 5\n",
            "Model Number: 410 with model MAR in generation 4 of 5\n",
            "Model Number: 411 with model SectionalMotif in generation 4 of 5\n",
            "Model Number: 412 with model WindowRegression in generation 4 of 5\n",
            "Model Number: 413 with model RRVAR in generation 4 of 5\n",
            "Model Number: 414 with model LATC in generation 4 of 5\n",
            "Model Number: 415 with model RRVAR in generation 4 of 5\n",
            "Model Number: 416 with model WindowRegression in generation 4 of 5\n",
            "Model Number: 417 with model LATC in generation 4 of 5\n",
            "Model Number: 418 with model SectionalMotif in generation 4 of 5\n",
            "Model Number: 419 with model RollingRegression in generation 4 of 5\n",
            "Model Number: 420 with model SectionalMotif in generation 4 of 5\n",
            "Template Eval Error: ValueError(\"regression_type=='User' but no future_regressor supplied\") in model 420: SectionalMotif\n",
            "Model Number: 421 with model MultivariateMotif in generation 4 of 5\n",
            "Model Number: 422 with model MultivariateMotif in generation 4 of 5\n",
            "Model Number: 423 with model RRVAR in generation 4 of 5\n"
          ]
        },
        {
          "output_type": "stream",
          "name": "stderr",
          "text": [
            "/usr/local/lib/python3.7/dist-packages/sklearn/base.py:451: UserWarning: X does not have valid feature names, but DecisionTreeRegressor was fitted with feature names\n",
            "  \"X does not have valid feature names, but\"\n"
          ]
        },
        {
          "output_type": "stream",
          "name": "stdout",
          "text": [
            "Model Number: 424 with model NVAR in generation 4 of 5\n",
            "Model Number: 425 with model RRVAR in generation 4 of 5\n",
            "Model Number: 426 with model SectionalMotif in generation 4 of 5\n",
            "Model Number: 427 with model MultivariateMotif in generation 4 of 5\n",
            "Model Number: 428 with model NVAR in generation 4 of 5\n",
            "Model Number: 429 with model LATC in generation 4 of 5\n",
            "Model Number: 430 with model RRVAR in generation 4 of 5\n",
            "Model Number: 431 with model MAR in generation 4 of 5\n",
            "Model Number: 432 with model MultivariateRegression in generation 4 of 5\n"
          ]
        },
        {
          "output_type": "stream",
          "name": "stderr",
          "text": [
            "[Parallel(n_jobs=100)]: Using backend ThreadingBackend with 100 concurrent workers.\n",
            "[Parallel(n_jobs=100)]: Done 200 out of 200 | elapsed:    2.1s finished\n",
            "[Parallel(n_jobs=100)]: Using backend ThreadingBackend with 100 concurrent workers.\n",
            "[Parallel(n_jobs=100)]: Done 200 out of 200 | elapsed:    0.0s finished\n"
          ]
        },
        {
          "output_type": "stream",
          "name": "stdout",
          "text": [
            "Model Number: 433 with model NVAR in generation 4 of 5\n",
            "Model Number: 434 with model SectionalMotif in generation 4 of 5\n",
            "Model Number: 435 with model MAR in generation 4 of 5\n",
            "Model Number: 436 with model RRVAR in generation 4 of 5\n",
            "Model Number: 437 with model MultivariateMotif in generation 4 of 5\n",
            "Model Number: 438 with model NVAR in generation 4 of 5\n",
            "Model Number: 439 with model LATC in generation 4 of 5\n",
            "Model Number: 440 with model LATC in generation 4 of 5\n",
            "Model Number: 441 with model WindowRegression in generation 4 of 5\n",
            "Model Number: 442 with model MultivariateRegression in generation 4 of 5\n"
          ]
        },
        {
          "output_type": "stream",
          "name": "stderr",
          "text": [
            "[Parallel(n_jobs=100)]: Using backend ThreadingBackend with 100 concurrent workers.\n",
            "[Parallel(n_jobs=100)]: Done 200 out of 200 | elapsed:    1.7s finished\n",
            "[Parallel(n_jobs=100)]: Using backend ThreadingBackend with 100 concurrent workers.\n",
            "[Parallel(n_jobs=100)]: Done 200 out of 200 | elapsed:    0.0s finished\n"
          ]
        },
        {
          "output_type": "stream",
          "name": "stdout",
          "text": [
            "Model Number: 443 with model WindowRegression in generation 4 of 5\n",
            "Model Number: 444 with model RRVAR in generation 4 of 5\n",
            "Model Number: 445 with model RollingRegression in generation 4 of 5\n",
            "Template Eval Error: ValueError('future_regressor not supplied, necessary for regression_type') in model 445: RollingRegression\n",
            "Model Number: 446 with model MultivariateRegression in generation 4 of 5\n",
            "Model Number: 447 with model RollingRegression in generation 4 of 5\n",
            "Model Number: 448 with model MultivariateMotif in generation 4 of 5\n",
            "New Generation: 5 of 5\n"
          ]
        },
        {
          "output_type": "stream",
          "name": "stderr",
          "text": [
            "/usr/local/lib/python3.7/dist-packages/sklearn/base.py:451: UserWarning: X does not have valid feature names, but DecisionTreeRegressor was fitted with feature names\n",
            "  \"X does not have valid feature names, but\"\n"
          ]
        },
        {
          "output_type": "stream",
          "name": "stdout",
          "text": [
            "Model Number: 449 with model LATC in generation 5 of 5\n",
            "Model Number: 450 with model LATC in generation 5 of 5\n",
            "Model Number: 451 with model RollingRegression in generation 5 of 5\n",
            "Epoch 1/50\n",
            "74/74 [==============================] - 2s 10ms/step - loss: 3915.9246 - val_loss: 18189.0508\n",
            "Epoch 2/50\n",
            "74/74 [==============================] - 1s 7ms/step - loss: 3275.8684 - val_loss: 14767.2617\n",
            "Epoch 3/50\n",
            "74/74 [==============================] - 1s 8ms/step - loss: 2688.4197 - val_loss: 11295.4209\n",
            "Epoch 4/50\n",
            "74/74 [==============================] - 1s 7ms/step - loss: 2147.5107 - val_loss: 8779.0107\n",
            "Epoch 5/50\n",
            "74/74 [==============================] - 1s 7ms/step - loss: 1655.4077 - val_loss: 7559.4727\n",
            "Epoch 6/50\n",
            "74/74 [==============================] - 1s 7ms/step - loss: 1203.4110 - val_loss: 6959.5288\n",
            "Epoch 7/50\n",
            "74/74 [==============================] - 1s 7ms/step - loss: 755.3448 - val_loss: 6622.6113\n",
            "Epoch 8/50\n",
            "74/74 [==============================] - 1s 7ms/step - loss: 554.9909 - val_loss: 6542.4956\n",
            "Epoch 9/50\n",
            "74/74 [==============================] - 1s 7ms/step - loss: 539.5805 - val_loss: 6176.3867\n",
            "Epoch 10/50\n",
            "74/74 [==============================] - 1s 8ms/step - loss: 527.1385 - val_loss: 5895.1396\n",
            "Epoch 11/50\n",
            "74/74 [==============================] - 1s 8ms/step - loss: 518.7488 - val_loss: 5451.9751\n",
            "Epoch 12/50\n",
            "74/74 [==============================] - 1s 7ms/step - loss: 517.6705 - val_loss: 5155.5991\n",
            "Epoch 13/50\n",
            "74/74 [==============================] - 1s 7ms/step - loss: 514.1328 - val_loss: 4719.9497\n",
            "Epoch 14/50\n",
            "74/74 [==============================] - 1s 7ms/step - loss: 493.2932 - val_loss: 4298.0601\n",
            "Epoch 15/50\n",
            "74/74 [==============================] - 1s 7ms/step - loss: 490.5389 - val_loss: 4044.0540\n",
            "Epoch 16/50\n",
            "74/74 [==============================] - 1s 7ms/step - loss: 498.8487 - val_loss: 3596.6394\n",
            "Epoch 17/50\n",
            "74/74 [==============================] - 1s 7ms/step - loss: 490.6338 - val_loss: 3421.6191\n",
            "Epoch 18/50\n",
            "74/74 [==============================] - 0s 7ms/step - loss: 474.0652 - val_loss: 3336.0781\n",
            "Epoch 19/50\n",
            "74/74 [==============================] - 1s 7ms/step - loss: 462.1300 - val_loss: 3129.7048\n",
            "Epoch 20/50\n",
            "74/74 [==============================] - 1s 7ms/step - loss: 471.8418 - val_loss: 3002.3821\n",
            "Epoch 21/50\n",
            "74/74 [==============================] - 1s 7ms/step - loss: 455.1134 - val_loss: 2871.9519\n",
            "Epoch 22/50\n",
            "74/74 [==============================] - 1s 8ms/step - loss: 453.1707 - val_loss: 2674.8040\n",
            "Epoch 23/50\n",
            "74/74 [==============================] - 1s 8ms/step - loss: 475.1799 - val_loss: 2531.4092\n",
            "Epoch 24/50\n",
            "74/74 [==============================] - 1s 7ms/step - loss: 460.4603 - val_loss: 2279.6089\n",
            "Epoch 25/50\n",
            "74/74 [==============================] - 1s 7ms/step - loss: 471.2718 - val_loss: 2152.1321\n",
            "Epoch 26/50\n",
            "74/74 [==============================] - 1s 7ms/step - loss: 444.8206 - val_loss: 2128.7429\n",
            "Epoch 27/50\n",
            "74/74 [==============================] - 1s 7ms/step - loss: 435.4142 - val_loss: 1966.8378\n",
            "Epoch 28/50\n",
            "74/74 [==============================] - 1s 7ms/step - loss: 453.0090 - val_loss: 1910.6163\n",
            "Epoch 29/50\n",
            "74/74 [==============================] - 1s 7ms/step - loss: 450.4010 - val_loss: 1947.4031\n",
            "Epoch 30/50\n",
            "74/74 [==============================] - 1s 7ms/step - loss: 446.8338 - val_loss: 1798.6069\n",
            "Epoch 31/50\n",
            "74/74 [==============================] - 1s 7ms/step - loss: 446.4684 - val_loss: 1745.2015\n",
            "Epoch 32/50\n",
            "74/74 [==============================] - 1s 7ms/step - loss: 451.0609 - val_loss: 1755.3334\n",
            "Epoch 33/50\n",
            "74/74 [==============================] - 1s 7ms/step - loss: 434.5505 - val_loss: 1711.5021\n",
            "Epoch 34/50\n",
            "74/74 [==============================] - 1s 7ms/step - loss: 433.3305 - val_loss: 1580.4792\n",
            "Epoch 35/50\n",
            "74/74 [==============================] - 1s 7ms/step - loss: 437.6815 - val_loss: 1595.8175\n",
            "Epoch 36/50\n",
            "74/74 [==============================] - 1s 8ms/step - loss: 431.5709 - val_loss: 1508.5439\n",
            "Epoch 37/50\n",
            "74/74 [==============================] - 1s 8ms/step - loss: 424.1477 - val_loss: 1488.2678\n",
            "Epoch 38/50\n",
            "74/74 [==============================] - 1s 7ms/step - loss: 428.7903 - val_loss: 1402.2928\n",
            "Epoch 39/50\n",
            "74/74 [==============================] - 1s 7ms/step - loss: 436.4554 - val_loss: 1457.5267\n",
            "Epoch 40/50\n",
            "74/74 [==============================] - 0s 7ms/step - loss: 418.5176 - val_loss: 1491.3345\n",
            "Epoch 41/50\n",
            "74/74 [==============================] - 1s 7ms/step - loss: 428.4794 - val_loss: 1450.8302\n",
            "Epoch 42/50\n",
            "74/74 [==============================] - 1s 7ms/step - loss: 428.1328 - val_loss: 1404.9535\n",
            "Epoch 43/50\n",
            "74/74 [==============================] - 1s 7ms/step - loss: 419.6670 - val_loss: 1379.4384\n",
            "Epoch 44/50\n",
            "74/74 [==============================] - 0s 7ms/step - loss: 426.4610 - val_loss: 1385.1038\n",
            "Epoch 45/50\n",
            "74/74 [==============================] - 1s 7ms/step - loss: 413.2916 - val_loss: 1409.7825\n",
            "Epoch 46/50\n",
            "74/74 [==============================] - 1s 7ms/step - loss: 420.6555 - val_loss: 1469.6707\n",
            "Epoch 47/50\n",
            "74/74 [==============================] - 1s 7ms/step - loss: 418.1761 - val_loss: 1425.6780\n",
            "Epoch 48/50\n",
            "74/74 [==============================] - 1s 12ms/step - loss: 402.0058 - val_loss: 1475.6617\n",
            "Epoch 49/50\n",
            "74/74 [==============================] - 1s 11ms/step - loss: 409.3447 - val_loss: 1305.0520\n",
            "Epoch 50/50\n",
            "74/74 [==============================] - 1s 11ms/step - loss: 423.1676 - val_loss: 1273.4189\n",
            "Model Number: 452 with model MultivariateMotif in generation 5 of 5\n",
            "Model Number: 453 with model RollingRegression in generation 5 of 5\n",
            "Epoch 1/50\n",
            "74/74 [==============================] - 2s 11ms/step - loss: 5339.7534 - val_loss: 34127.2539\n",
            "Epoch 2/50\n",
            "74/74 [==============================] - 1s 8ms/step - loss: 4122.9028 - val_loss: 24852.1035\n",
            "Epoch 3/50\n",
            "74/74 [==============================] - 1s 8ms/step - loss: 2920.1121 - val_loss: 15456.2480\n",
            "Epoch 4/50\n",
            "74/74 [==============================] - 1s 8ms/step - loss: 1811.7964 - val_loss: 8631.9727\n",
            "Epoch 5/50\n",
            "74/74 [==============================] - 1s 8ms/step - loss: 940.2145 - val_loss: 6111.5376\n",
            "Epoch 6/50\n",
            "74/74 [==============================] - 1s 8ms/step - loss: 643.9395 - val_loss: 4573.1538\n",
            "Epoch 7/50\n",
            "74/74 [==============================] - 1s 8ms/step - loss: 588.7673 - val_loss: 3342.0173\n",
            "Epoch 8/50\n",
            "74/74 [==============================] - 1s 9ms/step - loss: 509.3765 - val_loss: 2418.2290\n",
            "Epoch 9/50\n",
            "74/74 [==============================] - 1s 8ms/step - loss: 465.2618 - val_loss: 1753.8218\n",
            "Epoch 10/50\n",
            "74/74 [==============================] - 1s 8ms/step - loss: 413.3044 - val_loss: 1336.4873\n",
            "Epoch 11/50\n",
            "74/74 [==============================] - 1s 8ms/step - loss: 405.7338 - val_loss: 1224.3710\n",
            "Epoch 12/50\n",
            "74/74 [==============================] - 1s 8ms/step - loss: 404.1381 - val_loss: 1171.8003\n",
            "Epoch 13/50\n",
            "74/74 [==============================] - 1s 8ms/step - loss: 415.8802 - val_loss: 1128.6602\n",
            "Epoch 14/50\n",
            "74/74 [==============================] - 1s 8ms/step - loss: 389.7469 - val_loss: 1106.6848\n",
            "Epoch 15/50\n",
            "74/74 [==============================] - 1s 8ms/step - loss: 413.3647 - val_loss: 1077.1031\n",
            "Epoch 16/50\n",
            "74/74 [==============================] - 1s 8ms/step - loss: 391.9333 - val_loss: 1177.0980\n",
            "Epoch 17/50\n",
            "74/74 [==============================] - 1s 8ms/step - loss: 402.4392 - val_loss: 1122.4052\n",
            "Epoch 18/50\n",
            "74/74 [==============================] - 1s 8ms/step - loss: 399.9198 - val_loss: 1059.9351\n",
            "Epoch 19/50\n",
            "74/74 [==============================] - 1s 9ms/step - loss: 390.1529 - val_loss: 1030.3412\n",
            "Epoch 20/50\n",
            "74/74 [==============================] - 1s 9ms/step - loss: 384.4965 - val_loss: 1003.3044\n",
            "Epoch 21/50\n",
            "74/74 [==============================] - 1s 9ms/step - loss: 369.9827 - val_loss: 1093.3071\n",
            "Epoch 22/50\n",
            "74/74 [==============================] - 1s 8ms/step - loss: 404.6602 - val_loss: 817.9960\n",
            "Epoch 23/50\n",
            "74/74 [==============================] - 1s 9ms/step - loss: 370.6815 - val_loss: 851.0524\n",
            "Epoch 24/50\n",
            "74/74 [==============================] - 1s 8ms/step - loss: 380.7664 - val_loss: 1165.7893\n",
            "Epoch 25/50\n",
            "74/74 [==============================] - 1s 9ms/step - loss: 359.2939 - val_loss: 1075.7189\n",
            "Epoch 26/50\n",
            "74/74 [==============================] - 1s 9ms/step - loss: 370.3914 - val_loss: 776.2184\n",
            "Epoch 27/50\n",
            "74/74 [==============================] - 1s 9ms/step - loss: 374.1955 - val_loss: 937.6711\n",
            "Epoch 28/50\n",
            "74/74 [==============================] - 1s 9ms/step - loss: 379.2812 - val_loss: 745.4173\n",
            "Epoch 29/50\n",
            "74/74 [==============================] - 1s 9ms/step - loss: 362.3803 - val_loss: 1100.2927\n",
            "Epoch 30/50\n",
            "74/74 [==============================] - 1s 8ms/step - loss: 360.9263 - val_loss: 875.7178\n",
            "Epoch 31/50\n",
            "74/74 [==============================] - 1s 9ms/step - loss: 358.5123 - val_loss: 931.0045\n",
            "Epoch 32/50\n",
            "74/74 [==============================] - 1s 8ms/step - loss: 357.4767 - val_loss: 793.9651\n",
            "Epoch 33/50\n",
            "74/74 [==============================] - 1s 9ms/step - loss: 349.3426 - val_loss: 841.5765\n",
            "Epoch 34/50\n",
            "74/74 [==============================] - 1s 9ms/step - loss: 358.2785 - val_loss: 744.4698\n",
            "Epoch 35/50\n",
            "74/74 [==============================] - 1s 8ms/step - loss: 363.9343 - val_loss: 820.0863\n",
            "Epoch 36/50\n",
            "74/74 [==============================] - 1s 8ms/step - loss: 346.7066 - val_loss: 1011.3866\n",
            "Epoch 37/50\n",
            "74/74 [==============================] - 1s 8ms/step - loss: 347.6817 - val_loss: 830.7756\n",
            "Epoch 38/50\n",
            "74/74 [==============================] - 1s 8ms/step - loss: 340.4334 - val_loss: 884.6343\n",
            "Epoch 39/50\n",
            "74/74 [==============================] - 1s 9ms/step - loss: 362.0566 - val_loss: 1113.5793\n",
            "Epoch 40/50\n",
            "74/74 [==============================] - 1s 8ms/step - loss: 336.6992 - val_loss: 843.4080\n",
            "Epoch 41/50\n",
            "74/74 [==============================] - 1s 8ms/step - loss: 347.6454 - val_loss: 910.8398\n",
            "Epoch 42/50\n",
            "74/74 [==============================] - 1s 8ms/step - loss: 340.1066 - val_loss: 640.8469\n",
            "Epoch 43/50\n",
            "74/74 [==============================] - 1s 9ms/step - loss: 331.2239 - val_loss: 664.2658\n",
            "Epoch 44/50\n",
            "74/74 [==============================] - 1s 9ms/step - loss: 327.0105 - val_loss: 731.7839\n",
            "Epoch 45/50\n",
            "74/74 [==============================] - 1s 8ms/step - loss: 338.1004 - val_loss: 841.7566\n",
            "Epoch 46/50\n",
            "74/74 [==============================] - 1s 9ms/step - loss: 337.2670 - val_loss: 941.9646\n",
            "Epoch 47/50\n",
            "74/74 [==============================] - 1s 9ms/step - loss: 346.5586 - val_loss: 762.4825\n",
            "Epoch 48/50\n",
            "74/74 [==============================] - 1s 8ms/step - loss: 327.9278 - val_loss: 884.0436\n",
            "Epoch 49/50\n",
            "74/74 [==============================] - 1s 9ms/step - loss: 334.0978 - val_loss: 889.9478\n",
            "Epoch 50/50\n",
            "74/74 [==============================] - 1s 8ms/step - loss: 316.9239 - val_loss: 909.4467\n",
            "Model Number: 454 with model MultivariateRegression in generation 5 of 5\n"
          ]
        },
        {
          "output_type": "stream",
          "name": "stderr",
          "text": [
            "[Parallel(n_jobs=100)]: Using backend ThreadingBackend with 100 concurrent workers.\n",
            "[Parallel(n_jobs=100)]: Done 200 out of 200 | elapsed:    6.4s finished\n",
            "[Parallel(n_jobs=100)]: Using backend ThreadingBackend with 100 concurrent workers.\n",
            "[Parallel(n_jobs=100)]: Done 200 out of 200 | elapsed:    0.0s finished\n"
          ]
        },
        {
          "output_type": "stream",
          "name": "stdout",
          "text": [
            "Model Number: 455 with model RRVAR in generation 5 of 5\n",
            "Model Number: 456 with model MultivariateRegression in generation 5 of 5\n",
            "Template Eval Error: Exception('Transformer Detrend failed on fit') in model 456: MultivariateRegression\n",
            "Model Number: 457 with model LATC in generation 5 of 5\n",
            "Model Number: 458 with model MAR in generation 5 of 5\n",
            "Model Number: 459 with model MAR in generation 5 of 5\n",
            "Model Number: 460 with model LATC in generation 5 of 5\n",
            "Model Number: 461 with model LATC in generation 5 of 5\n",
            "Model Number: 462 with model MultivariateMotif in generation 5 of 5\n",
            "Model Number: 463 with model MAR in generation 5 of 5\n",
            "Model Number: 464 with model MAR in generation 5 of 5\n",
            "Model Number: 465 with model NVAR in generation 5 of 5\n",
            "Model Number: 466 with model SectionalMotif in generation 5 of 5\n",
            "Model Number: 467 with model SectionalMotif in generation 5 of 5\n",
            "Model Number: 468 with model MultivariateMotif in generation 5 of 5\n",
            "Model Number: 469 with model LATC in generation 5 of 5\n",
            "Model Number: 470 with model WindowRegression in generation 5 of 5\n",
            "Model Number: 471 with model MultivariateMotif in generation 5 of 5\n",
            "Model Number: 472 with model SectionalMotif in generation 5 of 5\n",
            "Model Number: 473 with model LATC in generation 5 of 5\n",
            "Model Number: 474 with model MAR in generation 5 of 5\n",
            "Model Number: 475 with model NVAR in generation 5 of 5\n",
            "Model Number: 476 with model RRVAR in generation 5 of 5\n",
            "Model Number: 477 with model RRVAR in generation 5 of 5\n",
            "Model Number: 478 with model MAR in generation 5 of 5\n",
            "Model Number: 479 with model WindowRegression in generation 5 of 5\n",
            "Model Number: 480 with model RollingRegression in generation 5 of 5\n"
          ]
        },
        {
          "output_type": "stream",
          "name": "stderr",
          "text": [
            "/usr/local/lib/python3.7/dist-packages/sklearn/utils/validation.py:993: DataConversionWarning: A column-vector y was passed when a 1d array was expected. Please change the shape of y to (n_samples, ), for example using ravel().\n",
            "  y = column_or_1d(y, warn=True)\n",
            "/usr/local/lib/python3.7/dist-packages/sklearn/base.py:451: UserWarning: X does not have valid feature names, but AdaBoostRegressor was fitted with feature names\n",
            "  \"X does not have valid feature names, but\"\n"
          ]
        },
        {
          "output_type": "stream",
          "name": "stdout",
          "text": [
            "Model Number: 481 with model LATC in generation 5 of 5\n",
            "Model Number: 482 with model MultivariateRegression in generation 5 of 5\n",
            "Template Eval Error: ValueError(\"regression_type='User' but not future_regressor supplied.\") in model 482: MultivariateRegression\n",
            "Model Number: 483 with model WindowRegression in generation 5 of 5\n",
            "Template Eval Error: ValueError(\"regression_type='User' but no future_regressor passed\") in model 483: WindowRegression\n",
            "Model Number: 484 with model MAR in generation 5 of 5\n",
            "Model Number: 485 with model WindowRegression in generation 5 of 5\n",
            "Template Eval Error: ValueError(\"regression_type='User' but no future_regressor passed\") in model 485: WindowRegression\n",
            "Model Number: 486 with model MAR in generation 5 of 5\n",
            "Model Number: 487 with model SectionalMotif in generation 5 of 5\n",
            "Model Number: 488 with model RRVAR in generation 5 of 5\n",
            "Model Number: 489 with model MultivariateRegression in generation 5 of 5\n"
          ]
        },
        {
          "output_type": "stream",
          "name": "stderr",
          "text": [
            "[Parallel(n_jobs=100)]: Using backend ThreadingBackend with 100 concurrent workers.\n",
            "[Parallel(n_jobs=100)]: Done 200 out of 200 | elapsed:   24.9s finished\n",
            "[Parallel(n_jobs=100)]: Using backend ThreadingBackend with 100 concurrent workers.\n",
            "[Parallel(n_jobs=100)]: Done 200 out of 200 | elapsed:    0.0s finished\n"
          ]
        },
        {
          "output_type": "stream",
          "name": "stdout",
          "text": [
            "Model Number: 490 with model RollingRegression in generation 5 of 5\n",
            "Model Number: 491 with model NVAR in generation 5 of 5\n",
            "Model Number: 492 with model MultivariateRegression in generation 5 of 5\n"
          ]
        },
        {
          "output_type": "stream",
          "name": "stderr",
          "text": [
            "/usr/local/lib/python3.7/dist-packages/sklearn/base.py:451: UserWarning: X does not have valid feature names, but ElasticNet was fitted with feature names\n",
            "  \"X does not have valid feature names, but\"\n"
          ]
        },
        {
          "output_type": "stream",
          "name": "stdout",
          "text": [
            "Model Number: 493 with model RRVAR in generation 5 of 5\n",
            "Model Number: 494 with model MultivariateRegression in generation 5 of 5\n"
          ]
        },
        {
          "output_type": "stream",
          "name": "stderr",
          "text": [
            "[Parallel(n_jobs=100)]: Using backend ThreadingBackend with 100 concurrent workers.\n",
            "[Parallel(n_jobs=100)]: Done 200 out of 200 | elapsed:    6.6s finished\n",
            "[Parallel(n_jobs=100)]: Using backend ThreadingBackend with 100 concurrent workers.\n",
            "[Parallel(n_jobs=100)]: Done 200 out of 200 | elapsed:    0.0s finished\n"
          ]
        },
        {
          "output_type": "stream",
          "name": "stdout",
          "text": [
            "Model Number: 495 with model RRVAR in generation 5 of 5\n",
            "Model Number: 496 with model NVAR in generation 5 of 5\n",
            "Model Number: 497 with model MAR in generation 5 of 5\n",
            "Model Number: 498 with model WindowRegression in generation 5 of 5\n",
            "Model Number: 499 with model MAR in generation 5 of 5\n",
            "Model Number: 500 with model WindowRegression in generation 5 of 5\n",
            "Model Number: 501 with model MultivariateRegression in generation 5 of 5\n"
          ]
        },
        {
          "output_type": "stream",
          "name": "stderr",
          "text": [
            "[Parallel(n_jobs=100)]: Using backend ThreadingBackend with 100 concurrent workers.\n",
            "[Parallel(n_jobs=100)]: Done 200 out of 200 | elapsed:    4.4s finished\n",
            "[Parallel(n_jobs=100)]: Using backend ThreadingBackend with 100 concurrent workers.\n",
            "[Parallel(n_jobs=100)]: Done 200 out of 200 | elapsed:    0.0s finished\n"
          ]
        },
        {
          "output_type": "stream",
          "name": "stdout",
          "text": [
            "Model Number: 502 with model SectionalMotif in generation 5 of 5\n",
            "Model Number: 503 with model RollingRegression in generation 5 of 5\n",
            "Epoch 1/50\n",
            "74/74 [==============================] - 2s 10ms/step - loss: 184.0421 - val_loss: 1121.4728\n",
            "Epoch 2/50\n",
            "74/74 [==============================] - 1s 7ms/step - loss: 179.4850 - val_loss: 1113.0494\n",
            "Epoch 3/50\n",
            "74/74 [==============================] - 1s 8ms/step - loss: 176.0172 - val_loss: 1108.4320\n",
            "Epoch 4/50\n",
            "74/74 [==============================] - 1s 7ms/step - loss: 174.1855 - val_loss: 1106.0609\n",
            "Epoch 5/50\n",
            "74/74 [==============================] - 1s 7ms/step - loss: 174.3049 - val_loss: 1104.3395\n",
            "Epoch 6/50\n",
            "74/74 [==============================] - 1s 7ms/step - loss: 174.8614 - val_loss: 1102.7146\n",
            "Epoch 7/50\n",
            "74/74 [==============================] - 1s 8ms/step - loss: 173.4493 - val_loss: 1101.7357\n",
            "Epoch 8/50\n",
            "74/74 [==============================] - 1s 8ms/step - loss: 174.1178 - val_loss: 1101.2458\n",
            "Epoch 9/50\n",
            "74/74 [==============================] - 1s 7ms/step - loss: 173.7771 - val_loss: 1100.6010\n",
            "Epoch 10/50\n",
            "74/74 [==============================] - 1s 8ms/step - loss: 173.6444 - val_loss: 1099.7062\n",
            "Epoch 11/50\n",
            "74/74 [==============================] - 1s 7ms/step - loss: 173.5563 - val_loss: 1099.0552\n",
            "Epoch 12/50\n",
            "74/74 [==============================] - 1s 7ms/step - loss: 173.3808 - val_loss: 1098.3384\n",
            "Epoch 13/50\n",
            "74/74 [==============================] - 1s 7ms/step - loss: 173.0663 - val_loss: 1098.0382\n",
            "Epoch 14/50\n",
            "74/74 [==============================] - 1s 7ms/step - loss: 173.3134 - val_loss: 1098.0746\n",
            "Epoch 15/50\n",
            "74/74 [==============================] - 1s 8ms/step - loss: 173.2812 - val_loss: 1097.9309\n",
            "Epoch 16/50\n",
            "74/74 [==============================] - 1s 8ms/step - loss: 173.6266 - val_loss: 1097.6050\n",
            "Epoch 17/50\n",
            "74/74 [==============================] - 1s 7ms/step - loss: 173.5777 - val_loss: 1097.3475\n",
            "Epoch 18/50\n",
            "74/74 [==============================] - 1s 7ms/step - loss: 173.0056 - val_loss: 1097.4465\n",
            "Epoch 19/50\n",
            "74/74 [==============================] - 1s 7ms/step - loss: 173.3900 - val_loss: 1097.5656\n",
            "Epoch 20/50\n",
            "74/74 [==============================] - 1s 7ms/step - loss: 173.2103 - val_loss: 1097.6952\n",
            "Epoch 21/50\n",
            "74/74 [==============================] - 1s 8ms/step - loss: 173.6848 - val_loss: 1097.8301\n",
            "Epoch 22/50\n",
            "74/74 [==============================] - 1s 8ms/step - loss: 172.7157 - val_loss: 1098.0941\n",
            "Epoch 23/50\n",
            "74/74 [==============================] - 1s 7ms/step - loss: 173.1126 - val_loss: 1098.1409\n",
            "Epoch 24/50\n",
            "74/74 [==============================] - 1s 7ms/step - loss: 173.4864 - val_loss: 1098.3951\n",
            "Epoch 25/50\n",
            "74/74 [==============================] - 1s 8ms/step - loss: 173.0327 - val_loss: 1098.2695\n",
            "Epoch 26/50\n",
            "74/74 [==============================] - 1s 7ms/step - loss: 173.0223 - val_loss: 1098.4513\n",
            "Epoch 27/50\n",
            "74/74 [==============================] - 1s 8ms/step - loss: 172.3385 - val_loss: 1098.9104\n",
            "Model Number: 504 with model RRVAR in generation 5 of 5\n",
            "Model Number: 505 with model MultivariateRegression in generation 5 of 5\n"
          ]
        },
        {
          "output_type": "stream",
          "name": "stderr",
          "text": [
            "[Parallel(n_jobs=100)]: Using backend ThreadingBackend with 100 concurrent workers.\n",
            "[Parallel(n_jobs=100)]: Done 200 out of 200 | elapsed:    2.4s finished\n",
            "[Parallel(n_jobs=100)]: Using backend ThreadingBackend with 100 concurrent workers.\n",
            "[Parallel(n_jobs=100)]: Done 200 out of 200 | elapsed:    0.1s finished\n"
          ]
        },
        {
          "output_type": "stream",
          "name": "stdout",
          "text": [
            "Model Number: 506 with model SectionalMotif in generation 5 of 5\n",
            "Model Number: 507 with model NVAR in generation 5 of 5\n",
            "Model Number: 508 with model WindowRegression in generation 5 of 5\n",
            "Model Number: 509 with model RRVAR in generation 5 of 5\n",
            "Model Number: 510 with model RRVAR in generation 5 of 5\n",
            "Model Number: 511 with model MultivariateMotif in generation 5 of 5\n",
            "Model Number: 512 with model NVAR in generation 5 of 5\n",
            "Model Number: 513 with model WindowRegression in generation 5 of 5\n",
            "Model Number: 514 with model MAR in generation 5 of 5\n",
            "Model Number: 515 with model MultivariateRegression in generation 5 of 5\n"
          ]
        },
        {
          "output_type": "stream",
          "name": "stderr",
          "text": [
            "[Parallel(n_jobs=100)]: Using backend ThreadingBackend with 100 concurrent workers.\n",
            "[Parallel(n_jobs=100)]: Done 200 out of 200 | elapsed:    3.9s finished\n",
            "[Parallel(n_jobs=100)]: Using backend ThreadingBackend with 100 concurrent workers.\n",
            "[Parallel(n_jobs=100)]: Done 200 out of 200 | elapsed:    0.0s finished\n"
          ]
        },
        {
          "output_type": "stream",
          "name": "stdout",
          "text": [
            "Model Number: 516 with model RRVAR in generation 5 of 5\n",
            "Model Number: 517 with model Ensemble in generation 6 of Ensembles\n",
            "Model Number: 518 with model Ensemble in generation 6 of Ensembles\n",
            "Model Number: 519 with model Ensemble in generation 6 of Ensembles\n",
            "Model Number: 520 with model Ensemble in generation 6 of Ensembles\n",
            "Model Number: 521 with model Ensemble in generation 6 of Ensembles\n",
            "Model Number: 522 with model Ensemble in generation 6 of Ensembles\n",
            "Model Number: 523 with model Ensemble in generation 6 of Ensembles\n",
            "Validation Round: 1\n",
            "Model Number: 1 of 80 with model Ensemble for Validation 1\n",
            "📈 1 - Ensemble with avg smape 3.89: \n",
            "Model Number: 2 of 80 with model NVAR for Validation 1\n",
            "2 - NVAR with avg smape 4.0: \n",
            "Model Number: 3 of 80 with model SectionalMotif for Validation 1\n",
            "📈 3 - SectionalMotif with avg smape 3.84: \n",
            "Model Number: 4 of 80 with model SectionalMotif for Validation 1\n",
            "4 - SectionalMotif with avg smape 3.84: \n",
            "Model Number: 5 of 80 with model Ensemble for Validation 1\n",
            "5 - Ensemble with avg smape 3.84: \n",
            "Model Number: 6 of 80 with model Ensemble for Validation 1\n",
            "📈 6 - Ensemble with avg smape 2.72: \n",
            "Model Number: 7 of 80 with model Ensemble for Validation 1\n",
            "📈 7 - Ensemble with avg smape 2.17: \n",
            "Model Number: 8 of 80 with model Ensemble for Validation 1\n",
            "8 - Ensemble with avg smape 3.84: \n",
            "Model Number: 9 of 80 with model Ensemble for Validation 1\n",
            "📈 9 - Ensemble with avg smape 2.09: \n",
            "Model Number: 10 of 80 with model LATC for Validation 1\n",
            "📈 10 - LATC with avg smape 0.37: \n",
            "Model Number: 11 of 80 with model RRVAR for Validation 1\n",
            "11 - RRVAR with avg smape 0.37: \n",
            "Model Number: 12 of 80 with model LATC for Validation 1\n",
            "12 - LATC with avg smape 0.37: \n",
            "Model Number: 13 of 80 with model MAR for Validation 1\n",
            "13 - MAR with avg smape 0.37: \n",
            "Model Number: 14 of 80 with model WindowRegression for Validation 1\n",
            "14 - WindowRegression with avg smape 0.37: \n",
            "Model Number: 15 of 80 with model RRVAR for Validation 1\n",
            "15 - RRVAR with avg smape 0.37: \n",
            "Model Number: 16 of 80 with model NVAR for Validation 1\n",
            "16 - NVAR with avg smape 0.37: \n",
            "Model Number: 17 of 80 with model NVAR for Validation 1\n",
            "17 - NVAR with avg smape 0.37: \n",
            "Model Number: 18 of 80 with model NVAR for Validation 1\n",
            "18 - NVAR with avg smape 0.37: \n",
            "Model Number: 19 of 80 with model MAR for Validation 1\n",
            "19 - MAR with avg smape 0.37: \n",
            "Model Number: 20 of 80 with model LATC for Validation 1\n",
            "20 - LATC with avg smape 0.37: \n",
            "Model Number: 21 of 80 with model MAR for Validation 1\n",
            "21 - MAR with avg smape 0.37: \n",
            "Model Number: 22 of 80 with model NVAR for Validation 1\n",
            "22 - NVAR with avg smape 0.37: \n",
            "Model Number: 23 of 80 with model WindowRegression for Validation 1\n",
            "23 - WindowRegression with avg smape 0.37: \n",
            "Model Number: 24 of 80 with model MultivariateMotif for Validation 1\n",
            "24 - MultivariateMotif with avg smape 0.37: \n",
            "Model Number: 25 of 80 with model RRVAR for Validation 1\n",
            "25 - RRVAR with avg smape 0.37: \n",
            "Model Number: 26 of 80 with model WindowRegression for Validation 1\n",
            "26 - WindowRegression with avg smape 0.37: \n",
            "Model Number: 27 of 80 with model SectionalMotif for Validation 1\n",
            "27 - SectionalMotif with avg smape 0.37: \n",
            "Model Number: 28 of 80 with model LATC for Validation 1\n",
            "28 - LATC with avg smape 0.37: \n",
            "Model Number: 29 of 80 with model NVAR for Validation 1\n",
            "29 - NVAR with avg smape 0.37: \n",
            "Model Number: 30 of 80 with model MultivariateMotif for Validation 1\n",
            "30 - MultivariateMotif with avg smape 0.37: \n",
            "Model Number: 31 of 80 with model MultivariateRegression for Validation 1\n"
          ]
        },
        {
          "output_type": "stream",
          "name": "stderr",
          "text": [
            "[Parallel(n_jobs=100)]: Using backend ThreadingBackend with 100 concurrent workers.\n",
            "[Parallel(n_jobs=100)]: Done  87 tasks      | elapsed:    1.5s\n",
            "[Parallel(n_jobs=100)]: Done 200 out of 200 | elapsed:    2.4s finished\n",
            "[Parallel(n_jobs=100)]: Using backend ThreadingBackend with 100 concurrent workers.\n",
            "[Parallel(n_jobs=100)]: Done 200 out of 200 | elapsed:    0.0s finished\n"
          ]
        },
        {
          "output_type": "stream",
          "name": "stdout",
          "text": [
            "31 - MultivariateRegression with avg smape 0.37: \n",
            "Model Number: 32 of 80 with model MultivariateRegression for Validation 1\n"
          ]
        },
        {
          "output_type": "stream",
          "name": "stderr",
          "text": [
            "[Parallel(n_jobs=100)]: Using backend ThreadingBackend with 100 concurrent workers.\n",
            "[Parallel(n_jobs=100)]: Done 200 out of 200 | elapsed:    2.6s finished\n",
            "[Parallel(n_jobs=100)]: Using backend ThreadingBackend with 100 concurrent workers.\n",
            "[Parallel(n_jobs=100)]: Done 200 out of 200 | elapsed:    0.0s finished\n"
          ]
        },
        {
          "output_type": "stream",
          "name": "stdout",
          "text": [
            "32 - MultivariateRegression with avg smape 0.37: \n",
            "Model Number: 33 of 80 with model SectionalMotif for Validation 1\n",
            "33 - SectionalMotif with avg smape 0.37: \n",
            "Model Number: 34 of 80 with model RRVAR for Validation 1\n",
            "34 - RRVAR with avg smape 0.37: \n",
            "Model Number: 35 of 80 with model MultivariateRegression for Validation 1\n"
          ]
        },
        {
          "output_type": "stream",
          "name": "stderr",
          "text": [
            "[Parallel(n_jobs=100)]: Using backend ThreadingBackend with 100 concurrent workers.\n",
            "[Parallel(n_jobs=100)]: Done 200 out of 200 | elapsed:    1.7s finished\n",
            "[Parallel(n_jobs=100)]: Using backend ThreadingBackend with 100 concurrent workers.\n",
            "[Parallel(n_jobs=100)]: Done 200 out of 200 | elapsed:    0.0s finished\n"
          ]
        },
        {
          "output_type": "stream",
          "name": "stdout",
          "text": [
            "35 - MultivariateRegression with avg smape 0.37: \n",
            "Model Number: 36 of 80 with model RRVAR for Validation 1\n",
            "36 - RRVAR with avg smape 0.37: \n",
            "Model Number: 37 of 80 with model RollingRegression for Validation 1\n",
            "Epoch 1/50\n",
            "74/74 [==============================] - 2s 13ms/step - loss: 0.2021 - val_loss: 0.5484\n",
            "Epoch 2/50\n",
            "74/74 [==============================] - 1s 10ms/step - loss: 0.1324 - val_loss: 0.3858\n",
            "Epoch 3/50\n",
            "74/74 [==============================] - 1s 10ms/step - loss: 0.0829 - val_loss: 0.2636\n",
            "Epoch 4/50\n",
            "74/74 [==============================] - 1s 10ms/step - loss: 0.0471 - val_loss: 0.1874\n",
            "Epoch 5/50\n",
            "74/74 [==============================] - 1s 9ms/step - loss: 0.0250 - val_loss: 0.1413\n",
            "Epoch 6/50\n",
            "74/74 [==============================] - 1s 9ms/step - loss: 0.0132 - val_loss: 0.1189\n",
            "Epoch 7/50\n",
            "74/74 [==============================] - 1s 10ms/step - loss: 0.0087 - val_loss: 0.1075\n",
            "Epoch 8/50\n",
            "74/74 [==============================] - 1s 10ms/step - loss: 0.0072 - val_loss: 0.1015\n",
            "Epoch 9/50\n",
            "74/74 [==============================] - 1s 9ms/step - loss: 0.0069 - val_loss: 0.0992\n",
            "Epoch 10/50\n",
            "74/74 [==============================] - 1s 10ms/step - loss: 0.0066 - val_loss: 0.0958\n",
            "Epoch 11/50\n",
            "74/74 [==============================] - 1s 9ms/step - loss: 0.0062 - val_loss: 0.0939\n",
            "Epoch 12/50\n",
            "74/74 [==============================] - 1s 9ms/step - loss: 0.0062 - val_loss: 0.0926\n",
            "Epoch 13/50\n",
            "74/74 [==============================] - 1s 10ms/step - loss: 0.0060 - val_loss: 0.0896\n",
            "Epoch 14/50\n",
            "74/74 [==============================] - 1s 9ms/step - loss: 0.0055 - val_loss: 0.0875\n",
            "Epoch 15/50\n",
            "74/74 [==============================] - 1s 9ms/step - loss: 0.0052 - val_loss: 0.0851\n",
            "Epoch 16/50\n",
            "74/74 [==============================] - 1s 9ms/step - loss: 0.0054 - val_loss: 0.0835\n",
            "Epoch 17/50\n",
            "74/74 [==============================] - 1s 9ms/step - loss: 0.0052 - val_loss: 0.0817\n",
            "Epoch 18/50\n",
            "74/74 [==============================] - 1s 9ms/step - loss: 0.0051 - val_loss: 0.0799\n",
            "Epoch 19/50\n",
            "74/74 [==============================] - 1s 9ms/step - loss: 0.0045 - val_loss: 0.0788\n",
            "Epoch 20/50\n",
            "74/74 [==============================] - 1s 10ms/step - loss: 0.0048 - val_loss: 0.0769\n",
            "Epoch 21/50\n",
            "74/74 [==============================] - 1s 10ms/step - loss: 0.0047 - val_loss: 0.0749\n",
            "Epoch 22/50\n",
            "74/74 [==============================] - 1s 9ms/step - loss: 0.0046 - val_loss: 0.0748\n",
            "Epoch 23/50\n",
            "74/74 [==============================] - 1s 9ms/step - loss: 0.0043 - val_loss: 0.0723\n",
            "Epoch 24/50\n",
            "74/74 [==============================] - 1s 10ms/step - loss: 0.0046 - val_loss: 0.0707\n",
            "Epoch 25/50\n",
            "74/74 [==============================] - 1s 10ms/step - loss: 0.0043 - val_loss: 0.0696\n",
            "Epoch 26/50\n",
            "74/74 [==============================] - 1s 9ms/step - loss: 0.0043 - val_loss: 0.0679\n",
            "Epoch 27/50\n",
            "74/74 [==============================] - 1s 10ms/step - loss: 0.0039 - val_loss: 0.0670\n",
            "Epoch 28/50\n",
            "74/74 [==============================] - 1s 9ms/step - loss: 0.0043 - val_loss: 0.0658\n",
            "Epoch 29/50\n",
            "74/74 [==============================] - 1s 9ms/step - loss: 0.0039 - val_loss: 0.0647\n",
            "Epoch 30/50\n",
            "74/74 [==============================] - 1s 9ms/step - loss: 0.0038 - val_loss: 0.0627\n",
            "Epoch 31/50\n",
            "74/74 [==============================] - 1s 9ms/step - loss: 0.0040 - val_loss: 0.0620\n",
            "Epoch 32/50\n",
            "74/74 [==============================] - 1s 9ms/step - loss: 0.0040 - val_loss: 0.0609\n",
            "Epoch 33/50\n",
            "74/74 [==============================] - 1s 10ms/step - loss: 0.0037 - val_loss: 0.0606\n",
            "Epoch 34/50\n",
            "74/74 [==============================] - 1s 9ms/step - loss: 0.0036 - val_loss: 0.0603\n",
            "Epoch 35/50\n",
            "74/74 [==============================] - 1s 9ms/step - loss: 0.0037 - val_loss: 0.0588\n",
            "Epoch 36/50\n",
            "74/74 [==============================] - 1s 9ms/step - loss: 0.0035 - val_loss: 0.0591\n",
            "Epoch 37/50\n",
            "74/74 [==============================] - 1s 9ms/step - loss: 0.0033 - val_loss: 0.0581\n",
            "Epoch 38/50\n",
            "74/74 [==============================] - 1s 9ms/step - loss: 0.0035 - val_loss: 0.0583\n",
            "Epoch 39/50\n",
            "74/74 [==============================] - 1s 9ms/step - loss: 0.0035 - val_loss: 0.0555\n",
            "Epoch 40/50\n",
            "74/74 [==============================] - 1s 9ms/step - loss: 0.0032 - val_loss: 0.0551\n",
            "Epoch 41/50\n",
            "74/74 [==============================] - 1s 10ms/step - loss: 0.0033 - val_loss: 0.0546\n",
            "Epoch 42/50\n",
            "74/74 [==============================] - 1s 10ms/step - loss: 0.0032 - val_loss: 0.0544\n",
            "Epoch 43/50\n",
            "74/74 [==============================] - 1s 9ms/step - loss: 0.0030 - val_loss: 0.0517\n",
            "Epoch 44/50\n",
            "74/74 [==============================] - 1s 10ms/step - loss: 0.0034 - val_loss: 0.0513\n",
            "Epoch 45/50\n",
            "74/74 [==============================] - 1s 10ms/step - loss: 0.0032 - val_loss: 0.0515\n",
            "Epoch 46/50\n",
            "74/74 [==============================] - 1s 9ms/step - loss: 0.0032 - val_loss: 0.0510\n",
            "Epoch 47/50\n",
            "74/74 [==============================] - 1s 10ms/step - loss: 0.0032 - val_loss: 0.0517\n",
            "Epoch 48/50\n",
            "74/74 [==============================] - 1s 10ms/step - loss: 0.0029 - val_loss: 0.0505\n",
            "Epoch 49/50\n",
            "74/74 [==============================] - 1s 10ms/step - loss: 0.0028 - val_loss: 0.0489\n",
            "Epoch 50/50\n",
            "74/74 [==============================] - 1s 10ms/step - loss: 0.0028 - val_loss: 0.0487\n",
            "37 - RollingRegression with avg smape 0.37: \n",
            "Model Number: 38 of 80 with model MultivariateMotif for Validation 1\n",
            "38 - MultivariateMotif with avg smape 0.37: \n",
            "Model Number: 39 of 80 with model RRVAR for Validation 1\n",
            "39 - RRVAR with avg smape 0.37: \n",
            "Model Number: 40 of 80 with model NVAR for Validation 1\n",
            "40 - NVAR with avg smape 0.37: \n",
            "Model Number: 41 of 80 with model MAR for Validation 1\n",
            "41 - MAR with avg smape 0.37: \n",
            "Model Number: 42 of 80 with model WindowRegression for Validation 1\n",
            "42 - WindowRegression with avg smape 0.37: \n",
            "Model Number: 43 of 80 with model NVAR for Validation 1\n",
            "43 - NVAR with avg smape 0.37: \n",
            "Model Number: 44 of 80 with model MultivariateMotif for Validation 1\n",
            "44 - MultivariateMotif with avg smape 0.37: \n",
            "Model Number: 45 of 80 with model RRVAR for Validation 1\n",
            "45 - RRVAR with avg smape 0.37: \n",
            "Model Number: 46 of 80 with model RRVAR for Validation 1\n",
            "46 - RRVAR with avg smape 0.37: \n",
            "Model Number: 47 of 80 with model WindowRegression for Validation 1\n",
            "47 - WindowRegression with avg smape 0.37: \n",
            "Model Number: 48 of 80 with model LATC for Validation 1\n",
            "48 - LATC with avg smape 0.37: \n",
            "Model Number: 49 of 80 with model MultivariateRegression for Validation 1\n",
            "49 - MultivariateRegression with avg smape 0.37: \n",
            "Model Number: 50 of 80 with model MAR for Validation 1\n",
            "50 - MAR with avg smape 0.37: \n",
            "Model Number: 51 of 80 with model Ensemble for Validation 1\n",
            "51 - Ensemble with avg smape 3.72: \n",
            "Model Number: 52 of 80 with model LATC for Validation 1\n",
            "52 - LATC with avg smape 3.28: \n",
            "Model Number: 53 of 80 with model LATC for Validation 1\n",
            "53 - LATC with avg smape 3.84: \n",
            "Model Number: 54 of 80 with model WindowRegression for Validation 1\n",
            "54 - WindowRegression with avg smape 3.78: \n",
            "Model Number: 55 of 80 with model WindowRegression for Validation 1\n",
            "55 - WindowRegression with avg smape 3.78: \n",
            "Model Number: 56 of 80 with model RollingRegression for Validation 1\n",
            "Epoch 1/50\n",
            "74/74 [==============================] - 2s 10ms/step - loss: 5.3928e-04 - val_loss: 0.0073\n",
            "Epoch 2/50\n",
            "74/74 [==============================] - 1s 8ms/step - loss: 5.3912e-04 - val_loss: 0.0073\n",
            "Epoch 3/50\n",
            "74/74 [==============================] - 1s 8ms/step - loss: 5.3410e-04 - val_loss: 0.0073\n",
            "Epoch 4/50\n",
            "74/74 [==============================] - 1s 8ms/step - loss: 5.3355e-04 - val_loss: 0.0072\n",
            "Epoch 5/50\n",
            "74/74 [==============================] - 1s 8ms/step - loss: 5.3477e-04 - val_loss: 0.0072\n",
            "Epoch 6/50\n",
            "74/74 [==============================] - 1s 8ms/step - loss: 5.3370e-04 - val_loss: 0.0072\n",
            "Epoch 7/50\n",
            "74/74 [==============================] - 1s 7ms/step - loss: 5.2915e-04 - val_loss: 0.0072\n",
            "Epoch 8/50\n",
            "74/74 [==============================] - 1s 8ms/step - loss: 5.3051e-04 - val_loss: 0.0072\n",
            "Epoch 9/50\n",
            "74/74 [==============================] - 1s 7ms/step - loss: 5.2818e-04 - val_loss: 0.0072\n",
            "Epoch 10/50\n",
            "74/74 [==============================] - 1s 7ms/step - loss: 5.3221e-04 - val_loss: 0.0072\n",
            "Epoch 11/50\n",
            "74/74 [==============================] - 1s 8ms/step - loss: 5.3228e-04 - val_loss: 0.0072\n",
            "Epoch 12/50\n",
            "74/74 [==============================] - 1s 7ms/step - loss: 5.2808e-04 - val_loss: 0.0072\n",
            "Epoch 13/50\n",
            "74/74 [==============================] - 1s 8ms/step - loss: 5.2872e-04 - val_loss: 0.0072\n",
            "Epoch 14/50\n",
            "74/74 [==============================] - 1s 7ms/step - loss: 5.2989e-04 - val_loss: 0.0072\n",
            "Epoch 15/50\n",
            "74/74 [==============================] - 1s 8ms/step - loss: 5.2730e-04 - val_loss: 0.0072\n",
            "Epoch 16/50\n",
            "74/74 [==============================] - 1s 8ms/step - loss: 5.3032e-04 - val_loss: 0.0071\n",
            "Epoch 17/50\n",
            "74/74 [==============================] - 1s 8ms/step - loss: 5.2938e-04 - val_loss: 0.0072\n",
            "Epoch 18/50\n",
            "74/74 [==============================] - 1s 8ms/step - loss: 5.3043e-04 - val_loss: 0.0072\n",
            "Epoch 19/50\n",
            "74/74 [==============================] - 1s 8ms/step - loss: 5.2823e-04 - val_loss: 0.0072\n",
            "Epoch 20/50\n",
            "74/74 [==============================] - 1s 8ms/step - loss: 5.2662e-04 - val_loss: 0.0072\n",
            "Epoch 21/50\n",
            "74/74 [==============================] - 1s 9ms/step - loss: 5.2279e-04 - val_loss: 0.0071\n",
            "Epoch 22/50\n",
            "74/74 [==============================] - 1s 8ms/step - loss: 5.2508e-04 - val_loss: 0.0071\n",
            "Epoch 23/50\n",
            "74/74 [==============================] - 1s 7ms/step - loss: 5.2437e-04 - val_loss: 0.0072\n",
            "Epoch 24/50\n",
            "74/74 [==============================] - 1s 8ms/step - loss: 5.2870e-04 - val_loss: 0.0071\n",
            "Epoch 25/50\n",
            "74/74 [==============================] - 1s 8ms/step - loss: 5.2228e-04 - val_loss: 0.0071\n",
            "Epoch 26/50\n",
            "74/74 [==============================] - 1s 8ms/step - loss: 5.2248e-04 - val_loss: 0.0071\n",
            "Epoch 27/50\n",
            "74/74 [==============================] - 1s 8ms/step - loss: 5.2217e-04 - val_loss: 0.0071\n",
            "Epoch 28/50\n",
            "74/74 [==============================] - 1s 7ms/step - loss: 5.2528e-04 - val_loss: 0.0071\n",
            "Epoch 29/50\n",
            "74/74 [==============================] - 1s 8ms/step - loss: 5.2318e-04 - val_loss: 0.0071\n",
            "Epoch 30/50\n",
            "74/74 [==============================] - 1s 8ms/step - loss: 5.1865e-04 - val_loss: 0.0071\n",
            "Epoch 31/50\n",
            "74/74 [==============================] - 1s 8ms/step - loss: 5.2438e-04 - val_loss: 0.0071\n",
            "Epoch 32/50\n",
            "74/74 [==============================] - 1s 8ms/step - loss: 5.2552e-04 - val_loss: 0.0071\n",
            "Epoch 33/50\n",
            "74/74 [==============================] - 1s 7ms/step - loss: 5.2609e-04 - val_loss: 0.0071\n",
            "Epoch 34/50\n",
            "74/74 [==============================] - 1s 8ms/step - loss: 5.2618e-04 - val_loss: 0.0071\n",
            "Epoch 35/50\n",
            "74/74 [==============================] - 1s 8ms/step - loss: 5.2325e-04 - val_loss: 0.0071\n",
            "Epoch 36/50\n",
            "74/74 [==============================] - 1s 8ms/step - loss: 5.2663e-04 - val_loss: 0.0071\n",
            "56 - RollingRegression with avg smape 3.99: \n",
            "Model Number: 57 of 80 with model MultivariateRegression for Validation 1\n"
          ]
        },
        {
          "output_type": "stream",
          "name": "stderr",
          "text": [
            "[Parallel(n_jobs=100)]: Using backend ThreadingBackend with 100 concurrent workers.\n",
            "[Parallel(n_jobs=100)]: Done 200 out of 200 | elapsed:    6.7s finished\n",
            "[Parallel(n_jobs=100)]: Using backend ThreadingBackend with 100 concurrent workers.\n",
            "[Parallel(n_jobs=100)]: Done 200 out of 200 | elapsed:    0.0s finished\n"
          ]
        },
        {
          "output_type": "stream",
          "name": "stdout",
          "text": [
            "57 - MultivariateRegression with avg smape 3.68: \n",
            "Model Number: 58 of 80 with model MAR for Validation 1\n",
            "58 - MAR with avg smape 3.68: \n",
            "Model Number: 59 of 80 with model MultivariateRegression for Validation 1\n"
          ]
        },
        {
          "output_type": "stream",
          "name": "stderr",
          "text": [
            "[Parallel(n_jobs=100)]: Using backend ThreadingBackend with 100 concurrent workers.\n",
            "[Parallel(n_jobs=100)]: Done 200 out of 200 | elapsed:    6.8s finished\n",
            "[Parallel(n_jobs=100)]: Using backend ThreadingBackend with 100 concurrent workers.\n",
            "[Parallel(n_jobs=100)]: Done 200 out of 200 | elapsed:    0.0s finished\n"
          ]
        },
        {
          "output_type": "stream",
          "name": "stdout",
          "text": [
            "59 - MultivariateRegression with avg smape 3.63: \n",
            "Model Number: 60 of 80 with model MultivariateRegression for Validation 1\n"
          ]
        },
        {
          "output_type": "stream",
          "name": "stderr",
          "text": [
            "[Parallel(n_jobs=100)]: Using backend ThreadingBackend with 100 concurrent workers.\n",
            "[Parallel(n_jobs=100)]: Done 200 out of 200 | elapsed:    8.9s finished\n",
            "[Parallel(n_jobs=100)]: Using backend ThreadingBackend with 100 concurrent workers.\n",
            "[Parallel(n_jobs=100)]: Done 200 out of 200 | elapsed:    0.0s finished\n"
          ]
        },
        {
          "output_type": "stream",
          "name": "stdout",
          "text": [
            "60 - MultivariateRegression with avg smape 3.72: \n",
            "Model Number: 61 of 80 with model MAR for Validation 1\n",
            "61 - MAR with avg smape 3.81: \n",
            "Model Number: 62 of 80 with model MAR for Validation 1\n",
            "62 - MAR with avg smape 3.91: \n",
            "Model Number: 63 of 80 with model MultivariateRegression for Validation 1\n"
          ]
        },
        {
          "output_type": "stream",
          "name": "stderr",
          "text": [
            "[Parallel(n_jobs=100)]: Using backend ThreadingBackend with 100 concurrent workers.\n",
            "[Parallel(n_jobs=100)]: Done 200 out of 200 | elapsed:    2.1s finished\n",
            "[Parallel(n_jobs=100)]: Using backend ThreadingBackend with 100 concurrent workers.\n",
            "[Parallel(n_jobs=100)]: Done 200 out of 200 | elapsed:    0.0s finished\n"
          ]
        },
        {
          "output_type": "stream",
          "name": "stdout",
          "text": [
            "63 - MultivariateRegression with avg smape 3.86: \n",
            "Model Number: 64 of 80 with model WindowRegression for Validation 1\n",
            "64 - WindowRegression with avg smape 4.11: \n",
            "Model Number: 65 of 80 with model LATC for Validation 1\n",
            "65 - LATC with avg smape 2.85: \n",
            "Model Number: 66 of 80 with model SectionalMotif for Validation 1\n",
            "66 - SectionalMotif with avg smape 3.8: \n",
            "Model Number: 67 of 80 with model SectionalMotif for Validation 1\n",
            "67 - SectionalMotif with avg smape 3.94: \n",
            "Model Number: 68 of 80 with model SectionalMotif for Validation 1\n",
            "68 - SectionalMotif with avg smape 3.94: \n",
            "Model Number: 69 of 80 with model RollingRegression for Validation 1\n",
            "Epoch 1/50\n",
            "74/74 [==============================] - 2s 10ms/step - loss: 182.0429 - val_loss: 1130.3635\n",
            "Epoch 2/50\n",
            "74/74 [==============================] - 1s 7ms/step - loss: 177.1009 - val_loss: 1121.8384\n",
            "Epoch 3/50\n",
            "74/74 [==============================] - 1s 7ms/step - loss: 173.9877 - val_loss: 1116.3563\n",
            "Epoch 4/50\n",
            "74/74 [==============================] - 1s 7ms/step - loss: 172.3082 - val_loss: 1113.4818\n",
            "Epoch 5/50\n",
            "74/74 [==============================] - 1s 8ms/step - loss: 172.3910 - val_loss: 1111.7847\n",
            "Epoch 6/50\n",
            "74/74 [==============================] - 1s 8ms/step - loss: 172.0748 - val_loss: 1110.7584\n",
            "Epoch 7/50\n",
            "74/74 [==============================] - 1s 8ms/step - loss: 171.4525 - val_loss: 1109.5543\n",
            "Epoch 8/50\n",
            "74/74 [==============================] - 1s 8ms/step - loss: 171.8044 - val_loss: 1109.0522\n",
            "Epoch 9/50\n",
            "74/74 [==============================] - 1s 7ms/step - loss: 171.5965 - val_loss: 1108.3298\n",
            "Epoch 10/50\n",
            "74/74 [==============================] - 1s 7ms/step - loss: 171.8574 - val_loss: 1107.8617\n",
            "Epoch 11/50\n",
            "74/74 [==============================] - 1s 8ms/step - loss: 171.6937 - val_loss: 1106.8363\n",
            "Epoch 12/50\n",
            "74/74 [==============================] - 1s 8ms/step - loss: 171.0854 - val_loss: 1106.7136\n",
            "Epoch 13/50\n",
            "74/74 [==============================] - 1s 7ms/step - loss: 170.9810 - val_loss: 1106.6196\n",
            "Epoch 14/50\n",
            "74/74 [==============================] - 1s 7ms/step - loss: 171.3563 - val_loss: 1106.4038\n",
            "Epoch 15/50\n",
            "74/74 [==============================] - 1s 7ms/step - loss: 170.6893 - val_loss: 1106.5187\n",
            "Epoch 16/50\n",
            "74/74 [==============================] - 1s 8ms/step - loss: 170.9908 - val_loss: 1106.8380\n",
            "Epoch 17/50\n",
            "74/74 [==============================] - 1s 8ms/step - loss: 171.1648 - val_loss: 1107.0001\n",
            "Epoch 18/50\n",
            "74/74 [==============================] - 1s 8ms/step - loss: 171.1376 - val_loss: 1107.3500\n",
            "Epoch 19/50\n",
            "74/74 [==============================] - 1s 7ms/step - loss: 170.8621 - val_loss: 1107.3220\n",
            "Epoch 20/50\n",
            "74/74 [==============================] - 1s 8ms/step - loss: 170.2476 - val_loss: 1107.1461\n",
            "Epoch 21/50\n",
            "74/74 [==============================] - 1s 7ms/step - loss: 170.3215 - val_loss: 1107.6437\n",
            "Epoch 22/50\n",
            "74/74 [==============================] - 1s 7ms/step - loss: 171.0421 - val_loss: 1107.9125\n",
            "Epoch 23/50\n",
            "74/74 [==============================] - 1s 8ms/step - loss: 170.4299 - val_loss: 1108.0570\n",
            "Epoch 24/50\n",
            "74/74 [==============================] - 1s 7ms/step - loss: 170.5162 - val_loss: 1108.6907\n",
            "69 - RollingRegression with avg smape 3.77: \n",
            "Model Number: 70 of 80 with model SectionalMotif for Validation 1\n",
            "70 - SectionalMotif with avg smape 4.52: \n",
            "Model Number: 71 of 80 with model MultivariateMotif for Validation 1\n",
            "71 - MultivariateMotif with avg smape 6.82: \n",
            "Model Number: 72 of 80 with model MultivariateMotif for Validation 1\n",
            "72 - MultivariateMotif with avg smape 5.45: \n",
            "Model Number: 73 of 80 with model TMF for Validation 1\n",
            "73 - TMF with avg smape 3.57: \n",
            "Model Number: 74 of 80 with model RollingRegression for Validation 1\n",
            "74 - RollingRegression with avg smape 3.57: \n",
            "Model Number: 75 of 80 with model MultivariateMotif for Validation 1\n",
            "75 - MultivariateMotif with avg smape 3.5: \n",
            "Model Number: 76 of 80 with model RollingRegression for Validation 1\n"
          ]
        },
        {
          "output_type": "stream",
          "name": "stderr",
          "text": [
            "/usr/local/lib/python3.7/dist-packages/sklearn/base.py:451: UserWarning: X does not have valid feature names, but ElasticNet was fitted with feature names\n",
            "  \"X does not have valid feature names, but\"\n",
            "/usr/local/lib/python3.7/dist-packages/sklearn/base.py:451: UserWarning: X does not have valid feature names, but DecisionTreeRegressor was fitted with feature names\n",
            "  \"X does not have valid feature names, but\"\n"
          ]
        },
        {
          "output_type": "stream",
          "name": "stdout",
          "text": [
            "76 - RollingRegression with avg smape 3.57: \n",
            "Model Number: 77 of 80 with model MultivariateMotif for Validation 1\n",
            "77 - MultivariateMotif with avg smape 4.08: \n",
            "Model Number: 78 of 80 with model RollingRegression for Validation 1\n"
          ]
        },
        {
          "output_type": "stream",
          "name": "stderr",
          "text": [
            "/usr/local/lib/python3.7/dist-packages/autots/models/sklearn.py:1084: DataConversionWarning: A column-vector y was passed when a 1d array was expected. Please change the shape of y to (n_samples,), for example using ravel().\n",
            "  self.regr = self.regr.fit(X, Y)\n",
            "/usr/local/lib/python3.7/dist-packages/sklearn/base.py:451: UserWarning: X does not have valid feature names, but ExtraTreesRegressor was fitted with feature names\n",
            "  \"X does not have valid feature names, but\"\n",
            "/usr/local/lib/python3.7/dist-packages/autots/models/sklearn.py:1084: DataConversionWarning: A column-vector y was passed when a 1d array was expected. Please change the shape of y to (n_samples,), for example using ravel().\n",
            "  self.regr = self.regr.fit(X, Y)\n"
          ]
        },
        {
          "output_type": "stream",
          "name": "stdout",
          "text": [
            "78 - RollingRegression with avg smape 5.23: \n",
            "Model Number: 79 of 80 with model RollingRegression for Validation 1\n"
          ]
        },
        {
          "output_type": "stream",
          "name": "stderr",
          "text": [
            "/usr/local/lib/python3.7/dist-packages/sklearn/base.py:451: UserWarning: X does not have valid feature names, but ExtraTreesRegressor was fitted with feature names\n",
            "  \"X does not have valid feature names, but\"\n"
          ]
        },
        {
          "output_type": "stream",
          "name": "stdout",
          "text": [
            "79 - RollingRegression with avg smape 3.45: \n",
            "Model Number: 80 of 80 with model RollingRegression for Validation 1\n",
            "Epoch 1/50\n",
            "74/74 [==============================] - 2s 12ms/step - loss: 0.0825 - val_loss: 0.9151\n",
            "Epoch 2/50\n",
            "74/74 [==============================] - 1s 9ms/step - loss: 0.0527 - val_loss: 0.5999\n",
            "Epoch 3/50\n",
            "74/74 [==============================] - 1s 9ms/step - loss: 0.0307 - val_loss: 0.3550\n",
            "Epoch 4/50\n",
            "74/74 [==============================] - 1s 8ms/step - loss: 0.0178 - val_loss: 0.2059\n",
            "Epoch 5/50\n",
            "74/74 [==============================] - 1s 9ms/step - loss: 0.0093 - val_loss: 0.1345\n",
            "Epoch 6/50\n",
            "74/74 [==============================] - 1s 9ms/step - loss: 0.0055 - val_loss: 0.1015\n",
            "Epoch 7/50\n",
            "74/74 [==============================] - 1s 9ms/step - loss: 0.0038 - val_loss: 0.0915\n",
            "Epoch 8/50\n",
            "74/74 [==============================] - 1s 9ms/step - loss: 0.0037 - val_loss: 0.0856\n",
            "Epoch 9/50\n",
            "74/74 [==============================] - 1s 9ms/step - loss: 0.0030 - val_loss: 0.0926\n",
            "Epoch 10/50\n",
            "74/74 [==============================] - 1s 9ms/step - loss: 0.0030 - val_loss: 0.0925\n",
            "Epoch 11/50\n",
            "74/74 [==============================] - 1s 9ms/step - loss: 0.0024 - val_loss: 0.1016\n",
            "Epoch 12/50\n",
            "74/74 [==============================] - 1s 9ms/step - loss: 0.0026 - val_loss: 0.0985\n",
            "Epoch 13/50\n",
            "74/74 [==============================] - 1s 8ms/step - loss: 0.0024 - val_loss: 0.0996\n",
            "Epoch 14/50\n",
            "74/74 [==============================] - 1s 9ms/step - loss: 0.0023 - val_loss: 0.1046\n",
            "Epoch 15/50\n",
            "74/74 [==============================] - 1s 9ms/step - loss: 0.0025 - val_loss: 0.0988\n",
            "Epoch 16/50\n",
            "74/74 [==============================] - 1s 9ms/step - loss: 0.0024 - val_loss: 0.1022\n",
            "Epoch 17/50\n",
            "74/74 [==============================] - 1s 9ms/step - loss: 0.0024 - val_loss: 0.1001\n",
            "Epoch 18/50\n",
            "74/74 [==============================] - 1s 9ms/step - loss: 0.0022 - val_loss: 0.1017\n",
            "80 - RollingRegression with avg smape 2.66: \n",
            "Initiated AutoTS object with best model: \n",
            "RRVAR\n",
            "{'fillna': 'ffill', 'transformations': {'0': 'Detrend', '1': 'AlignLastValue', '2': 'SeasonalDifference', '3': 'SeasonalDifference', '4': 'StandardScaler'}, 'transformation_params': {'0': {'model': 'Linear', 'phi': 1, 'window': None, 'transform_dict': None}, '1': {'rows': 7, 'lag': 28, 'method': 'additive', 'strength': 1.0}, '2': {'lag_1': 7, 'method': 'Median'}, '3': {'lag_1': 12, 'method': 'Median'}, '4': {}}}\n",
            "{'method': 'dmd', 'rank': 1, 'maxiter': 200}\n",
            "SMAPE: 0.03612852951851702, 0.36755996699570426\n",
            "MAE: 7.2824549971519446, 74.61297246698086\n",
            "SPL: 0.016382951544560487, 0.16947587831693114\n",
            "                                  Close\n",
            "2022-10-06 00:00:00+00:00  20039.224825\n"
          ]
        }
      ],
      "source": [
        "import pandas as pd\n",
        "\n",
        "import datetime\n",
        "from datetime import date, timedelta\n",
        "\n",
        "\n",
        "\n",
        "\n",
        "    \n",
        "today = date.today()\n",
        "\n",
        "d1 = today.strftime(\"%Y-%m-%d\")\n",
        "end_date = d1\n",
        "d2 = date.today() - timedelta(days=4000)\n",
        "d2 = d2.strftime(\"%Y-%m-%d\")\n",
        "start_date = d2\n",
        "\n",
        "data = yf.download('BTC-USD',\n",
        "                      start=start_date,\n",
        "                      end=end_date,\n",
        "                      progress=False)\n",
        "data[\"Date\"] = data.index\n",
        "data = data[[\"Date\", \"Open\", \"High\", \"Low\", \"Close\"]]\n",
        "data.reset_index(drop=True, inplace=True)\n",
        "print(data)\n",
        "\n",
        "\n",
        "from autots import AutoTS, load_daily\n",
        "\n",
        "# sample datasets can be used in either of the long or wide import shapes\n",
        "long = True\n",
        "df = load_daily(long=long)\n",
        "\n",
        "model = AutoTS(\n",
        "    forecast_length=1,\n",
        "    frequency='infer',\n",
        "    prediction_interval=0.9,\n",
        "    ensemble= 'simple',\n",
        "    model_list= 'multivariate',  # \"superfast\", \"default\", \"fast_parallel\"\n",
        "    transformer_list=\"superfast\",  # \"superfast\",\n",
        "    drop_most_recent=1,\n",
        "    max_generations=5,\n",
        "    num_validations=1,\n",
        "    models_to_validate=0.2,\n",
        "    n_jobs=100,\n",
        ")\n",
        "model = model.fit(data, date_col='Date', value_col='Close', id_col=None)\n",
        "\n",
        "\n",
        "\n",
        "prediction = model.predict()\n",
        "# plot a sample\n",
        "# Print the details of the best model\n",
        "print(model)\n",
        "\n",
        "# point forecasts dataframe\n",
        "forecasts = prediction.forecast\n",
        "# upper and lower forecasts\n",
        "# forecasts_up, forecasts_low = prediction.upper_forecast, prediction.lower_forecast\n",
        "\n",
        "# accuracy of all tried model results\n",
        "model_results = model.results()\n",
        "# and aggregated from cross validation\n",
        "validation_results = model.results(\"validation\") \n",
        "print(forecasts)\n"
      ]
    },
    {
      "cell_type": "code",
      "execution_count": null,
      "metadata": {
        "colab": {
          "base_uri": "https://localhost:8080/"
        },
        "id": "r_8q2390FhJd",
        "outputId": "150ba555-675e-49bf-c78a-e1638b497d4e"
      },
      "outputs": [
        {
          "output_type": "stream",
          "name": "stdout",
          "text": [
            "Looking in indexes: https://pypi.org/simple, https://us-python.pkg.dev/colab-wheels/public/simple/\n",
            "Requirement already satisfied: AutoTS in /usr/local/lib/python3.7/dist-packages (0.5.0)\n",
            "Requirement already satisfied: scikit-learn>=0.20.* in /usr/local/lib/python3.7/dist-packages (from AutoTS) (1.0.2)\n",
            "Requirement already satisfied: statsmodels>=0.10.* in /usr/local/lib/python3.7/dist-packages (from AutoTS) (0.12.2)\n",
            "Requirement already satisfied: pandas>=0.25.* in /usr/local/lib/python3.7/dist-packages (from AutoTS) (1.3.5)\n",
            "Requirement already satisfied: numpy>=1.14.6 in /usr/local/lib/python3.7/dist-packages (from AutoTS) (1.21.6)\n",
            "Requirement already satisfied: python-dateutil>=2.7.3 in /usr/local/lib/python3.7/dist-packages (from pandas>=0.25.*->AutoTS) (2.8.2)\n",
            "Requirement already satisfied: pytz>=2017.3 in /usr/local/lib/python3.7/dist-packages (from pandas>=0.25.*->AutoTS) (2022.4)\n",
            "Requirement already satisfied: six>=1.5 in /usr/local/lib/python3.7/dist-packages (from python-dateutil>=2.7.3->pandas>=0.25.*->AutoTS) (1.15.0)\n",
            "Requirement already satisfied: threadpoolctl>=2.0.0 in /usr/local/lib/python3.7/dist-packages (from scikit-learn>=0.20.*->AutoTS) (3.1.0)\n",
            "Requirement already satisfied: scipy>=1.1.0 in /usr/local/lib/python3.7/dist-packages (from scikit-learn>=0.20.*->AutoTS) (1.7.3)\n",
            "Requirement already satisfied: joblib>=0.11 in /usr/local/lib/python3.7/dist-packages (from scikit-learn>=0.20.*->AutoTS) (1.2.0)\n",
            "Requirement already satisfied: patsy>=0.5 in /usr/local/lib/python3.7/dist-packages (from statsmodels>=0.10.*->AutoTS) (0.5.2)\n",
            "Looking in indexes: https://pypi.org/simple, https://us-python.pkg.dev/colab-wheels/public/simple/\n",
            "Requirement already satisfied: pystan~=2.14 in /usr/local/lib/python3.7/dist-packages (2.19.1.1)\n",
            "Requirement already satisfied: Cython!=0.25.1,>=0.22 in /usr/local/lib/python3.7/dist-packages (from pystan~=2.14) (0.29.32)\n",
            "Requirement already satisfied: numpy>=1.7 in /usr/local/lib/python3.7/dist-packages (from pystan~=2.14) (1.21.6)\n",
            "Looking in indexes: https://pypi.org/simple, https://us-python.pkg.dev/colab-wheels/public/simple/\n",
            "Requirement already satisfied: fbprophet in /usr/local/lib/python3.7/dist-packages (0.7.1)\n",
            "Requirement already satisfied: numpy>=1.15.4 in /usr/local/lib/python3.7/dist-packages (from fbprophet) (1.21.6)\n",
            "Requirement already satisfied: python-dateutil>=2.8.0 in /usr/local/lib/python3.7/dist-packages (from fbprophet) (2.8.2)\n",
            "Requirement already satisfied: pandas>=1.0.4 in /usr/local/lib/python3.7/dist-packages (from fbprophet) (1.3.5)\n",
            "Requirement already satisfied: matplotlib>=2.0.0 in /usr/local/lib/python3.7/dist-packages (from fbprophet) (3.2.2)\n",
            "Requirement already satisfied: pystan>=2.14 in /usr/local/lib/python3.7/dist-packages (from fbprophet) (2.19.1.1)\n",
            "Requirement already satisfied: Cython>=0.22 in /usr/local/lib/python3.7/dist-packages (from fbprophet) (0.29.32)\n",
            "Requirement already satisfied: convertdate>=2.1.2 in /usr/local/lib/python3.7/dist-packages (from fbprophet) (2.4.0)\n",
            "Requirement already satisfied: tqdm>=4.36.1 in /usr/local/lib/python3.7/dist-packages (from fbprophet) (4.64.1)\n",
            "Requirement already satisfied: holidays>=0.10.2 in /usr/local/lib/python3.7/dist-packages (from fbprophet) (0.16)\n",
            "Requirement already satisfied: cmdstanpy==0.9.5 in /usr/local/lib/python3.7/dist-packages (from fbprophet) (0.9.5)\n",
            "Requirement already satisfied: LunarCalendar>=0.0.9 in /usr/local/lib/python3.7/dist-packages (from fbprophet) (0.0.9)\n",
            "Requirement already satisfied: setuptools-git>=1.2 in /usr/local/lib/python3.7/dist-packages (from fbprophet) (1.2)\n",
            "Requirement already satisfied: pymeeus<=1,>=0.3.13 in /usr/local/lib/python3.7/dist-packages (from convertdate>=2.1.2->fbprophet) (0.5.11)\n",
            "Requirement already satisfied: korean-lunar-calendar in /usr/local/lib/python3.7/dist-packages (from holidays>=0.10.2->fbprophet) (0.3.1)\n",
            "Requirement already satisfied: hijri-converter in /usr/local/lib/python3.7/dist-packages (from holidays>=0.10.2->fbprophet) (2.2.4)\n",
            "Requirement already satisfied: ephem>=3.7.5.3 in /usr/local/lib/python3.7/dist-packages (from LunarCalendar>=0.0.9->fbprophet) (4.1.3)\n",
            "Requirement already satisfied: pytz in /usr/local/lib/python3.7/dist-packages (from LunarCalendar>=0.0.9->fbprophet) (2022.4)\n",
            "Requirement already satisfied: kiwisolver>=1.0.1 in /usr/local/lib/python3.7/dist-packages (from matplotlib>=2.0.0->fbprophet) (1.4.4)\n",
            "Requirement already satisfied: cycler>=0.10 in /usr/local/lib/python3.7/dist-packages (from matplotlib>=2.0.0->fbprophet) (0.11.0)\n",
            "Requirement already satisfied: pyparsing!=2.0.4,!=2.1.2,!=2.1.6,>=2.0.1 in /usr/local/lib/python3.7/dist-packages (from matplotlib>=2.0.0->fbprophet) (3.0.9)\n",
            "Requirement already satisfied: typing-extensions in /usr/local/lib/python3.7/dist-packages (from kiwisolver>=1.0.1->matplotlib>=2.0.0->fbprophet) (4.1.1)\n",
            "Requirement already satisfied: six>=1.5 in /usr/local/lib/python3.7/dist-packages (from python-dateutil>=2.8.0->fbprophet) (1.15.0)\n",
            "Looking in indexes: https://pypi.org/simple, https://us-python.pkg.dev/colab-wheels/public/simple/\n",
            "Requirement already satisfied: cmdstanpy~=0.9.5 in /usr/local/lib/python3.7/dist-packages (0.9.5)\n",
            "Requirement already satisfied: numpy in /usr/local/lib/python3.7/dist-packages (from cmdstanpy~=0.9.5) (1.21.6)\n",
            "Requirement already satisfied: pandas in /usr/local/lib/python3.7/dist-packages (from cmdstanpy~=0.9.5) (1.3.5)\n",
            "Requirement already satisfied: pytz>=2017.3 in /usr/local/lib/python3.7/dist-packages (from pandas->cmdstanpy~=0.9.5) (2022.4)\n",
            "Requirement already satisfied: python-dateutil>=2.7.3 in /usr/local/lib/python3.7/dist-packages (from pandas->cmdstanpy~=0.9.5) (2.8.2)\n",
            "Requirement already satisfied: six>=1.5 in /usr/local/lib/python3.7/dist-packages (from python-dateutil>=2.7.3->pandas->cmdstanpy~=0.9.5) (1.15.0)\n",
            "                          Date         Open         High          Low  \\\n",
            "0    2017-11-09 00:00:00+00:00   308.644989   329.451996   307.056000   \n",
            "1    2017-11-10 00:00:00+00:00   320.670990   324.717987   294.541992   \n",
            "2    2017-11-11 00:00:00+00:00   298.585999   319.453003   298.191986   \n",
            "3    2017-11-12 00:00:00+00:00   314.690002   319.153015   298.513000   \n",
            "4    2017-11-13 00:00:00+00:00   307.024994   328.415009   307.024994   \n",
            "...                        ...          ...          ...          ...   \n",
            "1788 2022-10-02 00:00:00+00:00  1311.753418  1316.330078  1275.336060   \n",
            "1789 2022-10-03 00:00:00+00:00  1276.163452  1326.554443  1271.150879   \n",
            "1790 2022-10-04 00:00:00+00:00  1323.278320  1364.970947  1320.076660   \n",
            "1791 2022-10-05 00:00:00+00:00  1361.972900  1362.451782  1320.855103   \n",
            "1792 2022-10-06 00:00:00+00:00  1352.806641  1380.404907  1349.449951   \n",
            "\n",
            "            Close  \n",
            "0      320.884003  \n",
            "1      299.252991  \n",
            "2      314.681000  \n",
            "3      307.907990  \n",
            "4      316.716003  \n",
            "...           ...  \n",
            "1788  1276.093506  \n",
            "1789  1323.439209  \n",
            "1790  1362.126587  \n",
            "1791  1352.837158  \n",
            "1792  1351.709473  \n",
            "\n",
            "[1793 rows x 5 columns]\n",
            "Inferred frequency is: D\n",
            "Model Number: 1 with model GluonTS in generation 0 of 5\n",
            "Template Eval Error: ImportError('GluonTS installation not found or installed version is incompatible with AutoTS.') in model 1: GluonTS\n",
            "Model Number: 2 with model GluonTS in generation 0 of 5\n",
            "Template Eval Error: ImportError('GluonTS installation not found or installed version is incompatible with AutoTS.') in model 2: GluonTS\n",
            "Model Number: 3 with model GluonTS in generation 0 of 5\n",
            "Template Eval Error: ImportError('GluonTS installation not found or installed version is incompatible with AutoTS.') in model 3: GluonTS\n",
            "Model Number: 4 with model GluonTS in generation 0 of 5\n",
            "Template Eval Error: ImportError('GluonTS installation not found or installed version is incompatible with AutoTS.') in model 4: GluonTS\n",
            "Model Number: 5 with model GluonTS in generation 0 of 5\n",
            "Template Eval Error: ImportError('GluonTS installation not found or installed version is incompatible with AutoTS.') in model 5: GluonTS\n",
            "Model Number: 6 with model VAR in generation 0 of 5\n",
            "Template Eval Error: ValueError('Only gave one variable to VAR') in model 6: VAR\n",
            "Model Number: 7 with model VAR in generation 0 of 5\n",
            "Template Eval Error: ValueError('Only gave one variable to VAR') in model 7: VAR\n",
            "Model Number: 8 with model VECM in generation 0 of 5\n",
            "Template Eval Error: ValueError('Only gave one variable to VECM') in model 8: VECM\n",
            "Model Number: 9 with model VECM in generation 0 of 5\n",
            "Template Eval Error: ValueError('Only gave one variable to VECM') in model 9: VECM\n",
            "Model Number: 10 with model WindowRegression in generation 0 of 5\n",
            "Model Number: 11 with model GluonTS in generation 0 of 5\n",
            "Template Eval Error: ImportError('GluonTS installation not found or installed version is incompatible with AutoTS.') in model 11: GluonTS\n",
            "Model Number: 12 with model MultivariateRegression in generation 0 of 5\n"
          ]
        },
        {
          "output_type": "stream",
          "name": "stderr",
          "text": [
            "[Parallel(n_jobs=100)]: Using backend ThreadingBackend with 100 concurrent workers.\n",
            "[Parallel(n_jobs=100)]: Done 200 out of 200 | elapsed:    1.6s finished\n",
            "[Parallel(n_jobs=100)]: Using backend ThreadingBackend with 100 concurrent workers.\n",
            "[Parallel(n_jobs=100)]: Done 200 out of 200 | elapsed:    0.0s finished\n"
          ]
        },
        {
          "output_type": "stream",
          "name": "stdout",
          "text": [
            "Model Number: 13 with model MultivariateRegression in generation 0 of 5\n",
            "Template Eval Error: ValueError(\"regression_type='User' but not future_regressor supplied.\") in model 13: MultivariateRegression\n",
            "Model Number: 14 with model VECM in generation 0 of 5\n",
            "Template Eval Error: ValueError('Only gave one variable to VECM') in model 14: VECM\n",
            "Model Number: 15 with model MultivariateMotif in generation 0 of 5\n",
            "Model Number: 16 with model MultivariateMotif in generation 0 of 5\n",
            "Model Number: 17 with model SectionalMotif in generation 0 of 5\n",
            "Model Number: 18 with model SectionalMotif in generation 0 of 5\n",
            "Model Number: 19 with model MultivariateRegression in generation 0 of 5\n",
            "Model Number: 20 with model NVAR in generation 0 of 5\n",
            "Model Number: 21 with model RollingRegression in generation 0 of 5\n",
            "Template Eval Error: ValueError('future_regressor not supplied, necessary for regression_type') in model 21: RollingRegression\n",
            "Model Number: 22 with model DynamicFactor in generation 0 of 5\n",
            "Template Eval Error: ValueError(\"regression_type='User' but future_regressor not passed\") in model 22: DynamicFactor\n",
            "Model Number: 23 with model RollingRegression in generation 0 of 5\n"
          ]
        },
        {
          "output_type": "stream",
          "name": "stderr",
          "text": [
            "/usr/local/lib/python3.7/dist-packages/autots/models/sklearn.py:1084: DataConversionWarning: A column-vector y was passed when a 1d array was expected. Please change the shape of y to (n_samples,), for example using ravel().\n",
            "  self.regr = self.regr.fit(X, Y)\n",
            "/usr/local/lib/python3.7/dist-packages/sklearn/base.py:451: UserWarning: X does not have valid feature names, but ExtraTreesRegressor was fitted with feature names\n",
            "  \"X does not have valid feature names, but\"\n"
          ]
        },
        {
          "output_type": "stream",
          "name": "stdout",
          "text": [
            "Model Number: 24 with model VECM in generation 0 of 5\n",
            "Template Eval Error: ValueError('Only gave one variable to VECM') in model 24: VECM\n",
            "Model Number: 25 with model DynamicFactor in generation 0 of 5\n",
            "Template Eval Error: ValueError('The dynamic factors model is only valid for multivariate time series.') in model 25: DynamicFactor\n",
            "Model Number: 26 with model GluonTS in generation 0 of 5\n",
            "Template Eval Error: ImportError('GluonTS installation not found or installed version is incompatible with AutoTS.') in model 26: GluonTS\n",
            "Model Number: 27 with model VARMAX in generation 0 of 5\n",
            "Template Eval Error: ValueError('Only gave one variable to VAR') in model 27: VARMAX\n",
            "Model Number: 28 with model RollingRegression in generation 0 of 5\n",
            "Model Number: 29 with model WindowRegression in generation 0 of 5\n",
            "Model Number: 30 with model VAR in generation 0 of 5\n",
            "Template Eval Error: ValueError('Only gave one variable to VAR') in model 30: VAR\n",
            "Model Number: 31 with model MultivariateMotif in generation 0 of 5\n"
          ]
        },
        {
          "output_type": "stream",
          "name": "stderr",
          "text": [
            "/usr/local/lib/python3.7/dist-packages/sklearn/base.py:451: UserWarning: X does not have valid feature names, but Ridge was fitted with feature names\n",
            "  \"X does not have valid feature names, but\"\n"
          ]
        },
        {
          "output_type": "stream",
          "name": "stdout",
          "text": [
            "Model Number: 32 with model NVAR in generation 0 of 5\n",
            "Model Number: 33 with model MultivariateRegression in generation 0 of 5\n",
            "Model Number: 34 with model SectionalMotif in generation 0 of 5\n",
            "Model Number: 35 with model DynamicFactorMQ in generation 0 of 5\n",
            "Template Eval Error: ValueError('Number of factors (4) cannot be greater than the number of monthly endogenous variables (1).') in model 35: DynamicFactorMQ\n",
            "Model Number: 36 with model PytorchForecasting in generation 0 of 5\n",
            "Template Eval Error: ImportError('pytorch, pytorch lighting, or pytorch-forecasting not present') in model 36: PytorchForecasting\n",
            "Model Number: 37 with model RRVAR in generation 0 of 5\n",
            "Model Number: 38 with model MAR in generation 0 of 5\n",
            "Model Number: 39 with model TMF in generation 0 of 5\n",
            "Template Eval Error: LinAlgError('SVD did not converge') in model 39: TMF\n",
            "Model Number: 40 with model LATC in generation 0 of 5\n"
          ]
        },
        {
          "output_type": "stream",
          "name": "stderr",
          "text": [
            "/usr/local/lib/python3.7/dist-packages/autots/models/matrix_var.py:378: RuntimeWarning: invalid value encountered in double_scalars\n",
            "  alpha = rold / np.inner(q, Aq)\n"
          ]
        },
        {
          "output_type": "stream",
          "name": "stdout",
          "text": [
            "Model Number: 41 with model MultivariateRegression in generation 0 of 5\n",
            "Template Eval Error: ValueError('Some value(s) of y are out of the valid range for family PoissonDistribution') in model 41: MultivariateRegression\n",
            "Model Number: 42 with model DynamicFactorMQ in generation 0 of 5\n",
            "Template Eval Error: ValueError('Number of factors (2) cannot be greater than the number of monthly endogenous variables (1).') in model 42: DynamicFactorMQ\n",
            "Model Number: 43 with model RRVAR in generation 0 of 5\n",
            "Model Number: 44 with model DynamicFactorMQ in generation 0 of 5\n",
            "Template Eval Error: ValueError('Number of factors (6) cannot be greater than the number of monthly endogenous variables (1).') in model 44: DynamicFactorMQ\n",
            "Model Number: 45 with model NVAR in generation 0 of 5\n",
            "Model Number: 46 with model VAR in generation 0 of 5\n",
            "Template Eval Error: ValueError('Only gave one variable to VAR') in model 46: VAR\n",
            "Model Number: 47 with model TMF in generation 0 of 5\n",
            "Model Number: 48 with model DynamicFactor in generation 0 of 5\n",
            "Template Eval Error: ValueError('The dynamic factors model is only valid for multivariate time series.') in model 48: DynamicFactor\n",
            "Model Number: 49 with model NVAR in generation 0 of 5\n",
            "Model Number: 50 with model RRVAR in generation 0 of 5\n",
            "Model Number: 51 with model VARMAX in generation 0 of 5\n",
            "Template Eval Error: ValueError('Only gave one variable to VAR') in model 51: VARMAX\n",
            "Model Number: 52 with model VAR in generation 0 of 5\n",
            "Template Eval Error: ValueError('Only gave one variable to VAR') in model 52: VAR\n",
            "Model Number: 53 with model DynamicFactor in generation 0 of 5\n",
            "Template Eval Error: ValueError('The dynamic factors model is only valid for multivariate time series.') in model 53: DynamicFactor\n",
            "Model Number: 54 with model SectionalMotif in generation 0 of 5\n",
            "Model Number: 55 with model PytorchForecasting in generation 0 of 5\n",
            "Template Eval Error: ImportError('pytorch, pytorch lighting, or pytorch-forecasting not present') in model 55: PytorchForecasting\n",
            "Model Number: 56 with model PytorchForecasting in generation 0 of 5\n",
            "Template Eval Error: ImportError('pytorch, pytorch lighting, or pytorch-forecasting not present') in model 56: PytorchForecasting\n",
            "Model Number: 57 with model RRVAR in generation 0 of 5\n",
            "Model Number: 58 with model MultivariateMotif in generation 0 of 5\n",
            "Model Number: 59 with model RollingRegression in generation 0 of 5\n",
            "Model Number: 60 with model RollingRegression in generation 0 of 5\n"
          ]
        },
        {
          "output_type": "stream",
          "name": "stderr",
          "text": [
            "/usr/local/lib/python3.7/dist-packages/sklearn/base.py:451: UserWarning: X does not have valid feature names, but DecisionTreeRegressor was fitted with feature names\n",
            "  \"X does not have valid feature names, but\"\n",
            "/usr/local/lib/python3.7/dist-packages/numpy/lib/function_base.py:2683: RuntimeWarning: Degrees of freedom <= 0 for slice\n",
            "  c = cov(x, y, rowvar, dtype=dtype)\n"
          ]
        },
        {
          "output_type": "stream",
          "name": "stdout",
          "text": [
            "Template Eval Error: ValueError(\"Input contains NaN, infinity or a value too large for dtype('float64').\") in model 60: RollingRegression\n",
            "Model Number: 61 with model RRVAR in generation 0 of 5\n",
            "Model Number: 62 with model MultivariateRegression in generation 0 of 5\n",
            "Model Number: 63 with model DynamicFactor in generation 0 of 5\n",
            "Template Eval Error: ValueError(\"regression_type='User' but future_regressor not passed\") in model 63: DynamicFactor\n",
            "Model Number: 64 with model TMF in generation 0 of 5\n"
          ]
        },
        {
          "output_type": "stream",
          "name": "stderr",
          "text": [
            "/usr/local/lib/python3.7/dist-packages/autots/models/matrix_var.py:378: RuntimeWarning: invalid value encountered in double_scalars\n",
            "  alpha = rold / np.inner(q, Aq)\n"
          ]
        },
        {
          "output_type": "stream",
          "name": "stdout",
          "text": [
            "Template Eval Error: LinAlgError('SVD did not converge') in model 64: TMF\n",
            "Model Number: 65 with model DynamicFactorMQ in generation 0 of 5\n",
            "Template Eval Error: ValueError('Number of factors (4) cannot be greater than the number of monthly endogenous variables (1).') in model 65: DynamicFactorMQ\n",
            "Model Number: 66 with model MultivariateRegression in generation 0 of 5\n",
            "Model Number: 67 with model NVAR in generation 0 of 5\n",
            "Model Number: 68 with model RRVAR in generation 0 of 5\n",
            "Model Number: 69 with model NVAR in generation 0 of 5\n",
            "Model Number: 70 with model RRVAR in generation 0 of 5\n",
            "Model Number: 71 with model VECM in generation 0 of 5\n",
            "Template Eval Error: ValueError('Only gave one variable to VECM') in model 71: VECM\n",
            "Model Number: 72 with model RRVAR in generation 0 of 5\n",
            "Model Number: 73 with model DynamicFactorMQ in generation 0 of 5\n",
            "Template Eval Error: ValueError('Number of factors (3) cannot be greater than the number of monthly endogenous variables (1).') in model 73: DynamicFactorMQ\n",
            "Model Number: 74 with model MAR in generation 0 of 5\n",
            "Model Number: 75 with model VECM in generation 0 of 5\n",
            "Template Eval Error: ValueError('Only gave one variable to VECM') in model 75: VECM\n",
            "Model Number: 76 with model GluonTS in generation 0 of 5\n",
            "Template Eval Error: ImportError('GluonTS installation not found or installed version is incompatible with AutoTS.') in model 76: GluonTS\n",
            "Model Number: 77 with model LATC in generation 0 of 5\n",
            "Model Number: 78 with model RRVAR in generation 0 of 5\n",
            "Model Number: 79 with model SectionalMotif in generation 0 of 5\n",
            "Model Number: 80 with model WindowRegression in generation 0 of 5\n",
            "Model Number: 81 with model NVAR in generation 0 of 5\n",
            "Model Number: 82 with model LATC in generation 0 of 5\n",
            "Template Eval Error: ValueError('LATC cannot accept any arrays that are all 0') in model 82: LATC\n",
            "Model Number: 83 with model MAR in generation 0 of 5\n",
            "Model Number: 84 with model DynamicFactorMQ in generation 0 of 5\n",
            "Template Eval Error: ValueError('Number of factors (4) cannot be greater than the number of monthly endogenous variables (1).') in model 84: DynamicFactorMQ\n",
            "Model Number: 85 with model LATC in generation 0 of 5\n",
            "Model Number: 86 with model MultivariateMotif in generation 0 of 5\n",
            "Model Number: 87 with model RollingRegression in generation 0 of 5\n"
          ]
        },
        {
          "output_type": "stream",
          "name": "stderr",
          "text": [
            "/usr/local/lib/python3.7/dist-packages/sklearn/experimental/enable_hist_gradient_boosting.py:17: UserWarning: Since version 1.0, it is not needed to import enable_hist_gradient_boosting anymore. HistGradientBoostingClassifier and HistGradientBoostingRegressor are now stable and can be normally imported from sklearn.ensemble.\n",
            "  \"Since version 1.0, \"\n",
            "/usr/local/lib/python3.7/dist-packages/sklearn/utils/validation.py:993: DataConversionWarning: A column-vector y was passed when a 1d array was expected. Please change the shape of y to (n_samples, ), for example using ravel().\n",
            "  y = column_or_1d(y, warn=True)\n"
          ]
        },
        {
          "output_type": "stream",
          "name": "stdout",
          "text": [
            "Model Number: 88 with model DynamicFactorMQ in generation 0 of 5\n",
            "Template Eval Error: ValueError('Number of factors (2) cannot be greater than the number of monthly endogenous variables (1).') in model 88: DynamicFactorMQ\n",
            "Model Number: 89 with model NVAR in generation 0 of 5\n"
          ]
        },
        {
          "output_type": "stream",
          "name": "stderr",
          "text": [
            "/usr/local/lib/python3.7/dist-packages/sklearn/base.py:451: UserWarning: X does not have valid feature names, but HistGradientBoostingRegressor was fitted with feature names\n",
            "  \"X does not have valid feature names, but\"\n"
          ]
        },
        {
          "output_type": "stream",
          "name": "stdout",
          "text": [
            "Model Number: 90 with model VARMAX in generation 0 of 5\n",
            "Template Eval Error: ValueError('Only gave one variable to VAR') in model 90: VARMAX\n",
            "Model Number: 91 with model TMF in generation 0 of 5\n",
            "Model Number: 92 with model MultivariateMotif in generation 0 of 5\n",
            "Model Number: 93 with model WindowRegression in generation 0 of 5\n",
            "Model Number: 94 with model VECM in generation 0 of 5\n",
            "Template Eval Error: ValueError('Only gave one variable to VECM') in model 94: VECM\n",
            "Model Number: 95 with model RollingRegression in generation 0 of 5\n",
            "Template Eval Error: ValueError('future_regressor not supplied, necessary for regression_type') in model 95: RollingRegression\n",
            "Model Number: 96 with model MultivariateRegression in generation 0 of 5\n",
            "Model Number: 97 with model RRVAR in generation 0 of 5\n"
          ]
        },
        {
          "output_type": "stream",
          "name": "stderr",
          "text": [
            "/usr/local/lib/python3.7/dist-packages/sklearn/linear_model/_coordinate_descent.py:648: ConvergenceWarning: Objective did not converge. You might want to increase the number of iterations, check the scale of the features or consider increasing regularisation. Duality gap: 5.602e+06, tolerance: 2.641e+05\n",
            "  coef_, l1_reg, l2_reg, X, y, max_iter, tol, rng, random, positive\n"
          ]
        },
        {
          "output_type": "stream",
          "name": "stdout",
          "text": [
            "Model Number: 98 with model MultivariateRegression in generation 0 of 5\n",
            "Template Eval Error: ValueError('Some value(s) of y are out of the valid range for family PoissonDistribution') in model 98: MultivariateRegression\n",
            "Model Number: 99 with model PytorchForecasting in generation 0 of 5\n",
            "Template Eval Error: ImportError('pytorch, pytorch lighting, or pytorch-forecasting not present') in model 99: PytorchForecasting\n",
            "Model Number: 100 with model TMF in generation 0 of 5\n",
            "Template Eval Error: LinAlgError('SVD did not converge') in model 100: TMF\n",
            "Model Number: 101 with model LATC in generation 0 of 5\n",
            "Model Number: 102 with model LATC in generation 0 of 5\n"
          ]
        },
        {
          "output_type": "stream",
          "name": "stderr",
          "text": [
            "/usr/local/lib/python3.7/dist-packages/autots/models/matrix_var.py:378: RuntimeWarning: invalid value encountered in double_scalars\n",
            "  alpha = rold / np.inner(q, Aq)\n"
          ]
        },
        {
          "output_type": "stream",
          "name": "stdout",
          "text": [
            "Model Number: 103 with model DynamicFactor in generation 0 of 5\n",
            "Template Eval Error: ValueError('The dynamic factors model is only valid for multivariate time series.') in model 103: DynamicFactor\n",
            "Model Number: 104 with model VECM in generation 0 of 5\n",
            "Template Eval Error: ValueError('Only gave one variable to VECM') in model 104: VECM\n",
            "Model Number: 105 with model LATC in generation 0 of 5\n",
            "Model Number: 106 with model MAR in generation 0 of 5\n",
            "Model Number: 107 with model MAR in generation 0 of 5\n",
            "Model Number: 108 with model VAR in generation 0 of 5\n",
            "Template Eval Error: ValueError('Only gave one variable to VAR') in model 108: VAR\n",
            "New Generation: 1 of 5\n",
            "Model Number: 109 with model MultivariateRegression in generation 1 of 5\n",
            "Model Number: 110 with model WindowRegression in generation 1 of 5\n",
            "Epoch 1/100\n",
            "112/112 [==============================] - 3s 2ms/step - loss: nan\n",
            "Epoch 2/100\n",
            "112/112 [==============================] - 0s 2ms/step - loss: nan\n",
            "Epoch 3/100\n",
            "112/112 [==============================] - 0s 2ms/step - loss: nan\n",
            "Epoch 4/100\n",
            "112/112 [==============================] - 0s 3ms/step - loss: nan\n",
            "Epoch 5/100\n",
            "112/112 [==============================] - 0s 3ms/step - loss: nan\n",
            "Epoch 6/100\n",
            "112/112 [==============================] - 0s 3ms/step - loss: nan\n",
            "Epoch 7/100\n",
            "112/112 [==============================] - 0s 3ms/step - loss: nan\n",
            "Epoch 8/100\n",
            "112/112 [==============================] - 0s 3ms/step - loss: nan\n",
            "Epoch 9/100\n",
            "112/112 [==============================] - 0s 3ms/step - loss: nan\n",
            "Epoch 10/100\n",
            "112/112 [==============================] - 0s 3ms/step - loss: nan\n",
            "Epoch 11/100\n",
            "112/112 [==============================] - 0s 3ms/step - loss: nan\n",
            "Epoch 12/100\n",
            "112/112 [==============================] - 0s 3ms/step - loss: nan\n",
            "Epoch 13/100\n",
            "112/112 [==============================] - 0s 2ms/step - loss: nan\n",
            "Epoch 14/100\n",
            "112/112 [==============================] - 0s 3ms/step - loss: nan\n",
            "Epoch 15/100\n",
            "112/112 [==============================] - 0s 3ms/step - loss: nan\n",
            "Epoch 16/100\n",
            "112/112 [==============================] - 0s 2ms/step - loss: nan\n",
            "Epoch 17/100\n",
            "112/112 [==============================] - 0s 3ms/step - loss: nan\n",
            "Epoch 18/100\n",
            "112/112 [==============================] - 0s 3ms/step - loss: nan\n",
            "Epoch 19/100\n",
            "112/112 [==============================] - 0s 2ms/step - loss: nan\n",
            "Epoch 20/100\n",
            "112/112 [==============================] - 0s 2ms/step - loss: nan\n",
            "Epoch 21/100\n",
            "112/112 [==============================] - 0s 2ms/step - loss: nan\n",
            "Epoch 22/100\n",
            "112/112 [==============================] - 0s 2ms/step - loss: nan\n",
            "Epoch 23/100\n",
            "112/112 [==============================] - 0s 3ms/step - loss: nan\n",
            "Epoch 24/100\n",
            "112/112 [==============================] - 0s 3ms/step - loss: nan\n",
            "Epoch 25/100\n",
            "112/112 [==============================] - 0s 2ms/step - loss: nan\n",
            "Epoch 26/100\n",
            "112/112 [==============================] - 0s 2ms/step - loss: nan\n",
            "Epoch 27/100\n",
            "112/112 [==============================] - 0s 2ms/step - loss: nan\n",
            "Epoch 28/100\n",
            "112/112 [==============================] - 0s 2ms/step - loss: nan\n",
            "Epoch 29/100\n",
            "112/112 [==============================] - 0s 2ms/step - loss: nan\n",
            "Epoch 30/100\n",
            "112/112 [==============================] - 0s 2ms/step - loss: nan\n",
            "Epoch 31/100\n",
            "112/112 [==============================] - 0s 2ms/step - loss: nan\n",
            "Epoch 32/100\n",
            "112/112 [==============================] - 0s 2ms/step - loss: nan\n",
            "Epoch 33/100\n",
            "112/112 [==============================] - 0s 2ms/step - loss: nan\n",
            "Epoch 34/100\n",
            "112/112 [==============================] - 0s 2ms/step - loss: nan\n",
            "Epoch 35/100\n",
            "112/112 [==============================] - 0s 2ms/step - loss: nan\n",
            "Epoch 36/100\n",
            "112/112 [==============================] - 0s 3ms/step - loss: nan\n",
            "Epoch 37/100\n",
            "112/112 [==============================] - 0s 2ms/step - loss: nan\n",
            "Epoch 38/100\n",
            "112/112 [==============================] - 0s 2ms/step - loss: nan\n",
            "Epoch 39/100\n",
            "112/112 [==============================] - 0s 2ms/step - loss: nan\n",
            "Epoch 40/100\n",
            "112/112 [==============================] - 0s 2ms/step - loss: nan\n",
            "Epoch 41/100\n",
            "112/112 [==============================] - 0s 2ms/step - loss: nan\n",
            "Epoch 42/100\n",
            "112/112 [==============================] - 0s 2ms/step - loss: nan\n",
            "Epoch 43/100\n",
            "112/112 [==============================] - 0s 2ms/step - loss: nan\n",
            "Epoch 44/100\n",
            "112/112 [==============================] - 0s 2ms/step - loss: nan\n",
            "Epoch 45/100\n",
            "112/112 [==============================] - 0s 2ms/step - loss: nan\n",
            "Epoch 46/100\n",
            "112/112 [==============================] - 0s 2ms/step - loss: nan\n",
            "Epoch 47/100\n",
            "112/112 [==============================] - 0s 2ms/step - loss: nan\n",
            "Epoch 48/100\n",
            "112/112 [==============================] - 0s 2ms/step - loss: nan\n",
            "Epoch 49/100\n",
            "112/112 [==============================] - 0s 2ms/step - loss: nan\n",
            "Epoch 50/100\n",
            "112/112 [==============================] - 0s 2ms/step - loss: nan\n",
            "Epoch 51/100\n",
            "112/112 [==============================] - 0s 2ms/step - loss: nan\n",
            "Epoch 52/100\n",
            "112/112 [==============================] - 0s 2ms/step - loss: nan\n",
            "Epoch 53/100\n",
            "112/112 [==============================] - 0s 2ms/step - loss: nan\n",
            "Epoch 54/100\n",
            "112/112 [==============================] - 0s 2ms/step - loss: nan\n",
            "Epoch 55/100\n",
            "112/112 [==============================] - 0s 2ms/step - loss: nan\n",
            "Epoch 56/100\n",
            "112/112 [==============================] - 0s 2ms/step - loss: nan\n",
            "Epoch 57/100\n",
            "112/112 [==============================] - 0s 2ms/step - loss: nan\n",
            "Epoch 58/100\n",
            "112/112 [==============================] - 0s 2ms/step - loss: nan\n",
            "Epoch 59/100\n",
            "112/112 [==============================] - 0s 3ms/step - loss: nan\n",
            "Epoch 60/100\n",
            "112/112 [==============================] - 0s 3ms/step - loss: nan\n",
            "Epoch 61/100\n",
            "112/112 [==============================] - 0s 2ms/step - loss: nan\n",
            "Epoch 62/100\n",
            "112/112 [==============================] - 0s 2ms/step - loss: nan\n",
            "Epoch 63/100\n",
            "112/112 [==============================] - 0s 2ms/step - loss: nan\n",
            "Epoch 64/100\n",
            "112/112 [==============================] - 0s 2ms/step - loss: nan\n",
            "Epoch 65/100\n",
            "112/112 [==============================] - 0s 2ms/step - loss: nan\n",
            "Epoch 66/100\n",
            "112/112 [==============================] - 0s 3ms/step - loss: nan\n",
            "Epoch 67/100\n",
            "112/112 [==============================] - 0s 3ms/step - loss: nan\n",
            "Epoch 68/100\n",
            "112/112 [==============================] - 0s 2ms/step - loss: nan\n",
            "Epoch 69/100\n",
            "112/112 [==============================] - 0s 2ms/step - loss: nan\n",
            "Epoch 70/100\n",
            "112/112 [==============================] - 0s 3ms/step - loss: nan\n",
            "Epoch 71/100\n",
            "112/112 [==============================] - 0s 3ms/step - loss: nan\n",
            "Epoch 72/100\n",
            "112/112 [==============================] - 0s 2ms/step - loss: nan\n",
            "Epoch 73/100\n",
            "112/112 [==============================] - 0s 2ms/step - loss: nan\n",
            "Epoch 74/100\n",
            "112/112 [==============================] - 0s 2ms/step - loss: nan\n",
            "Epoch 75/100\n",
            "112/112 [==============================] - 0s 2ms/step - loss: nan\n",
            "Epoch 76/100\n",
            "112/112 [==============================] - 0s 2ms/step - loss: nan\n",
            "Epoch 77/100\n",
            "112/112 [==============================] - 0s 2ms/step - loss: nan\n",
            "Epoch 78/100\n",
            "112/112 [==============================] - 0s 2ms/step - loss: nan\n",
            "Epoch 79/100\n",
            "112/112 [==============================] - 0s 2ms/step - loss: nan\n",
            "Epoch 80/100\n",
            "112/112 [==============================] - 0s 2ms/step - loss: nan\n",
            "Epoch 81/100\n",
            "112/112 [==============================] - 0s 2ms/step - loss: nan\n",
            "Epoch 82/100\n",
            "112/112 [==============================] - 0s 3ms/step - loss: nan\n",
            "Epoch 83/100\n",
            "112/112 [==============================] - 0s 2ms/step - loss: nan\n",
            "Epoch 84/100\n",
            "112/112 [==============================] - 0s 2ms/step - loss: nan\n",
            "Epoch 85/100\n",
            "112/112 [==============================] - 0s 2ms/step - loss: nan\n",
            "Epoch 86/100\n",
            "112/112 [==============================] - 0s 2ms/step - loss: nan\n",
            "Epoch 87/100\n",
            "112/112 [==============================] - 0s 3ms/step - loss: nan\n",
            "Epoch 88/100\n",
            "112/112 [==============================] - 0s 2ms/step - loss: nan\n",
            "Epoch 89/100\n",
            "112/112 [==============================] - 0s 3ms/step - loss: nan\n",
            "Epoch 90/100\n",
            "112/112 [==============================] - 0s 3ms/step - loss: nan\n",
            "Epoch 91/100\n",
            "112/112 [==============================] - 0s 2ms/step - loss: nan\n",
            "Epoch 92/100\n",
            "112/112 [==============================] - 0s 3ms/step - loss: nan\n",
            "Epoch 93/100\n",
            "112/112 [==============================] - 0s 3ms/step - loss: nan\n",
            "Epoch 94/100\n",
            "112/112 [==============================] - 0s 3ms/step - loss: nan\n",
            "Epoch 95/100\n",
            "112/112 [==============================] - 0s 2ms/step - loss: nan\n",
            "Epoch 96/100\n",
            "112/112 [==============================] - 0s 3ms/step - loss: nan\n",
            "Epoch 97/100\n",
            "112/112 [==============================] - 0s 2ms/step - loss: nan\n",
            "Epoch 98/100\n",
            "112/112 [==============================] - 0s 2ms/step - loss: nan\n",
            "Epoch 99/100\n",
            "112/112 [==============================] - 0s 3ms/step - loss: nan\n",
            "Epoch 100/100\n",
            "112/112 [==============================] - 0s 2ms/step - loss: nan\n",
            "Template Eval Error: ValueError('Must pass 2-d input. shape=(1, 1, 10)') in model 110: WindowRegression\n",
            "Model Number: 111 with model MultivariateRegression in generation 1 of 5\n",
            "Model Number: 112 with model MAR in generation 1 of 5\n",
            "Model Number: 113 with model MultivariateRegression in generation 1 of 5\n",
            "Model Number: 114 with model NVAR in generation 1 of 5\n",
            "Model Number: 115 with model WindowRegression in generation 1 of 5\n",
            "Model Number: 116 with model NVAR in generation 1 of 5\n"
          ]
        },
        {
          "output_type": "stream",
          "name": "stderr",
          "text": [
            "/usr/local/lib/python3.7/dist-packages/sklearn/svm/_base.py:1208: ConvergenceWarning: Liblinear failed to converge, increase the number of iterations.\n",
            "  ConvergenceWarning,\n"
          ]
        },
        {
          "output_type": "stream",
          "name": "stdout",
          "text": [
            "Model Number: 117 with model NVAR in generation 1 of 5\n",
            "Model Number: 118 with model MultivariateRegression in generation 1 of 5\n",
            "Template Eval Error: ValueError(\"regression_type='User' but not future_regressor supplied.\") in model 118: MultivariateRegression\n",
            "Model Number: 119 with model RRVAR in generation 1 of 5\n",
            "Model Number: 120 with model NVAR in generation 1 of 5\n",
            "Model Number: 121 with model RollingRegression in generation 1 of 5\n",
            "Template Eval Error: ValueError('future_regressor not supplied, necessary for regression_type') in model 121: RollingRegression\n",
            "Model Number: 122 with model WindowRegression in generation 1 of 5\n",
            "Template Eval Error: ValueError(\"regression_type='User' but no future_regressor passed\") in model 122: WindowRegression\n",
            "Model Number: 123 with model SectionalMotif in generation 1 of 5\n",
            "Model Number: 124 with model RollingRegression in generation 1 of 5\n"
          ]
        },
        {
          "output_type": "stream",
          "name": "stderr",
          "text": [
            "/usr/local/lib/python3.7/dist-packages/sklearn/utils/validation.py:993: DataConversionWarning: A column-vector y was passed when a 1d array was expected. Please change the shape of y to (n_samples, ), for example using ravel().\n",
            "  y = column_or_1d(y, warn=True)\n"
          ]
        },
        {
          "output_type": "stream",
          "name": "stdout",
          "text": [
            "Model Number: 125 with model SectionalMotif in generation 1 of 5\n",
            "Model Number: 126 with model LATC in generation 1 of 5\n",
            "Model Number: 127 with model RRVAR in generation 1 of 5\n"
          ]
        },
        {
          "output_type": "stream",
          "name": "stderr",
          "text": [
            "/usr/local/lib/python3.7/dist-packages/sklearn/base.py:451: UserWarning: X does not have valid feature names, but HistGradientBoostingRegressor was fitted with feature names\n",
            "  \"X does not have valid feature names, but\"\n"
          ]
        },
        {
          "output_type": "stream",
          "name": "stdout",
          "text": [
            "Model Number: 128 with model RRVAR in generation 1 of 5\n",
            "Model Number: 129 with model NVAR in generation 1 of 5\n",
            "Model Number: 130 with model MultivariateRegression in generation 1 of 5\n",
            "Model Number: 131 with model MAR in generation 1 of 5\n",
            "Model Number: 132 with model WindowRegression in generation 1 of 5\n",
            "Model Number: 133 with model MultivariateMotif in generation 1 of 5\n",
            "Model Number: 134 with model MultivariateRegression in generation 1 of 5\n"
          ]
        },
        {
          "output_type": "stream",
          "name": "stderr",
          "text": [
            "/usr/local/lib/python3.7/dist-packages/sklearn/svm/_base.py:1208: ConvergenceWarning: Liblinear failed to converge, increase the number of iterations.\n",
            "  ConvergenceWarning,\n"
          ]
        },
        {
          "output_type": "stream",
          "name": "stdout",
          "text": [
            "Model Number: 135 with model MAR in generation 1 of 5\n",
            "Model Number: 136 with model WindowRegression in generation 1 of 5\n",
            "Model Number: 137 with model RRVAR in generation 1 of 5\n",
            "Model Number: 138 with model NVAR in generation 1 of 5\n",
            "Model Number: 139 with model MultivariateRegression in generation 1 of 5\n",
            "Model Number: 140 with model WindowRegression in generation 1 of 5\n",
            "Model Number: 141 with model SectionalMotif in generation 1 of 5\n",
            "Template Eval Error: ValueError(\"regression_type=='User' but no future_regressor supplied\") in model 141: SectionalMotif\n",
            "Model Number: 142 with model NVAR in generation 1 of 5\n",
            "Model Number: 143 with model NVAR in generation 1 of 5\n",
            "Model Number: 144 with model SectionalMotif in generation 1 of 5\n"
          ]
        },
        {
          "output_type": "stream",
          "name": "stderr",
          "text": [
            "/usr/local/lib/python3.7/dist-packages/sklearn/svm/_base.py:1208: ConvergenceWarning: Liblinear failed to converge, increase the number of iterations.\n",
            "  ConvergenceWarning,\n"
          ]
        },
        {
          "output_type": "stream",
          "name": "stdout",
          "text": [
            "Model Number: 145 with model RRVAR in generation 1 of 5\n",
            "Model Number: 146 with model NVAR in generation 1 of 5\n",
            "Model Number: 147 with model LATC in generation 1 of 5\n",
            "Model Number: 148 with model RRVAR in generation 1 of 5\n",
            "Model Number: 149 with model NVAR in generation 1 of 5\n",
            "Model Number: 150 with model MAR in generation 1 of 5\n",
            "Model Number: 151 with model MultivariateMotif in generation 1 of 5\n",
            "Model Number: 152 with model LATC in generation 1 of 5\n",
            "Model Number: 153 with model MultivariateRegression in generation 1 of 5\n",
            "Model Number: 154 with model RRVAR in generation 1 of 5\n",
            "Model Number: 155 with model RRVAR in generation 1 of 5\n",
            "Model Number: 156 with model LATC in generation 1 of 5\n"
          ]
        },
        {
          "output_type": "stream",
          "name": "stderr",
          "text": [
            "/usr/local/lib/python3.7/dist-packages/sklearn/neural_network/_multilayer_perceptron.py:549: ConvergenceWarning: lbfgs failed to converge (status=1):\n",
            "STOP: TOTAL NO. of ITERATIONS REACHED LIMIT.\n",
            "\n",
            "Increase the number of iterations (max_iter) or scale the data as shown in:\n",
            "    https://scikit-learn.org/stable/modules/preprocessing.html\n",
            "  self.n_iter_ = _check_optimize_result(\"lbfgs\", opt_res, self.max_iter)\n"
          ]
        },
        {
          "output_type": "stream",
          "name": "stdout",
          "text": [
            "Model Number: 157 with model NVAR in generation 1 of 5\n",
            "Model Number: 158 with model MultivariateRegression in generation 1 of 5\n"
          ]
        },
        {
          "output_type": "stream",
          "name": "stderr",
          "text": [
            "[Parallel(n_jobs=100)]: Using backend ThreadingBackend with 100 concurrent workers.\n",
            "[Parallel(n_jobs=100)]: Done 200 out of 200 | elapsed:    5.4s finished\n",
            "[Parallel(n_jobs=100)]: Using backend ThreadingBackend with 100 concurrent workers.\n",
            "[Parallel(n_jobs=100)]: Done 200 out of 200 | elapsed:    0.0s finished\n"
          ]
        },
        {
          "output_type": "stream",
          "name": "stdout",
          "text": [
            "Model Number: 159 with model MultivariateMotif in generation 1 of 5\n",
            "Model Number: 160 with model TMF in generation 1 of 5\n"
          ]
        },
        {
          "output_type": "stream",
          "name": "stderr",
          "text": [
            "/usr/local/lib/python3.7/dist-packages/autots/models/matrix_var.py:378: RuntimeWarning: invalid value encountered in double_scalars\n",
            "  alpha = rold / np.inner(q, Aq)\n"
          ]
        },
        {
          "output_type": "stream",
          "name": "stdout",
          "text": [
            "Template Eval Error: LinAlgError('SVD did not converge') in model 160: TMF\n",
            "Model Number: 161 with model MultivariateRegression in generation 1 of 5\n",
            "Model Number: 162 with model WindowRegression in generation 1 of 5\n",
            "Model Number: 163 with model LATC in generation 1 of 5\n",
            "Model Number: 164 with model LATC in generation 1 of 5\n",
            "Model Number: 165 with model LATC in generation 1 of 5\n",
            "Model Number: 166 with model SectionalMotif in generation 1 of 5\n",
            "Model Number: 167 with model MAR in generation 1 of 5\n",
            "Model Number: 168 with model RRVAR in generation 1 of 5\n",
            "Model Number: 169 with model WindowRegression in generation 1 of 5\n",
            "Model Number: 170 with model MultivariateMotif in generation 1 of 5\n",
            "Model Number: 171 with model SectionalMotif in generation 1 of 5\n",
            "Model Number: 172 with model WindowRegression in generation 1 of 5\n",
            "Template Eval Error: ValueError(\"regression_type='User' but no future_regressor passed\") in model 172: WindowRegression\n",
            "Model Number: 173 with model MultivariateMotif in generation 1 of 5\n",
            "Model Number: 174 with model LATC in generation 1 of 5\n",
            "Model Number: 175 with model MultivariateMotif in generation 1 of 5\n",
            "Model Number: 176 with model WindowRegression in generation 1 of 5\n",
            "Template Eval Error: ValueError(\"regression_type='User' but no future_regressor passed\") in model 176: WindowRegression\n",
            "Model Number: 177 with model RollingRegression in generation 1 of 5\n",
            "Model Number: 178 with model RRVAR in generation 1 of 5\n",
            "Model Number: 179 with model RRVAR in generation 1 of 5\n"
          ]
        },
        {
          "output_type": "stream",
          "name": "stderr",
          "text": [
            "/usr/local/lib/python3.7/dist-packages/sklearn/base.py:451: UserWarning: X does not have valid feature names, but RANSACRegressor was fitted with feature names\n",
            "  \"X does not have valid feature names, but\"\n"
          ]
        },
        {
          "output_type": "stream",
          "name": "stdout",
          "text": [
            "Model Number: 180 with model MAR in generation 1 of 5\n",
            "Model Number: 181 with model RRVAR in generation 1 of 5\n",
            "Model Number: 182 with model RollingRegression in generation 1 of 5\n"
          ]
        },
        {
          "output_type": "stream",
          "name": "stderr",
          "text": [
            "/usr/local/lib/python3.7/dist-packages/sklearn/neural_network/_multilayer_perceptron.py:1599: DataConversionWarning: A column-vector y was passed when a 1d array was expected. Please change the shape of y to (n_samples, ), for example using ravel().\n",
            "  y = column_or_1d(y, warn=True)\n",
            "/usr/local/lib/python3.7/dist-packages/sklearn/neural_network/_multilayer_perceptron.py:549: ConvergenceWarning: lbfgs failed to converge (status=1):\n",
            "STOP: TOTAL NO. of ITERATIONS REACHED LIMIT.\n",
            "\n",
            "Increase the number of iterations (max_iter) or scale the data as shown in:\n",
            "    https://scikit-learn.org/stable/modules/preprocessing.html\n",
            "  self.n_iter_ = _check_optimize_result(\"lbfgs\", opt_res, self.max_iter)\n"
          ]
        },
        {
          "output_type": "stream",
          "name": "stdout",
          "text": [
            "Model Number: 183 with model SectionalMotif in generation 1 of 5\n",
            "Model Number: 184 with model MultivariateMotif in generation 1 of 5\n"
          ]
        },
        {
          "output_type": "stream",
          "name": "stderr",
          "text": [
            "/usr/local/lib/python3.7/dist-packages/sklearn/base.py:451: UserWarning: X does not have valid feature names, but MLPRegressor was fitted with feature names\n",
            "  \"X does not have valid feature names, but\"\n"
          ]
        },
        {
          "output_type": "stream",
          "name": "stdout",
          "text": [
            "Model Number: 185 with model MAR in generation 1 of 5\n",
            "Model Number: 186 with model MultivariateMotif in generation 1 of 5\n",
            "Model Number: 187 with model NVAR in generation 1 of 5\n",
            "Model Number: 188 with model RRVAR in generation 1 of 5\n",
            "Model Number: 189 with model LATC in generation 1 of 5\n",
            "Model Number: 190 with model NVAR in generation 1 of 5\n",
            "Model Number: 191 with model RollingRegression in generation 1 of 5\n",
            "Model Number: 192 with model MultivariateRegression in generation 1 of 5\n"
          ]
        },
        {
          "output_type": "stream",
          "name": "stderr",
          "text": [
            "/usr/local/lib/python3.7/dist-packages/sklearn/base.py:451: UserWarning: X does not have valid feature names, but DecisionTreeRegressor was fitted with feature names\n",
            "  \"X does not have valid feature names, but\"\n",
            "/usr/local/lib/python3.7/dist-packages/sklearn/svm/_base.py:1208: ConvergenceWarning: Liblinear failed to converge, increase the number of iterations.\n",
            "  ConvergenceWarning,\n"
          ]
        },
        {
          "output_type": "stream",
          "name": "stdout",
          "text": [
            "Model Number: 193 with model MAR in generation 1 of 5\n",
            "New Generation: 2 of 5\n",
            "Model Number: 194 with model RRVAR in generation 2 of 5\n",
            "Model Number: 195 with model RRVAR in generation 2 of 5\n",
            "Model Number: 196 with model MultivariateRegression in generation 2 of 5\n",
            "Model Number: 197 with model SectionalMotif in generation 2 of 5\n",
            "Model Number: 198 with model MultivariateMotif in generation 2 of 5\n",
            "Model Number: 199 with model NVAR in generation 2 of 5\n",
            "Model Number: 200 with model MultivariateRegression in generation 2 of 5\n",
            "Model Number: 201 with model LATC in generation 2 of 5\n",
            "Model Number: 202 with model NVAR in generation 2 of 5\n",
            "Model Number: 203 with model MultivariateMotif in generation 2 of 5\n",
            "Model Number: 204 with model LATC in generation 2 of 5\n",
            "Model Number: 205 with model MultivariateMotif in generation 2 of 5\n",
            "Model Number: 206 with model SectionalMotif in generation 2 of 5\n",
            "Model Number: 207 with model LATC in generation 2 of 5\n",
            "Model Number: 208 with model WindowRegression in generation 2 of 5\n",
            "Model Number: 209 with model MAR in generation 2 of 5\n",
            "Model Number: 210 with model MultivariateMotif in generation 2 of 5\n",
            "Model Number: 211 with model MultivariateRegression in generation 2 of 5\n",
            "Model Number: 212 with model NVAR in generation 2 of 5\n",
            "Model Number: 213 with model WindowRegression in generation 2 of 5\n",
            "Model Number: 214 with model NVAR in generation 2 of 5\n",
            "Model Number: 215 with model SectionalMotif in generation 2 of 5\n",
            "Model Number: 216 with model RRVAR in generation 2 of 5\n",
            "Model Number: 217 with model WindowRegression in generation 2 of 5\n",
            "Model Number: 218 with model MAR in generation 2 of 5\n",
            "Model Number: 219 with model NVAR in generation 2 of 5\n",
            "Model Number: 220 with model RRVAR in generation 2 of 5\n",
            "Model Number: 221 with model MAR in generation 2 of 5\n",
            "Model Number: 222 with model LATC in generation 2 of 5\n",
            "Model Number: 223 with model RRVAR in generation 2 of 5\n",
            "Model Number: 224 with model NVAR in generation 2 of 5\n",
            "Model Number: 225 with model WindowRegression in generation 2 of 5\n",
            "Model Number: 226 with model WindowRegression in generation 2 of 5\n",
            "Model Number: 227 with model MultivariateRegression in generation 2 of 5\n",
            "Model Number: 228 with model RRVAR in generation 2 of 5\n",
            "Model Number: 229 with model NVAR in generation 2 of 5\n",
            "Model Number: 230 with model RollingRegression in generation 2 of 5\n"
          ]
        },
        {
          "output_type": "stream",
          "name": "stderr",
          "text": [
            "/usr/local/lib/python3.7/dist-packages/sklearn/decomposition/_fastica.py:119: ConvergenceWarning: FastICA did not converge. Consider increasing tolerance or the maximum number of iterations.\n",
            "  ConvergenceWarning,\n",
            "/usr/local/lib/python3.7/dist-packages/sklearn/base.py:451: UserWarning: X does not have valid feature names, but DecisionTreeRegressor was fitted with feature names\n",
            "  \"X does not have valid feature names, but\"\n"
          ]
        },
        {
          "output_type": "stream",
          "name": "stdout",
          "text": [
            "Model Number: 231 with model WindowRegression in generation 2 of 5\n",
            "Model Number: 232 with model MultivariateRegression in generation 2 of 5\n",
            "Model Number: 233 with model MAR in generation 2 of 5\n",
            "Template Eval Error: Exception('Transformer Detrend failed on fit') in model 233: MAR\n",
            "Model Number: 234 with model NVAR in generation 2 of 5\n",
            "Model Number: 235 with model RollingRegression in generation 2 of 5\n",
            "Model Number: 236 with model MultivariateMotif in generation 2 of 5\n",
            "Model Number: 237 with model NVAR in generation 2 of 5\n",
            "Model Number: 238 with model SectionalMotif in generation 2 of 5\n"
          ]
        },
        {
          "output_type": "stream",
          "name": "stderr",
          "text": [
            "/usr/local/lib/python3.7/dist-packages/sklearn/base.py:451: UserWarning: X does not have valid feature names, but Ridge was fitted with feature names\n",
            "  \"X does not have valid feature names, but\"\n"
          ]
        },
        {
          "output_type": "stream",
          "name": "stdout",
          "text": [
            "Model Number: 239 with model SectionalMotif in generation 2 of 5\n",
            "Model Number: 240 with model WindowRegression in generation 2 of 5\n",
            "Template Eval Error: ValueError(\"Input contains NaN, infinity or a value too large for dtype('float32').\") in model 240: WindowRegression\n",
            "Model Number: 241 with model MultivariateMotif in generation 2 of 5\n",
            "Model Number: 242 with model NVAR in generation 2 of 5\n",
            "Model Number: 243 with model MultivariateRegression in generation 2 of 5\n",
            "Model Number: 244 with model NVAR in generation 2 of 5\n",
            "Model Number: 245 with model RRVAR in generation 2 of 5\n",
            "Model Number: 246 with model NVAR in generation 2 of 5\n",
            "Model Number: 247 with model WindowRegression in generation 2 of 5\n",
            "Template Eval Error: ValueError(\"regression_type='User' but no future_regressor passed\") in model 247: WindowRegression\n",
            "Model Number: 248 with model WindowRegression in generation 2 of 5\n",
            "Model Number: 249 with model MultivariateMotif in generation 2 of 5\n",
            "Model Number: 250 with model TMF in generation 2 of 5\n",
            "Template Eval Error: LinAlgError('SVD did not converge') in model 250: TMF\n",
            "Model Number: 251 with model NVAR in generation 2 of 5\n",
            "Model Number: 252 with model RRVAR in generation 2 of 5\n"
          ]
        },
        {
          "output_type": "stream",
          "name": "stderr",
          "text": [
            "/usr/local/lib/python3.7/dist-packages/autots/models/matrix_var.py:378: RuntimeWarning: invalid value encountered in double_scalars\n",
            "  alpha = rold / np.inner(q, Aq)\n"
          ]
        },
        {
          "output_type": "stream",
          "name": "stdout",
          "text": [
            "Model Number: 253 with model LATC in generation 2 of 5\n",
            "Model Number: 254 with model RRVAR in generation 2 of 5\n",
            "Model Number: 255 with model MAR in generation 2 of 5\n",
            "Model Number: 256 with model RRVAR in generation 2 of 5\n",
            "Model Number: 257 with model MAR in generation 2 of 5\n",
            "Model Number: 258 with model RRVAR in generation 2 of 5\n",
            "Model Number: 259 with model MultivariateMotif in generation 2 of 5\n",
            "Model Number: 260 with model LATC in generation 2 of 5\n",
            "Model Number: 261 with model MultivariateRegression in generation 2 of 5\n",
            "Template Eval Error: ValueError(\"regression_type='User' but not future_regressor supplied.\") in model 261: MultivariateRegression\n",
            "Model Number: 262 with model RRVAR in generation 2 of 5\n",
            "Model Number: 263 with model LATC in generation 2 of 5\n",
            "Model Number: 264 with model SectionalMotif in generation 2 of 5\n",
            "Model Number: 265 with model MAR in generation 2 of 5\n",
            "Model Number: 266 with model MultivariateRegression in generation 2 of 5\n",
            "Model Number: 267 with model WindowRegression in generation 2 of 5\n",
            "Model Number: 268 with model MultivariateMotif in generation 2 of 5\n",
            "Model Number: 269 with model MultivariateRegression in generation 2 of 5\n",
            "Model Number: 270 with model WindowRegression in generation 2 of 5\n",
            "Model Number: 271 with model SectionalMotif in generation 2 of 5\n",
            "Model Number: 272 with model WindowRegression in generation 2 of 5\n",
            "Model Number: 273 with model RRVAR in generation 2 of 5\n",
            "Model Number: 274 with model WindowRegression in generation 2 of 5\n",
            "Model Number: 275 with model MultivariateRegression in generation 2 of 5\n",
            "Model Number: 276 with model NVAR in generation 2 of 5\n",
            "Model Number: 277 with model LATC in generation 2 of 5\n",
            "Model Number: 278 with model RollingRegression in generation 2 of 5\n",
            "New Generation: 3 of 5\n"
          ]
        },
        {
          "output_type": "stream",
          "name": "stderr",
          "text": [
            "/usr/local/lib/python3.7/dist-packages/sklearn/utils/validation.py:993: DataConversionWarning: A column-vector y was passed when a 1d array was expected. Please change the shape of y to (n_samples, ), for example using ravel().\n",
            "  y = column_or_1d(y, warn=True)\n",
            "/usr/local/lib/python3.7/dist-packages/sklearn/svm/_base.py:1208: ConvergenceWarning: Liblinear failed to converge, increase the number of iterations.\n",
            "  ConvergenceWarning,\n",
            "/usr/local/lib/python3.7/dist-packages/sklearn/base.py:451: UserWarning: X does not have valid feature names, but LinearSVR was fitted with feature names\n",
            "  \"X does not have valid feature names, but\"\n"
          ]
        },
        {
          "output_type": "stream",
          "name": "stdout",
          "text": [
            "Model Number: 279 with model NVAR in generation 3 of 5\n",
            "Model Number: 280 with model WindowRegression in generation 3 of 5\n",
            "Model Number: 281 with model RRVAR in generation 3 of 5\n",
            "Model Number: 282 with model SectionalMotif in generation 3 of 5\n",
            "Model Number: 283 with model MultivariateRegression in generation 3 of 5\n",
            "Model Number: 284 with model MAR in generation 3 of 5\n",
            "Model Number: 285 with model NVAR in generation 3 of 5\n",
            "Model Number: 286 with model MAR in generation 3 of 5\n",
            "Model Number: 287 with model WindowRegression in generation 3 of 5\n",
            "Model Number: 288 with model NVAR in generation 3 of 5\n",
            "Model Number: 289 with model RRVAR in generation 3 of 5\n",
            "Model Number: 290 with model RRVAR in generation 3 of 5\n",
            "Model Number: 291 with model WindowRegression in generation 3 of 5\n"
          ]
        },
        {
          "output_type": "stream",
          "name": "stderr",
          "text": [
            "/usr/local/lib/python3.7/dist-packages/sklearn/svm/_base.py:1208: ConvergenceWarning: Liblinear failed to converge, increase the number of iterations.\n",
            "  ConvergenceWarning,\n"
          ]
        },
        {
          "output_type": "stream",
          "name": "stdout",
          "text": [
            "Model Number: 292 with model RRVAR in generation 3 of 5\n",
            "Model Number: 293 with model WindowRegression in generation 3 of 5\n",
            "Template Eval Error: ValueError(\"regression_type='User' but no future_regressor passed\") in model 293: WindowRegression\n",
            "Model Number: 294 with model RRVAR in generation 3 of 5\n",
            "Model Number: 295 with model MultivariateMotif in generation 3 of 5\n",
            "Model Number: 296 with model MultivariateMotif in generation 3 of 5\n",
            "Model Number: 297 with model MultivariateRegression in generation 3 of 5\n",
            "Model Number: 298 with model LATC in generation 3 of 5\n",
            "Model Number: 299 with model SectionalMotif in generation 3 of 5\n",
            "Model Number: 300 with model MultivariateMotif in generation 3 of 5\n"
          ]
        },
        {
          "output_type": "stream",
          "name": "stderr",
          "text": [
            "/usr/local/lib/python3.7/dist-packages/sklearn/neural_network/_multilayer_perceptron.py:549: ConvergenceWarning: lbfgs failed to converge (status=1):\n",
            "STOP: TOTAL NO. of ITERATIONS REACHED LIMIT.\n",
            "\n",
            "Increase the number of iterations (max_iter) or scale the data as shown in:\n",
            "    https://scikit-learn.org/stable/modules/preprocessing.html\n",
            "  self.n_iter_ = _check_optimize_result(\"lbfgs\", opt_res, self.max_iter)\n"
          ]
        },
        {
          "output_type": "stream",
          "name": "stdout",
          "text": [
            "Model Number: 301 with model MAR in generation 3 of 5\n",
            "Model Number: 302 with model RRVAR in generation 3 of 5\n",
            "Model Number: 303 with model SectionalMotif in generation 3 of 5\n",
            "Model Number: 304 with model NVAR in generation 3 of 5\n",
            "Model Number: 305 with model NVAR in generation 3 of 5\n",
            "Model Number: 306 with model MAR in generation 3 of 5\n",
            "Model Number: 307 with model MultivariateMotif in generation 3 of 5\n",
            "Model Number: 308 with model NVAR in generation 3 of 5\n",
            "Model Number: 309 with model RRVAR in generation 3 of 5\n",
            "Model Number: 310 with model NVAR in generation 3 of 5\n",
            "Model Number: 311 with model LATC in generation 3 of 5\n",
            "Model Number: 312 with model SectionalMotif in generation 3 of 5\n",
            "Model Number: 313 with model MultivariateRegression in generation 3 of 5\n",
            "Template Eval Error: ValueError(\"regression_type='User' but not future_regressor supplied.\") in model 313: MultivariateRegression\n",
            "Model Number: 314 with model NVAR in generation 3 of 5\n",
            "Model Number: 315 with model RollingRegression in generation 3 of 5\n",
            "Model Number: 316 with model WindowRegression in generation 3 of 5\n"
          ]
        },
        {
          "output_type": "stream",
          "name": "stderr",
          "text": [
            "/usr/local/lib/python3.7/dist-packages/sklearn/utils/validation.py:993: DataConversionWarning: A column-vector y was passed when a 1d array was expected. Please change the shape of y to (n_samples, ), for example using ravel().\n",
            "  y = column_or_1d(y, warn=True)\n",
            "/usr/local/lib/python3.7/dist-packages/sklearn/base.py:451: UserWarning: X does not have valid feature names, but BayesianRidge was fitted with feature names\n",
            "  \"X does not have valid feature names, but\"\n"
          ]
        },
        {
          "output_type": "stream",
          "name": "stdout",
          "text": [
            "Model Number: 317 with model WindowRegression in generation 3 of 5\n",
            "Model Number: 318 with model NVAR in generation 3 of 5\n",
            "Model Number: 319 with model MultivariateMotif in generation 3 of 5\n",
            "Model Number: 320 with model RRVAR in generation 3 of 5\n",
            "Model Number: 321 with model RRVAR in generation 3 of 5\n",
            "Model Number: 322 with model MultivariateMotif in generation 3 of 5\n",
            "Model Number: 323 with model WindowRegression in generation 3 of 5\n",
            "Model Number: 324 with model SectionalMotif in generation 3 of 5\n",
            "Template Eval Error: ValueError(\"regression_type=='User' but no future_regressor supplied\") in model 324: SectionalMotif\n",
            "Model Number: 325 with model MultivariateMotif in generation 3 of 5\n",
            "Model Number: 326 with model NVAR in generation 3 of 5\n",
            "Model Number: 327 with model LATC in generation 3 of 5\n"
          ]
        },
        {
          "output_type": "stream",
          "name": "stderr",
          "text": [
            "/usr/local/lib/python3.7/dist-packages/sklearn/svm/_base.py:1208: ConvergenceWarning: Liblinear failed to converge, increase the number of iterations.\n",
            "  ConvergenceWarning,\n"
          ]
        },
        {
          "output_type": "stream",
          "name": "stdout",
          "text": [
            "Model Number: 328 with model RRVAR in generation 3 of 5\n",
            "Model Number: 329 with model NVAR in generation 3 of 5\n",
            "Model Number: 330 with model NVAR in generation 3 of 5\n",
            "Model Number: 331 with model WindowRegression in generation 3 of 5\n",
            "Model Number: 332 with model LATC in generation 3 of 5\n",
            "Model Number: 333 with model MultivariateRegression in generation 3 of 5\n",
            "Model Number: 334 with model MultivariateMotif in generation 3 of 5\n",
            "Model Number: 335 with model MultivariateRegression in generation 3 of 5\n",
            "Model Number: 336 with model SectionalMotif in generation 3 of 5\n",
            "Model Number: 337 with model WindowRegression in generation 3 of 5\n",
            "Model Number: 338 with model WindowRegression in generation 3 of 5\n",
            "Model Number: 339 with model WindowRegression in generation 3 of 5\n",
            "Model Number: 340 with model NVAR in generation 3 of 5\n",
            "Model Number: 341 with model MultivariateMotif in generation 3 of 5\n",
            "Model Number: 342 with model MultivariateRegression in generation 3 of 5\n"
          ]
        },
        {
          "output_type": "stream",
          "name": "stderr",
          "text": [
            "/usr/local/lib/python3.7/dist-packages/sklearn/svm/_base.py:1208: ConvergenceWarning: Liblinear failed to converge, increase the number of iterations.\n",
            "  ConvergenceWarning,\n"
          ]
        },
        {
          "output_type": "stream",
          "name": "stdout",
          "text": [
            "Model Number: 343 with model SectionalMotif in generation 3 of 5\n",
            "Model Number: 344 with model MultivariateMotif in generation 3 of 5\n",
            "Model Number: 345 with model RRVAR in generation 3 of 5\n",
            "Model Number: 346 with model NVAR in generation 3 of 5\n",
            "Model Number: 347 with model MultivariateRegression in generation 3 of 5\n",
            "Template Eval Error: ValueError(\"regression_type='User' but not future_regressor supplied.\") in model 347: MultivariateRegression\n",
            "Model Number: 348 with model MultivariateRegression in generation 3 of 5\n",
            "Model Number: 349 with model NVAR in generation 3 of 5\n",
            "Model Number: 350 with model SectionalMotif in generation 3 of 5\n",
            "Model Number: 351 with model LATC in generation 3 of 5\n",
            "Model Number: 352 with model MultivariateMotif in generation 3 of 5\n",
            "Model Number: 353 with model RollingRegression in generation 3 of 5\n",
            "Model Number: 354 with model RRVAR in generation 3 of 5\n",
            "Model Number: 355 with model MultivariateMotif in generation 3 of 5\n",
            "Model Number: 356 with model WindowRegression in generation 3 of 5\n"
          ]
        },
        {
          "output_type": "stream",
          "name": "stderr",
          "text": [
            "/usr/local/lib/python3.7/dist-packages/sklearn/linear_model/_ridge.py:157: LinAlgWarning: Ill-conditioned matrix (rcond=2.8075e-20): result may not be accurate.\n",
            "  return linalg.solve(A, Xy, sym_pos=True, overwrite_a=True).T\n",
            "/usr/local/lib/python3.7/dist-packages/sklearn/base.py:451: UserWarning: X does not have valid feature names, but Ridge was fitted with feature names\n",
            "  \"X does not have valid feature names, but\"\n"
          ]
        },
        {
          "output_type": "stream",
          "name": "stdout",
          "text": [
            "Model Number: 357 with model SectionalMotif in generation 3 of 5\n",
            "Model Number: 358 with model LATC in generation 3 of 5\n",
            "Model Number: 359 with model SectionalMotif in generation 3 of 5\n",
            "Model Number: 360 with model LATC in generation 3 of 5\n",
            "Model Number: 361 with model MAR in generation 3 of 5\n",
            "Model Number: 362 with model MultivariateRegression in generation 3 of 5\n",
            "Model Number: 363 with model MultivariateRegression in generation 3 of 5\n",
            "New Generation: 4 of 5\n",
            "Model Number: 364 with model RRVAR in generation 4 of 5\n",
            "Model Number: 365 with model WindowRegression in generation 4 of 5\n",
            "Model Number: 366 with model RollingRegression in generation 4 of 5\n",
            "Template Eval Error: ValueError('future_regressor not supplied, necessary for regression_type') in model 366: RollingRegression\n",
            "Model Number: 367 with model MultivariateRegression in generation 4 of 5\n",
            "Model Number: 368 with model WindowRegression in generation 4 of 5\n",
            "Model Number: 369 with model MultivariateRegression in generation 4 of 5\n",
            "Model Number: 370 with model MultivariateRegression in generation 4 of 5\n",
            "Model Number: 371 with model SectionalMotif in generation 4 of 5\n",
            "Model Number: 372 with model MultivariateMotif in generation 4 of 5\n",
            "Model Number: 373 with model SectionalMotif in generation 4 of 5\n"
          ]
        },
        {
          "output_type": "stream",
          "name": "stderr",
          "text": [
            "/usr/local/lib/python3.7/dist-packages/sklearn/neural_network/_multilayer_perceptron.py:549: ConvergenceWarning: lbfgs failed to converge (status=1):\n",
            "STOP: TOTAL NO. of ITERATIONS REACHED LIMIT.\n",
            "\n",
            "Increase the number of iterations (max_iter) or scale the data as shown in:\n",
            "    https://scikit-learn.org/stable/modules/preprocessing.html\n",
            "  self.n_iter_ = _check_optimize_result(\"lbfgs\", opt_res, self.max_iter)\n"
          ]
        },
        {
          "output_type": "stream",
          "name": "stdout",
          "text": [
            "Model Number: 374 with model MAR in generation 4 of 5\n",
            "Model Number: 375 with model MultivariateMotif in generation 4 of 5\n",
            "Model Number: 376 with model LATC in generation 4 of 5\n",
            "Model Number: 377 with model LATC in generation 4 of 5\n",
            "Model Number: 378 with model LATC in generation 4 of 5\n",
            "Model Number: 379 with model MultivariateRegression in generation 4 of 5\n"
          ]
        },
        {
          "output_type": "stream",
          "name": "stderr",
          "text": [
            "/usr/local/lib/python3.7/dist-packages/sklearn/neural_network/_multilayer_perceptron.py:549: ConvergenceWarning: lbfgs failed to converge (status=1):\n",
            "STOP: TOTAL NO. of ITERATIONS REACHED LIMIT.\n",
            "\n",
            "Increase the number of iterations (max_iter) or scale the data as shown in:\n",
            "    https://scikit-learn.org/stable/modules/preprocessing.html\n",
            "  self.n_iter_ = _check_optimize_result(\"lbfgs\", opt_res, self.max_iter)\n"
          ]
        },
        {
          "output_type": "stream",
          "name": "stdout",
          "text": [
            "Model Number: 380 with model RollingRegression in generation 4 of 5\n"
          ]
        },
        {
          "output_type": "stream",
          "name": "stderr",
          "text": [
            "/usr/local/lib/python3.7/dist-packages/sklearn/decomposition/_fastica.py:119: ConvergenceWarning: FastICA did not converge. Consider increasing tolerance or the maximum number of iterations.\n",
            "  ConvergenceWarning,\n",
            "/usr/local/lib/python3.7/dist-packages/sklearn/base.py:451: UserWarning: X does not have valid feature names, but RadiusNeighborsRegressor was fitted with feature names\n",
            "  \"X does not have valid feature names, but\"\n"
          ]
        },
        {
          "output_type": "stream",
          "name": "stdout",
          "text": [
            "Model Number: 381 with model RRVAR in generation 4 of 5\n",
            "Model Number: 382 with model MAR in generation 4 of 5\n",
            "Model Number: 383 with model MultivariateRegression in generation 4 of 5\n",
            "Model Number: 384 with model NVAR in generation 4 of 5\n",
            "Model Number: 385 with model WindowRegression in generation 4 of 5\n",
            "Model Number: 386 with model MultivariateRegression in generation 4 of 5\n",
            "Model Number: 387 with model NVAR in generation 4 of 5\n",
            "Model Number: 388 with model SectionalMotif in generation 4 of 5\n",
            "Model Number: 389 with model NVAR in generation 4 of 5\n",
            "Model Number: 390 with model MAR in generation 4 of 5\n",
            "Model Number: 391 with model WindowRegression in generation 4 of 5\n",
            "Template Eval Error: ValueError(\"regression_type='User' but no future_regressor passed\") in model 391: WindowRegression\n",
            "Model Number: 392 with model LATC in generation 4 of 5\n",
            "Model Number: 393 with model WindowRegression in generation 4 of 5\n",
            "Model Number: 394 with model SectionalMotif in generation 4 of 5\n",
            "Model Number: 395 with model LATC in generation 4 of 5\n",
            "Model Number: 396 with model MultivariateRegression in generation 4 of 5\n"
          ]
        },
        {
          "output_type": "stream",
          "name": "stderr",
          "text": [
            "/usr/local/lib/python3.7/dist-packages/sklearn/svm/_base.py:1208: ConvergenceWarning: Liblinear failed to converge, increase the number of iterations.\n",
            "  ConvergenceWarning,\n",
            "/usr/local/lib/python3.7/dist-packages/sklearn/neural_network/_multilayer_perceptron.py:549: ConvergenceWarning: lbfgs failed to converge (status=1):\n",
            "STOP: TOTAL NO. of ITERATIONS REACHED LIMIT.\n",
            "\n",
            "Increase the number of iterations (max_iter) or scale the data as shown in:\n",
            "    https://scikit-learn.org/stable/modules/preprocessing.html\n",
            "  self.n_iter_ = _check_optimize_result(\"lbfgs\", opt_res, self.max_iter)\n"
          ]
        },
        {
          "output_type": "stream",
          "name": "stdout",
          "text": [
            "Model Number: 397 with model MAR in generation 4 of 5\n",
            "Model Number: 398 with model SectionalMotif in generation 4 of 5\n",
            "Model Number: 399 with model NVAR in generation 4 of 5\n",
            "Model Number: 400 with model RollingRegression in generation 4 of 5\n",
            "Model Number: 401 with model RRVAR in generation 4 of 5\n",
            "Model Number: 402 with model RRVAR in generation 4 of 5\n"
          ]
        },
        {
          "output_type": "stream",
          "name": "stderr",
          "text": [
            "/usr/local/lib/python3.7/dist-packages/lightgbm/basic.py:195: UserWarning: Usage of np.ndarray subset (sliced data) is not recommended due to it will double the peak memory cost in LightGBM.\n",
            "  warnings.warn(\"Usage of np.ndarray subset (sliced data) is not recommended \"\n"
          ]
        },
        {
          "output_type": "stream",
          "name": "stdout",
          "text": [
            "Model Number: 403 with model TMF in generation 4 of 5\n",
            "Model Number: 404 with model MultivariateMotif in generation 4 of 5\n",
            "Model Number: 405 with model SectionalMotif in generation 4 of 5\n",
            "Template Eval Error: Exception('Transformer Detrend failed on fit') in model 405: SectionalMotif\n",
            "Model Number: 406 with model MultivariateRegression in generation 4 of 5\n",
            "Model Number: 407 with model NVAR in generation 4 of 5\n",
            "Model Number: 408 with model SectionalMotif in generation 4 of 5\n",
            "Model Number: 409 with model MultivariateRegression in generation 4 of 5\n",
            "Template Eval Error: ValueError(\"regression_type='User' but not future_regressor supplied.\") in model 409: MultivariateRegression\n",
            "Model Number: 410 with model MultivariateMotif in generation 4 of 5\n"
          ]
        },
        {
          "output_type": "stream",
          "name": "stderr",
          "text": [
            "/usr/local/lib/python3.7/dist-packages/sklearn/neural_network/_multilayer_perceptron.py:549: ConvergenceWarning: lbfgs failed to converge (status=1):\n",
            "STOP: TOTAL NO. of ITERATIONS REACHED LIMIT.\n",
            "\n",
            "Increase the number of iterations (max_iter) or scale the data as shown in:\n",
            "    https://scikit-learn.org/stable/modules/preprocessing.html\n",
            "  self.n_iter_ = _check_optimize_result(\"lbfgs\", opt_res, self.max_iter)\n"
          ]
        },
        {
          "output_type": "stream",
          "name": "stdout",
          "text": [
            "Model Number: 411 with model NVAR in generation 4 of 5\n",
            "Model Number: 412 with model NVAR in generation 4 of 5\n",
            "Model Number: 413 with model MAR in generation 4 of 5\n",
            "Model Number: 414 with model RRVAR in generation 4 of 5\n",
            "Model Number: 415 with model LATC in generation 4 of 5\n",
            "Model Number: 416 with model MAR in generation 4 of 5\n",
            "Model Number: 417 with model MultivariateMotif in generation 4 of 5\n",
            "Model Number: 418 with model RRVAR in generation 4 of 5\n",
            "Model Number: 419 with model WindowRegression in generation 4 of 5\n",
            "Model Number: 420 with model RRVAR in generation 4 of 5\n",
            "Model Number: 421 with model WindowRegression in generation 4 of 5\n",
            "Template Eval Error: Exception('Transformer Detrend failed on fit') in model 421: WindowRegression\n",
            "Model Number: 422 with model RRVAR in generation 4 of 5\n",
            "Model Number: 423 with model NVAR in generation 4 of 5\n",
            "Model Number: 424 with model MultivariateMotif in generation 4 of 5\n",
            "Model Number: 425 with model RRVAR in generation 4 of 5\n",
            "Model Number: 426 with model RRVAR in generation 4 of 5\n",
            "Model Number: 427 with model RollingRegression in generation 4 of 5\n"
          ]
        },
        {
          "output_type": "stream",
          "name": "stderr",
          "text": [
            "/usr/local/lib/python3.7/dist-packages/sklearn/utils/validation.py:993: DataConversionWarning: A column-vector y was passed when a 1d array was expected. Please change the shape of y to (n_samples, ), for example using ravel().\n",
            "  y = column_or_1d(y, warn=True)\n"
          ]
        },
        {
          "output_type": "stream",
          "name": "stdout",
          "text": [
            "Model Number: 428 with model NVAR in generation 4 of 5\n"
          ]
        },
        {
          "output_type": "stream",
          "name": "stderr",
          "text": [
            "/usr/local/lib/python3.7/dist-packages/sklearn/base.py:451: UserWarning: X does not have valid feature names, but HistGradientBoostingRegressor was fitted with feature names\n",
            "  \"X does not have valid feature names, but\"\n"
          ]
        },
        {
          "output_type": "stream",
          "name": "stdout",
          "text": [
            "Model Number: 429 with model WindowRegression in generation 4 of 5\n",
            "Model Number: 430 with model NVAR in generation 4 of 5\n",
            "Model Number: 431 with model MultivariateMotif in generation 4 of 5\n",
            "Model Number: 432 with model MAR in generation 4 of 5\n",
            "Model Number: 433 with model WindowRegression in generation 4 of 5\n",
            "Model Number: 434 with model MultivariateRegression in generation 4 of 5\n"
          ]
        },
        {
          "output_type": "stream",
          "name": "stderr",
          "text": [
            "/usr/local/lib/python3.7/dist-packages/sklearn/svm/_base.py:1208: ConvergenceWarning: Liblinear failed to converge, increase the number of iterations.\n",
            "  ConvergenceWarning,\n"
          ]
        },
        {
          "output_type": "stream",
          "name": "stdout",
          "text": [
            "Model Number: 435 with model NVAR in generation 4 of 5\n"
          ]
        },
        {
          "output_type": "stream",
          "name": "stderr",
          "text": [
            "/usr/local/lib/python3.7/dist-packages/sklearn/neural_network/_multilayer_perceptron.py:549: ConvergenceWarning: lbfgs failed to converge (status=1):\n",
            "STOP: TOTAL NO. of ITERATIONS REACHED LIMIT.\n",
            "\n",
            "Increase the number of iterations (max_iter) or scale the data as shown in:\n",
            "    https://scikit-learn.org/stable/modules/preprocessing.html\n",
            "  self.n_iter_ = _check_optimize_result(\"lbfgs\", opt_res, self.max_iter)\n"
          ]
        },
        {
          "output_type": "stream",
          "name": "stdout",
          "text": [
            "Model Number: 436 with model MAR in generation 4 of 5\n",
            "Model Number: 437 with model LATC in generation 4 of 5\n",
            "Model Number: 438 with model RRVAR in generation 4 of 5\n",
            "Model Number: 439 with model SectionalMotif in generation 4 of 5\n",
            "Model Number: 440 with model WindowRegression in generation 4 of 5\n",
            "Model Number: 441 with model LATC in generation 4 of 5\n",
            "Model Number: 442 with model MAR in generation 4 of 5\n"
          ]
        },
        {
          "output_type": "stream",
          "name": "stderr",
          "text": [
            "/usr/local/lib/python3.7/dist-packages/sklearn/svm/_base.py:1208: ConvergenceWarning: Liblinear failed to converge, increase the number of iterations.\n",
            "  ConvergenceWarning,\n"
          ]
        },
        {
          "output_type": "stream",
          "name": "stdout",
          "text": [
            "Model Number: 443 with model MultivariateMotif in generation 4 of 5\n",
            "Model Number: 444 with model SectionalMotif in generation 4 of 5\n",
            "Model Number: 445 with model LATC in generation 4 of 5\n",
            "Model Number: 446 with model NVAR in generation 4 of 5\n",
            "Model Number: 447 with model LATC in generation 4 of 5\n",
            "Model Number: 448 with model SectionalMotif in generation 4 of 5\n",
            "New Generation: 5 of 5\n",
            "Model Number: 449 with model SectionalMotif in generation 5 of 5\n",
            "Template Eval Error: ValueError(\"regression_type=='User' but no future_regressor supplied\") in model 449: SectionalMotif\n",
            "Model Number: 450 with model MAR in generation 5 of 5\n",
            "Model Number: 451 with model MultivariateRegression in generation 5 of 5\n",
            "Model Number: 452 with model MultivariateRegression in generation 5 of 5\n",
            "Model Number: 453 with model WindowRegression in generation 5 of 5\n",
            "Model Number: 454 with model NVAR in generation 5 of 5\n",
            "Model Number: 455 with model LATC in generation 5 of 5\n"
          ]
        },
        {
          "output_type": "stream",
          "name": "stderr",
          "text": [
            "/usr/local/lib/python3.7/dist-packages/sklearn/svm/_base.py:1208: ConvergenceWarning: Liblinear failed to converge, increase the number of iterations.\n",
            "  ConvergenceWarning,\n"
          ]
        },
        {
          "output_type": "stream",
          "name": "stdout",
          "text": [
            "Model Number: 456 with model MAR in generation 5 of 5\n",
            "Model Number: 457 with model WindowRegression in generation 5 of 5\n",
            "Model Number: 458 with model WindowRegression in generation 5 of 5\n",
            "Model Number: 459 with model TMF in generation 5 of 5\n"
          ]
        },
        {
          "output_type": "stream",
          "name": "stderr",
          "text": [
            "/usr/local/lib/python3.7/dist-packages/sklearn/svm/_base.py:1208: ConvergenceWarning: Liblinear failed to converge, increase the number of iterations.\n",
            "  ConvergenceWarning,\n"
          ]
        },
        {
          "output_type": "stream",
          "name": "stdout",
          "text": [
            "Model Number: 460 with model RRVAR in generation 5 of 5\n",
            "Model Number: 461 with model RollingRegression in generation 5 of 5\n"
          ]
        },
        {
          "output_type": "stream",
          "name": "stderr",
          "text": [
            "/usr/local/lib/python3.7/dist-packages/sklearn/utils/validation.py:993: DataConversionWarning: A column-vector y was passed when a 1d array was expected. Please change the shape of y to (n_samples, ), for example using ravel().\n",
            "  y = column_or_1d(y, warn=True)\n"
          ]
        },
        {
          "output_type": "stream",
          "name": "stdout",
          "text": [
            "Model Number: 462 with model LATC in generation 5 of 5\n"
          ]
        },
        {
          "output_type": "stream",
          "name": "stderr",
          "text": [
            "/usr/local/lib/python3.7/dist-packages/sklearn/base.py:451: UserWarning: X does not have valid feature names, but HistGradientBoostingRegressor was fitted with feature names\n",
            "  \"X does not have valid feature names, but\"\n"
          ]
        },
        {
          "output_type": "stream",
          "name": "stdout",
          "text": [
            "Model Number: 463 with model MAR in generation 5 of 5\n",
            "Model Number: 464 with model NVAR in generation 5 of 5\n",
            "Model Number: 465 with model MultivariateRegression in generation 5 of 5\n",
            "Model Number: 466 with model MAR in generation 5 of 5\n",
            "Model Number: 467 with model MultivariateRegression in generation 5 of 5\n",
            "Model Number: 468 with model NVAR in generation 5 of 5\n",
            "Model Number: 469 with model MultivariateMotif in generation 5 of 5\n",
            "Model Number: 470 with model RRVAR in generation 5 of 5\n"
          ]
        },
        {
          "output_type": "stream",
          "name": "stderr",
          "text": [
            "/usr/local/lib/python3.7/dist-packages/sklearn/neural_network/_multilayer_perceptron.py:549: ConvergenceWarning: lbfgs failed to converge (status=1):\n",
            "STOP: TOTAL NO. of ITERATIONS REACHED LIMIT.\n",
            "\n",
            "Increase the number of iterations (max_iter) or scale the data as shown in:\n",
            "    https://scikit-learn.org/stable/modules/preprocessing.html\n",
            "  self.n_iter_ = _check_optimize_result(\"lbfgs\", opt_res, self.max_iter)\n"
          ]
        },
        {
          "output_type": "stream",
          "name": "stdout",
          "text": [
            "Model Number: 471 with model NVAR in generation 5 of 5\n",
            "Model Number: 472 with model LATC in generation 5 of 5\n",
            "Model Number: 473 with model MultivariateMotif in generation 5 of 5\n",
            "Model Number: 474 with model MAR in generation 5 of 5\n",
            "Model Number: 475 with model RRVAR in generation 5 of 5\n",
            "Model Number: 476 with model LATC in generation 5 of 5\n",
            "Model Number: 477 with model RRVAR in generation 5 of 5\n",
            "Model Number: 478 with model WindowRegression in generation 5 of 5\n",
            "Model Number: 479 with model MAR in generation 5 of 5\n",
            "Model Number: 480 with model RRVAR in generation 5 of 5\n",
            "Model Number: 481 with model WindowRegression in generation 5 of 5\n",
            "Model Number: 482 with model SectionalMotif in generation 5 of 5\n",
            "Model Number: 483 with model MultivariateMotif in generation 5 of 5\n",
            "Model Number: 484 with model NVAR in generation 5 of 5\n",
            "Model Number: 485 with model MAR in generation 5 of 5\n",
            "Model Number: 486 with model RRVAR in generation 5 of 5\n",
            "Model Number: 487 with model RollingRegression in generation 5 of 5\n"
          ]
        },
        {
          "output_type": "stream",
          "name": "stderr",
          "text": [
            "/usr/local/lib/python3.7/dist-packages/autots/models/sklearn.py:1084: DataConversionWarning: A column-vector y was passed when a 1d array was expected. Please change the shape of y to (n_samples,), for example using ravel().\n",
            "  self.regr = self.regr.fit(X, Y)\n"
          ]
        },
        {
          "output_type": "stream",
          "name": "stdout",
          "text": [
            "Model Number: 488 with model NVAR in generation 5 of 5\n"
          ]
        },
        {
          "output_type": "stream",
          "name": "stderr",
          "text": [
            "/usr/local/lib/python3.7/dist-packages/sklearn/base.py:451: UserWarning: X does not have valid feature names, but ExtraTreesRegressor was fitted with feature names\n",
            "  \"X does not have valid feature names, but\"\n"
          ]
        },
        {
          "output_type": "stream",
          "name": "stdout",
          "text": [
            "Model Number: 489 with model MultivariateMotif in generation 5 of 5\n",
            "Model Number: 490 with model NVAR in generation 5 of 5\n",
            "Model Number: 491 with model WindowRegression in generation 5 of 5\n",
            "Model Number: 492 with model SectionalMotif in generation 5 of 5\n",
            "Model Number: 493 with model SectionalMotif in generation 5 of 5\n",
            "Model Number: 494 with model NVAR in generation 5 of 5\n"
          ]
        },
        {
          "output_type": "stream",
          "name": "stderr",
          "text": [
            "/usr/local/lib/python3.7/dist-packages/sklearn/svm/_base.py:1208: ConvergenceWarning: Liblinear failed to converge, increase the number of iterations.\n",
            "  ConvergenceWarning,\n"
          ]
        },
        {
          "output_type": "stream",
          "name": "stdout",
          "text": [
            "Model Number: 495 with model MultivariateRegression in generation 5 of 5\n",
            "Model Number: 496 with model MAR in generation 5 of 5\n",
            "Model Number: 497 with model RollingRegression in generation 5 of 5\n",
            "Model Number: 498 with model MAR in generation 5 of 5\n"
          ]
        },
        {
          "output_type": "stream",
          "name": "stderr",
          "text": [
            "/usr/local/lib/python3.7/dist-packages/sklearn/base.py:451: UserWarning: X does not have valid feature names, but DecisionTreeRegressor was fitted with feature names\n",
            "  \"X does not have valid feature names, but\"\n"
          ]
        },
        {
          "output_type": "stream",
          "name": "stdout",
          "text": [
            "Model Number: 499 with model SectionalMotif in generation 5 of 5\n",
            "Model Number: 500 with model WindowRegression in generation 5 of 5\n",
            "Model Number: 501 with model LATC in generation 5 of 5\n",
            "Model Number: 502 with model NVAR in generation 5 of 5\n",
            "Model Number: 503 with model SectionalMotif in generation 5 of 5\n",
            "Model Number: 504 with model SectionalMotif in generation 5 of 5\n",
            "Model Number: 505 with model NVAR in generation 5 of 5\n",
            "Model Number: 506 with model NVAR in generation 5 of 5\n",
            "Model Number: 507 with model WindowRegression in generation 5 of 5\n",
            "Model Number: 508 with model RRVAR in generation 5 of 5\n",
            "Model Number: 509 with model MAR in generation 5 of 5\n"
          ]
        },
        {
          "output_type": "stream",
          "name": "stderr",
          "text": [
            "/usr/local/lib/python3.7/dist-packages/sklearn/svm/_base.py:1208: ConvergenceWarning: Liblinear failed to converge, increase the number of iterations.\n",
            "  ConvergenceWarning,\n"
          ]
        },
        {
          "output_type": "stream",
          "name": "stdout",
          "text": [
            "Model Number: 510 with model RRVAR in generation 5 of 5\n",
            "Model Number: 511 with model SectionalMotif in generation 5 of 5\n",
            "Model Number: 512 with model WindowRegression in generation 5 of 5\n",
            "Model Number: 513 with model WindowRegression in generation 5 of 5\n",
            "Model Number: 514 with model NVAR in generation 5 of 5\n",
            "Model Number: 515 with model NVAR in generation 5 of 5\n",
            "Model Number: 516 with model MAR in generation 5 of 5\n",
            "Model Number: 517 with model Ensemble in generation 6 of Ensembles\n"
          ]
        },
        {
          "output_type": "stream",
          "name": "stderr",
          "text": [
            "/usr/local/lib/python3.7/dist-packages/sklearn/neural_network/_multilayer_perceptron.py:549: ConvergenceWarning: lbfgs failed to converge (status=1):\n",
            "STOP: TOTAL NO. of ITERATIONS REACHED LIMIT.\n",
            "\n",
            "Increase the number of iterations (max_iter) or scale the data as shown in:\n",
            "    https://scikit-learn.org/stable/modules/preprocessing.html\n",
            "  self.n_iter_ = _check_optimize_result(\"lbfgs\", opt_res, self.max_iter)\n"
          ]
        },
        {
          "output_type": "stream",
          "name": "stdout",
          "text": [
            "Model Number: 518 with model Ensemble in generation 6 of Ensembles\n"
          ]
        },
        {
          "output_type": "stream",
          "name": "stderr",
          "text": [
            "/usr/local/lib/python3.7/dist-packages/sklearn/neural_network/_multilayer_perceptron.py:549: ConvergenceWarning: lbfgs failed to converge (status=1):\n",
            "STOP: TOTAL NO. of ITERATIONS REACHED LIMIT.\n",
            "\n",
            "Increase the number of iterations (max_iter) or scale the data as shown in:\n",
            "    https://scikit-learn.org/stable/modules/preprocessing.html\n",
            "  self.n_iter_ = _check_optimize_result(\"lbfgs\", opt_res, self.max_iter)\n"
          ]
        },
        {
          "output_type": "stream",
          "name": "stdout",
          "text": [
            "Model Number: 519 with model Ensemble in generation 6 of Ensembles\n"
          ]
        },
        {
          "output_type": "stream",
          "name": "stderr",
          "text": [
            "/usr/local/lib/python3.7/dist-packages/sklearn/neural_network/_multilayer_perceptron.py:549: ConvergenceWarning: lbfgs failed to converge (status=1):\n",
            "STOP: TOTAL NO. of ITERATIONS REACHED LIMIT.\n",
            "\n",
            "Increase the number of iterations (max_iter) or scale the data as shown in:\n",
            "    https://scikit-learn.org/stable/modules/preprocessing.html\n",
            "  self.n_iter_ = _check_optimize_result(\"lbfgs\", opt_res, self.max_iter)\n"
          ]
        },
        {
          "output_type": "stream",
          "name": "stdout",
          "text": [
            "Model Number: 520 with model Ensemble in generation 6 of Ensembles\n"
          ]
        },
        {
          "output_type": "stream",
          "name": "stderr",
          "text": [
            "/usr/local/lib/python3.7/dist-packages/sklearn/neural_network/_multilayer_perceptron.py:549: ConvergenceWarning: lbfgs failed to converge (status=1):\n",
            "STOP: TOTAL NO. of ITERATIONS REACHED LIMIT.\n",
            "\n",
            "Increase the number of iterations (max_iter) or scale the data as shown in:\n",
            "    https://scikit-learn.org/stable/modules/preprocessing.html\n",
            "  self.n_iter_ = _check_optimize_result(\"lbfgs\", opt_res, self.max_iter)\n"
          ]
        },
        {
          "output_type": "stream",
          "name": "stdout",
          "text": [
            "Model Number: 521 with model Ensemble in generation 6 of Ensembles\n"
          ]
        },
        {
          "output_type": "stream",
          "name": "stderr",
          "text": [
            "/usr/local/lib/python3.7/dist-packages/sklearn/neural_network/_multilayer_perceptron.py:549: ConvergenceWarning: lbfgs failed to converge (status=1):\n",
            "STOP: TOTAL NO. of ITERATIONS REACHED LIMIT.\n",
            "\n",
            "Increase the number of iterations (max_iter) or scale the data as shown in:\n",
            "    https://scikit-learn.org/stable/modules/preprocessing.html\n",
            "  self.n_iter_ = _check_optimize_result(\"lbfgs\", opt_res, self.max_iter)\n"
          ]
        },
        {
          "output_type": "stream",
          "name": "stdout",
          "text": [
            "Model Number: 522 with model Ensemble in generation 6 of Ensembles\n"
          ]
        },
        {
          "output_type": "stream",
          "name": "stderr",
          "text": [
            "/usr/local/lib/python3.7/dist-packages/sklearn/neural_network/_multilayer_perceptron.py:549: ConvergenceWarning: lbfgs failed to converge (status=1):\n",
            "STOP: TOTAL NO. of ITERATIONS REACHED LIMIT.\n",
            "\n",
            "Increase the number of iterations (max_iter) or scale the data as shown in:\n",
            "    https://scikit-learn.org/stable/modules/preprocessing.html\n",
            "  self.n_iter_ = _check_optimize_result(\"lbfgs\", opt_res, self.max_iter)\n"
          ]
        },
        {
          "output_type": "stream",
          "name": "stdout",
          "text": [
            "Model Number: 523 with model Ensemble in generation 6 of Ensembles\n",
            "Model Number: 524 with model Ensemble in generation 6 of Ensembles\n",
            "Validation Round: 1\n",
            "Model Number: 1 of 84 with model Ensemble for Validation 1\n"
          ]
        },
        {
          "output_type": "stream",
          "name": "stderr",
          "text": [
            "/usr/local/lib/python3.7/dist-packages/sklearn/neural_network/_multilayer_perceptron.py:549: ConvergenceWarning: lbfgs failed to converge (status=1):\n",
            "STOP: TOTAL NO. of ITERATIONS REACHED LIMIT.\n",
            "\n",
            "Increase the number of iterations (max_iter) or scale the data as shown in:\n",
            "    https://scikit-learn.org/stable/modules/preprocessing.html\n",
            "  self.n_iter_ = _check_optimize_result(\"lbfgs\", opt_res, self.max_iter)\n"
          ]
        },
        {
          "output_type": "stream",
          "name": "stdout",
          "text": [
            "📈 1 - Ensemble with avg smape 2.92: \n",
            "Model Number: 2 of 84 with model NVAR for Validation 1\n",
            "📈 2 - NVAR with avg smape 2.49: \n",
            "Model Number: 3 of 84 with model Ensemble for Validation 1\n"
          ]
        },
        {
          "output_type": "stream",
          "name": "stderr",
          "text": [
            "/usr/local/lib/python3.7/dist-packages/sklearn/neural_network/_multilayer_perceptron.py:549: ConvergenceWarning: lbfgs failed to converge (status=1):\n",
            "STOP: TOTAL NO. of ITERATIONS REACHED LIMIT.\n",
            "\n",
            "Increase the number of iterations (max_iter) or scale the data as shown in:\n",
            "    https://scikit-learn.org/stable/modules/preprocessing.html\n",
            "  self.n_iter_ = _check_optimize_result(\"lbfgs\", opt_res, self.max_iter)\n"
          ]
        },
        {
          "output_type": "stream",
          "name": "stdout",
          "text": [
            "3 - Ensemble with avg smape 3.21: \n",
            "Model Number: 4 of 84 with model Ensemble for Validation 1\n"
          ]
        },
        {
          "output_type": "stream",
          "name": "stderr",
          "text": [
            "/usr/local/lib/python3.7/dist-packages/sklearn/neural_network/_multilayer_perceptron.py:549: ConvergenceWarning: lbfgs failed to converge (status=1):\n",
            "STOP: TOTAL NO. of ITERATIONS REACHED LIMIT.\n",
            "\n",
            "Increase the number of iterations (max_iter) or scale the data as shown in:\n",
            "    https://scikit-learn.org/stable/modules/preprocessing.html\n",
            "  self.n_iter_ = _check_optimize_result(\"lbfgs\", opt_res, self.max_iter)\n"
          ]
        },
        {
          "output_type": "stream",
          "name": "stdout",
          "text": [
            "4 - Ensemble with avg smape 3.21: \n",
            "Model Number: 5 of 84 with model MultivariateRegression for Validation 1\n"
          ]
        },
        {
          "output_type": "stream",
          "name": "stderr",
          "text": [
            "/usr/local/lib/python3.7/dist-packages/sklearn/neural_network/_multilayer_perceptron.py:549: ConvergenceWarning: lbfgs failed to converge (status=1):\n",
            "STOP: TOTAL NO. of ITERATIONS REACHED LIMIT.\n",
            "\n",
            "Increase the number of iterations (max_iter) or scale the data as shown in:\n",
            "    https://scikit-learn.org/stable/modules/preprocessing.html\n",
            "  self.n_iter_ = _check_optimize_result(\"lbfgs\", opt_res, self.max_iter)\n"
          ]
        },
        {
          "output_type": "stream",
          "name": "stdout",
          "text": [
            "5 - MultivariateRegression with avg smape 3.58: \n",
            "Model Number: 6 of 84 with model MultivariateRegression for Validation 1\n",
            "6 - MultivariateRegression with avg smape 3.58: \n",
            "Model Number: 7 of 84 with model Ensemble for Validation 1\n"
          ]
        },
        {
          "output_type": "stream",
          "name": "stderr",
          "text": [
            "/usr/local/lib/python3.7/dist-packages/sklearn/neural_network/_multilayer_perceptron.py:549: ConvergenceWarning: lbfgs failed to converge (status=1):\n",
            "STOP: TOTAL NO. of ITERATIONS REACHED LIMIT.\n",
            "\n",
            "Increase the number of iterations (max_iter) or scale the data as shown in:\n",
            "    https://scikit-learn.org/stable/modules/preprocessing.html\n",
            "  self.n_iter_ = _check_optimize_result(\"lbfgs\", opt_res, self.max_iter)\n"
          ]
        },
        {
          "output_type": "stream",
          "name": "stdout",
          "text": [
            "7 - Ensemble with avg smape 3.58: \n",
            "Model Number: 8 of 84 with model Ensemble for Validation 1\n"
          ]
        },
        {
          "output_type": "stream",
          "name": "stderr",
          "text": [
            "/usr/local/lib/python3.7/dist-packages/sklearn/neural_network/_multilayer_perceptron.py:549: ConvergenceWarning: lbfgs failed to converge (status=1):\n",
            "STOP: TOTAL NO. of ITERATIONS REACHED LIMIT.\n",
            "\n",
            "Increase the number of iterations (max_iter) or scale the data as shown in:\n",
            "    https://scikit-learn.org/stable/modules/preprocessing.html\n",
            "  self.n_iter_ = _check_optimize_result(\"lbfgs\", opt_res, self.max_iter)\n"
          ]
        },
        {
          "output_type": "stream",
          "name": "stdout",
          "text": [
            "8 - Ensemble with avg smape 3.33: \n",
            "Model Number: 9 of 84 with model NVAR for Validation 1\n",
            "9 - NVAR with avg smape 2.92: \n",
            "Model Number: 10 of 84 with model NVAR for Validation 1\n",
            "10 - NVAR with avg smape 2.92: \n",
            "Model Number: 11 of 84 with model MAR for Validation 1\n",
            "11 - MAR with avg smape 3.91: \n",
            "Model Number: 12 of 84 with model Ensemble for Validation 1\n",
            "📈 12 - Ensemble with avg smape 2.25: \n",
            "Model Number: 13 of 84 with model Ensemble for Validation 1\n",
            "📈 13 - Ensemble with avg smape 2.14: \n",
            "Model Number: 14 of 84 with model Ensemble for Validation 1\n"
          ]
        },
        {
          "output_type": "stream",
          "name": "stderr",
          "text": [
            "/usr/local/lib/python3.7/dist-packages/sklearn/neural_network/_multilayer_perceptron.py:549: ConvergenceWarning: lbfgs failed to converge (status=1):\n",
            "STOP: TOTAL NO. of ITERATIONS REACHED LIMIT.\n",
            "\n",
            "Increase the number of iterations (max_iter) or scale the data as shown in:\n",
            "    https://scikit-learn.org/stable/modules/preprocessing.html\n",
            "  self.n_iter_ = _check_optimize_result(\"lbfgs\", opt_res, self.max_iter)\n"
          ]
        },
        {
          "output_type": "stream",
          "name": "stdout",
          "text": [
            "14 - Ensemble with avg smape 3.03: \n",
            "Model Number: 15 of 84 with model NVAR for Validation 1\n",
            "15 - NVAR with avg smape 2.97: \n",
            "Model Number: 16 of 84 with model MultivariateRegression for Validation 1\n",
            "📈 16 - MultivariateRegression with avg smape 1.45: \n",
            "Model Number: 17 of 84 with model NVAR for Validation 1\n",
            "17 - NVAR with avg smape 2.99: \n",
            "Model Number: 18 of 84 with model LATC for Validation 1\n",
            "📈 18 - LATC with avg smape 0.04: \n",
            "Model Number: 19 of 84 with model RRVAR for Validation 1\n",
            "19 - RRVAR with avg smape 2.62: \n",
            "Model Number: 20 of 84 with model NVAR for Validation 1\n",
            "20 - NVAR with avg smape 2.38: \n",
            "Model Number: 21 of 84 with model NVAR for Validation 1\n",
            "21 - NVAR with avg smape 2.37: \n",
            "Model Number: 22 of 84 with model MultivariateRegression for Validation 1\n",
            "22 - MultivariateRegression with avg smape 3.06: \n",
            "Model Number: 23 of 84 with model MAR for Validation 1\n",
            "23 - MAR with avg smape 4.39: \n",
            "Model Number: 24 of 84 with model RRVAR for Validation 1\n",
            "24 - RRVAR with avg smape 2.91: \n",
            "Model Number: 25 of 84 with model WindowRegression for Validation 1\n",
            "25 - WindowRegression with avg smape 0.94: \n",
            "Model Number: 26 of 84 with model SectionalMotif for Validation 1\n",
            "26 - SectionalMotif with avg smape 3.02: \n",
            "Model Number: 27 of 84 with model NVAR for Validation 1\n",
            "27 - NVAR with avg smape 1.29: \n",
            "Model Number: 28 of 84 with model MAR for Validation 1\n",
            "28 - MAR with avg smape 2.91: \n",
            "Model Number: 29 of 84 with model RRVAR for Validation 1\n",
            "29 - RRVAR with avg smape 2.91: \n",
            "Model Number: 30 of 84 with model RRVAR for Validation 1\n",
            "30 - RRVAR with avg smape 2.91: \n",
            "Model Number: 31 of 84 with model WindowRegression for Validation 1\n",
            "31 - WindowRegression with avg smape 0.95: \n",
            "Model Number: 32 of 84 with model WindowRegression for Validation 1\n",
            "32 - WindowRegression with avg smape 3.21: \n",
            "Model Number: 33 of 84 with model MAR for Validation 1\n",
            "33 - MAR with avg smape 3.1: \n",
            "Model Number: 34 of 84 with model SectionalMotif for Validation 1\n",
            "34 - SectionalMotif with avg smape 0.53: \n",
            "Model Number: 35 of 84 with model RRVAR for Validation 1\n",
            "35 - RRVAR with avg smape 3.14: \n",
            "Model Number: 36 of 84 with model RRVAR for Validation 1\n",
            "36 - RRVAR with avg smape 3.14: \n",
            "Model Number: 37 of 84 with model WindowRegression for Validation 1\n",
            "37 - WindowRegression with avg smape 3.33: \n",
            "Model Number: 38 of 84 with model LATC for Validation 1\n",
            "38 - LATC with avg smape 5.81: \n",
            "Model Number: 39 of 84 with model MAR for Validation 1\n"
          ]
        },
        {
          "output_type": "stream",
          "name": "stderr",
          "text": [
            "/usr/local/lib/python3.7/dist-packages/sklearn/svm/_base.py:1208: ConvergenceWarning: Liblinear failed to converge, increase the number of iterations.\n",
            "  ConvergenceWarning,\n"
          ]
        },
        {
          "output_type": "stream",
          "name": "stdout",
          "text": [
            "39 - MAR with avg smape 2.75: \n",
            "Model Number: 40 of 84 with model RRVAR for Validation 1\n",
            "40 - RRVAR with avg smape 3.16: \n",
            "Model Number: 41 of 84 with model RRVAR for Validation 1\n",
            "41 - RRVAR with avg smape 3.16: \n",
            "Model Number: 42 of 84 with model MultivariateRegression for Validation 1\n",
            "42 - MultivariateRegression with avg smape 3.03: \n",
            "Model Number: 43 of 84 with model WindowRegression for Validation 1\n",
            "43 - WindowRegression with avg smape 3.1: \n",
            "Model Number: 44 of 84 with model LATC for Validation 1\n",
            "44 - LATC with avg smape 0.86: \n",
            "Model Number: 45 of 84 with model SectionalMotif for Validation 1\n",
            "45 - SectionalMotif with avg smape 3.15: \n",
            "Model Number: 46 of 84 with model SectionalMotif for Validation 1\n",
            "46 - SectionalMotif with avg smape 3.15: \n",
            "Model Number: 47 of 84 with model MultivariateMotif for Validation 1\n"
          ]
        },
        {
          "output_type": "stream",
          "name": "stderr",
          "text": [
            "/usr/local/lib/python3.7/dist-packages/sklearn/svm/_base.py:1208: ConvergenceWarning: Liblinear failed to converge, increase the number of iterations.\n",
            "  ConvergenceWarning,\n"
          ]
        },
        {
          "output_type": "stream",
          "name": "stdout",
          "text": [
            "47 - MultivariateMotif with avg smape 2.4: \n",
            "Model Number: 48 of 84 with model MAR for Validation 1\n",
            "48 - MAR with avg smape 4.02: \n",
            "Model Number: 49 of 84 with model MAR for Validation 1\n",
            "49 - MAR with avg smape 4.02: \n",
            "Model Number: 50 of 84 with model MAR for Validation 1\n",
            "50 - MAR with avg smape 3.07: \n",
            "Model Number: 51 of 84 with model MultivariateRegression for Validation 1\n"
          ]
        },
        {
          "output_type": "stream",
          "name": "stderr",
          "text": [
            "/usr/local/lib/python3.7/dist-packages/sklearn/neural_network/_multilayer_perceptron.py:549: ConvergenceWarning: lbfgs failed to converge (status=1):\n",
            "STOP: TOTAL NO. of ITERATIONS REACHED LIMIT.\n",
            "\n",
            "Increase the number of iterations (max_iter) or scale the data as shown in:\n",
            "    https://scikit-learn.org/stable/modules/preprocessing.html\n",
            "  self.n_iter_ = _check_optimize_result(\"lbfgs\", opt_res, self.max_iter)\n"
          ]
        },
        {
          "output_type": "stream",
          "name": "stdout",
          "text": [
            "51 - MultivariateRegression with avg smape 5.01: \n",
            "Model Number: 52 of 84 with model WindowRegression for Validation 1\n",
            "52 - WindowRegression with avg smape 3.26: \n",
            "Model Number: 53 of 84 with model SectionalMotif for Validation 1\n",
            "53 - SectionalMotif with avg smape 2.8: \n",
            "Model Number: 54 of 84 with model MultivariateRegression for Validation 1\n",
            "54 - MultivariateRegression with avg smape 0.8: \n",
            "Model Number: 55 of 84 with model LATC for Validation 1\n",
            "55 - LATC with avg smape 2.53: \n",
            "Model Number: 56 of 84 with model LATC for Validation 1\n"
          ]
        },
        {
          "output_type": "stream",
          "name": "stderr",
          "text": [
            "/usr/local/lib/python3.7/dist-packages/sklearn/neural_network/_multilayer_perceptron.py:549: ConvergenceWarning: lbfgs failed to converge (status=1):\n",
            "STOP: TOTAL NO. of ITERATIONS REACHED LIMIT.\n",
            "\n",
            "Increase the number of iterations (max_iter) or scale the data as shown in:\n",
            "    https://scikit-learn.org/stable/modules/preprocessing.html\n",
            "  self.n_iter_ = _check_optimize_result(\"lbfgs\", opt_res, self.max_iter)\n"
          ]
        },
        {
          "output_type": "stream",
          "name": "stdout",
          "text": [
            "56 - LATC with avg smape 2.53: \n",
            "Model Number: 57 of 84 with model LATC for Validation 1\n",
            "57 - LATC with avg smape 2.53: \n",
            "Model Number: 58 of 84 with model LATC for Validation 1\n",
            "58 - LATC with avg smape 2.53: \n",
            "Model Number: 59 of 84 with model WindowRegression for Validation 1\n",
            "59 - WindowRegression with avg smape 2.9: \n",
            "Model Number: 60 of 84 with model WindowRegression for Validation 1\n",
            "60 - WindowRegression with avg smape 1.12: \n",
            "Model Number: 61 of 84 with model MultivariateMotif for Validation 1\n",
            "61 - MultivariateMotif with avg smape 2.94: \n",
            "Model Number: 62 of 84 with model MultivariateMotif for Validation 1\n",
            "62 - MultivariateMotif with avg smape 2.87: \n",
            "Model Number: 63 of 84 with model RollingRegression for Validation 1\n",
            "63 - RollingRegression with avg smape 2.01: \n",
            "Model Number: 64 of 84 with model MultivariateMotif for Validation 1\n",
            "64 - MultivariateMotif with avg smape 2.88: \n",
            "Model Number: 65 of 84 with model MultivariateRegression for Validation 1\n"
          ]
        },
        {
          "output_type": "stream",
          "name": "stderr",
          "text": [
            "/usr/local/lib/python3.7/dist-packages/sklearn/base.py:451: UserWarning: X does not have valid feature names, but DecisionTreeRegressor was fitted with feature names\n",
            "  \"X does not have valid feature names, but\"\n"
          ]
        },
        {
          "output_type": "stream",
          "name": "stdout",
          "text": [
            "65 - MultivariateRegression with avg smape 1.54: \n",
            "Model Number: 66 of 84 with model MultivariateMotif for Validation 1\n",
            "66 - MultivariateMotif with avg smape 2.91: \n",
            "Model Number: 67 of 84 with model MultivariateMotif for Validation 1\n",
            "67 - MultivariateMotif with avg smape 1.28: \n",
            "Model Number: 68 of 84 with model MultivariateMotif for Validation 1\n",
            "68 - MultivariateMotif with avg smape 3.25: \n",
            "Model Number: 69 of 84 with model LATC for Validation 1\n",
            "69 - LATC with avg smape 2.88: \n",
            "Model Number: 70 of 84 with model TMF for Validation 1\n",
            "70 - TMF with avg smape 2.88: \n",
            "Model Number: 71 of 84 with model RollingRegression for Validation 1\n",
            "71 - RollingRegression with avg smape 2.88: \n",
            "Model Number: 72 of 84 with model RollingRegression for Validation 1\n"
          ]
        },
        {
          "output_type": "stream",
          "name": "stderr",
          "text": [
            "/usr/local/lib/python3.7/dist-packages/sklearn/base.py:451: UserWarning: X does not have valid feature names, but Ridge was fitted with feature names\n",
            "  \"X does not have valid feature names, but\"\n",
            "/usr/local/lib/python3.7/dist-packages/sklearn/utils/validation.py:993: DataConversionWarning: A column-vector y was passed when a 1d array was expected. Please change the shape of y to (n_samples, ), for example using ravel().\n",
            "  y = column_or_1d(y, warn=True)\n",
            "/usr/local/lib/python3.7/dist-packages/sklearn/svm/_base.py:1208: ConvergenceWarning: Liblinear failed to converge, increase the number of iterations.\n",
            "  ConvergenceWarning,\n",
            "/usr/local/lib/python3.7/dist-packages/sklearn/base.py:451: UserWarning: X does not have valid feature names, but LinearSVR was fitted with feature names\n",
            "  \"X does not have valid feature names, but\"\n"
          ]
        },
        {
          "output_type": "stream",
          "name": "stdout",
          "text": [
            "72 - RollingRegression with avg smape 2.54: \n",
            "Model Number: 73 of 84 with model SectionalMotif for Validation 1\n",
            "73 - SectionalMotif with avg smape 2.72: \n",
            "Model Number: 74 of 84 with model SectionalMotif for Validation 1\n",
            "74 - SectionalMotif with avg smape 2.48: \n",
            "Model Number: 75 of 84 with model SectionalMotif for Validation 1\n",
            "75 - SectionalMotif with avg smape 3.16: \n",
            "Model Number: 76 of 84 with model MultivariateMotif for Validation 1\n",
            "76 - MultivariateMotif with avg smape 2.11: \n",
            "Model Number: 77 of 84 with model RollingRegression for Validation 1\n"
          ]
        },
        {
          "output_type": "stream",
          "name": "stderr",
          "text": [
            "/usr/local/lib/python3.7/dist-packages/sklearn/decomposition/_fastica.py:119: ConvergenceWarning: FastICA did not converge. Consider increasing tolerance or the maximum number of iterations.\n",
            "  ConvergenceWarning,\n",
            "/usr/local/lib/python3.7/dist-packages/sklearn/base.py:451: UserWarning: X does not have valid feature names, but DecisionTreeRegressor was fitted with feature names\n",
            "  \"X does not have valid feature names, but\"\n"
          ]
        },
        {
          "output_type": "stream",
          "name": "stdout",
          "text": [
            "77 - RollingRegression with avg smape 2.36: \n",
            "Model Number: 78 of 84 with model TMF for Validation 1\n",
            "78 - TMF with avg smape 3.04: \n",
            "Model Number: 79 of 84 with model RollingRegression for Validation 1\n"
          ]
        },
        {
          "output_type": "stream",
          "name": "stderr",
          "text": [
            "/usr/local/lib/python3.7/dist-packages/autots/models/sklearn.py:1084: DataConversionWarning: A column-vector y was passed when a 1d array was expected. Please change the shape of y to (n_samples,), for example using ravel().\n",
            "  self.regr = self.regr.fit(X, Y)\n",
            "/usr/local/lib/python3.7/dist-packages/sklearn/base.py:451: UserWarning: X does not have valid feature names, but ExtraTreesRegressor was fitted with feature names\n",
            "  \"X does not have valid feature names, but\"\n",
            "/usr/local/lib/python3.7/dist-packages/sklearn/utils/validation.py:993: DataConversionWarning: A column-vector y was passed when a 1d array was expected. Please change the shape of y to (n_samples, ), for example using ravel().\n",
            "  y = column_or_1d(y, warn=True)\n"
          ]
        },
        {
          "output_type": "stream",
          "name": "stdout",
          "text": [
            "79 - RollingRegression with avg smape 2.35: \n",
            "Model Number: 80 of 84 with model RollingRegression for Validation 1\n",
            "80 - RollingRegression with avg smape 5.08: \n",
            "Model Number: 81 of 84 with model RollingRegression for Validation 1\n"
          ]
        },
        {
          "output_type": "stream",
          "name": "stderr",
          "text": [
            "/usr/local/lib/python3.7/dist-packages/sklearn/base.py:451: UserWarning: X does not have valid feature names, but HistGradientBoostingRegressor was fitted with feature names\n",
            "  \"X does not have valid feature names, but\"\n",
            "/usr/local/lib/python3.7/dist-packages/sklearn/utils/validation.py:993: DataConversionWarning: A column-vector y was passed when a 1d array was expected. Please change the shape of y to (n_samples, ), for example using ravel().\n",
            "  y = column_or_1d(y, warn=True)\n",
            "/usr/local/lib/python3.7/dist-packages/sklearn/base.py:451: UserWarning: X does not have valid feature names, but BayesianRidge was fitted with feature names\n",
            "  \"X does not have valid feature names, but\"\n",
            "/usr/local/lib/python3.7/dist-packages/sklearn/utils/validation.py:993: DataConversionWarning: A column-vector y was passed when a 1d array was expected. Please change the shape of y to (n_samples, ), for example using ravel().\n",
            "  y = column_or_1d(y, warn=True)\n"
          ]
        },
        {
          "output_type": "stream",
          "name": "stdout",
          "text": [
            "81 - RollingRegression with avg smape 4.89: \n",
            "Model Number: 82 of 84 with model RollingRegression for Validation 1\n"
          ]
        },
        {
          "output_type": "stream",
          "name": "stderr",
          "text": [
            "/usr/local/lib/python3.7/dist-packages/sklearn/base.py:451: UserWarning: X does not have valid feature names, but HistGradientBoostingRegressor was fitted with feature names\n",
            "  \"X does not have valid feature names, but\"\n"
          ]
        },
        {
          "output_type": "stream",
          "name": "stdout",
          "text": [
            "82 - RollingRegression with avg smape 0.78: \n",
            "Model Number: 83 of 84 with model TMF for Validation 1\n"
          ]
        },
        {
          "output_type": "stream",
          "name": "stderr",
          "text": [
            "/usr/local/lib/python3.7/dist-packages/autots/models/matrix_var.py:378: RuntimeWarning: invalid value encountered in double_scalars\n",
            "  alpha = rold / np.inner(q, Aq)\n"
          ]
        },
        {
          "output_type": "stream",
          "name": "stdout",
          "text": [
            "Template Eval Error: LinAlgError('SVD did not converge') in model 83: TMF\n",
            "Model Number: 84 of 84 with model TMF for Validation 1\n"
          ]
        },
        {
          "output_type": "stream",
          "name": "stderr",
          "text": [
            "/usr/local/lib/python3.7/dist-packages/autots/models/matrix_var.py:378: RuntimeWarning: invalid value encountered in double_scalars\n",
            "  alpha = rold / np.inner(q, Aq)\n"
          ]
        },
        {
          "output_type": "stream",
          "name": "stdout",
          "text": [
            "Template Eval Error: LinAlgError('SVD did not converge') in model 84: TMF\n",
            "Initiated AutoTS object with best model: \n",
            "LATC\n",
            "{'fillna': 'ffill', 'transformations': {'0': 'SeasonalDifference', '1': 'DifferencedTransformer', '2': 'Detrend', '3': 'SeasonalDifference', '4': 'Slice', '5': 'SeasonalDifference'}, 'transformation_params': {'0': {'lag_1': 12, 'method': 'Mean'}, '1': {}, '2': {'model': 'GLS', 'phi': 1, 'window': None, 'transform_dict': None}, '3': {'lag_1': 12, 'method': 'Median'}, '4': {'method': 100}, '5': {'lag_1': 12, 'method': 'Mean'}}}\n",
            "{'time_horizon': 1, 'seasonality': 2, 'time_lags': [2, 12], 'lambda0': 10, 'learning_rate': 1, 'theta': 1, 'window': 30, 'epsilon': 0.0001, 'alpha': [0.33333333, 0.33333333, 0.33333333], 'maxiter': 25}\n",
            "SMAPE: 0.0721429003247244, 0.04455529085635632\n",
            "MAE: 0.9763281383161484, 0.6067642898342456\n",
            "SPL: 0.4255652055125634, 0.42847409440544504\n",
            "                                 Close\n",
            "2022-10-06 00:00:00+00:00  1331.216377\n"
          ]
        }
      ],
      "source": [
        "try:\n",
        "    import yfinance as yf         # import Yahoo! Finance\n",
        "except:\n",
        "    ! pip install yfinance\n",
        "    import yfinance as yf         # import Yahoo! Finance\n",
        "\n",
        "!pip install AutoTS\n",
        "!pip install pystan~=2.14\n",
        "!pip install fbprophet\n",
        "!pip install cmdstanpy~=0.9.5\n",
        "\n",
        "\n",
        "import pandas as pd\n",
        "\n",
        "import datetime\n",
        "from datetime import date, timedelta\n",
        "\n",
        "\n",
        "\n",
        "\n",
        "    \n",
        "today = date.today()\n",
        "\n",
        "d1 = today.strftime(\"%Y-%m-%d\")\n",
        "end_date = d1\n",
        "d2 = date.today() - timedelta(days=4000)\n",
        "d2 = d2.strftime(\"%Y-%m-%d\")\n",
        "start_date = d2\n",
        "\n",
        "data = yf.download('ETH-USD',\n",
        "                      start=start_date,\n",
        "                      end=end_date,\n",
        "                      progress=False)\n",
        "data[\"Date\"] = data.index\n",
        "data = data[[\"Date\", \"Open\", \"High\", \"Low\", \"Close\"]]\n",
        "data.reset_index(drop=True, inplace=True)\n",
        "print(data)\n",
        "\n",
        "\n",
        "from autots import AutoTS, load_daily\n",
        "\n",
        "# sample datasets can be used in either of the long or wide import shapes\n",
        "long = True\n",
        "df = load_daily(long=long)\n",
        "\n",
        "model = AutoTS(\n",
        "    forecast_length=1,\n",
        "    frequency='infer',\n",
        "    prediction_interval=0.9,\n",
        "    ensemble= 'simple',\n",
        "    model_list= 'multivariate',  # \"superfast\", \"default\", \"fast_parallel\"\n",
        "    transformer_list=\"superfast\",  # \"superfast\",\n",
        "    drop_most_recent=1,\n",
        "    max_generations=5,\n",
        "    num_validations=1,\n",
        "    models_to_validate=0.2,\n",
        "    n_jobs=100,\n",
        ")\n",
        "model = model.fit(data, date_col='Date', value_col='Close', id_col=None)\n",
        "\n",
        "\n",
        "\n",
        "prediction = model.predict()\n",
        "# plot a sample\n",
        "# Print the details of the best model\n",
        "print(model)\n",
        "\n",
        "# point forecasts dataframe\n",
        "forecasts = prediction.forecast\n",
        "# upper and lower forecasts\n",
        "# forecasts_up, forecasts_low = prediction.upper_forecast, prediction.lower_forecast\n",
        "\n",
        "# accuracy of all tried model results\n",
        "model_results = model.results()\n",
        "# and aggregated from cross validation\n",
        "validation_results = model.results(\"validation\") \n",
        "print(forecasts)\n"
      ]
    },
    {
      "cell_type": "code",
      "execution_count": null,
      "metadata": {
        "colab": {
          "base_uri": "https://localhost:8080/"
        },
        "id": "ENvwk-BUs1nr",
        "outputId": "64a12208-9165-47e2-a545-fc99fd3bcb5f"
      },
      "outputs": [
        {
          "output_type": "stream",
          "name": "stdout",
          "text": [
            "Looking in indexes: https://pypi.org/simple, https://us-python.pkg.dev/colab-wheels/public/simple/\n",
            "Requirement already satisfied: AutoTS in /usr/local/lib/python3.7/dist-packages (0.5.0)\n",
            "Requirement already satisfied: numpy>=1.14.6 in /usr/local/lib/python3.7/dist-packages (from AutoTS) (1.21.6)\n",
            "Requirement already satisfied: pandas>=0.25.* in /usr/local/lib/python3.7/dist-packages (from AutoTS) (1.3.5)\n",
            "Requirement already satisfied: scikit-learn>=0.20.* in /usr/local/lib/python3.7/dist-packages (from AutoTS) (1.0.2)\n",
            "Requirement already satisfied: statsmodels>=0.10.* in /usr/local/lib/python3.7/dist-packages (from AutoTS) (0.12.2)\n",
            "Requirement already satisfied: pytz>=2017.3 in /usr/local/lib/python3.7/dist-packages (from pandas>=0.25.*->AutoTS) (2022.4)\n",
            "Requirement already satisfied: python-dateutil>=2.7.3 in /usr/local/lib/python3.7/dist-packages (from pandas>=0.25.*->AutoTS) (2.8.2)\n",
            "Requirement already satisfied: six>=1.5 in /usr/local/lib/python3.7/dist-packages (from python-dateutil>=2.7.3->pandas>=0.25.*->AutoTS) (1.15.0)\n",
            "Requirement already satisfied: threadpoolctl>=2.0.0 in /usr/local/lib/python3.7/dist-packages (from scikit-learn>=0.20.*->AutoTS) (3.1.0)\n",
            "Requirement already satisfied: joblib>=0.11 in /usr/local/lib/python3.7/dist-packages (from scikit-learn>=0.20.*->AutoTS) (1.2.0)\n",
            "Requirement already satisfied: scipy>=1.1.0 in /usr/local/lib/python3.7/dist-packages (from scikit-learn>=0.20.*->AutoTS) (1.7.3)\n",
            "Requirement already satisfied: patsy>=0.5 in /usr/local/lib/python3.7/dist-packages (from statsmodels>=0.10.*->AutoTS) (0.5.2)\n",
            "Looking in indexes: https://pypi.org/simple, https://us-python.pkg.dev/colab-wheels/public/simple/\n",
            "Requirement already satisfied: pystan~=2.14 in /usr/local/lib/python3.7/dist-packages (2.19.1.1)\n",
            "Requirement already satisfied: numpy>=1.7 in /usr/local/lib/python3.7/dist-packages (from pystan~=2.14) (1.21.6)\n",
            "Requirement already satisfied: Cython!=0.25.1,>=0.22 in /usr/local/lib/python3.7/dist-packages (from pystan~=2.14) (0.29.32)\n",
            "Looking in indexes: https://pypi.org/simple, https://us-python.pkg.dev/colab-wheels/public/simple/\n",
            "Requirement already satisfied: fbprophet in /usr/local/lib/python3.7/dist-packages (0.7.1)\n",
            "Requirement already satisfied: holidays>=0.10.2 in /usr/local/lib/python3.7/dist-packages (from fbprophet) (0.16)\n",
            "Requirement already satisfied: setuptools-git>=1.2 in /usr/local/lib/python3.7/dist-packages (from fbprophet) (1.2)\n",
            "Requirement already satisfied: Cython>=0.22 in /usr/local/lib/python3.7/dist-packages (from fbprophet) (0.29.32)\n",
            "Requirement already satisfied: matplotlib>=2.0.0 in /usr/local/lib/python3.7/dist-packages (from fbprophet) (3.2.2)\n",
            "Requirement already satisfied: pystan>=2.14 in /usr/local/lib/python3.7/dist-packages (from fbprophet) (2.19.1.1)\n",
            "Requirement already satisfied: numpy>=1.15.4 in /usr/local/lib/python3.7/dist-packages (from fbprophet) (1.21.6)\n",
            "Requirement already satisfied: convertdate>=2.1.2 in /usr/local/lib/python3.7/dist-packages (from fbprophet) (2.4.0)\n",
            "Requirement already satisfied: cmdstanpy==0.9.5 in /usr/local/lib/python3.7/dist-packages (from fbprophet) (0.9.5)\n",
            "Requirement already satisfied: pandas>=1.0.4 in /usr/local/lib/python3.7/dist-packages (from fbprophet) (1.3.5)\n",
            "Requirement already satisfied: tqdm>=4.36.1 in /usr/local/lib/python3.7/dist-packages (from fbprophet) (4.64.1)\n",
            "Requirement already satisfied: LunarCalendar>=0.0.9 in /usr/local/lib/python3.7/dist-packages (from fbprophet) (0.0.9)\n",
            "Requirement already satisfied: python-dateutil>=2.8.0 in /usr/local/lib/python3.7/dist-packages (from fbprophet) (2.8.2)\n",
            "Requirement already satisfied: pymeeus<=1,>=0.3.13 in /usr/local/lib/python3.7/dist-packages (from convertdate>=2.1.2->fbprophet) (0.5.11)\n",
            "Requirement already satisfied: hijri-converter in /usr/local/lib/python3.7/dist-packages (from holidays>=0.10.2->fbprophet) (2.2.4)\n",
            "Requirement already satisfied: korean-lunar-calendar in /usr/local/lib/python3.7/dist-packages (from holidays>=0.10.2->fbprophet) (0.3.1)\n",
            "Requirement already satisfied: ephem>=3.7.5.3 in /usr/local/lib/python3.7/dist-packages (from LunarCalendar>=0.0.9->fbprophet) (4.1.3)\n",
            "Requirement already satisfied: pytz in /usr/local/lib/python3.7/dist-packages (from LunarCalendar>=0.0.9->fbprophet) (2022.4)\n",
            "Requirement already satisfied: pyparsing!=2.0.4,!=2.1.2,!=2.1.6,>=2.0.1 in /usr/local/lib/python3.7/dist-packages (from matplotlib>=2.0.0->fbprophet) (3.0.9)\n",
            "Requirement already satisfied: cycler>=0.10 in /usr/local/lib/python3.7/dist-packages (from matplotlib>=2.0.0->fbprophet) (0.11.0)\n",
            "Requirement already satisfied: kiwisolver>=1.0.1 in /usr/local/lib/python3.7/dist-packages (from matplotlib>=2.0.0->fbprophet) (1.4.4)\n",
            "Requirement already satisfied: typing-extensions in /usr/local/lib/python3.7/dist-packages (from kiwisolver>=1.0.1->matplotlib>=2.0.0->fbprophet) (4.1.1)\n",
            "Requirement already satisfied: six>=1.5 in /usr/local/lib/python3.7/dist-packages (from python-dateutil>=2.8.0->fbprophet) (1.15.0)\n",
            "Looking in indexes: https://pypi.org/simple, https://us-python.pkg.dev/colab-wheels/public/simple/\n",
            "Requirement already satisfied: cmdstanpy~=0.9.5 in /usr/local/lib/python3.7/dist-packages (0.9.5)\n",
            "Requirement already satisfied: pandas in /usr/local/lib/python3.7/dist-packages (from cmdstanpy~=0.9.5) (1.3.5)\n",
            "Requirement already satisfied: numpy in /usr/local/lib/python3.7/dist-packages (from cmdstanpy~=0.9.5) (1.21.6)\n",
            "Requirement already satisfied: pytz>=2017.3 in /usr/local/lib/python3.7/dist-packages (from pandas->cmdstanpy~=0.9.5) (2022.4)\n",
            "Requirement already satisfied: python-dateutil>=2.7.3 in /usr/local/lib/python3.7/dist-packages (from pandas->cmdstanpy~=0.9.5) (2.8.2)\n",
            "Requirement already satisfied: six>=1.5 in /usr/local/lib/python3.7/dist-packages (from python-dateutil>=2.7.3->pandas->cmdstanpy~=0.9.5) (1.15.0)\n",
            "                          Date        Open        High         Low       Close\n",
            "0    2017-11-09 00:00:00+00:00    2.053140    2.174230    1.893940    1.990770\n",
            "1    2017-11-10 00:00:00+00:00    2.007730    2.069470    1.644780    1.796840\n",
            "2    2017-11-11 00:00:00+00:00    1.786280    1.917750    1.614290    1.670470\n",
            "3    2017-11-12 00:00:00+00:00    1.668890    1.672800    1.462560    1.519690\n",
            "4    2017-11-13 00:00:00+00:00    1.526010    1.735020    1.517600    1.686620\n",
            "...                        ...         ...         ...         ...         ...\n",
            "1788 2022-10-02 00:00:00+00:00  282.895050  287.379517  279.954437  284.433105\n",
            "1789 2022-10-03 00:00:00+00:00  284.414886  288.632904  283.898651  287.031982\n",
            "1790 2022-10-04 00:00:00+00:00  287.024170  297.994659  286.528961  296.298462\n",
            "1791 2022-10-05 00:00:00+00:00  296.289459  296.333069  289.903748  294.137665\n",
            "1792 2022-10-06 00:00:00+00:00  294.155273  297.699371  279.803558  286.634155\n",
            "\n",
            "[1793 rows x 5 columns]\n",
            "Inferred frequency is: D\n",
            "Model Number: 1 with model GluonTS in generation 0 of 5\n",
            "Template Eval Error: ImportError('GluonTS installation not found or installed version is incompatible with AutoTS.') in model 1: GluonTS\n",
            "Model Number: 2 with model GluonTS in generation 0 of 5\n",
            "Template Eval Error: ImportError('GluonTS installation not found or installed version is incompatible with AutoTS.') in model 2: GluonTS\n",
            "Model Number: 3 with model GluonTS in generation 0 of 5\n",
            "Template Eval Error: ImportError('GluonTS installation not found or installed version is incompatible with AutoTS.') in model 3: GluonTS\n",
            "Model Number: 4 with model GluonTS in generation 0 of 5\n",
            "Template Eval Error: ImportError('GluonTS installation not found or installed version is incompatible with AutoTS.') in model 4: GluonTS\n",
            "Model Number: 5 with model GluonTS in generation 0 of 5\n",
            "Template Eval Error: ImportError('GluonTS installation not found or installed version is incompatible with AutoTS.') in model 5: GluonTS\n",
            "Model Number: 6 with model VAR in generation 0 of 5\n",
            "Template Eval Error: ValueError('Only gave one variable to VAR') in model 6: VAR\n",
            "Model Number: 7 with model VAR in generation 0 of 5\n",
            "Template Eval Error: ValueError('Only gave one variable to VAR') in model 7: VAR\n",
            "Model Number: 8 with model VECM in generation 0 of 5\n",
            "Template Eval Error: ValueError('Only gave one variable to VECM') in model 8: VECM\n",
            "Model Number: 9 with model VECM in generation 0 of 5\n",
            "Template Eval Error: ValueError('Only gave one variable to VECM') in model 9: VECM\n",
            "Model Number: 10 with model WindowRegression in generation 0 of 5\n",
            "Model Number: 11 with model GluonTS in generation 0 of 5\n",
            "Template Eval Error: ImportError('GluonTS installation not found or installed version is incompatible with AutoTS.') in model 11: GluonTS\n",
            "Model Number: 12 with model MultivariateRegression in generation 0 of 5\n"
          ]
        },
        {
          "output_type": "stream",
          "name": "stderr",
          "text": [
            "[Parallel(n_jobs=100)]: Using backend ThreadingBackend with 100 concurrent workers.\n",
            "[Parallel(n_jobs=100)]: Done 200 out of 200 | elapsed:    1.8s finished\n",
            "[Parallel(n_jobs=100)]: Using backend ThreadingBackend with 100 concurrent workers.\n",
            "[Parallel(n_jobs=100)]: Done 200 out of 200 | elapsed:    0.0s finished\n"
          ]
        },
        {
          "output_type": "stream",
          "name": "stdout",
          "text": [
            "Model Number: 13 with model MultivariateRegression in generation 0 of 5\n",
            "Template Eval Error: ValueError(\"regression_type='User' but not future_regressor supplied.\") in model 13: MultivariateRegression\n",
            "Model Number: 14 with model VECM in generation 0 of 5\n",
            "Template Eval Error: ValueError('Only gave one variable to VECM') in model 14: VECM\n",
            "Model Number: 15 with model MultivariateMotif in generation 0 of 5\n",
            "Model Number: 16 with model MultivariateMotif in generation 0 of 5\n",
            "Model Number: 17 with model SectionalMotif in generation 0 of 5\n",
            "Model Number: 18 with model SectionalMotif in generation 0 of 5\n",
            "Model Number: 19 with model MultivariateRegression in generation 0 of 5\n",
            "Model Number: 20 with model NVAR in generation 0 of 5\n",
            "Model Number: 21 with model RollingRegression in generation 0 of 5\n",
            "Template Eval Error: ValueError('future_regressor not supplied, necessary for regression_type') in model 21: RollingRegression\n",
            "Model Number: 22 with model DynamicFactor in generation 0 of 5\n",
            "Template Eval Error: ValueError(\"regression_type='User' but future_regressor not passed\") in model 22: DynamicFactor\n",
            "Model Number: 23 with model RollingRegression in generation 0 of 5\n"
          ]
        },
        {
          "output_type": "stream",
          "name": "stderr",
          "text": [
            "/usr/local/lib/python3.7/dist-packages/autots/models/sklearn.py:1084: DataConversionWarning: A column-vector y was passed when a 1d array was expected. Please change the shape of y to (n_samples,), for example using ravel().\n",
            "  self.regr = self.regr.fit(X, Y)\n",
            "/usr/local/lib/python3.7/dist-packages/sklearn/base.py:451: UserWarning: X does not have valid feature names, but ExtraTreesRegressor was fitted with feature names\n",
            "  \"X does not have valid feature names, but\"\n"
          ]
        },
        {
          "output_type": "stream",
          "name": "stdout",
          "text": [
            "Model Number: 24 with model VECM in generation 0 of 5\n",
            "Template Eval Error: ValueError('Only gave one variable to VECM') in model 24: VECM\n",
            "Model Number: 25 with model DynamicFactor in generation 0 of 5\n",
            "Template Eval Error: ValueError('The dynamic factors model is only valid for multivariate time series.') in model 25: DynamicFactor\n",
            "Model Number: 26 with model GluonTS in generation 0 of 5\n",
            "Template Eval Error: ImportError('GluonTS installation not found or installed version is incompatible with AutoTS.') in model 26: GluonTS\n",
            "Model Number: 27 with model VARMAX in generation 0 of 5\n",
            "Template Eval Error: ValueError('Only gave one variable to VAR') in model 27: VARMAX\n",
            "Model Number: 28 with model RollingRegression in generation 0 of 5\n",
            "Model Number: 29 with model WindowRegression in generation 0 of 5\n",
            "Model Number: 30 with model VAR in generation 0 of 5\n",
            "Template Eval Error: ValueError('Only gave one variable to VAR') in model 30: VAR\n",
            "Model Number: 31 with model MultivariateMotif in generation 0 of 5\n"
          ]
        },
        {
          "output_type": "stream",
          "name": "stderr",
          "text": [
            "/usr/local/lib/python3.7/dist-packages/sklearn/base.py:451: UserWarning: X does not have valid feature names, but Ridge was fitted with feature names\n",
            "  \"X does not have valid feature names, but\"\n"
          ]
        },
        {
          "output_type": "stream",
          "name": "stdout",
          "text": [
            "Model Number: 32 with model NVAR in generation 0 of 5\n",
            "Model Number: 33 with model MultivariateRegression in generation 0 of 5\n",
            "Template Eval Error: XGBoostError('[06:30:56] /workspace/src/objective/regression_obj.cu:423: GammaRegression: label must be nonnegative\\nStack trace:\\n  [bt] (0) /usr/local/lib/python3.7/dist-packages/xgboost/./lib/libxgboost.so(dmlc::LogMessageFatal::~LogMessageFatal()+0x24) [0x7fbee3c99cb4]\\n  [bt] (1) /usr/local/lib/python3.7/dist-packages/xgboost/./lib/libxgboost.so(xgboost::obj::GammaRegression::GetGradient(xgboost::HostDeviceVector<float> const&, xgboost::MetaInfo const&, int, xgboost::HostDeviceVector<xgboost::detail::GradientPairInternal<float> >*)+0x75d) [0x7fbee3ea615d]\\n  [bt] (2) /usr/local/lib/python3.7/dist-packages/xgboost/./lib/libxgboost.so(xgboost::LearnerImpl::UpdateOneIter(int, xgboost::DMatrix*)+0x345) [0x7fbee3d33505]\\n  [bt] (3) /usr/local/lib/python3.7/dist-packages/xgboost/./lib/libxgboost.so(XGBoosterUpdateOneIter+0x35) [0x7fbee3c96aa5]\\n  [bt] (4) /usr/lib/x86_64-linux-gnu/libffi.so.6(ffi_call_unix64+0x4c) [0x7fbf21c3adae]\\n  [bt] (5) /usr/lib/x86_64-linux-gnu/libffi.so.6(ffi_call+0x22f) [0x7fbf21c3a71f]\\n  [bt] (6) /usr/lib/python3.7/lib-dynload/_ctypes.cpython-37m-x86_64-linux-gnu.so(+0xd849) [0x7fbf21e4a849]\\n  [bt] (7) /usr/lib/python3.7/lib-dynload/_ctypes.cpython-37m-x86_64-linux-gnu.so(+0xdeaf) [0x7fbf21e4aeaf]\\n  [bt] (8) /usr/bin/python3(_PyObject_FastCallKeywords+0x575) [0x590055]\\n\\n') in model 33: MultivariateRegression\n",
            "Model Number: 34 with model SectionalMotif in generation 0 of 5\n",
            "Model Number: 35 with model DynamicFactorMQ in generation 0 of 5\n",
            "Template Eval Error: ValueError('Number of factors (4) cannot be greater than the number of monthly endogenous variables (1).') in model 35: DynamicFactorMQ\n",
            "Model Number: 36 with model PytorchForecasting in generation 0 of 5\n",
            "Template Eval Error: ImportError('pytorch, pytorch lighting, or pytorch-forecasting not present') in model 36: PytorchForecasting\n",
            "Model Number: 37 with model RRVAR in generation 0 of 5\n",
            "Model Number: 38 with model MAR in generation 0 of 5\n",
            "Model Number: 39 with model TMF in generation 0 of 5\n",
            "Template Eval Error: LinAlgError('SVD did not converge') in model 39: TMF\n",
            "Model Number: 40 with model LATC in generation 0 of 5\n"
          ]
        },
        {
          "output_type": "stream",
          "name": "stderr",
          "text": [
            "/usr/local/lib/python3.7/dist-packages/autots/models/matrix_var.py:378: RuntimeWarning: invalid value encountered in double_scalars\n",
            "  alpha = rold / np.inner(q, Aq)\n"
          ]
        },
        {
          "output_type": "stream",
          "name": "stdout",
          "text": [
            "Model Number: 41 with model MultivariateRegression in generation 0 of 5\n",
            "Template Eval Error: ValueError('Some value(s) of y are out of the valid range for family PoissonDistribution') in model 41: MultivariateRegression\n",
            "Model Number: 42 with model DynamicFactorMQ in generation 0 of 5\n",
            "Template Eval Error: ValueError('Number of factors (2) cannot be greater than the number of monthly endogenous variables (1).') in model 42: DynamicFactorMQ\n",
            "Model Number: 43 with model RRVAR in generation 0 of 5\n",
            "Model Number: 44 with model DynamicFactorMQ in generation 0 of 5\n",
            "Template Eval Error: ValueError('Number of factors (6) cannot be greater than the number of monthly endogenous variables (1).') in model 44: DynamicFactorMQ\n",
            "Model Number: 45 with model NVAR in generation 0 of 5\n",
            "Model Number: 46 with model VAR in generation 0 of 5\n",
            "Template Eval Error: ValueError('Only gave one variable to VAR') in model 46: VAR\n",
            "Model Number: 47 with model TMF in generation 0 of 5\n",
            "Model Number: 48 with model DynamicFactor in generation 0 of 5\n",
            "Template Eval Error: ValueError('The dynamic factors model is only valid for multivariate time series.') in model 48: DynamicFactor\n",
            "Model Number: 49 with model NVAR in generation 0 of 5\n",
            "Model Number: 50 with model RRVAR in generation 0 of 5\n",
            "Model Number: 51 with model VARMAX in generation 0 of 5\n",
            "Template Eval Error: ValueError('Only gave one variable to VAR') in model 51: VARMAX\n",
            "Model Number: 52 with model VAR in generation 0 of 5\n",
            "Template Eval Error: ValueError('Only gave one variable to VAR') in model 52: VAR\n",
            "Model Number: 53 with model DynamicFactor in generation 0 of 5\n",
            "Template Eval Error: ValueError('The dynamic factors model is only valid for multivariate time series.') in model 53: DynamicFactor\n",
            "Model Number: 54 with model SectionalMotif in generation 0 of 5\n",
            "Model Number: 55 with model PytorchForecasting in generation 0 of 5\n",
            "Template Eval Error: ImportError('pytorch, pytorch lighting, or pytorch-forecasting not present') in model 55: PytorchForecasting\n",
            "Model Number: 56 with model PytorchForecasting in generation 0 of 5\n",
            "Template Eval Error: ImportError('pytorch, pytorch lighting, or pytorch-forecasting not present') in model 56: PytorchForecasting\n",
            "Model Number: 57 with model RRVAR in generation 0 of 5\n",
            "Model Number: 58 with model MultivariateMotif in generation 0 of 5\n",
            "Model Number: 59 with model RollingRegression in generation 0 of 5\n",
            "Model Number: 60 with model RollingRegression in generation 0 of 5\n"
          ]
        },
        {
          "output_type": "stream",
          "name": "stderr",
          "text": [
            "/usr/local/lib/python3.7/dist-packages/sklearn/base.py:451: UserWarning: X does not have valid feature names, but DecisionTreeRegressor was fitted with feature names\n",
            "  \"X does not have valid feature names, but\"\n",
            "/usr/local/lib/python3.7/dist-packages/numpy/lib/function_base.py:2683: RuntimeWarning: Degrees of freedom <= 0 for slice\n",
            "  c = cov(x, y, rowvar, dtype=dtype)\n"
          ]
        },
        {
          "output_type": "stream",
          "name": "stdout",
          "text": [
            "Template Eval Error: ValueError(\"Input contains NaN, infinity or a value too large for dtype('float64').\") in model 60: RollingRegression\n",
            "Model Number: 61 with model RRVAR in generation 0 of 5\n",
            "Model Number: 62 with model MultivariateRegression in generation 0 of 5\n",
            "Model Number: 63 with model DynamicFactor in generation 0 of 5\n",
            "Template Eval Error: ValueError(\"regression_type='User' but future_regressor not passed\") in model 63: DynamicFactor\n",
            "Model Number: 64 with model TMF in generation 0 of 5\n",
            "Template Eval Error: LinAlgError('SVD did not converge') in model 64: TMF\n"
          ]
        },
        {
          "output_type": "stream",
          "name": "stderr",
          "text": [
            "/usr/local/lib/python3.7/dist-packages/autots/models/matrix_var.py:378: RuntimeWarning: invalid value encountered in double_scalars\n",
            "  alpha = rold / np.inner(q, Aq)\n"
          ]
        },
        {
          "output_type": "stream",
          "name": "stdout",
          "text": [
            "Model Number: 65 with model DynamicFactorMQ in generation 0 of 5\n",
            "Template Eval Error: ValueError('Number of factors (4) cannot be greater than the number of monthly endogenous variables (1).') in model 65: DynamicFactorMQ\n",
            "Model Number: 66 with model MultivariateRegression in generation 0 of 5\n",
            "Model Number: 67 with model NVAR in generation 0 of 5\n",
            "Model Number: 68 with model RRVAR in generation 0 of 5\n",
            "Model Number: 69 with model NVAR in generation 0 of 5\n",
            "Model Number: 70 with model RRVAR in generation 0 of 5\n",
            "Model Number: 71 with model VECM in generation 0 of 5\n",
            "Template Eval Error: ValueError('Only gave one variable to VECM') in model 71: VECM\n",
            "Model Number: 72 with model RRVAR in generation 0 of 5\n",
            "Model Number: 73 with model DynamicFactorMQ in generation 0 of 5\n",
            "Template Eval Error: ValueError('Number of factors (3) cannot be greater than the number of monthly endogenous variables (1).') in model 73: DynamicFactorMQ\n",
            "Model Number: 74 with model MAR in generation 0 of 5\n",
            "Model Number: 75 with model VECM in generation 0 of 5\n",
            "Template Eval Error: ValueError('Only gave one variable to VECM') in model 75: VECM\n",
            "Model Number: 76 with model GluonTS in generation 0 of 5\n",
            "Template Eval Error: ImportError('GluonTS installation not found or installed version is incompatible with AutoTS.') in model 76: GluonTS\n",
            "Model Number: 77 with model LATC in generation 0 of 5\n",
            "Model Number: 78 with model RRVAR in generation 0 of 5\n",
            "Model Number: 79 with model SectionalMotif in generation 0 of 5\n",
            "Model Number: 80 with model WindowRegression in generation 0 of 5\n",
            "Model Number: 81 with model NVAR in generation 0 of 5\n",
            "Model Number: 82 with model LATC in generation 0 of 5\n",
            "Template Eval Error: ValueError('LATC cannot accept any arrays that are all 0') in model 82: LATC\n",
            "Model Number: 83 with model MAR in generation 0 of 5\n",
            "Model Number: 84 with model DynamicFactorMQ in generation 0 of 5\n",
            "Template Eval Error: ValueError('Number of factors (4) cannot be greater than the number of monthly endogenous variables (1).') in model 84: DynamicFactorMQ\n",
            "Model Number: 85 with model LATC in generation 0 of 5\n",
            "Model Number: 86 with model MultivariateMotif in generation 0 of 5\n",
            "Model Number: 87 with model RollingRegression in generation 0 of 5\n"
          ]
        },
        {
          "output_type": "stream",
          "name": "stderr",
          "text": [
            "/usr/local/lib/python3.7/dist-packages/sklearn/experimental/enable_hist_gradient_boosting.py:17: UserWarning: Since version 1.0, it is not needed to import enable_hist_gradient_boosting anymore. HistGradientBoostingClassifier and HistGradientBoostingRegressor are now stable and can be normally imported from sklearn.ensemble.\n",
            "  \"Since version 1.0, \"\n",
            "/usr/local/lib/python3.7/dist-packages/sklearn/utils/validation.py:993: DataConversionWarning: A column-vector y was passed when a 1d array was expected. Please change the shape of y to (n_samples, ), for example using ravel().\n",
            "  y = column_or_1d(y, warn=True)\n"
          ]
        },
        {
          "output_type": "stream",
          "name": "stdout",
          "text": [
            "Model Number: 88 with model DynamicFactorMQ in generation 0 of 5\n",
            "Template Eval Error: ValueError('Number of factors (2) cannot be greater than the number of monthly endogenous variables (1).') in model 88: DynamicFactorMQ\n",
            "Model Number: 89 with model NVAR in generation 0 of 5\n"
          ]
        },
        {
          "output_type": "stream",
          "name": "stderr",
          "text": [
            "/usr/local/lib/python3.7/dist-packages/sklearn/base.py:451: UserWarning: X does not have valid feature names, but HistGradientBoostingRegressor was fitted with feature names\n",
            "  \"X does not have valid feature names, but\"\n"
          ]
        },
        {
          "output_type": "stream",
          "name": "stdout",
          "text": [
            "Model Number: 90 with model VARMAX in generation 0 of 5\n",
            "Template Eval Error: ValueError('Only gave one variable to VAR') in model 90: VARMAX\n",
            "Model Number: 91 with model TMF in generation 0 of 5\n",
            "Model Number: 92 with model MultivariateMotif in generation 0 of 5\n",
            "Model Number: 93 with model WindowRegression in generation 0 of 5\n",
            "Model Number: 94 with model VECM in generation 0 of 5\n",
            "Template Eval Error: ValueError(\"regression_type='User' but no future_regressor supplied\") in model 94: VECM\n",
            "Model Number: 95 with model RollingRegression in generation 0 of 5\n",
            "Template Eval Error: ValueError('future_regressor not supplied, necessary for regression_type') in model 95: RollingRegression\n",
            "Model Number: 96 with model MultivariateRegression in generation 0 of 5\n",
            "Model Number: 97 with model RRVAR in generation 0 of 5\n"
          ]
        },
        {
          "output_type": "stream",
          "name": "stderr",
          "text": [
            "/usr/local/lib/python3.7/dist-packages/sklearn/linear_model/_coordinate_descent.py:648: ConvergenceWarning: Objective did not converge. You might want to increase the number of iterations, check the scale of the features or consider increasing regularisation. Duality gap: 1.186e+05, tolerance: 6.095e+03\n",
            "  coef_, l1_reg, l2_reg, X, y, max_iter, tol, rng, random, positive\n"
          ]
        },
        {
          "output_type": "stream",
          "name": "stdout",
          "text": [
            "Model Number: 98 with model MultivariateRegression in generation 0 of 5\n",
            "Template Eval Error: ValueError('Some value(s) of y are out of the valid range for family PoissonDistribution') in model 98: MultivariateRegression\n",
            "Model Number: 99 with model PytorchForecasting in generation 0 of 5\n",
            "Template Eval Error: ImportError('pytorch, pytorch lighting, or pytorch-forecasting not present') in model 99: PytorchForecasting\n",
            "Model Number: 100 with model TMF in generation 0 of 5\n",
            "Template Eval Error: LinAlgError('SVD did not converge') in model 100: TMF\n",
            "Model Number: 101 with model LATC in generation 0 of 5\n"
          ]
        },
        {
          "output_type": "stream",
          "name": "stderr",
          "text": [
            "/usr/local/lib/python3.7/dist-packages/autots/models/matrix_var.py:378: RuntimeWarning: invalid value encountered in double_scalars\n",
            "  alpha = rold / np.inner(q, Aq)\n"
          ]
        },
        {
          "output_type": "stream",
          "name": "stdout",
          "text": [
            "Model Number: 102 with model LATC in generation 0 of 5\n",
            "Model Number: 103 with model DynamicFactor in generation 0 of 5\n",
            "Template Eval Error: ValueError('The dynamic factors model is only valid for multivariate time series.') in model 103: DynamicFactor\n",
            "Model Number: 104 with model VECM in generation 0 of 5\n",
            "Template Eval Error: ValueError('Only gave one variable to VECM') in model 104: VECM\n",
            "Model Number: 105 with model LATC in generation 0 of 5\n",
            "Template Eval Error: Exception('Transformer Detrend failed on fit') in model 105: LATC\n",
            "Model Number: 106 with model MAR in generation 0 of 5\n",
            "Model Number: 107 with model MAR in generation 0 of 5\n",
            "Model Number: 108 with model VAR in generation 0 of 5\n",
            "Template Eval Error: ValueError('Only gave one variable to VAR') in model 108: VAR\n",
            "New Generation: 1 of 5\n",
            "Model Number: 109 with model SectionalMotif in generation 1 of 5\n",
            "Model Number: 110 with model WindowRegression in generation 1 of 5\n",
            "Model Number: 111 with model MultivariateRegression in generation 1 of 5\n",
            "Model Number: 112 with model SectionalMotif in generation 1 of 5\n",
            "Model Number: 113 with model RRVAR in generation 1 of 5\n",
            "Model Number: 114 with model NVAR in generation 1 of 5\n",
            "Model Number: 115 with model SectionalMotif in generation 1 of 5\n",
            "Model Number: 116 with model NVAR in generation 1 of 5\n",
            "Model Number: 117 with model RRVAR in generation 1 of 5\n",
            "Model Number: 118 with model MultivariateRegression in generation 1 of 5\n",
            "Model Number: 119 with model MAR in generation 1 of 5\n",
            "Model Number: 120 with model RRVAR in generation 1 of 5\n",
            "Model Number: 121 with model MAR in generation 1 of 5\n",
            "Model Number: 122 with model MultivariateMotif in generation 1 of 5\n",
            "Model Number: 123 with model MAR in generation 1 of 5\n",
            "Model Number: 124 with model MultivariateRegression in generation 1 of 5\n",
            "Model Number: 125 with model SectionalMotif in generation 1 of 5\n",
            "Model Number: 126 with model RRVAR in generation 1 of 5\n",
            "Model Number: 127 with model RollingRegression in generation 1 of 5\n"
          ]
        },
        {
          "output_type": "stream",
          "name": "stderr",
          "text": [
            "/usr/local/lib/python3.7/dist-packages/sklearn/utils/validation.py:993: DataConversionWarning: A column-vector y was passed when a 1d array was expected. Please change the shape of y to (n_samples, ), for example using ravel().\n",
            "  y = column_or_1d(y, warn=True)\n"
          ]
        },
        {
          "output_type": "stream",
          "name": "stdout",
          "text": [
            "Model Number: 128 with model NVAR in generation 1 of 5\n",
            "Model Number: 129 with model RRVAR in generation 1 of 5\n",
            "Model Number: 130 with model RRVAR in generation 1 of 5\n",
            "Model Number: 131 with model SectionalMotif in generation 1 of 5\n",
            "Model Number: 132 with model SectionalMotif in generation 1 of 5\n"
          ]
        },
        {
          "output_type": "stream",
          "name": "stderr",
          "text": [
            "/usr/local/lib/python3.7/dist-packages/sklearn/base.py:451: UserWarning: X does not have valid feature names, but HistGradientBoostingRegressor was fitted with feature names\n",
            "  \"X does not have valid feature names, but\"\n"
          ]
        },
        {
          "output_type": "stream",
          "name": "stdout",
          "text": [
            "Model Number: 133 with model RRVAR in generation 1 of 5\n",
            "Model Number: 134 with model WindowRegression in generation 1 of 5\n",
            "Model Number: 135 with model MultivariateRegression in generation 1 of 5\n",
            "Model Number: 136 with model LATC in generation 1 of 5\n",
            "Model Number: 137 with model RRVAR in generation 1 of 5\n",
            "Model Number: 138 with model WindowRegression in generation 1 of 5\n",
            "Model Number: 139 with model LATC in generation 1 of 5\n",
            "Model Number: 140 with model RRVAR in generation 1 of 5\n",
            "Model Number: 141 with model MultivariateRegression in generation 1 of 5\n",
            "Model Number: 142 with model MultivariateRegression in generation 1 of 5\n"
          ]
        },
        {
          "output_type": "stream",
          "name": "stderr",
          "text": [
            "[Parallel(n_jobs=100)]: Using backend ThreadingBackend with 100 concurrent workers.\n",
            "[Parallel(n_jobs=100)]: Done 200 out of 200 | elapsed:    1.3s finished\n",
            "[Parallel(n_jobs=100)]: Using backend ThreadingBackend with 100 concurrent workers.\n",
            "[Parallel(n_jobs=100)]: Done 200 out of 200 | elapsed:    0.0s finished\n"
          ]
        },
        {
          "output_type": "stream",
          "name": "stdout",
          "text": [
            "Model Number: 143 with model WindowRegression in generation 1 of 5\n",
            "Template Eval Error: ValueError(\"regression_type='User' but no future_regressor passed\") in model 143: WindowRegression\n",
            "Model Number: 144 with model RollingRegression in generation 1 of 5\n",
            "Model Number: 145 with model TMF in generation 1 of 5\n"
          ]
        },
        {
          "output_type": "stream",
          "name": "stderr",
          "text": [
            "/usr/local/lib/python3.7/dist-packages/sklearn/base.py:451: UserWarning: X does not have valid feature names, but DecisionTreeRegressor was fitted with feature names\n",
            "  \"X does not have valid feature names, but\"\n"
          ]
        },
        {
          "output_type": "stream",
          "name": "stdout",
          "text": [
            "Model Number: 146 with model RRVAR in generation 1 of 5\n",
            "Model Number: 147 with model RRVAR in generation 1 of 5\n",
            "Model Number: 148 with model SectionalMotif in generation 1 of 5\n",
            "Model Number: 149 with model MAR in generation 1 of 5\n",
            "Model Number: 150 with model NVAR in generation 1 of 5\n",
            "Model Number: 151 with model WindowRegression in generation 1 of 5\n",
            "Model Number: 152 with model RollingRegression in generation 1 of 5\n"
          ]
        },
        {
          "output_type": "stream",
          "name": "stderr",
          "text": [
            "/usr/local/lib/python3.7/dist-packages/sklearn/utils/validation.py:993: DataConversionWarning: A column-vector y was passed when a 1d array was expected. Please change the shape of y to (n_samples, ), for example using ravel().\n",
            "  y = column_or_1d(y, warn=True)\n"
          ]
        },
        {
          "output_type": "stream",
          "name": "stdout",
          "text": [
            "Model Number: 153 with model WindowRegression in generation 1 of 5\n"
          ]
        },
        {
          "output_type": "stream",
          "name": "stderr",
          "text": [
            "/usr/local/lib/python3.7/dist-packages/sklearn/base.py:451: UserWarning: X does not have valid feature names, but HistGradientBoostingRegressor was fitted with feature names\n",
            "  \"X does not have valid feature names, but\"\n"
          ]
        },
        {
          "output_type": "stream",
          "name": "stdout",
          "text": [
            "Model Number: 154 with model NVAR in generation 1 of 5\n",
            "Model Number: 155 with model RollingRegression in generation 1 of 5\n",
            "Template Eval Error: ValueError(\"Input contains NaN, infinity or a value too large for dtype('float64').\") in model 155: RollingRegression\n",
            "Model Number: 156 with model MAR in generation 1 of 5\n",
            "Model Number: 157 with model MultivariateRegression in generation 1 of 5\n",
            "Template Eval Error: ValueError('Some value(s) of y are out of the valid range for family PoissonDistribution') in model 157: MultivariateRegression\n",
            "Model Number: 158 with model NVAR in generation 1 of 5\n",
            "Model Number: 159 with model NVAR in generation 1 of 5\n",
            "Model Number: 160 with model NVAR in generation 1 of 5\n",
            "Model Number: 161 with model MultivariateRegression in generation 1 of 5\n",
            "Model Number: 162 with model TMF in generation 1 of 5\n",
            "Model Number: 163 with model MultivariateMotif in generation 1 of 5\n",
            "Model Number: 164 with model MAR in generation 1 of 5\n",
            "Model Number: 165 with model SectionalMotif in generation 1 of 5\n",
            "Model Number: 166 with model MultivariateMotif in generation 1 of 5\n",
            "Model Number: 167 with model NVAR in generation 1 of 5\n",
            "Model Number: 168 with model RollingRegression in generation 1 of 5\n",
            "Model Number: 169 with model MultivariateMotif in generation 1 of 5\n",
            "Model Number: 170 with model NVAR in generation 1 of 5\n",
            "Model Number: 171 with model MAR in generation 1 of 5\n"
          ]
        },
        {
          "output_type": "stream",
          "name": "stderr",
          "text": [
            "/usr/local/lib/python3.7/dist-packages/sklearn/base.py:451: UserWarning: X does not have valid feature names, but DecisionTreeRegressor was fitted with feature names\n",
            "  \"X does not have valid feature names, but\"\n"
          ]
        },
        {
          "output_type": "stream",
          "name": "stdout",
          "text": [
            "Model Number: 172 with model RollingRegression in generation 1 of 5\n",
            "Template Eval Error: ValueError('future_regressor not supplied, necessary for regression_type') in model 172: RollingRegression\n",
            "Model Number: 173 with model MultivariateRegression in generation 1 of 5\n",
            "Model Number: 174 with model WindowRegression in generation 1 of 5\n",
            "Model Number: 175 with model LATC in generation 1 of 5\n",
            "Model Number: 176 with model MultivariateRegression in generation 1 of 5\n",
            "Model Number: 177 with model MultivariateMotif in generation 1 of 5\n",
            "Model Number: 178 with model MultivariateMotif in generation 1 of 5\n",
            "Model Number: 179 with model MultivariateRegression in generation 1 of 5\n",
            "Model Number: 180 with model RRVAR in generation 1 of 5\n",
            "Model Number: 181 with model NVAR in generation 1 of 5\n",
            "Model Number: 182 with model NVAR in generation 1 of 5\n",
            "Model Number: 183 with model RRVAR in generation 1 of 5\n",
            "Model Number: 184 with model LATC in generation 1 of 5\n",
            "Model Number: 185 with model RRVAR in generation 1 of 5\n",
            "Model Number: 186 with model SectionalMotif in generation 1 of 5\n",
            "Model Number: 187 with model WindowRegression in generation 1 of 5\n",
            "Model Number: 188 with model MultivariateMotif in generation 1 of 5\n",
            "Model Number: 189 with model NVAR in generation 1 of 5\n",
            "Model Number: 190 with model LATC in generation 1 of 5\n",
            "Model Number: 191 with model MAR in generation 1 of 5\n",
            "Model Number: 192 with model WindowRegression in generation 1 of 5\n",
            "Model Number: 193 with model LATC in generation 1 of 5\n",
            "New Generation: 2 of 5\n",
            "Model Number: 194 with model RRVAR in generation 2 of 5\n",
            "Model Number: 195 with model NVAR in generation 2 of 5\n",
            "Model Number: 196 with model MultivariateMotif in generation 2 of 5\n",
            "Model Number: 197 with model RRVAR in generation 2 of 5\n",
            "Model Number: 198 with model MAR in generation 2 of 5\n",
            "Model Number: 199 with model MultivariateMotif in generation 2 of 5\n",
            "Model Number: 200 with model NVAR in generation 2 of 5\n",
            "Model Number: 201 with model WindowRegression in generation 2 of 5\n",
            "Template Eval Error: ValueError(\"regression_type='User' but no future_regressor passed\") in model 201: WindowRegression\n",
            "Model Number: 202 with model NVAR in generation 2 of 5\n",
            "Model Number: 203 with model MultivariateMotif in generation 2 of 5\n",
            "Model Number: 204 with model LATC in generation 2 of 5\n",
            "Model Number: 205 with model WindowRegression in generation 2 of 5\n",
            "Model Number: 206 with model LATC in generation 2 of 5\n",
            "Model Number: 207 with model RRVAR in generation 2 of 5\n",
            "Model Number: 208 with model MAR in generation 2 of 5\n",
            "Model Number: 209 with model MultivariateRegression in generation 2 of 5\n",
            "Model Number: 210 with model WindowRegression in generation 2 of 5\n",
            "Model Number: 211 with model NVAR in generation 2 of 5\n",
            "Model Number: 212 with model NVAR in generation 2 of 5\n",
            "Model Number: 213 with model MultivariateRegression in generation 2 of 5\n",
            "Model Number: 214 with model MultivariateRegression in generation 2 of 5\n",
            "Model Number: 215 with model RRVAR in generation 2 of 5\n",
            "Model Number: 216 with model SectionalMotif in generation 2 of 5\n",
            "Model Number: 217 with model NVAR in generation 2 of 5\n",
            "Model Number: 218 with model MultivariateRegression in generation 2 of 5\n",
            "Model Number: 219 with model RRVAR in generation 2 of 5\n",
            "Model Number: 220 with model WindowRegression in generation 2 of 5\n",
            "Model Number: 221 with model SectionalMotif in generation 2 of 5\n",
            "Model Number: 222 with model LATC in generation 2 of 5\n",
            "Model Number: 223 with model RRVAR in generation 2 of 5\n",
            "Model Number: 224 with model TMF in generation 2 of 5\n",
            "Model Number: 225 with model WindowRegression in generation 2 of 5\n",
            "Model Number: 226 with model WindowRegression in generation 2 of 5\n",
            "Model Number: 227 with model NVAR in generation 2 of 5\n",
            "Model Number: 228 with model MAR in generation 2 of 5\n",
            "Model Number: 229 with model MAR in generation 2 of 5\n",
            "Model Number: 230 with model LATC in generation 2 of 5\n",
            "Model Number: 231 with model NVAR in generation 2 of 5\n",
            "Model Number: 232 with model SectionalMotif in generation 2 of 5\n",
            "Model Number: 233 with model MAR in generation 2 of 5\n",
            "Model Number: 234 with model RRVAR in generation 2 of 5\n",
            "Model Number: 235 with model MultivariateRegression in generation 2 of 5\n",
            "Model Number: 236 with model MultivariateRegression in generation 2 of 5\n",
            "Model Number: 237 with model MultivariateMotif in generation 2 of 5\n",
            "Model Number: 238 with model MultivariateRegression in generation 2 of 5\n",
            "Model Number: 239 with model NVAR in generation 2 of 5\n",
            "Model Number: 240 with model RRVAR in generation 2 of 5\n",
            "Model Number: 241 with model RollingRegression in generation 2 of 5\n",
            "Model Number: 242 with model NVAR in generation 2 of 5\n",
            "Model Number: 243 with model NVAR in generation 2 of 5\n",
            "Model Number: 244 with model SectionalMotif in generation 2 of 5\n",
            "Model Number: 245 with model RRVAR in generation 2 of 5\n"
          ]
        },
        {
          "output_type": "stream",
          "name": "stderr",
          "text": [
            "/usr/local/lib/python3.7/dist-packages/sklearn/base.py:451: UserWarning: X does not have valid feature names, but DecisionTreeRegressor was fitted with feature names\n",
            "  \"X does not have valid feature names, but\"\n"
          ]
        },
        {
          "output_type": "stream",
          "name": "stdout",
          "text": [
            "Model Number: 246 with model SectionalMotif in generation 2 of 5\n",
            "Model Number: 247 with model RRVAR in generation 2 of 5\n",
            "Model Number: 248 with model RollingRegression in generation 2 of 5\n",
            "Model Number: 249 with model WindowRegression in generation 2 of 5\n"
          ]
        },
        {
          "output_type": "stream",
          "name": "stderr",
          "text": [
            "/usr/local/lib/python3.7/dist-packages/sklearn/utils/validation.py:993: DataConversionWarning: A column-vector y was passed when a 1d array was expected. Please change the shape of y to (n_samples, ), for example using ravel().\n",
            "  y = column_or_1d(y, warn=True)\n",
            "/usr/local/lib/python3.7/dist-packages/sklearn/base.py:451: UserWarning: X does not have valid feature names, but LinearSVR was fitted with feature names\n",
            "  \"X does not have valid feature names, but\"\n"
          ]
        },
        {
          "output_type": "stream",
          "name": "stdout",
          "text": [
            "Model Number: 250 with model MultivariateMotif in generation 2 of 5\n",
            "Model Number: 251 with model RRVAR in generation 2 of 5\n",
            "Model Number: 252 with model SectionalMotif in generation 2 of 5\n",
            "Model Number: 253 with model SectionalMotif in generation 2 of 5\n",
            "Model Number: 254 with model LATC in generation 2 of 5\n",
            "Model Number: 255 with model SectionalMotif in generation 2 of 5\n",
            "Template Eval Error: ValueError(\"regression_type=='User' but no future_regressor supplied\") in model 255: SectionalMotif\n",
            "Model Number: 256 with model NVAR in generation 2 of 5\n",
            "Model Number: 257 with model WindowRegression in generation 2 of 5\n",
            "Model Number: 258 with model MultivariateMotif in generation 2 of 5\n",
            "Model Number: 259 with model WindowRegression in generation 2 of 5\n",
            "Model Number: 260 with model NVAR in generation 2 of 5\n",
            "Model Number: 261 with model RollingRegression in generation 2 of 5\n"
          ]
        },
        {
          "output_type": "stream",
          "name": "stderr",
          "text": [
            "/usr/local/lib/python3.7/dist-packages/sklearn/utils/validation.py:993: DataConversionWarning: A column-vector y was passed when a 1d array was expected. Please change the shape of y to (n_samples, ), for example using ravel().\n",
            "  y = column_or_1d(y, warn=True)\n"
          ]
        },
        {
          "output_type": "stream",
          "name": "stdout",
          "text": [
            "Model Number: 262 with model MultivariateMotif in generation 2 of 5\n",
            "Model Number: 263 with model RollingRegression in generation 2 of 5\n",
            "Template Eval Error: ValueError('future_regressor not supplied, necessary for regression_type') in model 263: RollingRegression\n",
            "Model Number: 264 with model LATC in generation 2 of 5\n"
          ]
        },
        {
          "output_type": "stream",
          "name": "stderr",
          "text": [
            "/usr/local/lib/python3.7/dist-packages/sklearn/base.py:451: UserWarning: X does not have valid feature names, but HistGradientBoostingRegressor was fitted with feature names\n",
            "  \"X does not have valid feature names, but\"\n"
          ]
        },
        {
          "output_type": "stream",
          "name": "stdout",
          "text": [
            "Model Number: 265 with model MAR in generation 2 of 5\n",
            "Model Number: 266 with model SectionalMotif in generation 2 of 5\n",
            "Model Number: 267 with model LATC in generation 2 of 5\n",
            "Model Number: 268 with model SectionalMotif in generation 2 of 5\n",
            "Model Number: 269 with model SectionalMotif in generation 2 of 5\n",
            "Model Number: 270 with model RRVAR in generation 2 of 5\n",
            "Model Number: 271 with model MAR in generation 2 of 5\n",
            "Model Number: 272 with model NVAR in generation 2 of 5\n",
            "Model Number: 273 with model TMF in generation 2 of 5\n",
            "Template Eval Error: LinAlgError('SVD did not converge') in model 273: TMF\n",
            "Model Number: 274 with model LATC in generation 2 of 5\n"
          ]
        },
        {
          "output_type": "stream",
          "name": "stderr",
          "text": [
            "/usr/local/lib/python3.7/dist-packages/autots/models/matrix_var.py:378: RuntimeWarning: invalid value encountered in double_scalars\n",
            "  alpha = rold / np.inner(q, Aq)\n"
          ]
        },
        {
          "output_type": "stream",
          "name": "stdout",
          "text": [
            "Model Number: 275 with model MultivariateMotif in generation 2 of 5\n",
            "Model Number: 276 with model MultivariateRegression in generation 2 of 5\n",
            "Model Number: 277 with model TMF in generation 2 of 5\n",
            "Model Number: 278 with model WindowRegression in generation 2 of 5\n",
            "Template Eval Error: ValueError('Model WindowRegression returned NaN for one or more series. fail_on_forecast_nan=True') in model 278: WindowRegression\n",
            "New Generation: 3 of 5\n"
          ]
        },
        {
          "output_type": "stream",
          "name": "stderr",
          "text": [
            "/usr/local/lib/python3.7/dist-packages/sklearn/neighbors/_regression.py:470: UserWarning: One or more samples have no neighbors within specified radius; predicting NaN.\n",
            "  warnings.warn(empty_warning_msg)\n"
          ]
        },
        {
          "output_type": "stream",
          "name": "stdout",
          "text": [
            "Model Number: 279 with model NVAR in generation 3 of 5\n",
            "Model Number: 280 with model LATC in generation 3 of 5\n",
            "Template Eval Error: ValueError('LATC cannot accept any arrays that are all 0') in model 280: LATC\n",
            "Model Number: 281 with model MultivariateRegression in generation 3 of 5\n",
            "Model Number: 282 with model LATC in generation 3 of 5\n",
            "Model Number: 283 with model SectionalMotif in generation 3 of 5\n",
            "Model Number: 284 with model RRVAR in generation 3 of 5\n",
            "Model Number: 285 with model MultivariateRegression in generation 3 of 5\n",
            "Model Number: 286 with model MultivariateMotif in generation 3 of 5\n",
            "Model Number: 287 with model SectionalMotif in generation 3 of 5\n",
            "Model Number: 288 with model TMF in generation 3 of 5\n",
            "Template Eval Error: LinAlgError('SVD did not converge') in model 288: TMF\n",
            "Model Number: 289 with model WindowRegression in generation 3 of 5\n",
            "Template Eval Error: LightGBMError('[tweedie]: at least one target label is negative') in model 289: WindowRegression\n",
            "Model Number: 290 with model NVAR in generation 3 of 5\n"
          ]
        },
        {
          "output_type": "stream",
          "name": "stderr",
          "text": [
            "/usr/local/lib/python3.7/dist-packages/autots/models/matrix_var.py:378: RuntimeWarning: invalid value encountered in double_scalars\n",
            "  alpha = rold / np.inner(q, Aq)\n"
          ]
        },
        {
          "output_type": "stream",
          "name": "stdout",
          "text": [
            "Model Number: 291 with model MAR in generation 3 of 5\n",
            "Model Number: 292 with model TMF in generation 3 of 5\n"
          ]
        },
        {
          "output_type": "stream",
          "name": "stderr",
          "text": [
            "/usr/local/lib/python3.7/dist-packages/autots/models/matrix_var.py:378: RuntimeWarning: invalid value encountered in double_scalars\n",
            "  alpha = rold / np.inner(q, Aq)\n"
          ]
        },
        {
          "output_type": "stream",
          "name": "stdout",
          "text": [
            "Template Eval Error: LinAlgError('SVD did not converge') in model 292: TMF\n",
            "Model Number: 293 with model MultivariateRegression in generation 3 of 5\n",
            "Model Number: 294 with model WindowRegression in generation 3 of 5\n",
            "Template Eval Error: ValueError(\"regression_type='User' but no future_regressor passed\") in model 294: WindowRegression\n",
            "Model Number: 295 with model MAR in generation 3 of 5\n",
            "Model Number: 296 with model MultivariateMotif in generation 3 of 5\n",
            "Model Number: 297 with model RRVAR in generation 3 of 5\n",
            "Model Number: 298 with model RollingRegression in generation 3 of 5\n",
            "Template Eval Error: ValueError('future_regressor not supplied, necessary for regression_type') in model 298: RollingRegression\n",
            "Model Number: 299 with model NVAR in generation 3 of 5\n",
            "Model Number: 300 with model WindowRegression in generation 3 of 5\n",
            "Model Number: 301 with model LATC in generation 3 of 5\n"
          ]
        },
        {
          "output_type": "stream",
          "name": "stderr",
          "text": [
            "/usr/local/lib/python3.7/dist-packages/sklearn/neural_network/_multilayer_perceptron.py:549: ConvergenceWarning: lbfgs failed to converge (status=1):\n",
            "STOP: TOTAL NO. of ITERATIONS REACHED LIMIT.\n",
            "\n",
            "Increase the number of iterations (max_iter) or scale the data as shown in:\n",
            "    https://scikit-learn.org/stable/modules/preprocessing.html\n",
            "  self.n_iter_ = _check_optimize_result(\"lbfgs\", opt_res, self.max_iter)\n"
          ]
        },
        {
          "output_type": "stream",
          "name": "stdout",
          "text": [
            "Model Number: 302 with model MultivariateRegression in generation 3 of 5\n",
            "Model Number: 303 with model SectionalMotif in generation 3 of 5\n",
            "Model Number: 304 with model RRVAR in generation 3 of 5\n",
            "Model Number: 305 with model RRVAR in generation 3 of 5\n",
            "Model Number: 306 with model WindowRegression in generation 3 of 5\n",
            "Template Eval Error: ValueError(\"regression_type='User' but no future_regressor passed\") in model 306: WindowRegression\n",
            "Model Number: 307 with model MultivariateMotif in generation 3 of 5\n",
            "Model Number: 308 with model NVAR in generation 3 of 5\n",
            "Model Number: 309 with model WindowRegression in generation 3 of 5\n",
            "Model Number: 310 with model MAR in generation 3 of 5\n",
            "Model Number: 311 with model MultivariateMotif in generation 3 of 5\n",
            "Model Number: 312 with model MultivariateRegression in generation 3 of 5\n",
            "Model Number: 313 with model MultivariateRegression in generation 3 of 5\n"
          ]
        },
        {
          "output_type": "stream",
          "name": "stderr",
          "text": [
            "/usr/local/lib/python3.7/dist-packages/sklearn/svm/_base.py:1208: ConvergenceWarning: Liblinear failed to converge, increase the number of iterations.\n",
            "  ConvergenceWarning,\n"
          ]
        },
        {
          "output_type": "stream",
          "name": "stdout",
          "text": [
            "Model Number: 314 with model RollingRegression in generation 3 of 5\n",
            "Model Number: 315 with model WindowRegression in generation 3 of 5\n"
          ]
        },
        {
          "output_type": "stream",
          "name": "stderr",
          "text": [
            "/usr/local/lib/python3.7/dist-packages/sklearn/utils/validation.py:993: DataConversionWarning: A column-vector y was passed when a 1d array was expected. Please change the shape of y to (n_samples, ), for example using ravel().\n",
            "  y = column_or_1d(y, warn=True)\n",
            "/usr/local/lib/python3.7/dist-packages/sklearn/svm/_base.py:1208: ConvergenceWarning: Liblinear failed to converge, increase the number of iterations.\n",
            "  ConvergenceWarning,\n",
            "/usr/local/lib/python3.7/dist-packages/sklearn/base.py:451: UserWarning: X does not have valid feature names, but LinearSVR was fitted with feature names\n",
            "  \"X does not have valid feature names, but\"\n"
          ]
        },
        {
          "output_type": "stream",
          "name": "stdout",
          "text": [
            "Model Number: 316 with model SectionalMotif in generation 3 of 5\n",
            "Model Number: 317 with model NVAR in generation 3 of 5\n",
            "Model Number: 318 with model SectionalMotif in generation 3 of 5\n",
            "Model Number: 319 with model RRVAR in generation 3 of 5\n",
            "Model Number: 320 with model NVAR in generation 3 of 5\n",
            "Model Number: 321 with model WindowRegression in generation 3 of 5\n",
            "Template Eval Error: ValueError(\"regression_type='User' but no future_regressor passed\") in model 321: WindowRegression\n",
            "Model Number: 322 with model RRVAR in generation 3 of 5\n",
            "Model Number: 323 with model MultivariateMotif in generation 3 of 5\n",
            "Model Number: 324 with model MAR in generation 3 of 5\n",
            "Model Number: 325 with model RRVAR in generation 3 of 5\n",
            "Model Number: 326 with model SectionalMotif in generation 3 of 5\n",
            "Model Number: 327 with model WindowRegression in generation 3 of 5\n",
            "Model Number: 328 with model NVAR in generation 3 of 5\n",
            "Model Number: 329 with model NVAR in generation 3 of 5\n",
            "Model Number: 330 with model TMF in generation 3 of 5\n",
            "Model Number: 331 with model MultivariateRegression in generation 3 of 5\n",
            "Model Number: 332 with model RollingRegression in generation 3 of 5\n",
            "Template Eval Error: ValueError('Some value(s) of y are out of the valid range for family PoissonDistribution') in model 332: RollingRegression\n",
            "Model Number: 333 with model MAR in generation 3 of 5\n"
          ]
        },
        {
          "output_type": "stream",
          "name": "stderr",
          "text": [
            "/usr/local/lib/python3.7/dist-packages/sklearn/utils/validation.py:993: DataConversionWarning: A column-vector y was passed when a 1d array was expected. Please change the shape of y to (n_samples, ), for example using ravel().\n",
            "  y = column_or_1d(y, warn=True)\n"
          ]
        },
        {
          "output_type": "stream",
          "name": "stdout",
          "text": [
            "Model Number: 334 with model LATC in generation 3 of 5\n",
            "Model Number: 335 with model RollingRegression in generation 3 of 5\n",
            "Model Number: 336 with model NVAR in generation 3 of 5\n",
            "Model Number: 337 with model WindowRegression in generation 3 of 5\n",
            "Model Number: 338 with model NVAR in generation 3 of 5\n"
          ]
        },
        {
          "output_type": "stream",
          "name": "stderr",
          "text": [
            "/usr/local/lib/python3.7/dist-packages/sklearn/base.py:451: UserWarning: X does not have valid feature names, but DecisionTreeRegressor was fitted with feature names\n",
            "  \"X does not have valid feature names, but\"\n"
          ]
        },
        {
          "output_type": "stream",
          "name": "stdout",
          "text": [
            "Model Number: 339 with model RollingRegression in generation 3 of 5\n",
            "Template Eval Error: ValueError(\"Input contains NaN, infinity or a value too large for dtype('float64').\") in model 339: RollingRegression\n",
            "Model Number: 340 with model MultivariateMotif in generation 3 of 5\n",
            "Model Number: 341 with model TMF in generation 3 of 5\n",
            "Model Number: 342 with model WindowRegression in generation 3 of 5\n",
            "Model Number: 343 with model MultivariateMotif in generation 3 of 5\n",
            "Model Number: 344 with model RRVAR in generation 3 of 5\n",
            "Model Number: 345 with model RRVAR in generation 3 of 5\n",
            "Model Number: 346 with model MultivariateMotif in generation 3 of 5\n",
            "Model Number: 347 with model MAR in generation 3 of 5\n",
            "Model Number: 348 with model MAR in generation 3 of 5\n",
            "Model Number: 349 with model RRVAR in generation 3 of 5\n",
            "Model Number: 350 with model SectionalMotif in generation 3 of 5\n",
            "Model Number: 351 with model MAR in generation 3 of 5\n",
            "Model Number: 352 with model NVAR in generation 3 of 5\n",
            "Model Number: 353 with model NVAR in generation 3 of 5\n",
            "Model Number: 354 with model MultivariateRegression in generation 3 of 5\n",
            "Model Number: 355 with model TMF in generation 3 of 5\n",
            "Model Number: 356 with model NVAR in generation 3 of 5\n",
            "Model Number: 357 with model SectionalMotif in generation 3 of 5\n",
            "Model Number: 358 with model RRVAR in generation 3 of 5\n",
            "Model Number: 359 with model NVAR in generation 3 of 5\n",
            "Model Number: 360 with model MultivariateMotif in generation 3 of 5\n",
            "Model Number: 361 with model SectionalMotif in generation 3 of 5\n",
            "Model Number: 362 with model MultivariateRegression in generation 3 of 5\n",
            "Model Number: 363 with model LATC in generation 3 of 5\n",
            "New Generation: 4 of 5\n",
            "Model Number: 364 with model MultivariateMotif in generation 4 of 5\n",
            "Model Number: 365 with model LATC in generation 4 of 5\n",
            "Model Number: 366 with model NVAR in generation 4 of 5\n",
            "Model Number: 367 with model TMF in generation 4 of 5\n",
            "Model Number: 368 with model MAR in generation 4 of 5\n",
            "Model Number: 369 with model NVAR in generation 4 of 5\n",
            "Model Number: 370 with model WindowRegression in generation 4 of 5\n",
            "Model Number: 371 with model WindowRegression in generation 4 of 5\n",
            "Template Eval Error: LightGBMError('[tweedie]: at least one target label is negative') in model 371: WindowRegression\n",
            "Model Number: 372 with model NVAR in generation 4 of 5\n",
            "Model Number: 373 with model RollingRegression in generation 4 of 5\n"
          ]
        },
        {
          "output_type": "stream",
          "name": "stderr",
          "text": [
            "/usr/local/lib/python3.7/dist-packages/sklearn/utils/validation.py:993: DataConversionWarning: A column-vector y was passed when a 1d array was expected. Please change the shape of y to (n_samples, ), for example using ravel().\n",
            "  y = column_or_1d(y, warn=True)\n",
            "/usr/local/lib/python3.7/dist-packages/sklearn/base.py:451: UserWarning: X does not have valid feature names, but HistGradientBoostingRegressor was fitted with feature names\n",
            "  \"X does not have valid feature names, but\"\n"
          ]
        },
        {
          "output_type": "stream",
          "name": "stdout",
          "text": [
            "Model Number: 374 with model TMF in generation 4 of 5\n",
            "Template Eval Error: LinAlgError('SVD did not converge') in model 374: TMF\n",
            "Model Number: 375 with model NVAR in generation 4 of 5\n"
          ]
        },
        {
          "output_type": "stream",
          "name": "stderr",
          "text": [
            "/usr/local/lib/python3.7/dist-packages/autots/models/matrix_var.py:378: RuntimeWarning: invalid value encountered in double_scalars\n",
            "  alpha = rold / np.inner(q, Aq)\n"
          ]
        },
        {
          "output_type": "stream",
          "name": "stdout",
          "text": [
            "Model Number: 376 with model MAR in generation 4 of 5\n",
            "Model Number: 377 with model MultivariateMotif in generation 4 of 5\n",
            "Model Number: 378 with model WindowRegression in generation 4 of 5\n",
            "Model Number: 379 with model NVAR in generation 4 of 5\n",
            "Model Number: 380 with model RRVAR in generation 4 of 5\n",
            "Model Number: 381 with model RollingRegression in generation 4 of 5\n",
            "Template Eval Error: ValueError('Model RollingRegression returned NaN for one or more series. fail_on_forecast_nan=True') in model 381: RollingRegression\n",
            "Model Number: 382 with model RRVAR in generation 4 of 5\n"
          ]
        },
        {
          "output_type": "stream",
          "name": "stderr",
          "text": [
            "/usr/local/lib/python3.7/dist-packages/sklearn/base.py:451: UserWarning: X does not have valid feature names, but RadiusNeighborsRegressor was fitted with feature names\n",
            "  \"X does not have valid feature names, but\"\n",
            "/usr/local/lib/python3.7/dist-packages/sklearn/neighbors/_regression.py:470: UserWarning: One or more samples have no neighbors within specified radius; predicting NaN.\n",
            "  warnings.warn(empty_warning_msg)\n"
          ]
        },
        {
          "output_type": "stream",
          "name": "stdout",
          "text": [
            "Model Number: 383 with model WindowRegression in generation 4 of 5\n",
            "Model Number: 384 with model RRVAR in generation 4 of 5\n",
            "Model Number: 385 with model LATC in generation 4 of 5\n",
            "Model Number: 386 with model MAR in generation 4 of 5\n",
            "Model Number: 387 with model MultivariateMotif in generation 4 of 5\n",
            "Model Number: 388 with model MAR in generation 4 of 5\n",
            "Model Number: 389 with model MultivariateRegression in generation 4 of 5\n",
            "Model Number: 390 with model NVAR in generation 4 of 5\n",
            "Model Number: 391 with model LATC in generation 4 of 5\n",
            "Model Number: 392 with model NVAR in generation 4 of 5\n",
            "Model Number: 393 with model SectionalMotif in generation 4 of 5\n",
            "Model Number: 394 with model MultivariateMotif in generation 4 of 5\n",
            "Model Number: 395 with model MultivariateMotif in generation 4 of 5\n",
            "Model Number: 396 with model NVAR in generation 4 of 5\n",
            "Model Number: 397 with model RRVAR in generation 4 of 5\n",
            "Model Number: 398 with model MAR in generation 4 of 5\n",
            "Model Number: 399 with model WindowRegression in generation 4 of 5\n",
            "Template Eval Error: XGBoostError('[06:36:39] /workspace/src/objective/regression_obj.cu:423: GammaRegression: label must be nonnegative\\nStack trace:\\n  [bt] (0) /usr/local/lib/python3.7/dist-packages/xgboost/./lib/libxgboost.so(dmlc::LogMessageFatal::~LogMessageFatal()+0x24) [0x7fbee3c99cb4]\\n  [bt] (1) /usr/local/lib/python3.7/dist-packages/xgboost/./lib/libxgboost.so(xgboost::obj::GammaRegression::GetGradient(xgboost::HostDeviceVector<float> const&, xgboost::MetaInfo const&, int, xgboost::HostDeviceVector<xgboost::detail::GradientPairInternal<float> >*)+0x75d) [0x7fbee3ea615d]\\n  [bt] (2) /usr/local/lib/python3.7/dist-packages/xgboost/./lib/libxgboost.so(xgboost::LearnerImpl::UpdateOneIter(int, xgboost::DMatrix*)+0x345) [0x7fbee3d33505]\\n  [bt] (3) /usr/local/lib/python3.7/dist-packages/xgboost/./lib/libxgboost.so(XGBoosterUpdateOneIter+0x35) [0x7fbee3c96aa5]\\n  [bt] (4) /usr/lib/x86_64-linux-gnu/libffi.so.6(ffi_call_unix64+0x4c) [0x7fbf21c3adae]\\n  [bt] (5) /usr/lib/x86_64-linux-gnu/libffi.so.6(ffi_call+0x22f) [0x7fbf21c3a71f]\\n  [bt] (6) /usr/lib/python3.7/lib-dynload/_ctypes.cpython-37m-x86_64-linux-gnu.so(+0xd849) [0x7fbf21e4a849]\\n  [bt] (7) /usr/lib/python3.7/lib-dynload/_ctypes.cpython-37m-x86_64-linux-gnu.so(+0xdeaf) [0x7fbf21e4aeaf]\\n  [bt] (8) /usr/bin/python3(_PyObject_FastCallKeywords+0x575) [0x590055]\\n\\n') in model 399: WindowRegression\n",
            "Model Number: 400 with model MultivariateMotif in generation 4 of 5\n",
            "Model Number: 401 with model RollingRegression in generation 4 of 5\n"
          ]
        },
        {
          "output_type": "stream",
          "name": "stderr",
          "text": [
            "/usr/local/lib/python3.7/dist-packages/sklearn/utils/validation.py:993: DataConversionWarning: A column-vector y was passed when a 1d array was expected. Please change the shape of y to (n_samples, ), for example using ravel().\n",
            "  y = column_or_1d(y, warn=True)\n"
          ]
        },
        {
          "output_type": "stream",
          "name": "stdout",
          "text": [
            "Model Number: 402 with model NVAR in generation 4 of 5\n",
            "Model Number: 403 with model RRVAR in generation 4 of 5\n"
          ]
        },
        {
          "output_type": "stream",
          "name": "stderr",
          "text": [
            "/usr/local/lib/python3.7/dist-packages/sklearn/base.py:451: UserWarning: X does not have valid feature names, but HistGradientBoostingRegressor was fitted with feature names\n",
            "  \"X does not have valid feature names, but\"\n"
          ]
        },
        {
          "output_type": "stream",
          "name": "stdout",
          "text": [
            "Model Number: 404 with model MAR in generation 4 of 5\n",
            "Model Number: 405 with model SectionalMotif in generation 4 of 5\n",
            "Model Number: 406 with model TMF in generation 4 of 5\n",
            "Model Number: 407 with model NVAR in generation 4 of 5\n",
            "Model Number: 408 with model MAR in generation 4 of 5\n",
            "Model Number: 409 with model RRVAR in generation 4 of 5\n",
            "Model Number: 410 with model LATC in generation 4 of 5\n",
            "Template Eval Error: ValueError('LATC cannot accept any arrays that are all 0') in model 410: LATC\n",
            "Model Number: 411 with model SectionalMotif in generation 4 of 5\n",
            "Model Number: 412 with model WindowRegression in generation 4 of 5\n",
            "Model Number: 413 with model MultivariateRegression in generation 4 of 5\n",
            "Model Number: 414 with model TMF in generation 4 of 5\n",
            "Template Eval Error: LinAlgError('SVD did not converge') in model 414: TMF\n",
            "Model Number: 415 with model MAR in generation 4 of 5\n"
          ]
        },
        {
          "output_type": "stream",
          "name": "stderr",
          "text": [
            "/usr/local/lib/python3.7/dist-packages/autots/models/matrix_var.py:378: RuntimeWarning: invalid value encountered in double_scalars\n",
            "  alpha = rold / np.inner(q, Aq)\n"
          ]
        },
        {
          "output_type": "stream",
          "name": "stdout",
          "text": [
            "Model Number: 416 with model TMF in generation 4 of 5\n"
          ]
        },
        {
          "output_type": "stream",
          "name": "stderr",
          "text": [
            "/usr/local/lib/python3.7/dist-packages/autots/models/matrix_var.py:378: RuntimeWarning: invalid value encountered in double_scalars\n",
            "  alpha = rold / np.inner(q, Aq)\n"
          ]
        },
        {
          "output_type": "stream",
          "name": "stdout",
          "text": [
            "Template Eval Error: LinAlgError('SVD did not converge') in model 416: TMF\n",
            "Model Number: 417 with model MultivariateRegression in generation 4 of 5\n",
            "Model Number: 418 with model WindowRegression in generation 4 of 5\n",
            "Model Number: 419 with model MAR in generation 4 of 5\n",
            "Model Number: 420 with model RRVAR in generation 4 of 5\n",
            "Model Number: 421 with model NVAR in generation 4 of 5\n",
            "Model Number: 422 with model MAR in generation 4 of 5\n",
            "Model Number: 423 with model RRVAR in generation 4 of 5\n",
            "Model Number: 424 with model SectionalMotif in generation 4 of 5\n",
            "Model Number: 425 with model SectionalMotif in generation 4 of 5\n",
            "Model Number: 426 with model MultivariateRegression in generation 4 of 5\n",
            "Model Number: 427 with model SectionalMotif in generation 4 of 5\n",
            "Model Number: 428 with model MultivariateMotif in generation 4 of 5\n",
            "Model Number: 429 with model RRVAR in generation 4 of 5\n",
            "Template Eval Error: LinAlgError('SVD did not converge') in model 429: RRVAR\n",
            "Model Number: 430 with model RRVAR in generation 4 of 5\n",
            "Model Number: 431 with model LATC in generation 4 of 5\n",
            "Model Number: 432 with model MultivariateRegression in generation 4 of 5\n"
          ]
        },
        {
          "output_type": "stream",
          "name": "stderr",
          "text": [
            "/usr/local/lib/python3.7/dist-packages/numpy/linalg/linalg.py:2007: RuntimeWarning: overflow encountered in true_divide\n",
            "  s = divide(1, s, where=large, out=s)\n",
            "/usr/local/lib/python3.7/dist-packages/autots/models/matrix_var.py:29: RuntimeWarning: invalid value encountered in matmul\n",
            "  W = X2 @ np.linalg.pinv((V @ X1))\n"
          ]
        },
        {
          "output_type": "stream",
          "name": "stdout",
          "text": [
            "Model Number: 433 with model WindowRegression in generation 4 of 5\n",
            "Model Number: 434 with model MultivariateMotif in generation 4 of 5\n",
            "Model Number: 435 with model MultivariateRegression in generation 4 of 5\n",
            "Template Eval Error: ValueError(\"regression_type='User' but not future_regressor supplied.\") in model 435: MultivariateRegression\n",
            "Model Number: 436 with model SectionalMotif in generation 4 of 5\n",
            "Model Number: 437 with model TMF in generation 4 of 5\n"
          ]
        },
        {
          "output_type": "stream",
          "name": "stderr",
          "text": [
            "/usr/local/lib/python3.7/dist-packages/autots/models/matrix_var.py:378: RuntimeWarning: invalid value encountered in double_scalars\n",
            "  alpha = rold / np.inner(q, Aq)\n"
          ]
        },
        {
          "output_type": "stream",
          "name": "stdout",
          "text": [
            "Template Eval Error: LinAlgError('SVD did not converge') in model 437: TMF\n",
            "Model Number: 438 with model NVAR in generation 4 of 5\n",
            "Model Number: 439 with model MultivariateRegression in generation 4 of 5\n",
            "Model Number: 440 with model LATC in generation 4 of 5\n",
            "Model Number: 441 with model RRVAR in generation 4 of 5\n",
            "Model Number: 442 with model MultivariateRegression in generation 4 of 5\n",
            "Model Number: 443 with model MultivariateRegression in generation 4 of 5\n",
            "Model Number: 444 with model RollingRegression in generation 4 of 5\n"
          ]
        },
        {
          "output_type": "stream",
          "name": "stderr",
          "text": [
            "/usr/local/lib/python3.7/dist-packages/autots/models/sklearn.py:1084: DataConversionWarning: A column-vector y was passed when a 1d array was expected. Please change the shape of y to (n_samples,), for example using ravel().\n",
            "  self.regr = self.regr.fit(X, Y)\n",
            "/usr/local/lib/python3.7/dist-packages/sklearn/base.py:451: UserWarning: X does not have valid feature names, but ExtraTreesRegressor was fitted with feature names\n",
            "  \"X does not have valid feature names, but\"\n"
          ]
        },
        {
          "output_type": "stream",
          "name": "stdout",
          "text": [
            "Model Number: 445 with model TMF in generation 4 of 5\n",
            "Model Number: 446 with model RollingRegression in generation 4 of 5\n",
            "Model Number: 447 with model MAR in generation 4 of 5\n"
          ]
        },
        {
          "output_type": "stream",
          "name": "stderr",
          "text": [
            "/usr/local/lib/python3.7/dist-packages/sklearn/base.py:451: UserWarning: X does not have valid feature names, but RANSACRegressor was fitted with feature names\n",
            "  \"X does not have valid feature names, but\"\n"
          ]
        },
        {
          "output_type": "stream",
          "name": "stdout",
          "text": [
            "Model Number: 448 with model NVAR in generation 4 of 5\n",
            "New Generation: 5 of 5\n",
            "Model Number: 449 with model MAR in generation 5 of 5\n",
            "Model Number: 450 with model MAR in generation 5 of 5\n",
            "Model Number: 451 with model SectionalMotif in generation 5 of 5\n",
            "Model Number: 452 with model NVAR in generation 5 of 5\n",
            "Model Number: 453 with model RRVAR in generation 5 of 5\n",
            "Model Number: 454 with model SectionalMotif in generation 5 of 5\n",
            "Model Number: 455 with model RRVAR in generation 5 of 5\n",
            "Model Number: 456 with model MAR in generation 5 of 5\n",
            "Model Number: 457 with model MAR in generation 5 of 5\n",
            "Model Number: 458 with model MultivariateRegression in generation 5 of 5\n",
            "Template Eval Error: LightGBMError('[gamma]: at least one target label is negative') in model 458: MultivariateRegression\n",
            "Model Number: 459 with model MultivariateRegression in generation 5 of 5\n",
            "Model Number: 460 with model TMF in generation 5 of 5\n",
            "Model Number: 461 with model RRVAR in generation 5 of 5\n",
            "Template Eval Error: Exception('Transformer Detrend failed on fit') in model 461: RRVAR\n",
            "Model Number: 462 with model RollingRegression in generation 5 of 5\n",
            "Model Number: 463 with model MultivariateMotif in generation 5 of 5\n",
            "Model Number: 464 with model RRVAR in generation 5 of 5\n"
          ]
        },
        {
          "output_type": "stream",
          "name": "stderr",
          "text": [
            "/usr/local/lib/python3.7/dist-packages/sklearn/base.py:451: UserWarning: X does not have valid feature names, but DecisionTreeRegressor was fitted with feature names\n",
            "  \"X does not have valid feature names, but\"\n"
          ]
        },
        {
          "output_type": "stream",
          "name": "stdout",
          "text": [
            "Model Number: 465 with model WindowRegression in generation 5 of 5\n",
            "Model Number: 466 with model LATC in generation 5 of 5\n",
            "Model Number: 467 with model NVAR in generation 5 of 5\n",
            "Model Number: 468 with model NVAR in generation 5 of 5\n",
            "Model Number: 469 with model MultivariateMotif in generation 5 of 5\n",
            "Model Number: 470 with model SectionalMotif in generation 5 of 5\n",
            "Model Number: 471 with model MultivariateMotif in generation 5 of 5\n",
            "Model Number: 472 with model RRVAR in generation 5 of 5\n",
            "Model Number: 473 with model MAR in generation 5 of 5\n",
            "Model Number: 474 with model NVAR in generation 5 of 5\n",
            "Model Number: 475 with model MAR in generation 5 of 5\n",
            "Model Number: 476 with model MAR in generation 5 of 5\n",
            "Model Number: 477 with model TMF in generation 5 of 5\n",
            "Model Number: 478 with model MultivariateRegression in generation 5 of 5\n",
            "Template Eval Error: ValueError(\"loss='poisson' requires non-negative y and sum(y) > 0.\") in model 478: MultivariateRegression\n",
            "Model Number: 479 with model RollingRegression in generation 5 of 5\n",
            "Model Number: 480 with model WindowRegression in generation 5 of 5\n",
            "Model Number: 481 with model SectionalMotif in generation 5 of 5\n"
          ]
        },
        {
          "output_type": "stream",
          "name": "stderr",
          "text": [
            "/usr/local/lib/python3.7/dist-packages/sklearn/utils/validation.py:993: DataConversionWarning: A column-vector y was passed when a 1d array was expected. Please change the shape of y to (n_samples, ), for example using ravel().\n",
            "  y = column_or_1d(y, warn=True)\n",
            "/usr/local/lib/python3.7/dist-packages/sklearn/base.py:451: UserWarning: X does not have valid feature names, but LinearSVR was fitted with feature names\n",
            "  \"X does not have valid feature names, but\"\n"
          ]
        },
        {
          "output_type": "stream",
          "name": "stdout",
          "text": [
            "Model Number: 482 with model MultivariateRegression in generation 5 of 5\n",
            "Model Number: 483 with model RRVAR in generation 5 of 5\n",
            "Model Number: 484 with model TMF in generation 5 of 5\n",
            "Model Number: 485 with model SectionalMotif in generation 5 of 5\n",
            "Model Number: 486 with model NVAR in generation 5 of 5\n",
            "Model Number: 487 with model TMF in generation 5 of 5\n",
            "Model Number: 488 with model SectionalMotif in generation 5 of 5\n",
            "Model Number: 489 with model MultivariateRegression in generation 5 of 5\n",
            "Template Eval Error: ValueError('Some value(s) of y are out of the valid range for family PoissonDistribution') in model 489: MultivariateRegression\n",
            "Model Number: 490 with model RRVAR in generation 5 of 5\n",
            "Model Number: 491 with model MultivariateMotif in generation 5 of 5\n",
            "Model Number: 492 with model RRVAR in generation 5 of 5\n",
            "Model Number: 493 with model WindowRegression in generation 5 of 5\n",
            "Model Number: 494 with model MultivariateRegression in generation 5 of 5\n",
            "Model Number: 495 with model TMF in generation 5 of 5\n"
          ]
        },
        {
          "output_type": "stream",
          "name": "stderr",
          "text": [
            "/usr/local/lib/python3.7/dist-packages/autots/models/matrix_var.py:378: RuntimeWarning: invalid value encountered in double_scalars\n",
            "  alpha = rold / np.inner(q, Aq)\n"
          ]
        },
        {
          "output_type": "stream",
          "name": "stdout",
          "text": [
            "Template Eval Error: LinAlgError('SVD did not converge') in model 495: TMF\n",
            "Model Number: 496 with model SectionalMotif in generation 5 of 5\n",
            "Model Number: 497 with model LATC in generation 5 of 5\n",
            "Model Number: 498 with model RRVAR in generation 5 of 5\n",
            "Model Number: 499 with model LATC in generation 5 of 5\n",
            "Model Number: 500 with model NVAR in generation 5 of 5\n",
            "Model Number: 501 with model MultivariateRegression in generation 5 of 5\n",
            "Template Eval Error: ValueError(\"regression_type='User' but not future_regressor supplied.\") in model 501: MultivariateRegression\n",
            "Model Number: 502 with model MultivariateMotif in generation 5 of 5\n",
            "Model Number: 503 with model NVAR in generation 5 of 5\n",
            "Model Number: 504 with model NVAR in generation 5 of 5\n",
            "Model Number: 505 with model RollingRegression in generation 5 of 5\n",
            "Template Eval Error: ValueError(\"Input contains NaN, infinity or a value too large for dtype('float32').\") in model 505: RollingRegression\n",
            "Model Number: 506 with model RRVAR in generation 5 of 5\n",
            "Model Number: 507 with model NVAR in generation 5 of 5\n",
            "Model Number: 508 with model MultivariateRegression in generation 5 of 5\n",
            "Model Number: 509 with model SectionalMotif in generation 5 of 5\n",
            "Model Number: 510 with model RollingRegression in generation 5 of 5\n",
            "Model Number: 511 with model WindowRegression in generation 5 of 5\n",
            "Template Eval Error: ValueError('Some value(s) of y are out of the valid range for family PoissonDistribution') in model 511: WindowRegression\n",
            "Model Number: 512 with model SectionalMotif in generation 5 of 5\n",
            "Model Number: 513 with model NVAR in generation 5 of 5\n",
            "Model Number: 514 with model MultivariateMotif in generation 5 of 5\n"
          ]
        },
        {
          "output_type": "stream",
          "name": "stderr",
          "text": [
            "/usr/local/lib/python3.7/dist-packages/sklearn/base.py:451: UserWarning: X does not have valid feature names, but DecisionTreeRegressor was fitted with feature names\n",
            "  \"X does not have valid feature names, but\"\n",
            "/usr/local/lib/python3.7/dist-packages/sklearn/utils/validation.py:993: DataConversionWarning: A column-vector y was passed when a 1d array was expected. Please change the shape of y to (n_samples, ), for example using ravel().\n",
            "  y = column_or_1d(y, warn=True)\n"
          ]
        },
        {
          "output_type": "stream",
          "name": "stdout",
          "text": [
            "Model Number: 515 with model RollingRegression in generation 5 of 5\n",
            "Model Number: 516 with model RRVAR in generation 5 of 5\n"
          ]
        },
        {
          "output_type": "stream",
          "name": "stderr",
          "text": [
            "/usr/local/lib/python3.7/dist-packages/sklearn/svm/_base.py:1208: ConvergenceWarning: Liblinear failed to converge, increase the number of iterations.\n",
            "  ConvergenceWarning,\n",
            "/usr/local/lib/python3.7/dist-packages/sklearn/base.py:451: UserWarning: X does not have valid feature names, but LinearSVR was fitted with feature names\n",
            "  \"X does not have valid feature names, but\"\n"
          ]
        },
        {
          "output_type": "stream",
          "name": "stdout",
          "text": [
            "Model Number: 517 with model Ensemble in generation 6 of Ensembles\n",
            "Model Number: 518 with model Ensemble in generation 6 of Ensembles\n",
            "Model Number: 519 with model Ensemble in generation 6 of Ensembles\n",
            "Model Number: 520 with model Ensemble in generation 6 of Ensembles\n",
            "Model Number: 521 with model Ensemble in generation 6 of Ensembles\n",
            "Model Number: 522 with model Ensemble in generation 6 of Ensembles\n",
            "Model Number: 523 with model Ensemble in generation 6 of Ensembles\n",
            "Model Number: 524 with model Ensemble in generation 6 of Ensembles\n",
            "Validation Round: 1\n",
            "Model Number: 1 of 88 with model Ensemble for Validation 1\n",
            "📈 1 - Ensemble with avg smape 3.31: \n",
            "Model Number: 2 of 88 with model Ensemble for Validation 1\n",
            "2 - Ensemble with avg smape 3.31: \n",
            "Model Number: 3 of 88 with model RRVAR for Validation 1\n",
            "3 - RRVAR with avg smape 3.31: \n",
            "Model Number: 4 of 88 with model Ensemble for Validation 1\n",
            "📈 4 - Ensemble with avg smape 3.28: \n",
            "Model Number: 5 of 88 with model RRVAR for Validation 1\n",
            "📈 5 - RRVAR with avg smape 3.27: \n",
            "Model Number: 6 of 88 with model RRVAR for Validation 1\n",
            "6 - RRVAR with avg smape 3.27: \n",
            "Model Number: 7 of 88 with model Ensemble for Validation 1\n",
            "📈 7 - Ensemble with avg smape 3.13: \n",
            "Model Number: 8 of 88 with model Ensemble for Validation 1\n",
            "📈 8 - Ensemble with avg smape 3.09: \n",
            "Model Number: 9 of 88 with model Ensemble for Validation 1\n",
            "9 - Ensemble with avg smape 3.09: \n",
            "Model Number: 10 of 88 with model Ensemble for Validation 1\n",
            "10 - Ensemble with avg smape 3.49: \n",
            "Model Number: 11 of 88 with model WindowRegression for Validation 1\n",
            "11 - WindowRegression with avg smape 3.66: \n",
            "Model Number: 12 of 88 with model RRVAR for Validation 1\n",
            "12 - RRVAR with avg smape 3.33: \n",
            "Model Number: 13 of 88 with model NVAR for Validation 1\n",
            "📈 13 - NVAR with avg smape 2.3: \n",
            "Model Number: 14 of 88 with model NVAR for Validation 1\n",
            "14 - NVAR with avg smape 2.31: \n",
            "Model Number: 15 of 88 with model NVAR for Validation 1\n",
            "15 - NVAR with avg smape 2.31: \n",
            "Model Number: 16 of 88 with model RRVAR for Validation 1\n",
            "16 - RRVAR with avg smape 3.25: \n",
            "Model Number: 17 of 88 with model NVAR for Validation 1\n",
            "17 - NVAR with avg smape 3.29: \n",
            "Model Number: 18 of 88 with model NVAR for Validation 1\n",
            "📈 18 - NVAR with avg smape 0.87: \n",
            "Model Number: 19 of 88 with model Ensemble for Validation 1\n",
            "19 - Ensemble with avg smape 3.53: \n",
            "Model Number: 20 of 88 with model NVAR for Validation 1\n",
            "20 - NVAR with avg smape 1.55: \n",
            "Model Number: 21 of 88 with model NVAR for Validation 1\n",
            "21 - NVAR with avg smape 1.55: \n",
            "Model Number: 22 of 88 with model NVAR for Validation 1\n",
            "22 - NVAR with avg smape 1.36: \n",
            "Model Number: 23 of 88 with model RRVAR for Validation 1\n",
            "23 - RRVAR with avg smape 3.34: \n",
            "Model Number: 24 of 88 with model RRVAR for Validation 1\n",
            "24 - RRVAR with avg smape 3.34: \n",
            "Model Number: 25 of 88 with model MAR for Validation 1\n",
            "25 - MAR with avg smape 3.65: \n",
            "Model Number: 26 of 88 with model MAR for Validation 1\n",
            "26 - MAR with avg smape 3.65: \n",
            "Model Number: 27 of 88 with model MultivariateRegression for Validation 1\n",
            "27 - MultivariateRegression with avg smape 4.58: \n",
            "Model Number: 28 of 88 with model MultivariateMotif for Validation 1\n",
            "28 - MultivariateMotif with avg smape 3.05: \n",
            "Model Number: 29 of 88 with model TMF for Validation 1\n",
            "29 - TMF with avg smape 3.57: \n",
            "Model Number: 30 of 88 with model RRVAR for Validation 1\n",
            "📈 30 - RRVAR with avg smape 0.76: \n",
            "Model Number: 31 of 88 with model MultivariateRegression for Validation 1\n",
            "31 - MultivariateRegression with avg smape 4.24: \n",
            "Model Number: 32 of 88 with model MultivariateRegression for Validation 1\n",
            "32 - MultivariateRegression with avg smape 1.83: \n",
            "Model Number: 33 of 88 with model MultivariateRegression for Validation 1\n",
            "33 - MultivariateRegression with avg smape 1.83: \n",
            "Model Number: 34 of 88 with model MAR for Validation 1\n",
            "34 - MAR with avg smape 3.84: \n",
            "Model Number: 35 of 88 with model MAR for Validation 1\n",
            "35 - MAR with avg smape 3.76: \n",
            "Model Number: 36 of 88 with model MAR for Validation 1\n",
            "36 - MAR with avg smape 3.76: \n",
            "Model Number: 37 of 88 with model MAR for Validation 1\n",
            "37 - MAR with avg smape 3.76: \n",
            "Model Number: 38 of 88 with model MAR for Validation 1\n",
            "38 - MAR with avg smape 3.76: \n",
            "Model Number: 39 of 88 with model MAR for Validation 1\n",
            "39 - MAR with avg smape 3.42: \n",
            "Model Number: 40 of 88 with model SectionalMotif for Validation 1\n",
            "40 - SectionalMotif with avg smape 4.71: \n",
            "Model Number: 41 of 88 with model SectionalMotif for Validation 1\n",
            "41 - SectionalMotif with avg smape 4.71: \n",
            "Model Number: 42 of 88 with model RollingRegression for Validation 1\n",
            "📈 42 - RollingRegression with avg smape 0.52: \n",
            "Model Number: 43 of 88 with model RollingRegression for Validation 1\n",
            "43 - RollingRegression with avg smape 0.52: \n",
            "Model Number: 44 of 88 with model SectionalMotif for Validation 1\n"
          ]
        },
        {
          "output_type": "stream",
          "name": "stderr",
          "text": [
            "/usr/local/lib/python3.7/dist-packages/sklearn/utils/validation.py:993: DataConversionWarning: A column-vector y was passed when a 1d array was expected. Please change the shape of y to (n_samples, ), for example using ravel().\n",
            "  y = column_or_1d(y, warn=True)\n",
            "/usr/local/lib/python3.7/dist-packages/sklearn/base.py:451: UserWarning: X does not have valid feature names, but LinearSVR was fitted with feature names\n",
            "  \"X does not have valid feature names, but\"\n",
            "/usr/local/lib/python3.7/dist-packages/sklearn/utils/validation.py:993: DataConversionWarning: A column-vector y was passed when a 1d array was expected. Please change the shape of y to (n_samples, ), for example using ravel().\n",
            "  y = column_or_1d(y, warn=True)\n",
            "/usr/local/lib/python3.7/dist-packages/sklearn/base.py:451: UserWarning: X does not have valid feature names, but LinearSVR was fitted with feature names\n",
            "  \"X does not have valid feature names, but\"\n"
          ]
        },
        {
          "output_type": "stream",
          "name": "stdout",
          "text": [
            "📈 44 - SectionalMotif with avg smape 0.43: \n",
            "Model Number: 45 of 88 with model SectionalMotif for Validation 1\n",
            "45 - SectionalMotif with avg smape 3.05: \n",
            "Model Number: 46 of 88 with model SectionalMotif for Validation 1\n",
            "46 - SectionalMotif with avg smape 3.05: \n",
            "Model Number: 47 of 88 with model MultivariateMotif for Validation 1\n",
            "47 - MultivariateMotif with avg smape 3.04: \n",
            "Model Number: 48 of 88 with model MultivariateRegression for Validation 1\n",
            "48 - MultivariateRegression with avg smape 2.01: \n",
            "Model Number: 49 of 88 with model MultivariateRegression for Validation 1\n",
            "49 - MultivariateRegression with avg smape 2.01: \n",
            "Model Number: 50 of 88 with model WindowRegression for Validation 1\n",
            "50 - WindowRegression with avg smape 3.28: \n",
            "Model Number: 51 of 88 with model SectionalMotif for Validation 1\n",
            "51 - SectionalMotif with avg smape 3.24: \n",
            "Model Number: 52 of 88 with model WindowRegression for Validation 1\n",
            "52 - WindowRegression with avg smape 3.24: \n",
            "Model Number: 53 of 88 with model WindowRegression for Validation 1\n",
            "53 - WindowRegression with avg smape 3.24: \n",
            "Model Number: 54 of 88 with model LATC for Validation 1\n",
            "54 - LATC with avg smape 3.24: \n",
            "Model Number: 55 of 88 with model LATC for Validation 1\n",
            "55 - LATC with avg smape 2.48: \n",
            "Model Number: 56 of 88 with model LATC for Validation 1\n",
            "56 - LATC with avg smape 2.48: \n",
            "Model Number: 57 of 88 with model LATC for Validation 1\n",
            "57 - LATC with avg smape 2.48: \n",
            "Model Number: 58 of 88 with model LATC for Validation 1\n",
            "58 - LATC with avg smape 2.48: \n",
            "Model Number: 59 of 88 with model LATC for Validation 1\n",
            "59 - LATC with avg smape 3.25: \n",
            "Model Number: 60 of 88 with model RollingRegression for Validation 1\n",
            "60 - RollingRegression with avg smape 0.52: \n",
            "Model Number: 61 of 88 with model SectionalMotif for Validation 1\n",
            "61 - SectionalMotif with avg smape 3.48: \n",
            "Model Number: 62 of 88 with model MultivariateRegression for Validation 1\n"
          ]
        },
        {
          "output_type": "stream",
          "name": "stderr",
          "text": [
            "/usr/local/lib/python3.7/dist-packages/sklearn/base.py:451: UserWarning: X does not have valid feature names, but DecisionTreeRegressor was fitted with feature names\n",
            "  \"X does not have valid feature names, but\"\n"
          ]
        },
        {
          "output_type": "stream",
          "name": "stdout",
          "text": [
            "62 - MultivariateRegression with avg smape 7.26: \n",
            "Model Number: 63 of 88 with model RollingRegression for Validation 1\n",
            "63 - RollingRegression with avg smape 0.53: \n",
            "Model Number: 64 of 88 with model MultivariateMotif for Validation 1\n",
            "64 - MultivariateMotif with avg smape 3.45: \n",
            "Model Number: 65 of 88 with model MultivariateMotif for Validation 1\n"
          ]
        },
        {
          "output_type": "stream",
          "name": "stderr",
          "text": [
            "/usr/local/lib/python3.7/dist-packages/sklearn/base.py:451: UserWarning: X does not have valid feature names, but RANSACRegressor was fitted with feature names\n",
            "  \"X does not have valid feature names, but\"\n"
          ]
        },
        {
          "output_type": "stream",
          "name": "stdout",
          "text": [
            "65 - MultivariateMotif with avg smape 3.43: \n",
            "Model Number: 66 of 88 with model WindowRegression for Validation 1\n",
            "66 - WindowRegression with avg smape 2.98: \n",
            "Model Number: 67 of 88 with model WindowRegression for Validation 1\n",
            "67 - WindowRegression with avg smape 2.98: \n",
            "Model Number: 68 of 88 with model MultivariateMotif for Validation 1\n",
            "68 - MultivariateMotif with avg smape 2.8: \n",
            "Model Number: 69 of 88 with model SectionalMotif for Validation 1\n",
            "69 - SectionalMotif with avg smape 3.43: \n",
            "Model Number: 70 of 88 with model MultivariateMotif for Validation 1\n",
            "70 - MultivariateMotif with avg smape 3.48: \n",
            "Model Number: 71 of 88 with model MultivariateMotif for Validation 1\n",
            "71 - MultivariateMotif with avg smape 3.48: \n",
            "Model Number: 72 of 88 with model WindowRegression for Validation 1\n",
            "72 - WindowRegression with avg smape 3.17: \n",
            "Model Number: 73 of 88 with model WindowRegression for Validation 1\n",
            "73 - WindowRegression with avg smape 2.36: \n",
            "Model Number: 74 of 88 with model MultivariateRegression for Validation 1\n",
            "74 - MultivariateRegression with avg smape 0.99: \n",
            "Model Number: 75 of 88 with model MultivariateMotif for Validation 1\n"
          ]
        },
        {
          "output_type": "stream",
          "name": "stderr",
          "text": [
            "/usr/local/lib/python3.7/dist-packages/sklearn/neural_network/_multilayer_perceptron.py:549: ConvergenceWarning: lbfgs failed to converge (status=1):\n",
            "STOP: TOTAL NO. of ITERATIONS REACHED LIMIT.\n",
            "\n",
            "Increase the number of iterations (max_iter) or scale the data as shown in:\n",
            "    https://scikit-learn.org/stable/modules/preprocessing.html\n",
            "  self.n_iter_ = _check_optimize_result(\"lbfgs\", opt_res, self.max_iter)\n"
          ]
        },
        {
          "output_type": "stream",
          "name": "stdout",
          "text": [
            "75 - MultivariateMotif with avg smape 10.5: \n",
            "Model Number: 76 of 88 with model TMF for Validation 1\n",
            "76 - TMF with avg smape 3.06: \n",
            "Model Number: 77 of 88 with model RollingRegression for Validation 1\n",
            "📈 77 - RollingRegression with avg smape 0.07: \n",
            "Model Number: 78 of 88 with model TMF for Validation 1\n"
          ]
        },
        {
          "output_type": "stream",
          "name": "stderr",
          "text": [
            "/usr/local/lib/python3.7/dist-packages/sklearn/base.py:451: UserWarning: X does not have valid feature names, but DecisionTreeRegressor was fitted with feature names\n",
            "  \"X does not have valid feature names, but\"\n"
          ]
        },
        {
          "output_type": "stream",
          "name": "stdout",
          "text": [
            "78 - TMF with avg smape 3.31: \n",
            "Model Number: 79 of 88 with model TMF for Validation 1\n",
            "79 - TMF with avg smape 3.18: \n",
            "Model Number: 80 of 88 with model RollingRegression for Validation 1\n"
          ]
        },
        {
          "output_type": "stream",
          "name": "stderr",
          "text": [
            "/usr/local/lib/python3.7/dist-packages/sklearn/utils/validation.py:993: DataConversionWarning: A column-vector y was passed when a 1d array was expected. Please change the shape of y to (n_samples, ), for example using ravel().\n",
            "  y = column_or_1d(y, warn=True)\n",
            "/usr/local/lib/python3.7/dist-packages/sklearn/base.py:451: UserWarning: X does not have valid feature names, but HistGradientBoostingRegressor was fitted with feature names\n",
            "  \"X does not have valid feature names, but\"\n"
          ]
        },
        {
          "output_type": "stream",
          "name": "stdout",
          "text": [
            "80 - RollingRegression with avg smape 1.54: \n",
            "Model Number: 81 of 88 with model TMF for Validation 1\n",
            "81 - TMF with avg smape 2.76: \n",
            "Model Number: 82 of 88 with model RollingRegression for Validation 1\n"
          ]
        },
        {
          "output_type": "stream",
          "name": "stderr",
          "text": [
            "/usr/local/lib/python3.7/dist-packages/sklearn/utils/validation.py:993: DataConversionWarning: A column-vector y was passed when a 1d array was expected. Please change the shape of y to (n_samples, ), for example using ravel().\n",
            "  y = column_or_1d(y, warn=True)\n"
          ]
        },
        {
          "output_type": "stream",
          "name": "stdout",
          "text": [
            "82 - RollingRegression with avg smape 3.5: \n",
            "Model Number: 83 of 88 with model RollingRegression for Validation 1\n",
            "83 - RollingRegression with avg smape 1.54: \n",
            "Model Number: 84 of 88 with model LATC for Validation 1\n",
            "84 - LATC with avg smape 3.12: \n",
            "Model Number: 85 of 88 with model LATC for Validation 1\n"
          ]
        },
        {
          "output_type": "stream",
          "name": "stderr",
          "text": [
            "/usr/local/lib/python3.7/dist-packages/sklearn/base.py:451: UserWarning: X does not have valid feature names, but HistGradientBoostingRegressor was fitted with feature names\n",
            "  \"X does not have valid feature names, but\"\n",
            "/usr/local/lib/python3.7/dist-packages/sklearn/base.py:451: UserWarning: X does not have valid feature names, but DecisionTreeRegressor was fitted with feature names\n",
            "  \"X does not have valid feature names, but\"\n"
          ]
        },
        {
          "output_type": "stream",
          "name": "stdout",
          "text": [
            "85 - LATC with avg smape 3.08: \n",
            "Model Number: 86 of 88 with model TMF for Validation 1\n",
            "86 - TMF with avg smape 2.65: \n",
            "Model Number: 87 of 88 with model TMF for Validation 1\n"
          ]
        },
        {
          "output_type": "stream",
          "name": "stderr",
          "text": [
            "/usr/local/lib/python3.7/dist-packages/autots/models/matrix_var.py:378: RuntimeWarning: invalid value encountered in double_scalars\n",
            "  alpha = rold / np.inner(q, Aq)\n"
          ]
        },
        {
          "output_type": "stream",
          "name": "stdout",
          "text": [
            "Template Eval Error: LinAlgError('SVD did not converge') in model 87: TMF\n",
            "Model Number: 88 of 88 with model TMF for Validation 1\n",
            "88 - TMF with avg smape 2.59: \n",
            "Initiated AutoTS object with best model: \n",
            "SectionalMotif\n",
            "{'fillna': 'zero', 'transformations': {'0': 'SeasonalDifference', '1': 'DifferencedTransformer', '2': 'RobustScaler', '3': 'ClipOutliers'}, 'transformation_params': {'0': {'lag_1': 12, 'method': 'Mean'}, '1': {}, '2': {}, '3': {'method': 'clip', 'std_threshold': 2, 'fillna': None}}}\n",
            "{'window': 5, 'point_method': 'weighted_mean', 'distance_metric': 'rogerstanimoto', 'include_differenced': False, 'k': 10, 'stride_size': 1, 'regression_type': None}\n",
            "SMAPE: 0.20142575584778735, 0.43027393559048166\n",
            "MAE: 0.5918729222925094, 1.2776437371670681\n",
            "SPL: 0.8746834798489305, 0.7404268704268099\n",
            "                                Close\n",
            "2022-10-06 00:00:00+00:00  302.477388\n"
          ]
        }
      ],
      "source": [
        "try:\n",
        "    import yfinance as yf         # import Yahoo! Finance\n",
        "except:\n",
        "    ! pip install yfinance\n",
        "    import yfinance as yf         # import Yahoo! Finance\n",
        "\n",
        "!pip install AutoTS\n",
        "!pip install pystan~=2.14\n",
        "!pip install fbprophet\n",
        "!pip install cmdstanpy~=0.9.5\n",
        "\n",
        "\n",
        "import pandas as pd\n",
        "\n",
        "import datetime\n",
        "from datetime import date, timedelta\n",
        "\n",
        "\n",
        "\n",
        "\n",
        "    \n",
        "today = date.today()\n",
        "\n",
        "d1 = today.strftime(\"%Y-%m-%d\")\n",
        "end_date = d1\n",
        "d2 = date.today() - timedelta(days=4000)\n",
        "d2 = d2.strftime(\"%Y-%m-%d\")\n",
        "start_date = d2\n",
        "\n",
        "data = yf.download('BNB-USD',\n",
        "                      start=start_date,\n",
        "                      end=end_date,\n",
        "                      progress=False)\n",
        "data[\"Date\"] = data.index\n",
        "data = data[[\"Date\", \"Open\", \"High\", \"Low\", \"Close\"]]\n",
        "data.reset_index(drop=True, inplace=True)\n",
        "print(data)\n",
        "\n",
        "\n",
        "from autots import AutoTS, load_daily\n",
        "\n",
        "# sample datasets can be used in either of the long or wide import shapes\n",
        "long = True\n",
        "df = load_daily(long=long)\n",
        "\n",
        "model = AutoTS(\n",
        "    forecast_length=1,\n",
        "    frequency='infer',\n",
        "    prediction_interval=0.9,\n",
        "    ensemble= 'simple',\n",
        "    model_list= 'multivariate',  # \"superfast\", \"default\", \"fast_parallel\"\n",
        "    transformer_list=\"superfast\",  # \"superfast\",\n",
        "    drop_most_recent=1,\n",
        "    max_generations=5,\n",
        "    num_validations=1,\n",
        "    models_to_validate=0.2,\n",
        "    n_jobs=100,\n",
        ")\n",
        "model = model.fit(data, date_col='Date', value_col='Close', id_col=None)\n",
        "\n",
        "\n",
        "\n",
        "prediction = model.predict()\n",
        "# plot a sample\n",
        "# Print the details of the best model\n",
        "print(model)\n",
        "\n",
        "# point forecasts dataframe\n",
        "forecasts = prediction.forecast\n",
        "# upper and lower forecasts\n",
        "# forecasts_up, forecasts_low = prediction.upper_forecast, prediction.lower_forecast\n",
        "\n",
        "# accuracy of all tried model results\n",
        "model_results = model.results()\n",
        "# and aggregated from cross validation\n",
        "validation_results = model.results(\"validation\") \n",
        "print(forecasts)\n"
      ]
    }
  ],
  "metadata": {
    "colab": {
      "provenance": [],
      "mount_file_id": "1uTqFmiZQoI_ylao2SzTScy3yk-iyZ-Bu",
      "authorship_tag": "ABX9TyOfL4KUjtb0Gf63sS1Mm4S2",
      "include_colab_link": true
    },
    "kernelspec": {
      "display_name": "Python 3",
      "name": "python3"
    },
    "language_info": {
      "name": "python"
    }
  },
  "nbformat": 4,
  "nbformat_minor": 0
}